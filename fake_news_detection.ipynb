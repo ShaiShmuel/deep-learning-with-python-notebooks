{
  "nbformat": 4,
  "nbformat_minor": 0,
  "metadata": {
    "colab": {
      "name": "fake news detection.ipynb",
      "provenance": [],
      "collapsed_sections": [],
      "include_colab_link": true
    },
    "kernelspec": {
      "name": "python3",
      "display_name": "Python 3"
    }
  },
  "cells": [
    {
      "cell_type": "markdown",
      "metadata": {
        "id": "view-in-github",
        "colab_type": "text"
      },
      "source": [
        "<a href=\"https://colab.research.google.com/github/ShaiShmuel/deep-learning-with-python-notebooks/blob/master/fake_news_detection.ipynb\" target=\"_parent\"><img src=\"https://colab.research.google.com/assets/colab-badge.svg\" alt=\"Open In Colab\"/></a>"
      ]
    },
    {
      "cell_type": "markdown",
      "metadata": {
        "id": "frcNkcQn8zxK"
      },
      "source": [
        "Fake news detaction by title | Uriel Bender & Shai Shmuel"
      ]
    },
    {
      "cell_type": "code",
      "metadata": {
        "id": "8xTvRviSADYt"
      },
      "source": [
        "import numpy as np\r\n",
        "import pandas as pd\r\n",
        "import plotly.graph_objects as go\r\n",
        "import keras\r\n"
      ],
      "execution_count": 689,
      "outputs": []
    },
    {
      "cell_type": "markdown",
      "metadata": {
        "id": "vlEAcg70AIBd"
      },
      "source": [
        "Reading the Data set"
      ]
    },
    {
      "cell_type": "code",
      "metadata": {
        "id": "cl54EZNjAEtR"
      },
      "source": [
        "Train_data = pd.read_csv('/content/sample_data/train.csv', error_bad_lines=False)\r\n",
        "Test_data = pd.read_csv('/content/sample_data/test.csv', error_bad_lines=False)\r\n",
        "Train = Train_data.copy()\r\n",
        "Test = Test_data.copy()"
      ],
      "execution_count": 690,
      "outputs": []
    },
    {
      "cell_type": "code",
      "metadata": {
        "colab": {
          "base_uri": "https://localhost:8080/",
          "height": 752
        },
        "id": "cud5Kf7TAPqo",
        "outputId": "269436b7-b21e-448e-c96d-92e8683c7dee"
      },
      "source": [
        "# here we are printing first 15 lines of our train dataset\r\n",
        "Train[0:15]"
      ],
      "execution_count": 691,
      "outputs": [
        {
          "output_type": "execute_result",
          "data": {
            "text/html": [
              "<div>\n",
              "<style scoped>\n",
              "    .dataframe tbody tr th:only-of-type {\n",
              "        vertical-align: middle;\n",
              "    }\n",
              "\n",
              "    .dataframe tbody tr th {\n",
              "        vertical-align: top;\n",
              "    }\n",
              "\n",
              "    .dataframe thead th {\n",
              "        text-align: right;\n",
              "    }\n",
              "</style>\n",
              "<table border=\"1\" class=\"dataframe\">\n",
              "  <thead>\n",
              "    <tr style=\"text-align: right;\">\n",
              "      <th></th>\n",
              "      <th>id</th>\n",
              "      <th>title</th>\n",
              "      <th>author</th>\n",
              "      <th>text</th>\n",
              "      <th>label</th>\n",
              "    </tr>\n",
              "  </thead>\n",
              "  <tbody>\n",
              "    <tr>\n",
              "      <th>0</th>\n",
              "      <td>0</td>\n",
              "      <td>House Dem Aide: We Didn’t Even See Comey’s Let...</td>\n",
              "      <td>Darrell Lucus</td>\n",
              "      <td>House Dem Aide: We Didn’t Even See Comey’s Let...</td>\n",
              "      <td>1</td>\n",
              "    </tr>\n",
              "    <tr>\n",
              "      <th>1</th>\n",
              "      <td>1</td>\n",
              "      <td>FLYNN: Hillary Clinton, Big Woman on Campus - ...</td>\n",
              "      <td>Daniel J. Flynn</td>\n",
              "      <td>Ever get the feeling your life circles the rou...</td>\n",
              "      <td>0</td>\n",
              "    </tr>\n",
              "    <tr>\n",
              "      <th>2</th>\n",
              "      <td>2</td>\n",
              "      <td>Why the Truth Might Get You Fired</td>\n",
              "      <td>Consortiumnews.com</td>\n",
              "      <td>Why the Truth Might Get You Fired October 29, ...</td>\n",
              "      <td>1</td>\n",
              "    </tr>\n",
              "    <tr>\n",
              "      <th>3</th>\n",
              "      <td>3</td>\n",
              "      <td>15 Civilians Killed In Single US Airstrike Hav...</td>\n",
              "      <td>Jessica Purkiss</td>\n",
              "      <td>Videos 15 Civilians Killed In Single US Airstr...</td>\n",
              "      <td>1</td>\n",
              "    </tr>\n",
              "    <tr>\n",
              "      <th>4</th>\n",
              "      <td>4</td>\n",
              "      <td>Iranian woman jailed for fictional unpublished...</td>\n",
              "      <td>Howard Portnoy</td>\n",
              "      <td>Print \\nAn Iranian woman has been sentenced to...</td>\n",
              "      <td>1</td>\n",
              "    </tr>\n",
              "    <tr>\n",
              "      <th>5</th>\n",
              "      <td>5</td>\n",
              "      <td>Jackie Mason: Hollywood Would Love Trump if He...</td>\n",
              "      <td>Daniel Nussbaum</td>\n",
              "      <td>In these trying times, Jackie Mason is the Voi...</td>\n",
              "      <td>0</td>\n",
              "    </tr>\n",
              "    <tr>\n",
              "      <th>6</th>\n",
              "      <td>6</td>\n",
              "      <td>Life: Life Of Luxury: Elton John’s 6 Favorite ...</td>\n",
              "      <td>NaN</td>\n",
              "      <td>Ever wonder how Britain’s most iconic pop pian...</td>\n",
              "      <td>1</td>\n",
              "    </tr>\n",
              "    <tr>\n",
              "      <th>7</th>\n",
              "      <td>7</td>\n",
              "      <td>Benoît Hamon Wins French Socialist Party’s Pre...</td>\n",
              "      <td>Alissa J. Rubin</td>\n",
              "      <td>PARIS  —   France chose an idealistic, traditi...</td>\n",
              "      <td>0</td>\n",
              "    </tr>\n",
              "    <tr>\n",
              "      <th>8</th>\n",
              "      <td>8</td>\n",
              "      <td>Excerpts From a Draft Script for Donald Trump’...</td>\n",
              "      <td>NaN</td>\n",
              "      <td>Donald J. Trump is scheduled to make a highly ...</td>\n",
              "      <td>0</td>\n",
              "    </tr>\n",
              "    <tr>\n",
              "      <th>9</th>\n",
              "      <td>9</td>\n",
              "      <td>A Back-Channel Plan for Ukraine and Russia, Co...</td>\n",
              "      <td>Megan Twohey and Scott Shane</td>\n",
              "      <td>A week before Michael T. Flynn resigned as nat...</td>\n",
              "      <td>0</td>\n",
              "    </tr>\n",
              "    <tr>\n",
              "      <th>10</th>\n",
              "      <td>10</td>\n",
              "      <td>Obama’s Organizing for Action Partners with So...</td>\n",
              "      <td>Aaron Klein</td>\n",
              "      <td>Organizing for Action, the activist group that...</td>\n",
              "      <td>0</td>\n",
              "    </tr>\n",
              "    <tr>\n",
              "      <th>11</th>\n",
              "      <td>11</td>\n",
              "      <td>BBC Comedy Sketch \"Real Housewives of ISIS\" Ca...</td>\n",
              "      <td>Chris Tomlinson</td>\n",
              "      <td>The BBC produced spoof on the “Real Housewives...</td>\n",
              "      <td>0</td>\n",
              "    </tr>\n",
              "    <tr>\n",
              "      <th>12</th>\n",
              "      <td>12</td>\n",
              "      <td>Russian Researchers Discover Secret Nazi Milit...</td>\n",
              "      <td>Amando Flavio</td>\n",
              "      <td>The mystery surrounding The Third Reich and Na...</td>\n",
              "      <td>1</td>\n",
              "    </tr>\n",
              "    <tr>\n",
              "      <th>13</th>\n",
              "      <td>13</td>\n",
              "      <td>US Officials See No Link Between Trump and Russia</td>\n",
              "      <td>Jason Ditz</td>\n",
              "      <td>Clinton Campaign Demands FBI Affirm Trump's Ru...</td>\n",
              "      <td>1</td>\n",
              "    </tr>\n",
              "    <tr>\n",
              "      <th>14</th>\n",
              "      <td>14</td>\n",
              "      <td>Re: Yes, There Are Paid Government Trolls On S...</td>\n",
              "      <td>AnotherAnnie</td>\n",
              "      <td>Yes, There Are Paid Government Trolls On Socia...</td>\n",
              "      <td>1</td>\n",
              "    </tr>\n",
              "  </tbody>\n",
              "</table>\n",
              "</div>"
            ],
            "text/plain": [
              "    id  ... label\n",
              "0    0  ...     1\n",
              "1    1  ...     0\n",
              "2    2  ...     1\n",
              "3    3  ...     1\n",
              "4    4  ...     1\n",
              "5    5  ...     0\n",
              "6    6  ...     1\n",
              "7    7  ...     0\n",
              "8    8  ...     0\n",
              "9    9  ...     0\n",
              "10  10  ...     0\n",
              "11  11  ...     0\n",
              "12  12  ...     1\n",
              "13  13  ...     1\n",
              "14  14  ...     1\n",
              "\n",
              "[15 rows x 5 columns]"
            ]
          },
          "metadata": {
            "tags": []
          },
          "execution_count": 691
        }
      ]
    },
    {
      "cell_type": "code",
      "metadata": {
        "colab": {
          "base_uri": "https://localhost:8080/"
        },
        "id": "gpS4fcy9BbFa",
        "outputId": "66109050-13f4-49ba-fdc1-99166ceb7982"
      },
      "source": [
        "Train.info()"
      ],
      "execution_count": 692,
      "outputs": [
        {
          "output_type": "stream",
          "text": [
            "<class 'pandas.core.frame.DataFrame'>\n",
            "RangeIndex: 20800 entries, 0 to 20799\n",
            "Data columns (total 5 columns):\n",
            " #   Column  Non-Null Count  Dtype \n",
            "---  ------  --------------  ----- \n",
            " 0   id      20800 non-null  int64 \n",
            " 1   title   20242 non-null  object\n",
            " 2   author  18843 non-null  object\n",
            " 3   text    20761 non-null  object\n",
            " 4   label   20800 non-null  int64 \n",
            "dtypes: int64(2), object(3)\n",
            "memory usage: 812.6+ KB\n"
          ],
          "name": "stdout"
        }
      ]
    },
    {
      "cell_type": "code",
      "metadata": {
        "colab": {
          "base_uri": "https://localhost:8080/"
        },
        "id": "PWmQQhPNBeOn",
        "outputId": "5fb5a5e2-7bab-4db4-fd49-d7eae8b0cf0d"
      },
      "source": [
        "Train.shape"
      ],
      "execution_count": 693,
      "outputs": [
        {
          "output_type": "execute_result",
          "data": {
            "text/plain": [
              "(20800, 5)"
            ]
          },
          "metadata": {
            "tags": []
          },
          "execution_count": 693
        }
      ]
    },
    {
      "cell_type": "code",
      "metadata": {
        "colab": {
          "base_uri": "https://localhost:8080/"
        },
        "id": "ChlEKxDxBjSC",
        "outputId": "9945ff1b-ca0a-4d08-d1b8-3c0b245b03f2"
      },
      "source": [
        "# here we are checking if there is null values\r\n",
        "Train.isnull().sum()"
      ],
      "execution_count": 694,
      "outputs": [
        {
          "output_type": "execute_result",
          "data": {
            "text/plain": [
              "id           0\n",
              "title      558\n",
              "author    1957\n",
              "text        39\n",
              "label        0\n",
              "dtype: int64"
            ]
          },
          "metadata": {
            "tags": []
          },
          "execution_count": 694
        }
      ]
    },
    {
      "cell_type": "code",
      "metadata": {
        "id": "fcjeR4WkB5o5"
      },
      "source": [
        "Train = Train.dropna()"
      ],
      "execution_count": 695,
      "outputs": []
    },
    {
      "cell_type": "code",
      "metadata": {
        "colab": {
          "base_uri": "https://localhost:8080/"
        },
        "id": "TCJDZUzoCDZB",
        "outputId": "5f1b6137-78e0-4ad9-847a-8ac1c3d591dc"
      },
      "source": [
        "Train.isnull().sum()"
      ],
      "execution_count": 696,
      "outputs": [
        {
          "output_type": "execute_result",
          "data": {
            "text/plain": [
              "id        0\n",
              "title     0\n",
              "author    0\n",
              "text      0\n",
              "label     0\n",
              "dtype: int64"
            ]
          },
          "metadata": {
            "tags": []
          },
          "execution_count": 696
        }
      ]
    },
    {
      "cell_type": "code",
      "metadata": {
        "colab": {
          "base_uri": "https://localhost:8080/",
          "height": 512
        },
        "id": "_TM3K4QRCKPu",
        "outputId": "6cee1f68-ad8e-48ef-9932-15602a24c114"
      },
      "source": [
        "Train[0:10]"
      ],
      "execution_count": 697,
      "outputs": [
        {
          "output_type": "execute_result",
          "data": {
            "text/html": [
              "<div>\n",
              "<style scoped>\n",
              "    .dataframe tbody tr th:only-of-type {\n",
              "        vertical-align: middle;\n",
              "    }\n",
              "\n",
              "    .dataframe tbody tr th {\n",
              "        vertical-align: top;\n",
              "    }\n",
              "\n",
              "    .dataframe thead th {\n",
              "        text-align: right;\n",
              "    }\n",
              "</style>\n",
              "<table border=\"1\" class=\"dataframe\">\n",
              "  <thead>\n",
              "    <tr style=\"text-align: right;\">\n",
              "      <th></th>\n",
              "      <th>id</th>\n",
              "      <th>title</th>\n",
              "      <th>author</th>\n",
              "      <th>text</th>\n",
              "      <th>label</th>\n",
              "    </tr>\n",
              "  </thead>\n",
              "  <tbody>\n",
              "    <tr>\n",
              "      <th>0</th>\n",
              "      <td>0</td>\n",
              "      <td>House Dem Aide: We Didn’t Even See Comey’s Let...</td>\n",
              "      <td>Darrell Lucus</td>\n",
              "      <td>House Dem Aide: We Didn’t Even See Comey’s Let...</td>\n",
              "      <td>1</td>\n",
              "    </tr>\n",
              "    <tr>\n",
              "      <th>1</th>\n",
              "      <td>1</td>\n",
              "      <td>FLYNN: Hillary Clinton, Big Woman on Campus - ...</td>\n",
              "      <td>Daniel J. Flynn</td>\n",
              "      <td>Ever get the feeling your life circles the rou...</td>\n",
              "      <td>0</td>\n",
              "    </tr>\n",
              "    <tr>\n",
              "      <th>2</th>\n",
              "      <td>2</td>\n",
              "      <td>Why the Truth Might Get You Fired</td>\n",
              "      <td>Consortiumnews.com</td>\n",
              "      <td>Why the Truth Might Get You Fired October 29, ...</td>\n",
              "      <td>1</td>\n",
              "    </tr>\n",
              "    <tr>\n",
              "      <th>3</th>\n",
              "      <td>3</td>\n",
              "      <td>15 Civilians Killed In Single US Airstrike Hav...</td>\n",
              "      <td>Jessica Purkiss</td>\n",
              "      <td>Videos 15 Civilians Killed In Single US Airstr...</td>\n",
              "      <td>1</td>\n",
              "    </tr>\n",
              "    <tr>\n",
              "      <th>4</th>\n",
              "      <td>4</td>\n",
              "      <td>Iranian woman jailed for fictional unpublished...</td>\n",
              "      <td>Howard Portnoy</td>\n",
              "      <td>Print \\nAn Iranian woman has been sentenced to...</td>\n",
              "      <td>1</td>\n",
              "    </tr>\n",
              "    <tr>\n",
              "      <th>5</th>\n",
              "      <td>5</td>\n",
              "      <td>Jackie Mason: Hollywood Would Love Trump if He...</td>\n",
              "      <td>Daniel Nussbaum</td>\n",
              "      <td>In these trying times, Jackie Mason is the Voi...</td>\n",
              "      <td>0</td>\n",
              "    </tr>\n",
              "    <tr>\n",
              "      <th>7</th>\n",
              "      <td>7</td>\n",
              "      <td>Benoît Hamon Wins French Socialist Party’s Pre...</td>\n",
              "      <td>Alissa J. Rubin</td>\n",
              "      <td>PARIS  —   France chose an idealistic, traditi...</td>\n",
              "      <td>0</td>\n",
              "    </tr>\n",
              "    <tr>\n",
              "      <th>9</th>\n",
              "      <td>9</td>\n",
              "      <td>A Back-Channel Plan for Ukraine and Russia, Co...</td>\n",
              "      <td>Megan Twohey and Scott Shane</td>\n",
              "      <td>A week before Michael T. Flynn resigned as nat...</td>\n",
              "      <td>0</td>\n",
              "    </tr>\n",
              "    <tr>\n",
              "      <th>10</th>\n",
              "      <td>10</td>\n",
              "      <td>Obama’s Organizing for Action Partners with So...</td>\n",
              "      <td>Aaron Klein</td>\n",
              "      <td>Organizing for Action, the activist group that...</td>\n",
              "      <td>0</td>\n",
              "    </tr>\n",
              "    <tr>\n",
              "      <th>11</th>\n",
              "      <td>11</td>\n",
              "      <td>BBC Comedy Sketch \"Real Housewives of ISIS\" Ca...</td>\n",
              "      <td>Chris Tomlinson</td>\n",
              "      <td>The BBC produced spoof on the “Real Housewives...</td>\n",
              "      <td>0</td>\n",
              "    </tr>\n",
              "  </tbody>\n",
              "</table>\n",
              "</div>"
            ],
            "text/plain": [
              "    id  ... label\n",
              "0    0  ...     1\n",
              "1    1  ...     0\n",
              "2    2  ...     1\n",
              "3    3  ...     1\n",
              "4    4  ...     1\n",
              "5    5  ...     0\n",
              "7    7  ...     0\n",
              "9    9  ...     0\n",
              "10  10  ...     0\n",
              "11  11  ...     0\n",
              "\n",
              "[10 rows x 5 columns]"
            ]
          },
          "metadata": {
            "tags": []
          },
          "execution_count": 697
        }
      ]
    },
    {
      "cell_type": "markdown",
      "metadata": {
        "id": "JT_vkE10CYSe"
      },
      "source": [
        "We can see that we have missing values in our training set, id 6 and 8 are missing"
      ]
    },
    {
      "cell_type": "code",
      "metadata": {
        "colab": {
          "base_uri": "https://localhost:8080/",
          "height": 446
        },
        "id": "HJLuHMmnCk4L",
        "outputId": "8ce53112-c2a9-4825-d9e3-ec7359fd494a"
      },
      "source": [
        "news_type = pd.crosstab(Train.label, Train.title)\r\n",
        "news_type"
      ],
      "execution_count": 698,
      "outputs": [
        {
          "output_type": "execute_result",
          "data": {
            "text/html": [
              "<div>\n",
              "<style scoped>\n",
              "    .dataframe tbody tr th:only-of-type {\n",
              "        vertical-align: middle;\n",
              "    }\n",
              "\n",
              "    .dataframe tbody tr th {\n",
              "        vertical-align: top;\n",
              "    }\n",
              "\n",
              "    .dataframe thead th {\n",
              "        text-align: right;\n",
              "    }\n",
              "</style>\n",
              "<table border=\"1\" class=\"dataframe\">\n",
              "  <thead>\n",
              "    <tr style=\"text-align: right;\">\n",
              "      <th>title</th>\n",
              "      <th>\"Allahu Akbar, the Russians are here!\": Aleppo terrorists flee Russian airstrike (VIDEO)</th>\n",
              "      <th>\"Authoritarianism\": How the West demonizes strong, popular leaders</th>\n",
              "      <th>\"Donald, willst du mich heiraten?\": Clinton hat Kampf ums Weiße Haus noch nicht aufgegeben</th>\n",
              "      <th>\"Europe Has No Future\" Putin Slams Austria Migrant Child Rape Injustice</th>\n",
              "      <th>\"Fake News\" About Trump Continues Unabated</th>\n",
              "      <th>\"France First\" – Le Pen Hits Out At Islamism and Globalisation</th>\n",
              "      <th>\"Hamilton\" Actor Refuses To Apologize For Political Stunt</th>\n",
              "      <th>\"Just say it's the Russians\" - Joaquin Flores on RT [Video]</th>\n",
              "      <th>\"Top Five Clinton Donors Are Jewish\" - How Anti-Semitic Is This Fact?</th>\n",
              "      <th>\"Zu unseriös\": Auch Lothar Matthäus sagt HSV als Sportdirektor ab</th>\n",
              "      <th>#2816: Clinton Pride’s 8(a) Pig Farm Bridge – Serco Zulu Server Snuff –Soros's Patented Voter Key</th>\n",
              "      <th>#2817: Serco's Zulu Starnet Blackmail – Clinton 8(a) Pig Farm Bridge – Soros Patent Vote</th>\n",
              "      <th>#2820: Clinton 8(a) Pig Farm Servers – Boeing Bridge Of Pimps – Serco In-Flight Zulu Snuff</th>\n",
              "      <th>#BREAKING: SECOND Assassination Attempt On Trump In NV; Suspect Detained (LIVE BLOG)</th>\n",
              "      <th>#BREAKING: TRUMP USHERED OFF STAGE IN NV SUSPECT DETAINED</th>\n",
              "      <th>#BoycottComedian…ROBERT DENIRO Wanted “To Punch Trump In The Face”…Supports Anti-Trump Rioters…Now Wants Americans To Support His New Movie [VIDEO]</th>\n",
              "      <th>#DraftOurDaughters: Feminist Hillary Supporters Vow To Fight War With Russia For Us</th>\n",
              "      <th>#DraftOurDaughters: Pro-War Hillary Faces Backlash Over Female Draft</th>\n",
              "      <th>#GrammysSoWhite Came to Life. Will the Awards Face Its Race Problem? - The New York Times</th>\n",
              "      <th>#InNorthDakota ~~ PALESTINIANS STAND WITH THE SIOUX</th>\n",
              "      <th>#MayorsStand4All Day Touts Support for Illegal Immigrants</th>\n",
              "      <th>#MyUnintendedJoy: Americans Show Why They Choose Life Over Abortion - Breitbart</th>\n",
              "      <th>#NoDAPL Situation Critical</th>\n",
              "      <th>#NoDAPL Spills Over: Musicians Boycott Dakota Access Pipeline CEO’s Record Label &amp; Festival</th>\n",
              "      <th>#NoDAPL: Angry Man Fires 7 Shots Into Air Near Standing Rock Water Protectors</th>\n",
              "      <th>#Podesta21: Clinton’s ‘Twisted’ Behavior ‘Smacks of Acting Above the Law’</th>\n",
              "      <th>#PodestaEmails20: WikiLeaks releases another batch from Clinton campaign chair</th>\n",
              "      <th>#ProtestPP: Nationwide Protests Against Government Funding of Planned Parenthood Underway - Breitbart</th>\n",
              "      <th>#RESIST as Marketing: ’Fearless Girl’ Statue Taking Home Awards at Cannes - Breitbart</th>\n",
              "      <th>#TrumpProtest: Communists Mobilize To Disrupt President-Elect Trump’s Inauguration</th>\n",
              "      <th>$2,700 for Hillary Clinton at ‘Hamilton’? That Would Be Enough - The New York Times</th>\n",
              "      <th>$20 Billion in Tax Credits Fails to Increase College Attendance - The New York Times</th>\n",
              "      <th>$25 Million in Breakthrough Prizes Given in Science and Math - The New York Times</th>\n",
              "      <th>$50,000 Reward for Facebook Killer as Manhunt Goes ’National’ - Breitbart</th>\n",
              "      <th>$6 Million Later: North Dakota Police Can’t Afford The Pipeline Protest</th>\n",
              "      <th>$7 Million in Donations to Go Directly to Orlando Kin and Survivors - The New York Times</th>\n",
              "      <th>$70 Million Awarded to Woman with Ovarian Cancer Due to Baby Powder Usage</th>\n",
              "      <th>'All About Jesus' shirt sparks school uproar</th>\n",
              "      <th>'Alt-Right' Meeting Full Video Replay: People Give Hitler Salute For Donald Trump</th>\n",
              "      <th>'D**k-Waving Berlusconi Knockoff': Late-Night Host's Nasty Trump Attack Dismantled by Steven Crowder</th>\n",
              "      <th>...</th>\n",
              "      <th>“Man hat Angst, das Haus zu verlassen”</th>\n",
              "      <th>“Memoirs Of A Misogynist” Is A Brutal And Entertaining Look At Our Sexual Dystopia</th>\n",
              "      <th>“Mommy am I Going To Die?” Mom Calls 911 For Paramedic, Cop Shows Up, Shoots 4 Year Old Daughter</th>\n",
              "      <th>“Mr. Wonderful te hace pensar a saco”</th>\n",
              "      <th>“My Trampoline Addiction Hell” Buster The Boxer Tells All</th>\n",
              "      <th>“National Mood” Focus Group Reflects Angry, Divided America</th>\n",
              "      <th>“Not A ‘Real’ Union”: Emails Show Clinton Campaign Attacks On Nurses</th>\n",
              "      <th>“Nothing Good Can Come of This Election”–and That’s Good</th>\n",
              "      <th>“Organic” Food From China Found To Be Highly Contaminated</th>\n",
              "      <th>“People Power” Versus Manipulation of the Masses</th>\n",
              "      <th>“Regime Change”? South Africa Targeted by Western Destabilization Efforts? | Global Research</th>\n",
              "      <th>“Rigged To Deny Trump”: Are They Stealing These States to Block Electoral Path to 270?</th>\n",
              "      <th>“Rigged To Deny Trump”: Looks Like Elite Trying to Steal These States to Block Electoral Path to 270</th>\n",
              "      <th>“Scary Stories In 5 Words” are terrifying tales for people short on time</th>\n",
              "      <th>“Sex Shop Kierkegaard: punto de encuentro para amantes del placer intelectual”</th>\n",
              "      <th>“Shoot First Ask Questions Later” : What Happens To A UFO When Tracked on Military Radar</th>\n",
              "      <th>“Sometimes Bill And Hillary Have The Worst Judgment”: Wikileaks Releases Part 22 Of Podesta Files; 36,190 Emails Total</th>\n",
              "      <th>“Stop watching RT and other Russian-biased sources.” A Tale of Two Cities</th>\n",
              "      <th>“Syria is paying the price of its independence”, by Bashar al-Assad</th>\n",
              "      <th>“Tech” Malaise Pricks San Francisco Office Space Bubble</th>\n",
              "      <th>“The Fed Failed ….” And that Changes Everything</th>\n",
              "      <th>“The Newshour” anchors to dubsmash Arnab Goswami’s voice to combat sinking TRPs</th>\n",
              "      <th>“The Radical Left Seems Ready To Go To War” As Count Claims Hillary Won the Popular Vote</th>\n",
              "      <th>“The rejected petitions on the UK government website are amazing”</th>\n",
              "      <th>“There Will Be Life Altering Ramifications For Those Who Can’t Or Won’t Adapt To New Realities”</th>\n",
              "      <th>“They Are Trying To Get You To Stay Home”</th>\n",
              "      <th>“They Got In There And Totally Took It Over” – The Tea Party, Black Lives Matter and the 99% Protesters Have All Been Absorbed By The Establishment</th>\n",
              "      <th>“They Must Have Something Significant For the FBI to Reopen the Investigation”</th>\n",
              "      <th>“This Quickly Escalates Into Open Warfare” – Why The Government Is Preparing For Post-Election Chaos</th>\n",
              "      <th>“Violent Revolution If Trump Lets Them Down”: People Remain Poised for Angry Revolt – Roberts</th>\n",
              "      <th>“We Were Long Overdue A Presidential Assassination Anyway”</th>\n",
              "      <th>“Weinergate”</th>\n",
              "      <th>“When You Speak Up for the MOVE 9, You Speak Up for Yourself”</th>\n",
              "      <th>“White Boys”–The NYT Celebrates Neera Tanden,’s Slurs, Because Her Targets Are White</th>\n",
              "      <th>“Wikileaks is the Mossad, Stupid, Not the Russians, We are playing them like a fiddle…” Assange (sort of)</th>\n",
              "      <th>“You Ruined Your Own Communities, Don’t Ruin Ours”–Chicago Whites Demonstrate Against Black Lives Matter After Black Shot</th>\n",
              "      <th>“You’re Not Alone – We’re With You” – Video Aims To Help You Adjust To New Trump Reality</th>\n",
              "      <th>„The Duelist“: Martins Wuttkes neuer Tatort</th>\n",
              "      <th>俄罗斯总统观注</th>\n",
              "      <th>🚨Bill Clinton and Hillary Lolita Express Pedophilia Ring🚨</th>\n",
              "    </tr>\n",
              "    <tr>\n",
              "      <th>label</th>\n",
              "      <th></th>\n",
              "      <th></th>\n",
              "      <th></th>\n",
              "      <th></th>\n",
              "      <th></th>\n",
              "      <th></th>\n",
              "      <th></th>\n",
              "      <th></th>\n",
              "      <th></th>\n",
              "      <th></th>\n",
              "      <th></th>\n",
              "      <th></th>\n",
              "      <th></th>\n",
              "      <th></th>\n",
              "      <th></th>\n",
              "      <th></th>\n",
              "      <th></th>\n",
              "      <th></th>\n",
              "      <th></th>\n",
              "      <th></th>\n",
              "      <th></th>\n",
              "      <th></th>\n",
              "      <th></th>\n",
              "      <th></th>\n",
              "      <th></th>\n",
              "      <th></th>\n",
              "      <th></th>\n",
              "      <th></th>\n",
              "      <th></th>\n",
              "      <th></th>\n",
              "      <th></th>\n",
              "      <th></th>\n",
              "      <th></th>\n",
              "      <th></th>\n",
              "      <th></th>\n",
              "      <th></th>\n",
              "      <th></th>\n",
              "      <th></th>\n",
              "      <th></th>\n",
              "      <th></th>\n",
              "      <th></th>\n",
              "      <th></th>\n",
              "      <th></th>\n",
              "      <th></th>\n",
              "      <th></th>\n",
              "      <th></th>\n",
              "      <th></th>\n",
              "      <th></th>\n",
              "      <th></th>\n",
              "      <th></th>\n",
              "      <th></th>\n",
              "      <th></th>\n",
              "      <th></th>\n",
              "      <th></th>\n",
              "      <th></th>\n",
              "      <th></th>\n",
              "      <th></th>\n",
              "      <th></th>\n",
              "      <th></th>\n",
              "      <th></th>\n",
              "      <th></th>\n",
              "      <th></th>\n",
              "      <th></th>\n",
              "      <th></th>\n",
              "      <th></th>\n",
              "      <th></th>\n",
              "      <th></th>\n",
              "      <th></th>\n",
              "      <th></th>\n",
              "      <th></th>\n",
              "      <th></th>\n",
              "      <th></th>\n",
              "      <th></th>\n",
              "      <th></th>\n",
              "      <th></th>\n",
              "      <th></th>\n",
              "      <th></th>\n",
              "      <th></th>\n",
              "      <th></th>\n",
              "      <th></th>\n",
              "      <th></th>\n",
              "    </tr>\n",
              "  </thead>\n",
              "  <tbody>\n",
              "    <tr>\n",
              "      <th>0</th>\n",
              "      <td>0</td>\n",
              "      <td>0</td>\n",
              "      <td>0</td>\n",
              "      <td>0</td>\n",
              "      <td>0</td>\n",
              "      <td>1</td>\n",
              "      <td>0</td>\n",
              "      <td>0</td>\n",
              "      <td>0</td>\n",
              "      <td>0</td>\n",
              "      <td>0</td>\n",
              "      <td>0</td>\n",
              "      <td>0</td>\n",
              "      <td>0</td>\n",
              "      <td>0</td>\n",
              "      <td>0</td>\n",
              "      <td>0</td>\n",
              "      <td>0</td>\n",
              "      <td>1</td>\n",
              "      <td>0</td>\n",
              "      <td>1</td>\n",
              "      <td>1</td>\n",
              "      <td>0</td>\n",
              "      <td>0</td>\n",
              "      <td>0</td>\n",
              "      <td>0</td>\n",
              "      <td>0</td>\n",
              "      <td>1</td>\n",
              "      <td>1</td>\n",
              "      <td>0</td>\n",
              "      <td>1</td>\n",
              "      <td>1</td>\n",
              "      <td>1</td>\n",
              "      <td>1</td>\n",
              "      <td>0</td>\n",
              "      <td>1</td>\n",
              "      <td>0</td>\n",
              "      <td>0</td>\n",
              "      <td>0</td>\n",
              "      <td>0</td>\n",
              "      <td>...</td>\n",
              "      <td>0</td>\n",
              "      <td>0</td>\n",
              "      <td>0</td>\n",
              "      <td>0</td>\n",
              "      <td>0</td>\n",
              "      <td>0</td>\n",
              "      <td>0</td>\n",
              "      <td>0</td>\n",
              "      <td>0</td>\n",
              "      <td>0</td>\n",
              "      <td>0</td>\n",
              "      <td>0</td>\n",
              "      <td>0</td>\n",
              "      <td>0</td>\n",
              "      <td>0</td>\n",
              "      <td>0</td>\n",
              "      <td>0</td>\n",
              "      <td>0</td>\n",
              "      <td>0</td>\n",
              "      <td>0</td>\n",
              "      <td>0</td>\n",
              "      <td>0</td>\n",
              "      <td>0</td>\n",
              "      <td>0</td>\n",
              "      <td>0</td>\n",
              "      <td>0</td>\n",
              "      <td>0</td>\n",
              "      <td>0</td>\n",
              "      <td>0</td>\n",
              "      <td>0</td>\n",
              "      <td>0</td>\n",
              "      <td>0</td>\n",
              "      <td>0</td>\n",
              "      <td>0</td>\n",
              "      <td>0</td>\n",
              "      <td>0</td>\n",
              "      <td>0</td>\n",
              "      <td>0</td>\n",
              "      <td>0</td>\n",
              "      <td>0</td>\n",
              "    </tr>\n",
              "    <tr>\n",
              "      <th>1</th>\n",
              "      <td>1</td>\n",
              "      <td>1</td>\n",
              "      <td>1</td>\n",
              "      <td>1</td>\n",
              "      <td>1</td>\n",
              "      <td>0</td>\n",
              "      <td>1</td>\n",
              "      <td>1</td>\n",
              "      <td>1</td>\n",
              "      <td>1</td>\n",
              "      <td>1</td>\n",
              "      <td>1</td>\n",
              "      <td>1</td>\n",
              "      <td>1</td>\n",
              "      <td>1</td>\n",
              "      <td>1</td>\n",
              "      <td>1</td>\n",
              "      <td>1</td>\n",
              "      <td>0</td>\n",
              "      <td>1</td>\n",
              "      <td>0</td>\n",
              "      <td>0</td>\n",
              "      <td>1</td>\n",
              "      <td>1</td>\n",
              "      <td>1</td>\n",
              "      <td>1</td>\n",
              "      <td>1</td>\n",
              "      <td>0</td>\n",
              "      <td>0</td>\n",
              "      <td>1</td>\n",
              "      <td>0</td>\n",
              "      <td>0</td>\n",
              "      <td>0</td>\n",
              "      <td>0</td>\n",
              "      <td>1</td>\n",
              "      <td>0</td>\n",
              "      <td>1</td>\n",
              "      <td>1</td>\n",
              "      <td>1</td>\n",
              "      <td>1</td>\n",
              "      <td>...</td>\n",
              "      <td>1</td>\n",
              "      <td>1</td>\n",
              "      <td>1</td>\n",
              "      <td>1</td>\n",
              "      <td>1</td>\n",
              "      <td>1</td>\n",
              "      <td>1</td>\n",
              "      <td>2</td>\n",
              "      <td>1</td>\n",
              "      <td>1</td>\n",
              "      <td>1</td>\n",
              "      <td>2</td>\n",
              "      <td>1</td>\n",
              "      <td>1</td>\n",
              "      <td>1</td>\n",
              "      <td>1</td>\n",
              "      <td>1</td>\n",
              "      <td>1</td>\n",
              "      <td>1</td>\n",
              "      <td>1</td>\n",
              "      <td>1</td>\n",
              "      <td>1</td>\n",
              "      <td>1</td>\n",
              "      <td>1</td>\n",
              "      <td>1</td>\n",
              "      <td>1</td>\n",
              "      <td>2</td>\n",
              "      <td>1</td>\n",
              "      <td>1</td>\n",
              "      <td>1</td>\n",
              "      <td>1</td>\n",
              "      <td>1</td>\n",
              "      <td>2</td>\n",
              "      <td>1</td>\n",
              "      <td>1</td>\n",
              "      <td>1</td>\n",
              "      <td>1</td>\n",
              "      <td>1</td>\n",
              "      <td>1</td>\n",
              "      <td>1</td>\n",
              "    </tr>\n",
              "  </tbody>\n",
              "</table>\n",
              "<p>2 rows × 17931 columns</p>\n",
              "</div>"
            ],
            "text/plain": [
              "title  \"Allahu Akbar, the Russians are here!\": Aleppo terrorists flee Russian airstrike (VIDEO)  ...  🚨Bill Clinton and Hillary Lolita Express Pedophilia Ring🚨\n",
              "label                                                                                            ...                                                           \n",
              "0                                                      0                                         ...                                                  0        \n",
              "1                                                      1                                         ...                                                  1        \n",
              "\n",
              "[2 rows x 17931 columns]"
            ]
          },
          "metadata": {
            "tags": []
          },
          "execution_count": 698
        }
      ]
    },
    {
      "cell_type": "code",
      "metadata": {
        "colab": {
          "base_uri": "https://localhost:8080/",
          "height": 142
        },
        "id": "EF_j6zW6JF7H",
        "outputId": "de34d3a0-2efb-4ae5-9f5f-8f852c2c3cf5"
      },
      "source": [
        "Train.groupby('label').count()"
      ],
      "execution_count": 699,
      "outputs": [
        {
          "output_type": "execute_result",
          "data": {
            "text/html": [
              "<div>\n",
              "<style scoped>\n",
              "    .dataframe tbody tr th:only-of-type {\n",
              "        vertical-align: middle;\n",
              "    }\n",
              "\n",
              "    .dataframe tbody tr th {\n",
              "        vertical-align: top;\n",
              "    }\n",
              "\n",
              "    .dataframe thead th {\n",
              "        text-align: right;\n",
              "    }\n",
              "</style>\n",
              "<table border=\"1\" class=\"dataframe\">\n",
              "  <thead>\n",
              "    <tr style=\"text-align: right;\">\n",
              "      <th></th>\n",
              "      <th>id</th>\n",
              "      <th>title</th>\n",
              "      <th>author</th>\n",
              "      <th>text</th>\n",
              "    </tr>\n",
              "    <tr>\n",
              "      <th>label</th>\n",
              "      <th></th>\n",
              "      <th></th>\n",
              "      <th></th>\n",
              "      <th></th>\n",
              "    </tr>\n",
              "  </thead>\n",
              "  <tbody>\n",
              "    <tr>\n",
              "      <th>0</th>\n",
              "      <td>10361</td>\n",
              "      <td>10361</td>\n",
              "      <td>10361</td>\n",
              "      <td>10361</td>\n",
              "    </tr>\n",
              "    <tr>\n",
              "      <th>1</th>\n",
              "      <td>7924</td>\n",
              "      <td>7924</td>\n",
              "      <td>7924</td>\n",
              "      <td>7924</td>\n",
              "    </tr>\n",
              "  </tbody>\n",
              "</table>\n",
              "</div>"
            ],
            "text/plain": [
              "          id  title  author   text\n",
              "label                             \n",
              "0      10361  10361   10361  10361\n",
              "1       7924   7924    7924   7924"
            ]
          },
          "metadata": {
            "tags": []
          },
          "execution_count": 699
        }
      ]
    },
    {
      "cell_type": "markdown",
      "metadata": {
        "id": "VCkyKqXmMDAJ"
      },
      "source": [
        "We want to check if all of our titels and texts have a reasonable length"
      ]
    },
    {
      "cell_type": "code",
      "metadata": {
        "colab": {
          "base_uri": "https://localhost:8080/",
          "height": 306
        },
        "id": "irbWMZMdL0rP",
        "outputId": "326f883a-28f7-41a5-95d9-6ae335d7d56f"
      },
      "source": [
        "lengthttl,lengthtxt = [],[]\r\n",
        "#Title\r\n",
        "[lengthttl.append(len(str(title))) for title in Train['title']]\r\n",
        "Train['title-length'] = lengthttl\r\n",
        "#Same for the text\r\n",
        "[lengthtxt.append(len(str(text))) for text in Train['text']]\r\n",
        "Train['text-length'] = lengthtxt\r\n",
        "Train.head()"
      ],
      "execution_count": 700,
      "outputs": [
        {
          "output_type": "execute_result",
          "data": {
            "text/html": [
              "<div>\n",
              "<style scoped>\n",
              "    .dataframe tbody tr th:only-of-type {\n",
              "        vertical-align: middle;\n",
              "    }\n",
              "\n",
              "    .dataframe tbody tr th {\n",
              "        vertical-align: top;\n",
              "    }\n",
              "\n",
              "    .dataframe thead th {\n",
              "        text-align: right;\n",
              "    }\n",
              "</style>\n",
              "<table border=\"1\" class=\"dataframe\">\n",
              "  <thead>\n",
              "    <tr style=\"text-align: right;\">\n",
              "      <th></th>\n",
              "      <th>id</th>\n",
              "      <th>title</th>\n",
              "      <th>author</th>\n",
              "      <th>text</th>\n",
              "      <th>label</th>\n",
              "      <th>title-length</th>\n",
              "      <th>text-length</th>\n",
              "    </tr>\n",
              "  </thead>\n",
              "  <tbody>\n",
              "    <tr>\n",
              "      <th>0</th>\n",
              "      <td>0</td>\n",
              "      <td>House Dem Aide: We Didn’t Even See Comey’s Let...</td>\n",
              "      <td>Darrell Lucus</td>\n",
              "      <td>House Dem Aide: We Didn’t Even See Comey’s Let...</td>\n",
              "      <td>1</td>\n",
              "      <td>81</td>\n",
              "      <td>4930</td>\n",
              "    </tr>\n",
              "    <tr>\n",
              "      <th>1</th>\n",
              "      <td>1</td>\n",
              "      <td>FLYNN: Hillary Clinton, Big Woman on Campus - ...</td>\n",
              "      <td>Daniel J. Flynn</td>\n",
              "      <td>Ever get the feeling your life circles the rou...</td>\n",
              "      <td>0</td>\n",
              "      <td>55</td>\n",
              "      <td>4160</td>\n",
              "    </tr>\n",
              "    <tr>\n",
              "      <th>2</th>\n",
              "      <td>2</td>\n",
              "      <td>Why the Truth Might Get You Fired</td>\n",
              "      <td>Consortiumnews.com</td>\n",
              "      <td>Why the Truth Might Get You Fired October 29, ...</td>\n",
              "      <td>1</td>\n",
              "      <td>33</td>\n",
              "      <td>7692</td>\n",
              "    </tr>\n",
              "    <tr>\n",
              "      <th>3</th>\n",
              "      <td>3</td>\n",
              "      <td>15 Civilians Killed In Single US Airstrike Hav...</td>\n",
              "      <td>Jessica Purkiss</td>\n",
              "      <td>Videos 15 Civilians Killed In Single US Airstr...</td>\n",
              "      <td>1</td>\n",
              "      <td>63</td>\n",
              "      <td>3237</td>\n",
              "    </tr>\n",
              "    <tr>\n",
              "      <th>4</th>\n",
              "      <td>4</td>\n",
              "      <td>Iranian woman jailed for fictional unpublished...</td>\n",
              "      <td>Howard Portnoy</td>\n",
              "      <td>Print \\nAn Iranian woman has been sentenced to...</td>\n",
              "      <td>1</td>\n",
              "      <td>93</td>\n",
              "      <td>938</td>\n",
              "    </tr>\n",
              "  </tbody>\n",
              "</table>\n",
              "</div>"
            ],
            "text/plain": [
              "   id  ... text-length\n",
              "0   0  ...        4930\n",
              "1   1  ...        4160\n",
              "2   2  ...        7692\n",
              "3   3  ...        3237\n",
              "4   4  ...         938\n",
              "\n",
              "[5 rows x 7 columns]"
            ]
          },
          "metadata": {
            "tags": []
          },
          "execution_count": 700
        }
      ]
    },
    {
      "cell_type": "code",
      "metadata": {
        "colab": {
          "base_uri": "https://localhost:8080/"
        },
        "id": "M_e93GHIMZQ9",
        "outputId": "2e6abba3-d382-4d64-f57e-c0157bb22117"
      },
      "source": [
        "min(Train['title-length']), max(Train['title-length']), round(sum(Train['title-length'])/len(Train['title-length']))"
      ],
      "execution_count": 701,
      "outputs": [
        {
          "output_type": "execute_result",
          "data": {
            "text/plain": [
              "(3, 456, 75)"
            ]
          },
          "metadata": {
            "tags": []
          },
          "execution_count": 701
        }
      ]
    },
    {
      "cell_type": "code",
      "metadata": {
        "id": "nydpGHHQNLim"
      },
      "source": [
        "def get_outliers(df, series):\r\n",
        "  q1 = series.quantile(0.25)\r\n",
        "  q3 = series.quantile(0.75)\r\n",
        "\r\n",
        "  if q1*q3 == 0:\r\n",
        "    iqr = abs(2*(q1+q3))\r\n",
        "    toprange = iqr\r\n",
        "    botrange = -toprange\r\n",
        "  else:\r\n",
        "    iqr = q3-q1\r\n",
        "    toprange = q3 + iqr * 1.5\r\n",
        "    botrange = q1 - iqr * 1.5\r\n",
        "\r\n",
        "  outliers_top=df[series > toprange]\r\n",
        "  outliers_bot= df[series < botrange]\r\n",
        "  outliers = pd.concat([outliers_bot, outliers_top], axis=0)\r\n",
        "\r\n",
        "  return (botrange, toprange, outliers)"
      ],
      "execution_count": 702,
      "outputs": []
    },
    {
      "cell_type": "code",
      "metadata": {
        "colab": {
          "base_uri": "https://localhost:8080/",
          "height": 640
        },
        "id": "-f6eAhOTNO0R",
        "outputId": "4e8c9cae-1fa8-4845-fb85-7eecf0233090"
      },
      "source": [
        "botrange, toprange, outliers = get_outliers(Train, Train['title-length'])\r\n",
        "print(toprange)\r\n",
        "print(botrange)\r\n",
        "outliers"
      ],
      "execution_count": 703,
      "outputs": [
        {
          "output_type": "stream",
          "text": [
            "128.5\n",
            "20.5\n"
          ],
          "name": "stdout"
        },
        {
          "output_type": "execute_result",
          "data": {
            "text/html": [
              "<div>\n",
              "<style scoped>\n",
              "    .dataframe tbody tr th:only-of-type {\n",
              "        vertical-align: middle;\n",
              "    }\n",
              "\n",
              "    .dataframe tbody tr th {\n",
              "        vertical-align: top;\n",
              "    }\n",
              "\n",
              "    .dataframe thead th {\n",
              "        text-align: right;\n",
              "    }\n",
              "</style>\n",
              "<table border=\"1\" class=\"dataframe\">\n",
              "  <thead>\n",
              "    <tr style=\"text-align: right;\">\n",
              "      <th></th>\n",
              "      <th>id</th>\n",
              "      <th>title</th>\n",
              "      <th>author</th>\n",
              "      <th>text</th>\n",
              "      <th>label</th>\n",
              "      <th>title-length</th>\n",
              "      <th>text-length</th>\n",
              "    </tr>\n",
              "  </thead>\n",
              "  <tbody>\n",
              "    <tr>\n",
              "      <th>86</th>\n",
              "      <td>86</td>\n",
              "      <td>Poison</td>\n",
              "      <td>Heather Callaghan</td>\n",
              "      <td>By Dr. Mark Sircus Everyone knows that there a...</td>\n",
              "      <td>1</td>\n",
              "      <td>6</td>\n",
              "      <td>202</td>\n",
              "    </tr>\n",
              "    <tr>\n",
              "      <th>156</th>\n",
              "      <td>156</td>\n",
              "      <td>The Battle at UNESCO</td>\n",
              "      <td>Ari Lieberman</td>\n",
              "      <td>The Muslim Bloc may have won the battle, but d...</td>\n",
              "      <td>1</td>\n",
              "      <td>20</td>\n",
              "      <td>7772</td>\n",
              "    </tr>\n",
              "    <tr>\n",
              "      <th>248</th>\n",
              "      <td>248</td>\n",
              "      <td>The Left’s Vision</td>\n",
              "      <td>Thomas Sowell</td>\n",
              "      <td>By Thomas Sowell November 1, 2016 \\nThe politi...</td>\n",
              "      <td>1</td>\n",
              "      <td>17</td>\n",
              "      <td>4391</td>\n",
              "    </tr>\n",
              "    <tr>\n",
              "      <th>257</th>\n",
              "      <td>257</td>\n",
              "      <td>Newsticker (974)</td>\n",
              "      <td>noreply@blogger.com (Der Postillon)</td>\n",
              "      <td>+++ Hände weg vom Alkohol: Schreiner rührt nac...</td>\n",
              "      <td>1</td>\n",
              "      <td>16</td>\n",
              "      <td>772</td>\n",
              "    </tr>\n",
              "    <tr>\n",
              "      <th>347</th>\n",
              "      <td>347</td>\n",
              "      <td>LesserOfTwoEvilism</td>\n",
              "      <td>Anonymous</td>\n",
              "      <td>2016 presidential campaign by Matt Sedillo \\nH...</td>\n",
              "      <td>1</td>\n",
              "      <td>18</td>\n",
              "      <td>8573</td>\n",
              "    </tr>\n",
              "    <tr>\n",
              "      <th>...</th>\n",
              "      <td>...</td>\n",
              "      <td>...</td>\n",
              "      <td>...</td>\n",
              "      <td>...</td>\n",
              "      <td>...</td>\n",
              "      <td>...</td>\n",
              "      <td>...</td>\n",
              "    </tr>\n",
              "    <tr>\n",
              "      <th>20223</th>\n",
              "      <td>20223</td>\n",
              "      <td>Comment on Understanding Misleading Food Label...</td>\n",
              "      <td>Understanding Misleading Food Labels: An Infog...</td>\n",
              "      <td>Share on Facebook Share on Twitter “Let food b...</td>\n",
              "      <td>1</td>\n",
              "      <td>277</td>\n",
              "      <td>3675</td>\n",
              "    </tr>\n",
              "    <tr>\n",
              "      <th>20277</th>\n",
              "      <td>20277</td>\n",
              "      <td>Like a good little sharia-compliant female, Pr...</td>\n",
              "      <td>BareNakedIslam</td>\n",
              "      <td>BNI Store Nov 6 2016 Like a good little sharia...</td>\n",
              "      <td>1</td>\n",
              "      <td>165</td>\n",
              "      <td>830</td>\n",
              "    </tr>\n",
              "    <tr>\n",
              "      <th>20324</th>\n",
              "      <td>20324</td>\n",
              "      <td>THE END GAME closes in on the Clintons as the ...</td>\n",
              "      <td>Dave Hodges</td>\n",
              "      <td>THE END GAME closes in on the Clintons as the ...</td>\n",
              "      <td>1</td>\n",
              "      <td>188</td>\n",
              "      <td>10103</td>\n",
              "    </tr>\n",
              "    <tr>\n",
              "      <th>20513</th>\n",
              "      <td>20513</td>\n",
              "      <td>SAID IN SPANISH: A Mexican Governor Meddles In...</td>\n",
              "      <td>Allan Wall</td>\n",
              "      <td></td>\n",
              "      <td>1</td>\n",
              "      <td>156</td>\n",
              "      <td>1</td>\n",
              "    </tr>\n",
              "    <tr>\n",
              "      <th>20658</th>\n",
              "      <td>20658</td>\n",
              "      <td>Comment on 5 Corporations Own The U.S. Media –...</td>\n",
              "      <td>You’re Being Fooled: The Problem With ‘Alterna...</td>\n",
              "      <td>From the day we are born into this world, we...</td>\n",
              "      <td>1</td>\n",
              "      <td>205</td>\n",
              "      <td>24954</td>\n",
              "    </tr>\n",
              "  </tbody>\n",
              "</table>\n",
              "<p>401 rows × 7 columns</p>\n",
              "</div>"
            ],
            "text/plain": [
              "          id  ... text-length\n",
              "86        86  ...         202\n",
              "156      156  ...        7772\n",
              "248      248  ...        4391\n",
              "257      257  ...         772\n",
              "347      347  ...        8573\n",
              "...      ...  ...         ...\n",
              "20223  20223  ...        3675\n",
              "20277  20277  ...         830\n",
              "20324  20324  ...       10103\n",
              "20513  20513  ...           1\n",
              "20658  20658  ...       24954\n",
              "\n",
              "[401 rows x 7 columns]"
            ]
          },
          "metadata": {
            "tags": []
          },
          "execution_count": 703
        }
      ]
    },
    {
      "cell_type": "code",
      "metadata": {
        "colab": {
          "base_uri": "https://localhost:8080/",
          "height": 542
        },
        "id": "WxhJ9anHQOTu",
        "outputId": "c96f5e82-0a76-4b56-c17d-9a53d7a42d22"
      },
      "source": [
        "fig = go.Figure()\r\n",
        "fig.add_trace(go.Box(name='Title length', y=Train['title-length'], boxmean='sd'))\r\n",
        "\r\n",
        "fig.update_traces(\r\n",
        "    marker=dict(\r\n",
        "        color='rgb(8,81,156)',\r\n",
        "        outliercolor='rgba(219, 64, 82, 0.6)',\r\n",
        "        line=dict(\r\n",
        "            outliercolor='rgba(219, 64, 82, 0.6)',\r\n",
        "            outlierwidth=2)),\r\n",
        "    line_color='rgb(8,81,156)'\r\n",
        ")\r\n",
        "fig.show()"
      ],
      "execution_count": 704,
      "outputs": [
        {
          "output_type": "display_data",
          "data": {
            "text/html": [
              "<html>\n",
              "<head><meta charset=\"utf-8\" /></head>\n",
              "<body>\n",
              "    <div>\n",
              "            <script src=\"https://cdnjs.cloudflare.com/ajax/libs/mathjax/2.7.5/MathJax.js?config=TeX-AMS-MML_SVG\"></script><script type=\"text/javascript\">if (window.MathJax) {MathJax.Hub.Config({SVG: {font: \"STIX-Web\"}});}</script>\n",
              "                <script type=\"text/javascript\">window.PlotlyConfig = {MathJaxConfig: 'local'};</script>\n",
              "        <script src=\"https://cdn.plot.ly/plotly-latest.min.js\"></script>    \n",
              "            <div id=\"b906c53b-732b-4a56-afde-90ae2834ca34\" class=\"plotly-graph-div\" style=\"height:525px; width:100%;\"></div>\n",
              "            <script type=\"text/javascript\">\n",
              "                \n",
              "                    window.PLOTLYENV=window.PLOTLYENV || {};\n",
              "                    \n",
              "                if (document.getElementById(\"b906c53b-732b-4a56-afde-90ae2834ca34\")) {\n",
              "                    Plotly.newPlot(\n",
              "                        'b906c53b-732b-4a56-afde-90ae2834ca34',\n",
              "                        [{\"boxmean\": \"sd\", \"line\": {\"color\": \"rgb(8,81,156)\"}, \"marker\": {\"color\": \"rgb(8,81,156)\", \"line\": {\"outliercolor\": \"rgba(219, 64, 82, 0.6)\", \"outlierwidth\": 2}, \"outliercolor\": \"rgba(219, 64, 82, 0.6)\"}, \"name\": \"Title length\", \"type\": \"box\", \"y\": [81, 55, 33, 63, 93, 124, 87, 93, 96, 58, 95, 49, 85, 79, 58, 92, 25, 69, 67, 52, 88, 58, 111, 72, 97, 54, 70, 74, 87, 100, 75, 66, 39, 67, 84, 62, 45, 74, 82, 75, 76, 85, 106, 28, 90, 66, 86, 40, 89, 60, 75, 58, 91, 57, 84, 74, 87, 84, 60, 77, 39, 46, 61, 76, 79, 76, 64, 74, 84, 99, 78, 26, 63, 59, 81, 6, 80, 99, 55, 91, 107, 81, 133, 44, 68, 83, 79, 79, 71, 70, 89, 75, 55, 83, 103, 66, 92, 94, 77, 117, 87, 96, 89, 82, 77, 75, 89, 88, 82, 79, 86, 79, 81, 85, 76, 92, 58, 76, 84, 87, 67, 76, 90, 98, 84, 69, 105, 67, 62, 64, 91, 83, 74, 55, 87, 79, 20, 89, 96, 30, 103, 58, 78, 38, 61, 94, 82, 56, 63, 91, 82, 50, 77, 129, 103, 58, 118, 83, 76, 83, 96, 80, 48, 74, 68, 119, 92, 42, 89, 65, 33, 99, 84, 105, 77, 59, 106, 116, 65, 38, 78, 73, 80, 72, 66, 50, 80, 88, 75, 102, 75, 56, 92, 60, 83, 68, 77, 82, 78, 79, 89, 87, 61, 83, 63, 73, 76, 118, 80, 75, 66, 71, 77, 17, 91, 81, 85, 96, 88, 67, 16, 76, 63, 71, 83, 66, 100, 97, 73, 70, 35, 81, 79, 85, 112, 67, 72, 81, 65, 28, 92, 101, 84, 83, 78, 61, 101, 43, 90, 63, 82, 81, 63, 102, 74, 72, 88, 76, 41, 66, 62, 85, 64, 69, 74, 71, 62, 88, 55, 63, 82, 78, 81, 84, 59, 88, 77, 79, 70, 65, 35, 84, 102, 117, 77, 86, 101, 70, 57, 30, 64, 100, 51, 62, 37, 113, 54, 74, 65, 42, 68, 35, 71, 18, 74, 52, 67, 63, 60, 79, 93, 30, 62, 84, 88, 63, 109, 52, 78, 68, 46, 86, 70, 73, 67, 82, 73, 83, 55, 91, 74, 50, 78, 97, 38, 59, 81, 52, 101, 96, 80, 77, 85, 70, 86, 131, 64, 88, 71, 72, 103, 78, 86, 100, 87, 67, 64, 112, 108, 103, 56, 62, 136, 88, 101, 72, 63, 80, 75, 75, 60, 74, 73, 83, 105, 83, 80, 63, 57, 69, 66, 71, 86, 56, 68, 42, 62, 98, 90, 77, 54, 42, 65, 81, 64, 124, 91, 86, 46, 89, 34, 88, 84, 67, 68, 55, 20, 44, 82, 88, 98, 76, 80, 102, 18, 95, 109, 107, 74, 56, 52, 81, 28, 86, 87, 41, 48, 49, 73, 76, 66, 75, 76, 56, 48, 98, 62, 94, 93, 88, 65, 87, 59, 57, 65, 80, 51, 79, 61, 86, 49, 54, 76, 83, 65, 70, 67, 123, 64, 88, 48, 81, 100, 86, 59, 96, 71, 91, 66, 109, 105, 94, 64, 59, 66, 51, 71, 85, 72, 66, 66, 105, 90, 63, 79, 14, 90, 45, 42, 60, 239, 55, 58, 109, 84, 115, 54, 160, 30, 62, 81, 89, 87, 90, 67, 69, 87, 66, 61, 99, 71, 109, 71, 70, 97, 87, 76, 113, 40, 87, 96, 89, 107, 111, 71, 33, 121, 75, 91, 65, 74, 87, 80, 94, 69, 82, 99, 72, 60, 61, 86, 77, 112, 80, 76, 33, 91, 81, 93, 87, 77, 83, 46, 77, 96, 81, 76, 82, 82, 88, 68, 77, 70, 74, 99, 42, 82, 65, 68, 96, 83, 58, 46, 103, 70, 60, 97, 89, 68, 91, 116, 72, 106, 57, 108, 77, 70, 86, 18, 74, 49, 38, 88, 61, 83, 75, 36, 74, 62, 94, 80, 94, 89, 94, 110, 43, 110, 67, 60, 78, 65, 79, 76, 96, 34, 84, 79, 65, 100, 54, 49, 45, 66, 93, 161, 80, 83, 127, 134, 56, 68, 62, 109, 57, 62, 86, 66, 59, 93, 85, 79, 90, 53, 80, 75, 68, 70, 52, 39, 78, 77, 88, 84, 80, 78, 71, 45, 58, 99, 18, 30, 49, 100, 68, 62, 89, 80, 42, 72, 90, 73, 122, 120, 88, 46, 86, 79, 65, 79, 91, 79, 112, 38, 73, 94, 62, 64, 67, 105, 86, 72, 97, 71, 83, 95, 85, 77, 74, 86, 64, 87, 62, 30, 91, 58, 70, 125, 61, 103, 73, 76, 34, 64, 90, 87, 71, 67, 70, 109, 80, 84, 80, 84, 63, 73, 85, 90, 92, 86, 96, 76, 83, 61, 82, 56, 70, 90, 63, 89, 48, 59, 57, 95, 77, 102, 90, 48, 84, 50, 74, 63, 83, 68, 84, 85, 93, 75, 90, 57, 64, 84, 46, 87, 16, 66, 74, 84, 42, 88, 40, 67, 55, 87, 90, 88, 30, 50, 83, 106, 101, 78, 57, 16, 82, 62, 74, 70, 75, 72, 78, 91, 108, 75, 58, 80, 93, 84, 77, 36, 48, 68, 91, 90, 77, 99, 119, 82, 68, 45, 88, 93, 84, 58, 102, 55, 78, 82, 91, 91, 56, 27, 83, 89, 103, 86, 144, 93, 74, 70, 77, 98, 94, 102, 72, 80, 67, 66, 82, 45, 43, 41, 85, 92, 84, 63, 98, 62, 54, 49, 100, 78, 102, 73, 96, 71, 41, 74, 47, 86, 50, 111, 84, 45, 43, 63, 79, 59, 72, 63, 83, 52, 23, 64, 86, 70, 55, 50, 87, 56, 99, 66, 74, 45, 59, 40, 106, 88, 102, 77, 76, 52, 53, 59, 45, 67, 87, 71, 41, 112, 80, 96, 60, 92, 92, 75, 91, 93, 88, 41, 73, 94, 59, 131, 88, 58, 23, 92, 50, 77, 77, 53, 84, 104, 86, 55, 44, 74, 102, 71, 18, 84, 96, 78, 79, 41, 95, 44, 64, 86, 50, 91, 76, 55, 67, 77, 105, 80, 60, 76, 83, 40, 38, 64, 68, 87, 40, 32, 74, 56, 96, 33, 73, 70, 63, 67, 77, 80, 86, 83, 96, 89, 57, 71, 97, 43, 89, 69, 80, 88, 78, 91, 60, 92, 91, 84, 69, 42, 79, 79, 100, 72, 89, 107, 108, 91, 86, 57, 107, 83, 85, 90, 78, 27, 81, 80, 115, 52, 68, 55, 73, 86, 82, 90, 72, 40, 81, 88, 131, 75, 78, 456, 71, 72, 77, 52, 69, 25, 124, 69, 89, 83, 83, 61, 88, 74, 97, 87, 105, 88, 79, 67, 70, 43, 71, 16, 113, 76, 74, 49, 66, 61, 87, 74, 45, 88, 71, 85, 81, 87, 86, 103, 81, 79, 83, 64, 42, 74, 98, 85, 67, 60, 66, 56, 78, 81, 93, 26, 48, 90, 71, 94, 66, 47, 70, 94, 67, 86, 75, 98, 77, 70, 35, 46, 50, 62, 53, 88, 23, 90, 76, 81, 74, 66, 43, 75, 97, 90, 63, 75, 60, 79, 91, 42, 84, 49, 91, 46, 85, 104, 96, 84, 63, 90, 59, 88, 80, 71, 88, 76, 92, 42, 71, 47, 77, 91, 96, 50, 44, 88, 56, 95, 73, 90, 93, 86, 78, 64, 54, 93, 68, 60, 80, 89, 85, 57, 54, 65, 73, 64, 50, 60, 83, 59, 91, 95, 87, 83, 79, 51, 78, 104, 73, 63, 66, 83, 76, 102, 51, 84, 100, 57, 73, 74, 73, 72, 89, 70, 45, 73, 78, 92, 92, 81, 88, 70, 76, 68, 90, 45, 100, 95, 39, 48, 49, 84, 107, 82, 75, 29, 50, 77, 72, 63, 62, 64, 82, 71, 49, 54, 66, 12, 82, 66, 91, 71, 38, 82, 36, 92, 60, 46, 79, 72, 84, 48, 70, 78, 57, 28, 85, 83, 104, 69, 113, 28, 88, 101, 61, 91, 54, 93, 81, 105, 94, 21, 36, 42, 77, 122, 99, 84, 71, 91, 80, 50, 68, 77, 25, 72, 113, 72, 57, 54, 72, 80, 66, 101, 67, 56, 61, 92, 70, 78, 67, 40, 92, 64, 48, 78, 75, 84, 119, 81, 84, 88, 101, 156, 28, 94, 81, 87, 78, 83, 62, 82, 88, 122, 100, 101, 53, 88, 66, 47, 61, 74, 82, 84, 101, 63, 118, 63, 89, 90, 95, 63, 120, 82, 49, 86, 55, 95, 97, 100, 91, 108, 62, 86, 83, 44, 23, 94, 61, 31, 90, 53, 60, 56, 73, 93, 66, 49, 69, 133, 79, 118, 76, 92, 52, 94, 102, 95, 75, 99, 128, 73, 89, 75, 72, 93, 85, 74, 73, 26, 139, 30, 77, 76, 77, 42, 76, 35, 67, 68, 79, 138, 85, 109, 101, 58, 95, 27, 62, 74, 68, 47, 72, 88, 76, 65, 77, 76, 68, 90, 59, 77, 89, 86, 71, 41, 95, 69, 49, 60, 84, 66, 34, 99, 52, 65, 82, 80, 51, 84, 52, 53, 70, 91, 24, 56, 55, 83, 126, 73, 65, 85, 96, 31, 76, 88, 78, 108, 37, 86, 78, 77, 96, 65, 80, 77, 100, 49, 67, 73, 34, 72, 76, 68, 66, 80, 51, 100, 51, 52, 83, 35, 74, 70, 18, 83, 79, 94, 147, 83, 85, 114, 54, 86, 57, 96, 95, 56, 87, 18, 66, 64, 59, 66, 85, 73, 16, 72, 74, 102, 56, 84, 74, 109, 36, 77, 81, 48, 83, 59, 108, 84, 55, 60, 150, 60, 84, 89, 107, 104, 69, 95, 81, 62, 33, 89, 65, 79, 69, 79, 69, 73, 93, 81, 61, 82, 96, 82, 68, 90, 40, 90, 49, 100, 89, 53, 20, 61, 99, 66, 84, 71, 85, 58, 63, 84, 52, 86, 81, 45, 107, 89, 82, 92, 50, 48, 76, 66, 76, 72, 67, 68, 49, 63, 98, 55, 91, 50, 112, 45, 74, 55, 55, 70, 67, 44, 75, 76, 82, 55, 95, 97, 42, 54, 84, 76, 110, 67, 41, 71, 63, 67, 64, 89, 58, 30, 54, 78, 86, 72, 73, 97, 71, 83, 96, 75, 54, 74, 99, 39, 51, 77, 82, 91, 36, 120, 93, 55, 67, 110, 69, 88, 90, 69, 83, 47, 72, 82, 43, 92, 65, 48, 64, 60, 30, 96, 59, 74, 83, 61, 88, 79, 97, 69, 102, 83, 102, 76, 83, 83, 57, 42, 82, 39, 58, 94, 48, 77, 99, 64, 61, 50, 82, 85, 89, 112, 69, 103, 55, 26, 72, 112, 63, 88, 36, 28, 57, 60, 55, 92, 61, 77, 49, 63, 92, 86, 90, 97, 82, 79, 96, 75, 60, 37, 79, 95, 61, 65, 90, 42, 70, 68, 65, 89, 83, 32, 64, 91, 109, 95, 76, 73, 87, 68, 9, 66, 79, 92, 61, 59, 89, 76, 91, 75, 85, 82, 90, 73, 87, 38, 61, 81, 98, 80, 90, 71, 72, 32, 80, 77, 84, 65, 85, 40, 87, 80, 86, 97, 71, 51, 93, 111, 83, 66, 70, 31, 87, 40, 95, 97, 104, 50, 101, 55, 53, 68, 65, 42, 65, 55, 98, 103, 65, 82, 134, 64, 60, 88, 105, 55, 93, 37, 92, 80, 104, 33, 92, 61, 80, 68, 70, 85, 72, 84, 70, 52, 78, 45, 94, 107, 91, 85, 79, 81, 84, 75, 36, 76, 62, 83, 82, 88, 180, 79, 88, 69, 43, 95, 121, 86, 61, 78, 262, 39, 53, 77, 80, 93, 63, 64, 110, 128, 81, 113, 109, 99, 82, 28, 56, 67, 66, 86, 66, 70, 85, 59, 100, 55, 28, 118, 55, 96, 60, 80, 67, 97, 84, 82, 89, 66, 94, 91, 71, 89, 100, 61, 82, 100, 57, 69, 83, 79, 95, 64, 108, 78, 79, 39, 65, 79, 55, 101, 51, 88, 93, 94, 75, 47, 13, 65, 77, 54, 75, 65, 71, 91, 83, 71, 97, 72, 71, 139, 40, 84, 77, 84, 85, 105, 90, 38, 102, 67, 61, 64, 80, 92, 64, 64, 75, 70, 76, 59, 79, 95, 79, 60, 141, 67, 77, 78, 82, 64, 42, 76, 96, 61, 87, 89, 69, 64, 71, 82, 63, 95, 93, 62, 93, 68, 73, 59, 89, 52, 52, 74, 36, 57, 84, 21, 77, 66, 61, 51, 80, 39, 77, 59, 76, 99, 96, 91, 97, 34, 57, 68, 70, 93, 78, 62, 82, 36, 94, 49, 82, 82, 92, 77, 96, 17, 78, 61, 85, 69, 24, 91, 91, 35, 56, 54, 70, 51, 44, 69, 100, 87, 36, 93, 76, 73, 79, 78, 97, 72, 78, 70, 65, 78, 79, 82, 53, 91, 66, 62, 45, 60, 43, 92, 35, 86, 102, 54, 14, 65, 60, 70, 50, 51, 59, 81, 33, 45, 78, 49, 95, 69, 87, 99, 46, 80, 66, 94, 41, 89, 73, 49, 40, 83, 104, 109, 59, 106, 97, 96, 78, 73, 63, 89, 72, 58, 68, 67, 73, 18, 75, 92, 84, 58, 92, 81, 89, 97, 57, 90, 48, 58, 72, 60, 63, 80, 80, 72, 67, 116, 34, 64, 91, 85, 100, 82, 94, 87, 57, 96, 91, 67, 109, 84, 77, 71, 55, 85, 85, 77, 62, 62, 39, 100, 61, 45, 79, 101, 59, 59, 87, 55, 73, 92, 88, 74, 88, 52, 55, 87, 51, 66, 107, 78, 57, 70, 91, 97, 93, 79, 100, 79, 76, 101, 94, 106, 88, 88, 68, 86, 76, 56, 73, 64, 47, 82, 86, 43, 81, 64, 74, 79, 76, 69, 77, 84, 81, 67, 73, 60, 52, 86, 80, 94, 31, 44, 36, 22, 50, 64, 57, 83, 54, 83, 99, 77, 155, 76, 58, 77, 145, 83, 64, 71, 75, 36, 126, 55, 28, 57, 13, 65, 92, 22, 36, 62, 86, 78, 71, 40, 59, 52, 80, 85, 51, 100, 73, 79, 79, 77, 69, 72, 106, 71, 97, 96, 98, 85, 104, 4, 73, 76, 103, 91, 102, 71, 78, 102, 52, 64, 94, 51, 51, 99, 83, 84, 59, 129, 76, 94, 81, 39, 53, 116, 67, 54, 91, 42, 52, 119, 70, 66, 130, 61, 82, 82, 104, 62, 65, 98, 89, 81, 76, 37, 40, 80, 49, 48, 96, 91, 60, 61, 68, 63, 80, 91, 64, 96, 72, 70, 77, 78, 86, 70, 86, 109, 110, 20, 61, 60, 87, 91, 64, 97, 74, 25, 42, 92, 97, 36, 88, 45, 59, 115, 36, 93, 118, 88, 68, 87, 93, 74, 97, 91, 81, 77, 77, 80, 70, 87, 74, 79, 90, 74, 175, 76, 50, 62, 95, 68, 63, 75, 78, 71, 65, 65, 56, 83, 89, 77, 83, 85, 71, 68, 68, 76, 71, 69, 107, 31, 52, 65, 55, 98, 92, 82, 58, 46, 67, 67, 48, 88, 61, 71, 113, 61, 73, 83, 89, 63, 78, 69, 79, 63, 85, 79, 57, 75, 69, 83, 85, 65, 79, 82, 91, 46, 96, 103, 80, 88, 78, 63, 19, 58, 84, 65, 63, 84, 62, 94, 95, 86, 50, 54, 89, 96, 43, 87, 95, 60, 30, 84, 69, 48, 79, 58, 85, 86, 81, 75, 109, 71, 88, 53, 90, 112, 98, 109, 72, 74, 59, 99, 98, 85, 81, 61, 48, 109, 80, 100, 60, 75, 76, 84, 114, 87, 45, 98, 71, 86, 58, 107, 93, 77, 65, 88, 83, 57, 83, 82, 85, 91, 80, 52, 36, 85, 62, 96, 79, 88, 78, 66, 81, 76, 56, 82, 68, 100, 105, 77, 74, 101, 80, 66, 76, 67, 67, 88, 80, 76, 68, 84, 95, 81, 76, 90, 68, 88, 74, 45, 9, 89, 87, 72, 60, 49, 63, 55, 83, 65, 85, 87, 74, 83, 63, 49, 73, 64, 79, 73, 73, 53, 97, 67, 96, 71, 70, 45, 99, 81, 10, 52, 72, 40, 81, 11, 40, 65, 41, 77, 95, 82, 108, 96, 150, 63, 49, 70, 71, 74, 86, 74, 110, 84, 41, 87, 49, 85, 91, 91, 94, 89, 73, 92, 55, 64, 78, 85, 77, 73, 78, 50, 105, 87, 83, 82, 79, 71, 73, 80, 50, 66, 74, 58, 66, 103, 56, 90, 87, 94, 40, 103, 90, 73, 67, 65, 81, 76, 28, 96, 62, 82, 67, 81, 94, 49, 25, 85, 42, 81, 70, 67, 99, 84, 33, 49, 86, 74, 83, 101, 78, 90, 50, 53, 131, 51, 72, 51, 38, 112, 50, 50, 64, 95, 67, 78, 96, 61, 78, 73, 52, 65, 73, 63, 59, 52, 84, 85, 76, 64, 58, 31, 76, 73, 64, 74, 80, 69, 78, 69, 92, 86, 84, 108, 72, 62, 59, 68, 71, 75, 79, 103, 85, 50, 91, 37, 52, 48, 79, 111, 82, 82, 88, 87, 80, 69, 67, 42, 63, 35, 54, 83, 66, 81, 93, 87, 96, 179, 69, 123, 51, 79, 49, 82, 88, 79, 60, 81, 71, 36, 95, 68, 76, 66, 90, 79, 76, 97, 133, 94, 37, 122, 71, 89, 88, 99, 160, 103, 73, 73, 83, 73, 29, 71, 88, 68, 88, 61, 97, 81, 45, 82, 52, 52, 54, 90, 75, 81, 86, 77, 54, 66, 77, 14, 72, 77, 155, 82, 77, 74, 81, 22, 57, 76, 61, 72, 79, 70, 58, 22, 89, 61, 99, 53, 79, 82, 103, 71, 60, 72, 68, 51, 21, 26, 41, 84, 58, 74, 87, 104, 62, 57, 42, 68, 83, 76, 65, 75, 81, 86, 66, 84, 85, 98, 65, 60, 61, 82, 69, 85, 46, 76, 76, 82, 84, 78, 54, 90, 91, 80, 110, 94, 112, 44, 86, 72, 37, 79, 56, 61, 52, 78, 37, 82, 95, 62, 90, 96, 50, 39, 76, 35, 96, 67, 83, 89, 72, 74, 78, 55, 70, 38, 59, 74, 51, 106, 51, 99, 49, 92, 69, 77, 81, 89, 30, 99, 79, 32, 83, 96, 92, 66, 61, 206, 56, 88, 50, 94, 71, 119, 78, 77, 98, 80, 87, 69, 142, 50, 63, 117, 82, 105, 29, 35, 126, 63, 76, 127, 111, 86, 84, 75, 64, 93, 59, 109, 86, 75, 64, 110, 96, 79, 88, 30, 75, 80, 55, 94, 74, 74, 119, 84, 64, 39, 85, 51, 65, 105, 62, 81, 65, 83, 83, 93, 55, 88, 42, 90, 58, 89, 97, 88, 69, 81, 71, 276, 84, 77, 101, 70, 90, 32, 72, 85, 99, 69, 84, 74, 81, 79, 73, 89, 63, 82, 251, 71, 82, 71, 42, 61, 40, 52, 60, 76, 78, 54, 91, 57, 60, 79, 91, 81, 72, 41, 43, 48, 42, 59, 47, 76, 36, 82, 48, 98, 94, 107, 39, 82, 54, 32, 71, 104, 88, 70, 68, 87, 72, 57, 66, 61, 76, 72, 158, 35, 58, 104, 83, 62, 87, 89, 95, 83, 78, 85, 90, 66, 85, 66, 59, 93, 19, 96, 73, 73, 23, 80, 75, 44, 91, 69, 90, 79, 75, 39, 81, 54, 68, 78, 64, 78, 69, 64, 77, 96, 77, 74, 79, 112, 59, 83, 44, 95, 39, 100, 89, 72, 77, 76, 59, 60, 44, 69, 90, 123, 28, 92, 98, 86, 60, 68, 86, 88, 239, 92, 45, 52, 63, 86, 89, 78, 86, 82, 83, 73, 68, 81, 37, 61, 60, 90, 62, 55, 69, 66, 86, 92, 99, 66, 41, 111, 83, 108, 59, 78, 75, 88, 87, 79, 65, 107, 23, 91, 97, 93, 61, 81, 52, 119, 17, 90, 76, 67, 59, 78, 90, 65, 84, 85, 132, 65, 62, 74, 100, 76, 88, 55, 111, 136, 55, 84, 63, 52, 66, 79, 87, 49, 62, 96, 89, 60, 53, 65, 77, 99, 86, 43, 86, 134, 82, 67, 38, 72, 94, 76, 84, 82, 69, 115, 96, 82, 35, 31, 112, 78, 99, 90, 45, 29, 56, 71, 70, 88, 65, 43, 75, 80, 61, 62, 44, 67, 102, 41, 72, 72, 113, 77, 48, 67, 67, 79, 113, 49, 82, 76, 48, 48, 72, 62, 94, 83, 72, 85, 91, 87, 77, 86, 94, 81, 83, 62, 72, 40, 44, 81, 134, 75, 62, 87, 81, 143, 85, 79, 120, 68, 44, 47, 66, 54, 73, 72, 46, 63, 85, 72, 94, 101, 85, 75, 72, 65, 104, 82, 32, 42, 91, 24, 80, 74, 60, 58, 64, 88, 91, 74, 134, 69, 65, 79, 85, 79, 50, 52, 88, 56, 70, 66, 95, 52, 82, 51, 82, 60, 65, 45, 42, 74, 20, 98, 29, 21, 90, 87, 59, 66, 84, 86, 74, 93, 108, 59, 98, 75, 86, 35, 89, 99, 80, 42, 63, 71, 45, 93, 88, 78, 71, 35, 71, 84, 81, 46, 81, 94, 92, 57, 16, 103, 94, 76, 29, 61, 53, 74, 78, 70, 48, 57, 84, 86, 93, 88, 85, 71, 117, 91, 87, 84, 92, 83, 116, 90, 77, 82, 101, 79, 75, 87, 72, 62, 73, 84, 84, 96, 172, 48, 86, 64, 84, 91, 85, 86, 84, 79, 86, 76, 93, 84, 95, 117, 59, 99, 89, 49, 89, 72, 91, 57, 19, 59, 81, 90, 92, 85, 82, 72, 71, 76, 96, 81, 18, 38, 62, 38, 127, 78, 61, 42, 98, 51, 34, 86, 49, 45, 91, 58, 43, 38, 88, 55, 70, 57, 91, 76, 90, 71, 69, 71, 78, 53, 98, 33, 64, 52, 86, 96, 77, 82, 52, 58, 72, 52, 26, 74, 104, 85, 51, 100, 76, 98, 78, 46, 60, 119, 75, 95, 84, 79, 58, 97, 78, 102, 71, 68, 89, 52, 111, 71, 43, 85, 77, 39, 113, 55, 74, 100, 49, 73, 58, 107, 51, 57, 45, 79, 96, 58, 72, 44, 86, 61, 91, 72, 44, 84, 69, 93, 29, 84, 65, 84, 65, 69, 71, 92, 50, 77, 80, 53, 76, 58, 79, 89, 86, 75, 70, 87, 25, 85, 72, 55, 77, 103, 79, 42, 55, 74, 68, 143, 61, 47, 39, 58, 87, 67, 119, 70, 67, 17, 54, 89, 84, 165, 82, 89, 80, 30, 93, 70, 37, 78, 84, 53, 27, 99, 42, 78, 62, 65, 87, 45, 90, 79, 88, 72, 67, 94, 57, 78, 64, 80, 67, 19, 76, 58, 79, 89, 88, 27, 64, 73, 64, 106, 42, 55, 86, 92, 78, 79, 88, 101, 77, 59, 36, 106, 33, 97, 46, 89, 80, 106, 50, 64, 75, 97, 53, 89, 130, 75, 109, 82, 87, 77, 82, 68, 75, 29, 97, 59, 129, 231, 80, 40, 68, 55, 72, 77, 51, 71, 85, 84, 82, 73, 101, 111, 44, 85, 80, 74, 101, 101, 69, 114, 39, 81, 50, 98, 56, 80, 106, 84, 86, 40, 120, 83, 50, 95, 52, 83, 78, 72, 61, 89, 79, 89, 89, 94, 86, 78, 85, 77, 90, 68, 58, 80, 62, 66, 50, 84, 77, 60, 84, 64, 67, 96, 71, 75, 84, 61, 79, 42, 58, 81, 68, 105, 71, 55, 71, 70, 78, 95, 55, 74, 47, 86, 88, 68, 87, 93, 56, 25, 83, 89, 54, 55, 79, 26, 47, 57, 121, 60, 106, 75, 29, 81, 87, 105, 84, 126, 84, 81, 49, 105, 71, 91, 74, 93, 64, 96, 85, 57, 172, 78, 40, 22, 59, 111, 38, 71, 91, 73, 71, 65, 29, 90, 73, 126, 110, 86, 49, 95, 80, 41, 95, 35, 46, 83, 71, 85, 86, 114, 120, 82, 90, 94, 100, 99, 18, 17, 78, 55, 96, 69, 57, 103, 116, 77, 80, 52, 81, 84, 59, 45, 17, 68, 77, 89, 60, 51, 93, 47, 72, 106, 45, 71, 58, 65, 80, 93, 80, 88, 67, 55, 93, 71, 58, 77, 59, 68, 79, 78, 70, 101, 53, 199, 80, 69, 98, 95, 132, 109, 100, 69, 76, 127, 64, 69, 48, 73, 65, 78, 124, 132, 63, 67, 95, 59, 92, 97, 59, 93, 61, 43, 113, 49, 96, 62, 71, 87, 77, 67, 46, 91, 88, 56, 79, 74, 99, 82, 75, 92, 40, 43, 113, 70, 42, 111, 53, 95, 68, 81, 88, 47, 98, 48, 82, 60, 72, 78, 67, 63, 73, 76, 89, 13, 86, 81, 86, 95, 23, 63, 78, 82, 79, 64, 86, 91, 65, 74, 22, 90, 73, 75, 81, 19, 96, 87, 66, 84, 69, 94, 65, 51, 75, 101, 72, 86, 48, 98, 71, 76, 81, 133, 82, 103, 102, 104, 76, 50, 114, 51, 45, 86, 107, 91, 76, 56, 63, 77, 78, 47, 76, 68, 57, 58, 87, 89, 68, 16, 71, 73, 67, 82, 94, 69, 67, 57, 103, 92, 70, 104, 72, 87, 77, 93, 76, 74, 29, 94, 72, 51, 57, 89, 115, 90, 65, 99, 85, 89, 62, 84, 51, 100, 110, 84, 69, 45, 65, 79, 62, 105, 83, 50, 108, 77, 49, 76, 81, 91, 96, 98, 48, 94, 83, 50, 98, 84, 76, 79, 74, 77, 73, 92, 80, 43, 85, 47, 86, 116, 56, 107, 72, 123, 103, 65, 73, 124, 92, 90, 65, 48, 33, 55, 70, 74, 48, 69, 60, 44, 39, 86, 77, 80, 104, 79, 20, 75, 69, 68, 86, 81, 67, 62, 46, 74, 48, 109, 69, 116, 35, 80, 44, 42, 124, 71, 83, 125, 67, 64, 93, 71, 45, 85, 90, 60, 49, 78, 84, 59, 17, 58, 89, 82, 28, 76, 86, 93, 74, 70, 94, 70, 72, 97, 93, 61, 104, 92, 55, 66, 94, 95, 78, 71, 83, 90, 50, 58, 78, 74, 36, 71, 71, 86, 82, 55, 66, 79, 79, 67, 52, 58, 93, 75, 99, 89, 82, 75, 81, 46, 80, 54, 55, 51, 34, 77, 72, 57, 64, 84, 66, 57, 27, 80, 76, 75, 62, 97, 39, 106, 77, 73, 64, 77, 97, 69, 62, 61, 51, 64, 87, 90, 89, 71, 81, 101, 90, 90, 80, 54, 76, 87, 81, 69, 77, 74, 89, 88, 64, 73, 22, 88, 90, 66, 96, 76, 80, 96, 81, 100, 89, 91, 93, 64, 61, 42, 94, 82, 77, 74, 73, 73, 61, 53, 100, 83, 72, 46, 88, 83, 60, 72, 92, 77, 88, 78, 57, 55, 73, 77, 98, 63, 80, 60, 84, 99, 34, 94, 67, 56, 98, 90, 73, 71, 94, 57, 35, 89, 79, 79, 72, 18, 79, 12, 92, 77, 82, 62, 80, 36, 97, 86, 84, 86, 97, 55, 103, 57, 81, 61, 62, 72, 83, 56, 56, 100, 85, 93, 68, 72, 122, 94, 55, 85, 64, 103, 82, 115, 75, 59, 84, 84, 70, 97, 49, 102, 83, 71, 98, 69, 50, 87, 91, 40, 79, 96, 60, 95, 65, 84, 70, 19, 95, 91, 88, 79, 60, 125, 65, 106, 51, 75, 66, 122, 118, 67, 63, 90, 93, 78, 80, 90, 50, 96, 81, 95, 88, 58, 90, 45, 69, 50, 81, 78, 88, 81, 57, 63, 50, 88, 87, 93, 109, 64, 81, 64, 89, 91, 66, 71, 79, 58, 61, 86, 54, 56, 59, 83, 51, 76, 20, 69, 47, 86, 54, 73, 61, 90, 76, 93, 83, 143, 67, 84, 99, 57, 87, 73, 74, 72, 73, 103, 65, 83, 71, 62, 72, 82, 85, 84, 73, 79, 73, 76, 68, 83, 43, 54, 173, 87, 64, 86, 69, 70, 81, 82, 69, 74, 74, 79, 104, 76, 52, 49, 77, 66, 51, 105, 78, 87, 92, 100, 59, 93, 76, 86, 74, 60, 59, 55, 49, 65, 87, 103, 66, 72, 67, 81, 79, 65, 95, 64, 37, 48, 99, 105, 59, 53, 39, 79, 112, 76, 79, 126, 84, 107, 68, 76, 44, 46, 70, 67, 70, 80, 109, 105, 79, 30, 67, 37, 59, 26, 84, 74, 84, 68, 92, 51, 99, 96, 34, 83, 50, 86, 83, 84, 86, 76, 85, 107, 48, 84, 62, 84, 42, 74, 80, 62, 60, 73, 78, 99, 60, 88, 95, 66, 65, 71, 85, 53, 96, 79, 61, 68, 71, 58, 89, 76, 61, 61, 57, 91, 111, 108, 55, 79, 141, 85, 80, 88, 78, 72, 69, 112, 89, 78, 110, 73, 98, 74, 225, 71, 73, 86, 70, 81, 104, 91, 98, 50, 54, 95, 60, 91, 73, 104, 75, 72, 69, 30, 61, 57, 114, 71, 88, 74, 90, 65, 77, 98, 68, 62, 89, 84, 82, 90, 88, 86, 31, 74, 86, 64, 75, 91, 16, 207, 28, 79, 102, 83, 78, 48, 111, 92, 88, 37, 86, 83, 89, 49, 85, 155, 80, 84, 55, 98, 79, 88, 59, 91, 98, 82, 103, 101, 91, 84, 79, 57, 79, 74, 96, 86, 63, 98, 85, 68, 94, 45, 87, 88, 49, 55, 95, 96, 83, 80, 81, 80, 106, 73, 72, 76, 79, 81, 98, 85, 80, 44, 53, 64, 85, 50, 90, 36, 93, 34, 59, 81, 87, 88, 75, 59, 72, 89, 94, 76, 79, 84, 78, 53, 68, 101, 88, 64, 95, 88, 85, 86, 78, 135, 61, 61, 75, 48, 77, 95, 80, 75, 60, 80, 78, 68, 106, 67, 81, 50, 90, 33, 61, 84, 87, 50, 49, 80, 85, 88, 55, 105, 70, 89, 85, 78, 62, 20, 80, 49, 123, 91, 40, 66, 79, 88, 88, 90, 109, 95, 96, 64, 76, 84, 61, 60, 76, 34, 80, 43, 98, 85, 74, 92, 69, 42, 58, 92, 65, 60, 87, 102, 93, 50, 98, 130, 99, 92, 69, 57, 81, 86, 122, 86, 72, 74, 53, 89, 68, 100, 31, 98, 100, 62, 50, 118, 74, 87, 55, 86, 64, 79, 86, 105, 52, 17, 85, 96, 110, 58, 67, 80, 67, 46, 71, 145, 99, 89, 61, 58, 50, 41, 90, 67, 71, 42, 42, 76, 46, 85, 67, 67, 65, 72, 93, 70, 80, 39, 89, 32, 65, 90, 45, 79, 73, 83, 61, 71, 64, 68, 80, 85, 67, 50, 77, 35, 68, 20, 116, 72, 58, 69, 77, 105, 62, 97, 58, 116, 59, 83, 64, 75, 90, 106, 55, 63, 88, 88, 84, 57, 97, 54, 86, 67, 76, 78, 35, 93, 89, 65, 72, 92, 68, 86, 68, 93, 107, 82, 50, 71, 62, 163, 77, 97, 33, 90, 38, 94, 100, 94, 32, 84, 92, 67, 88, 82, 94, 90, 19, 54, 93, 102, 71, 14, 50, 115, 65, 105, 78, 82, 83, 83, 83, 74, 96, 111, 75, 78, 75, 86, 91, 66, 83, 133, 89, 67, 91, 86, 89, 59, 67, 83, 90, 94, 88, 103, 56, 46, 83, 84, 48, 75, 56, 75, 42, 77, 90, 82, 62, 61, 44, 78, 93, 61, 62, 91, 85, 8, 37, 67, 95, 34, 91, 112, 84, 62, 97, 69, 64, 122, 111, 29, 85, 90, 62, 86, 72, 75, 89, 90, 45, 58, 100, 101, 83, 96, 42, 104, 86, 61, 81, 117, 93, 98, 87, 52, 78, 51, 97, 44, 84, 118, 80, 75, 65, 43, 108, 65, 61, 96, 34, 81, 92, 75, 78, 85, 122, 68, 42, 72, 36, 67, 72, 30, 250, 58, 88, 83, 97, 48, 62, 83, 59, 103, 33, 81, 79, 29, 95, 72, 84, 62, 47, 69, 71, 75, 47, 109, 125, 20, 122, 70, 60, 71, 38, 97, 59, 95, 45, 80, 109, 97, 73, 104, 82, 68, 76, 73, 57, 86, 80, 75, 65, 21, 53, 81, 92, 72, 90, 87, 83, 62, 85, 64, 56, 89, 87, 107, 87, 71, 69, 81, 63, 66, 63, 102, 93, 37, 73, 62, 13, 60, 60, 44, 79, 39, 82, 66, 125, 62, 56, 119, 91, 91, 90, 34, 100, 22, 94, 61, 89, 64, 73, 85, 98, 91, 77, 83, 80, 24, 84, 74, 79, 83, 43, 87, 89, 92, 92, 47, 69, 80, 59, 93, 63, 118, 80, 82, 77, 77, 65, 73, 63, 94, 79, 45, 92, 33, 94, 94, 73, 76, 35, 35, 85, 182, 84, 59, 102, 80, 71, 77, 93, 62, 118, 63, 87, 97, 70, 52, 53, 189, 78, 89, 82, 71, 104, 75, 81, 40, 92, 62, 66, 26, 43, 101, 36, 74, 104, 81, 42, 84, 66, 44, 86, 50, 72, 80, 70, 46, 90, 81, 54, 71, 78, 20, 73, 61, 76, 77, 85, 94, 90, 80, 121, 10, 80, 37, 82, 93, 69, 77, 30, 79, 85, 103, 125, 65, 84, 95, 65, 77, 98, 88, 93, 84, 56, 65, 84, 81, 96, 117, 58, 77, 97, 18, 62, 70, 81, 85, 68, 48, 97, 90, 96, 100, 50, 62, 76, 101, 79, 95, 88, 117, 89, 102, 33, 92, 73, 72, 93, 58, 74, 83, 82, 77, 77, 82, 51, 86, 98, 69, 81, 90, 78, 79, 75, 92, 84, 97, 49, 97, 79, 50, 88, 65, 55, 61, 71, 97, 80, 63, 88, 90, 91, 69, 80, 140, 43, 81, 79, 73, 84, 104, 102, 98, 51, 81, 94, 44, 76, 71, 76, 61, 82, 83, 63, 87, 83, 57, 60, 70, 69, 47, 73, 90, 80, 49, 86, 55, 77, 77, 71, 70, 80, 49, 75, 85, 56, 87, 94, 86, 81, 108, 20, 90, 79, 72, 71, 63, 43, 58, 99, 74, 70, 35, 73, 26, 65, 81, 62, 26, 78, 104, 71, 69, 70, 80, 86, 129, 65, 68, 43, 73, 71, 105, 92, 81, 83, 83, 75, 72, 52, 69, 87, 69, 74, 86, 86, 55, 74, 71, 125, 53, 78, 68, 45, 93, 86, 99, 83, 85, 86, 48, 76, 97, 71, 76, 61, 46, 78, 95, 56, 43, 78, 87, 66, 72, 46, 91, 49, 69, 94, 62, 80, 88, 36, 34, 77, 95, 70, 67, 99, 84, 58, 113, 94, 82, 82, 89, 64, 91, 70, 93, 97, 65, 48, 87, 81, 35, 70, 49, 35, 36, 88, 67, 103, 81, 68, 74, 66, 89, 65, 97, 63, 97, 82, 78, 90, 37, 82, 57, 100, 11, 81, 95, 74, 88, 69, 22, 44, 66, 90, 78, 82, 61, 121, 57, 59, 103, 86, 74, 56, 62, 93, 82, 61, 34, 74, 59, 30, 74, 71, 112, 39, 53, 76, 42, 60, 41, 66, 81, 86, 46, 74, 75, 61, 78, 64, 92, 67, 81, 133, 23, 54, 93, 58, 89, 65, 90, 64, 71, 84, 85, 79, 80, 70, 54, 48, 59, 79, 72, 87, 62, 79, 111, 91, 81, 63, 96, 41, 98, 63, 214, 89, 95, 72, 116, 79, 100, 86, 66, 88, 103, 44, 70, 81, 106, 76, 28, 92, 54, 76, 33, 92, 72, 37, 37, 112, 83, 79, 83, 74, 61, 84, 72, 78, 79, 20, 50, 107, 65, 57, 84, 54, 38, 84, 84, 76, 76, 128, 77, 39, 57, 82, 52, 65, 78, 80, 72, 65, 69, 76, 19, 76, 64, 60, 54, 52, 87, 117, 72, 40, 51, 81, 69, 92, 79, 43, 90, 73, 83, 70, 96, 42, 96, 99, 87, 53, 70, 58, 104, 62, 51, 73, 87, 76, 85, 62, 112, 88, 94, 64, 44, 97, 68, 95, 108, 62, 85, 90, 93, 70, 82, 73, 62, 60, 79, 77, 95, 90, 80, 79, 71, 59, 33, 62, 83, 78, 90, 78, 41, 64, 53, 58, 39, 88, 54, 57, 81, 39, 74, 104, 101, 55, 79, 90, 56, 75, 82, 52, 92, 81, 81, 51, 110, 69, 115, 102, 48, 64, 80, 82, 86, 59, 79, 100, 87, 94, 92, 80, 71, 49, 75, 48, 47, 102, 74, 92, 33, 84, 70, 98, 70, 62, 70, 56, 59, 90, 96, 79, 45, 83, 66, 56, 84, 63, 53, 60, 84, 69, 118, 86, 95, 58, 54, 96, 13, 90, 76, 77, 85, 70, 48, 74, 54, 67, 84, 80, 58, 106, 40, 87, 94, 108, 65, 42, 12, 68, 82, 72, 51, 86, 68, 87, 116, 102, 49, 79, 62, 73, 76, 97, 65, 44, 108, 49, 39, 95, 69, 26, 89, 118, 79, 49, 58, 85, 77, 91, 88, 69, 54, 111, 93, 91, 89, 62, 43, 95, 58, 85, 86, 94, 60, 87, 96, 84, 46, 62, 79, 55, 84, 74, 95, 91, 80, 60, 94, 84, 70, 97, 63, 55, 75, 76, 81, 70, 86, 97, 82, 87, 82, 45, 82, 71, 81, 61, 77, 86, 103, 81, 45, 79, 81, 95, 96, 79, 107, 97, 99, 47, 99, 42, 78, 93, 82, 82, 40, 75, 68, 54, 52, 76, 60, 66, 77, 88, 58, 64, 40, 31, 91, 93, 74, 86, 79, 176, 83, 53, 65, 85, 42, 29, 81, 70, 59, 99, 59, 114, 27, 75, 95, 82, 85, 181, 84, 80, 90, 89, 96, 85, 62, 69, 81, 79, 96, 31, 80, 94, 48, 52, 87, 83, 88, 27, 118, 127, 99, 90, 87, 105, 36, 90, 62, 70, 55, 20, 81, 91, 66, 36, 41, 92, 72, 70, 64, 67, 24, 99, 60, 74, 57, 105, 94, 76, 44, 84, 75, 64, 100, 96, 78, 98, 61, 37, 64, 74, 88, 96, 75, 38, 81, 55, 36, 90, 92, 93, 49, 48, 42, 67, 93, 67, 71, 48, 104, 66, 70, 101, 78, 40, 78, 58, 51, 98, 54, 72, 75, 70, 51, 56, 82, 62, 90, 93, 79, 101, 125, 105, 96, 95, 65, 48, 66, 84, 112, 82, 66, 43, 16, 63, 67, 95, 71, 74, 83, 89, 80, 80, 85, 91, 59, 79, 90, 86, 62, 77, 79, 130, 41, 84, 87, 41, 106, 43, 70, 69, 81, 63, 89, 61, 97, 108, 75, 64, 33, 73, 63, 70, 64, 75, 58, 88, 40, 75, 50, 61, 73, 82, 65, 40, 34, 60, 55, 54, 50, 87, 69, 90, 89, 68, 52, 75, 72, 41, 42, 54, 78, 60, 47, 78, 61, 65, 82, 89, 68, 75, 63, 82, 83, 69, 95, 62, 81, 40, 73, 36, 74, 63, 73, 85, 97, 107, 66, 58, 42, 116, 60, 62, 90, 79, 81, 58, 55, 81, 84, 51, 98, 73, 87, 72, 103, 35, 96, 84, 52, 56, 50, 78, 72, 63, 65, 50, 87, 44, 100, 141, 48, 90, 68, 54, 92, 87, 84, 48, 70, 84, 87, 86, 69, 69, 72, 72, 50, 77, 93, 93, 81, 85, 60, 72, 81, 26, 38, 63, 93, 79, 92, 113, 93, 87, 71, 50, 94, 80, 59, 74, 56, 56, 85, 97, 48, 86, 74, 91, 67, 66, 81, 65, 77, 84, 68, 90, 85, 53, 80, 48, 110, 67, 73, 59, 87, 75, 69, 65, 62, 141, 91, 93, 72, 81, 80, 37, 39, 70, 87, 77, 79, 52, 80, 91, 77, 81, 94, 76, 59, 83, 89, 71, 56, 50, 90, 65, 75, 86, 73, 36, 38, 87, 57, 45, 43, 65, 91, 76, 33, 90, 67, 67, 61, 80, 68, 90, 53, 62, 50, 92, 81, 83, 28, 84, 73, 84, 100, 75, 80, 117, 98, 57, 96, 49, 98, 93, 59, 69, 62, 58, 84, 71, 81, 62, 88, 78, 100, 83, 78, 76, 52, 68, 85, 96, 26, 33, 109, 62, 82, 50, 127, 82, 48, 48, 40, 80, 55, 64, 72, 73, 82, 29, 86, 69, 65, 66, 71, 70, 83, 74, 121, 79, 85, 100, 30, 69, 67, 49, 85, 63, 64, 125, 60, 114, 93, 61, 69, 87, 81, 78, 36, 107, 69, 83, 81, 94, 77, 81, 66, 93, 98, 91, 65, 80, 87, 61, 92, 168, 100, 83, 62, 63, 61, 76, 54, 109, 92, 67, 78, 100, 87, 64, 69, 119, 74, 69, 115, 71, 96, 40, 82, 74, 85, 36, 78, 82, 100, 73, 141, 88, 59, 115, 80, 53, 50, 93, 49, 84, 97, 82, 95, 89, 79, 92, 68, 83, 96, 110, 93, 79, 59, 76, 81, 132, 40, 72, 68, 48, 62, 61, 56, 69, 86, 79, 45, 88, 63, 47, 113, 63, 65, 80, 118, 65, 93, 87, 79, 63, 51, 51, 81, 77, 120, 87, 79, 79, 53, 7, 62, 88, 151, 77, 80, 79, 95, 92, 34, 27, 83, 89, 92, 48, 74, 95, 47, 83, 65, 72, 90, 94, 41, 81, 76, 80, 66, 67, 74, 88, 79, 81, 79, 63, 107, 83, 85, 97, 110, 104, 66, 50, 64, 110, 114, 61, 56, 54, 91, 94, 39, 60, 80, 88, 86, 49, 86, 84, 54, 80, 91, 63, 67, 104, 75, 63, 64, 79, 83, 61, 76, 54, 82, 78, 111, 55, 46, 70, 117, 77, 107, 87, 100, 71, 69, 79, 88, 74, 87, 29, 43, 83, 77, 83, 86, 101, 77, 75, 54, 85, 92, 86, 77, 78, 73, 81, 69, 48, 90, 79, 87, 77, 71, 78, 79, 56, 69, 62, 87, 126, 88, 92, 75, 68, 77, 86, 54, 72, 57, 35, 62, 79, 71, 34, 85, 71, 104, 52, 80, 62, 92, 83, 60, 77, 83, 76, 45, 82, 77, 96, 24, 43, 58, 30, 86, 59, 59, 28, 73, 71, 78, 77, 60, 87, 55, 45, 87, 91, 23, 77, 60, 63, 74, 45, 90, 77, 100, 89, 72, 41, 63, 45, 84, 100, 21, 76, 85, 56, 147, 88, 95, 77, 75, 87, 62, 74, 50, 42, 51, 113, 59, 96, 41, 63, 34, 35, 70, 84, 90, 70, 77, 93, 49, 65, 65, 85, 59, 85, 26, 13, 110, 93, 80, 70, 96, 107, 63, 29, 86, 81, 75, 63, 98, 20, 34, 103, 75, 40, 38, 73, 68, 65, 98, 72, 112, 103, 53, 90, 28, 30, 66, 60, 91, 74, 81, 82, 84, 88, 81, 83, 53, 89, 67, 48, 73, 19, 77, 69, 90, 70, 84, 61, 105, 49, 65, 40, 48, 73, 90, 55, 82, 48, 82, 49, 84, 84, 84, 139, 59, 97, 99, 78, 37, 32, 91, 93, 49, 29, 57, 60, 54, 62, 70, 61, 52, 79, 79, 74, 73, 58, 91, 41, 98, 59, 97, 96, 45, 85, 52, 185, 55, 87, 87, 86, 39, 93, 90, 66, 80, 86, 76, 106, 45, 67, 126, 58, 79, 71, 62, 89, 74, 82, 83, 74, 70, 73, 162, 81, 96, 24, 86, 90, 76, 131, 72, 84, 108, 82, 72, 61, 53, 65, 46, 73, 96, 76, 86, 58, 62, 102, 85, 87, 103, 77, 78, 90, 91, 69, 72, 84, 85, 65, 126, 91, 94, 82, 82, 69, 82, 63, 81, 97, 53, 74, 89, 96, 87, 83, 65, 77, 26, 74, 73, 64, 76, 68, 79, 100, 68, 73, 85, 66, 39, 51, 105, 76, 90, 42, 93, 59, 75, 88, 37, 104, 90, 58, 88, 50, 73, 106, 56, 96, 65, 84, 63, 89, 77, 91, 71, 62, 61, 97, 49, 80, 49, 79, 98, 58, 82, 78, 85, 47, 88, 100, 106, 76, 86, 105, 91, 65, 82, 45, 63, 104, 35, 84, 59, 90, 84, 67, 76, 80, 88, 58, 73, 73, 63, 58, 82, 99, 64, 72, 90, 107, 54, 43, 87, 84, 77, 71, 110, 84, 116, 67, 64, 94, 85, 47, 69, 81, 61, 24, 47, 71, 102, 93, 79, 73, 96, 106, 86, 95, 81, 92, 89, 60, 88, 91, 59, 48, 61, 70, 82, 106, 93, 105, 121, 70, 80, 98, 54, 80, 92, 84, 72, 160, 41, 87, 11, 35, 74, 63, 58, 98, 80, 73, 44, 88, 89, 56, 67, 21, 80, 59, 63, 76, 52, 76, 42, 74, 92, 78, 42, 27, 84, 73, 82, 88, 63, 87, 89, 81, 72, 78, 82, 79, 84, 96, 60, 82, 60, 68, 56, 75, 71, 40, 48, 81, 63, 48, 61, 84, 108, 81, 99, 129, 57, 83, 79, 102, 62, 102, 64, 87, 101, 40, 72, 61, 59, 74, 66, 95, 54, 41, 63, 37, 54, 79, 65, 97, 88, 59, 111, 61, 68, 69, 75, 91, 108, 57, 47, 88, 36, 76, 84, 67, 87, 45, 34, 54, 51, 111, 71, 85, 32, 78, 60, 127, 77, 90, 69, 83, 85, 78, 74, 70, 29, 73, 86, 98, 95, 36, 29, 96, 83, 71, 53, 71, 83, 43, 62, 62, 64, 87, 75, 64, 116, 37, 91, 72, 94, 54, 82, 43, 84, 76, 87, 58, 72, 118, 90, 56, 90, 61, 103, 83, 72, 91, 61, 71, 88, 111, 94, 90, 95, 58, 121, 112, 72, 75, 70, 76, 99, 65, 80, 71, 55, 92, 64, 20, 82, 37, 59, 69, 42, 90, 70, 74, 51, 83, 38, 87, 107, 103, 92, 49, 106, 68, 63, 71, 57, 72, 80, 81, 74, 75, 74, 58, 87, 76, 100, 36, 79, 44, 84, 98, 77, 100, 62, 41, 90, 98, 76, 108, 96, 94, 79, 47, 70, 70, 80, 78, 68, 94, 80, 57, 46, 64, 57, 153, 73, 54, 74, 56, 49, 44, 76, 71, 112, 49, 65, 67, 47, 88, 66, 77, 66, 79, 31, 57, 71, 80, 83, 113, 108, 49, 62, 61, 97, 52, 55, 74, 67, 48, 77, 92, 111, 83, 83, 70, 63, 32, 82, 98, 91, 100, 89, 59, 79, 109, 25, 68, 37, 34, 65, 93, 102, 63, 94, 70, 93, 52, 66, 63, 46, 42, 84, 79, 81, 64, 85, 77, 88, 45, 88, 85, 78, 22, 63, 65, 70, 81, 78, 82, 75, 147, 74, 88, 79, 34, 95, 53, 78, 62, 48, 108, 89, 68, 82, 62, 43, 50, 78, 95, 76, 60, 70, 91, 82, 78, 81, 101, 88, 70, 65, 79, 98, 120, 68, 69, 116, 71, 86, 88, 90, 40, 49, 64, 80, 82, 104, 88, 74, 36, 76, 70, 56, 83, 70, 98, 100, 75, 65, 60, 76, 68, 84, 68, 83, 57, 64, 93, 81, 72, 76, 66, 91, 64, 55, 92, 40, 36, 72, 20, 85, 51, 38, 104, 56, 92, 62, 68, 67, 45, 102, 93, 75, 84, 54, 106, 98, 77, 77, 90, 61, 70, 84, 88, 87, 24, 59, 92, 91, 67, 84, 48, 86, 57, 115, 79, 76, 87, 88, 137, 86, 103, 114, 89, 125, 55, 69, 88, 67, 125, 55, 87, 57, 94, 82, 71, 106, 118, 76, 76, 77, 95, 66, 58, 82, 79, 72, 116, 103, 60, 64, 94, 94, 86, 92, 101, 68, 53, 127, 55, 35, 60, 74, 111, 41, 67, 64, 102, 77, 88, 70, 63, 64, 76, 37, 40, 63, 78, 90, 83, 37, 54, 81, 71, 94, 84, 55, 93, 92, 130, 93, 82, 90, 31, 101, 80, 77, 53, 80, 84, 45, 94, 78, 46, 65, 87, 92, 92, 93, 81, 78, 88, 81, 74, 64, 54, 90, 84, 69, 71, 84, 143, 60, 80, 79, 65, 77, 80, 84, 71, 79, 85, 79, 71, 81, 78, 58, 87, 93, 94, 70, 73, 89, 90, 93, 75, 82, 64, 72, 91, 83, 78, 63, 89, 88, 66, 59, 72, 87, 98, 106, 43, 99, 61, 77, 71, 76, 79, 66, 218, 44, 89, 70, 64, 49, 80, 84, 54, 77, 86, 57, 54, 141, 47, 70, 66, 64, 96, 95, 16, 95, 54, 78, 52, 52, 28, 45, 83, 42, 83, 71, 21, 47, 58, 18, 48, 92, 112, 89, 80, 60, 50, 86, 70, 97, 87, 41, 76, 43, 98, 72, 63, 88, 90, 92, 68, 74, 84, 71, 10, 86, 81, 90, 38, 86, 75, 45, 49, 77, 53, 80, 118, 35, 61, 47, 61, 84, 37, 29, 55, 100, 121, 64, 78, 66, 94, 25, 46, 82, 60, 76, 82, 66, 50, 86, 102, 60, 81, 63, 82, 68, 21, 68, 54, 48, 37, 113, 70, 61, 40, 84, 81, 48, 77, 114, 82, 53, 86, 70, 36, 91, 69, 71, 73, 86, 90, 84, 63, 82, 56, 71, 86, 39, 44, 85, 63, 24, 49, 74, 66, 71, 79, 66, 76, 58, 119, 50, 62, 83, 34, 80, 67, 94, 38, 91, 55, 73, 85, 88, 69, 59, 84, 58, 88, 115, 91, 62, 64, 82, 52, 84, 76, 74, 81, 50, 59, 63, 84, 69, 118, 99, 83, 81, 70, 71, 70, 74, 85, 46, 93, 13, 88, 89, 71, 85, 70, 83, 83, 86, 62, 70, 109, 103, 103, 102, 67, 59, 96, 16, 73, 50, 67, 75, 59, 70, 123, 85, 82, 96, 64, 42, 80, 101, 32, 88, 82, 62, 45, 87, 71, 81, 96, 162, 64, 102, 100, 36, 68, 62, 104, 56, 84, 59, 247, 63, 82, 39, 72, 66, 119, 44, 98, 95, 60, 67, 41, 78, 88, 83, 68, 78, 65, 49, 92, 68, 93, 84, 93, 89, 38, 81, 93, 79, 88, 54, 60, 26, 59, 89, 18, 128, 65, 52, 89, 80, 133, 64, 77, 64, 65, 32, 83, 71, 88, 85, 65, 80, 86, 43, 67, 80, 66, 55, 71, 73, 52, 78, 81, 73, 36, 82, 75, 56, 99, 59, 86, 102, 48, 86, 49, 73, 88, 67, 78, 129, 106, 69, 68, 89, 49, 59, 77, 42, 73, 54, 91, 93, 39, 110, 66, 55, 63, 83, 61, 92, 83, 63, 74, 99, 59, 63, 75, 62, 93, 17, 92, 139, 80, 99, 110, 64, 92, 97, 60, 91, 97, 42, 25, 52, 85, 91, 93, 57, 40, 95, 64, 56, 81, 80, 64, 55, 51, 86, 102, 47, 94, 75, 62, 89, 77, 88, 33, 77, 70, 85, 90, 88, 91, 56, 68, 93, 90, 42, 66, 89, 81, 85, 86, 66, 79, 75, 96, 29, 64, 89, 48, 42, 49, 84, 85, 74, 71, 87, 63, 83, 92, 87, 104, 71, 122, 83, 34, 32, 89, 62, 84, 84, 43, 51, 65, 58, 66, 80, 86, 95, 109, 74, 87, 84, 66, 107, 86, 85, 68, 105, 87, 94, 66, 98, 98, 70, 85, 27, 46, 73, 65, 25, 80, 81, 84, 33, 72, 76, 83, 64, 89, 88, 75, 90, 83, 69, 88, 69, 50, 94, 83, 74, 90, 69, 74, 83, 73, 45, 84, 94, 69, 86, 115, 90, 67, 47, 98, 63, 104, 94, 80, 81, 118, 85, 101, 54, 73, 90, 80, 110, 55, 78, 63, 71, 72, 92, 108, 73, 49, 67, 90, 86, 92, 35, 90, 52, 78, 53, 85, 45, 78, 89, 77, 101, 66, 80, 86, 76, 73, 71, 90, 88, 53, 40, 59, 80, 62, 83, 91, 109, 78, 11, 71, 86, 74, 92, 81, 61, 54, 70, 87, 83, 81, 76, 58, 45, 85, 65, 69, 96, 82, 51, 79, 78, 71, 91, 104, 55, 73, 72, 89, 70, 88, 75, 77, 42, 70, 52, 61, 80, 57, 68, 92, 71, 50, 65, 94, 57, 51, 78, 55, 88, 85, 77, 60, 75, 64, 91, 43, 43, 83, 87, 81, 60, 59, 98, 77, 79, 35, 56, 109, 86, 61, 58, 30, 141, 95, 16, 86, 55, 94, 121, 70, 77, 139, 55, 64, 93, 61, 69, 83, 90, 95, 53, 77, 82, 89, 123, 52, 87, 84, 83, 73, 90, 59, 70, 55, 72, 33, 54, 76, 95, 82, 35, 84, 49, 74, 68, 73, 75, 63, 48, 76, 78, 73, 81, 79, 33, 83, 83, 44, 55, 77, 109, 70, 73, 68, 75, 99, 58, 59, 94, 73, 114, 85, 33, 66, 84, 85, 49, 81, 74, 59, 100, 65, 48, 60, 66, 81, 76, 96, 95, 82, 76, 84, 91, 77, 66, 82, 73, 59, 105, 79, 75, 85, 78, 73, 81, 82, 67, 66, 88, 82, 91, 82, 94, 65, 92, 46, 98, 79, 57, 63, 82, 70, 99, 82, 93, 91, 57, 47, 23, 39, 102, 76, 89, 60, 75, 41, 60, 60, 14, 89, 53, 84, 80, 77, 99, 64, 69, 29, 68, 91, 194, 63, 26, 95, 83, 93, 119, 70, 80, 53, 56, 53, 96, 71, 90, 85, 101, 33, 82, 56, 70, 56, 74, 88, 53, 52, 111, 85, 100, 101, 60, 68, 31, 64, 64, 80, 60, 89, 86, 62, 80, 67, 86, 78, 84, 56, 78, 53, 106, 64, 71, 46, 87, 97, 120, 86, 93, 87, 72, 104, 116, 80, 83, 37, 84, 99, 58, 135, 89, 57, 69, 74, 85, 86, 53, 27, 56, 61, 82, 87, 79, 76, 65, 76, 68, 95, 90, 50, 77, 74, 43, 64, 96, 24, 57, 83, 123, 82, 94, 94, 73, 101, 90, 58, 90, 91, 111, 87, 80, 144, 70, 47, 67, 55, 24, 104, 78, 72, 55, 26, 77, 73, 35, 83, 118, 70, 88, 139, 72, 74, 90, 85, 107, 110, 51, 57, 76, 63, 85, 88, 44, 83, 82, 70, 106, 83, 67, 56, 76, 84, 49, 67, 74, 78, 64, 45, 34, 67, 86, 23, 79, 72, 49, 84, 26, 79, 14, 85, 80, 77, 88, 72, 37, 96, 55, 41, 48, 71, 50, 28, 94, 82, 53, 63, 74, 67, 48, 60, 86, 71, 84, 71, 57, 95, 88, 61, 74, 99, 59, 61, 90, 61, 106, 68, 85, 83, 78, 46, 65, 18, 66, 90, 56, 21, 29, 84, 54, 94, 89, 70, 57, 85, 115, 92, 72, 87, 94, 58, 68, 58, 88, 96, 215, 85, 79, 53, 72, 42, 79, 88, 93, 131, 82, 92, 81, 106, 92, 96, 83, 75, 75, 74, 64, 71, 95, 39, 29, 65, 69, 57, 82, 95, 85, 79, 69, 53, 68, 70, 64, 90, 80, 68, 57, 82, 80, 57, 54, 65, 71, 69, 88, 31, 84, 62, 139, 106, 70, 78, 65, 93, 63, 100, 61, 83, 102, 87, 81, 81, 82, 95, 76, 71, 97, 87, 117, 69, 78, 64, 86, 53, 114, 63, 33, 69, 86, 40, 85, 79, 84, 90, 77, 95, 90, 83, 50, 97, 101, 71, 82, 75, 60, 29, 46, 73, 151, 94, 92, 80, 149, 37, 15, 106, 77, 95, 21, 77, 97, 75, 47, 82, 43, 84, 75, 44, 51, 73, 68, 36, 88, 38, 94, 67, 55, 78, 53, 67, 87, 60, 81, 60, 89, 71, 72, 71, 67, 86, 54, 88, 49, 47, 119, 45, 79, 25, 70, 72, 54, 81, 91, 48, 56, 57, 70, 111, 92, 41, 69, 76, 49, 96, 101, 56, 94, 113, 92, 90, 88, 74, 62, 49, 135, 43, 64, 93, 65, 58, 80, 59, 61, 65, 79, 76, 76, 90, 52, 76, 104, 89, 40, 98, 92, 116, 79, 59, 61, 93, 76, 81, 46, 86, 86, 74, 95, 64, 86, 92, 86, 52, 85, 80, 85, 24, 35, 52, 94, 81, 110, 80, 95, 24, 96, 23, 71, 103, 91, 81, 83, 75, 72, 47, 70, 41, 60, 72, 96, 86, 89, 98, 89, 77, 58, 106, 129, 53, 82, 67, 95, 14, 101, 88, 68, 75, 74, 93, 56, 87, 94, 92, 93, 94, 86, 77, 72, 103, 98, 29, 84, 64, 43, 63, 73, 81, 101, 18, 86, 46, 66, 94, 87, 83, 60, 87, 73, 69, 66, 79, 101, 53, 71, 83, 108, 24, 35, 85, 73, 83, 68, 85, 68, 80, 99, 74, 100, 76, 87, 64, 120, 74, 85, 78, 77, 84, 77, 85, 88, 85, 84, 70, 74, 81, 80, 81, 72, 82, 65, 85, 61, 88, 72, 41, 66, 42, 84, 66, 90, 48, 86, 57, 81, 66, 78, 80, 86, 75, 35, 95, 43, 69, 60, 48, 120, 72, 73, 83, 82, 95, 74, 79, 46, 77, 82, 59, 90, 90, 51, 15, 92, 38, 54, 83, 83, 49, 63, 88, 83, 73, 91, 101, 67, 71, 52, 134, 86, 82, 82, 68, 66, 80, 75, 75, 39, 61, 85, 90, 81, 127, 72, 83, 62, 55, 73, 71, 89, 62, 59, 109, 91, 92, 81, 90, 41, 82, 77, 84, 106, 81, 92, 100, 77, 75, 57, 74, 90, 80, 60, 83, 100, 90, 89, 58, 101, 57, 91, 81, 75, 83, 88, 70, 83, 91, 74, 125, 110, 65, 73, 91, 81, 70, 41, 51, 78, 73, 68, 52, 76, 95, 69, 74, 39, 70, 99, 49, 97, 94, 11, 73, 105, 50, 98, 75, 88, 79, 70, 74, 43, 67, 92, 80, 64, 96, 89, 82, 95, 71, 77, 62, 37, 75, 91, 62, 39, 58, 122, 89, 111, 42, 145, 92, 60, 89, 71, 53, 96, 203, 72, 92, 51, 67, 78, 64, 86, 73, 74, 50, 75, 52, 52, 50, 41, 73, 84, 77, 46, 86, 40, 60, 61, 53, 86, 64, 93, 97, 58, 141, 76, 91, 64, 111, 84, 60, 65, 84, 77, 96, 88, 88, 64, 80, 86, 18, 45, 71, 51, 84, 81, 82, 67, 30, 71, 42, 75, 53, 76, 70, 23, 43, 75, 86, 78, 70, 92, 81, 81, 87, 84, 81, 56, 29, 79, 86, 109, 68, 81, 87, 96, 94, 60, 91, 73, 57, 43, 68, 34, 94, 81, 201, 80, 66, 89, 111, 66, 75, 74, 81, 35, 201, 52, 119, 87, 73, 73, 104, 88, 89, 104, 61, 48, 59, 70, 93, 65, 79, 23, 57, 66, 87, 62, 76, 43, 64, 49, 71, 49, 9, 44, 49, 94, 85, 56, 83, 97, 83, 69, 64, 33, 55, 34, 100, 83, 53, 82, 46, 50, 105, 52, 45, 48, 66, 36, 77, 64, 57, 68, 80, 24, 45, 81, 76, 76, 93, 65, 92, 55, 57, 77, 84, 51, 80, 106, 33, 42, 63, 75, 50, 68, 70, 67, 52, 56, 95, 88, 76, 73, 84, 81, 64, 70, 58, 39, 95, 52, 77, 61, 83, 60, 78, 37, 51, 61, 84, 71, 107, 89, 90, 63, 40, 17, 158, 91, 47, 72, 121, 66, 56, 23, 93, 68, 78, 56, 47, 76, 86, 82, 102, 84, 71, 81, 100, 120, 80, 65, 78, 41, 92, 83, 78, 116, 70, 74, 72, 105, 50, 74, 48, 99, 77, 56, 62, 87, 75, 62, 95, 83, 74, 93, 65, 63, 82, 78, 44, 69, 34, 98, 55, 76, 93, 121, 59, 130, 81, 29, 89, 100, 61, 59, 85, 33, 42, 75, 87, 62, 96, 60, 72, 33, 59, 95, 102, 95, 91, 71, 83, 65, 64, 100, 84, 43, 79, 59, 84, 50, 101, 65, 87, 79, 69, 37, 71, 79, 92, 80, 70, 31, 46, 84, 49, 81, 37, 61, 95, 65, 80, 94, 58, 96, 65, 82, 99, 76, 59, 59, 42, 102, 70, 86, 83, 91, 96, 87, 70, 72, 92, 87, 76, 28, 86, 54, 56, 48, 44, 66, 81, 89, 112, 73, 95, 85, 94, 76, 85, 127, 92, 70, 48, 75, 90, 78, 55, 87, 104, 41, 93, 53, 51, 73, 85, 109, 84, 25, 87, 63, 68, 98, 60, 60, 73, 41, 35, 76, 66, 70, 58, 90, 80, 102, 89, 105, 103, 73, 113, 98, 60, 57, 76, 111, 120, 81, 95, 60, 55, 46, 91, 76, 92, 72, 66, 78, 53, 91, 94, 54, 83, 89, 45, 54, 71, 134, 94, 69, 67, 96, 31, 72, 47, 90, 80, 79, 82, 58, 95, 90, 69, 66, 65, 77, 50, 90, 94, 71, 26, 89, 47, 60, 85, 70, 71, 65, 80, 57, 82, 82, 82, 42, 37, 90, 35, 104, 97, 88, 87, 109, 63, 131, 57, 51, 80, 50, 115, 96, 86, 65, 55, 71, 59, 98, 75, 68, 72, 177, 55, 73, 44, 63, 97, 78, 101, 24, 73, 74, 32, 70, 141, 66, 23, 81, 58, 57, 74, 78, 72, 54, 80, 66, 87, 28, 73, 37, 66, 86, 71, 109, 81, 82, 73, 60, 78, 114, 89, 119, 87, 85, 92, 69, 74, 86, 69, 81, 64, 75, 67, 50, 73, 78, 67, 57, 42, 82, 84, 84, 70, 55, 107, 33, 97, 65, 81, 44, 88, 24, 42, 106, 41, 62, 56, 71, 68, 72, 118, 118, 95, 95, 84, 121, 56, 54, 45, 100, 73, 63, 67, 52, 75, 91, 34, 98, 86, 94, 73, 78, 41, 71, 103, 122, 73, 81, 89, 59, 84, 114, 100, 100, 59, 57, 63, 103, 89, 25, 68, 64, 98, 105, 98, 80, 93, 72, 83, 46, 80, 134, 62, 89, 65, 85, 69, 77, 131, 223, 42, 91, 86, 101, 56, 42, 56, 61, 62, 70, 48, 85, 84, 64, 78, 100, 102, 38, 85, 77, 66, 64, 66, 83, 70, 127, 98, 83, 49, 61, 64, 69, 57, 17, 57, 99, 86, 55, 82, 73, 68, 82, 61, 47, 91, 67, 47, 86, 73, 89, 86, 71, 70, 70, 52, 81, 47, 62, 75, 67, 95, 72, 80, 95, 98, 120, 81, 27, 42, 56, 76, 94, 76, 56, 13, 35, 44, 90, 35, 70, 66, 53, 99, 95, 30, 55, 124, 57, 69, 55, 53, 78, 104, 63, 83, 54, 100, 87, 63, 99, 74, 59, 21, 77, 109, 66, 90, 62, 83, 34, 66, 93, 67, 68, 50, 68, 92, 78, 52, 55, 79, 64, 80, 54, 51, 73, 33, 100, 91, 76, 64, 46, 63, 112, 40, 106, 91, 81, 67, 66, 54, 68, 66, 65, 93, 88, 127, 72, 90, 76, 42, 102, 58, 76, 65, 91, 36, 63, 51, 99, 80, 80, 58, 64, 88, 86, 79, 84, 76, 72, 68, 91, 94, 81, 57, 78, 133, 88, 78, 79, 80, 108, 75, 43, 54, 103, 85, 87, 74, 65, 65, 84, 84, 48, 62, 102, 62, 49, 40, 75, 69, 100, 84, 77, 67, 65, 63, 96, 52, 92, 85, 58, 95, 43, 65, 11, 42, 83, 69, 96, 89, 59, 94, 61, 81, 93, 69, 95, 98, 63, 42, 58, 58, 84, 98, 83, 76, 106, 67, 33, 35, 81, 86, 117, 88, 55, 44, 80, 75, 97, 67, 84, 57, 83, 103, 65, 59, 66, 82, 71, 124, 68, 45, 85, 61, 83, 90, 94, 76, 55, 92, 82, 80, 112, 85, 48, 111, 64, 59, 80, 106, 95, 59, 45, 92, 86, 75, 96, 92, 69, 95, 66, 38, 53, 87, 52, 33, 114, 100, 79, 38, 59, 64, 75, 68, 33, 80, 72, 92, 75, 113, 95, 92, 44, 83, 14, 51, 106, 97, 63, 55, 115, 87, 74, 76, 78, 86, 98, 71, 74, 87, 60, 39, 33, 94, 81, 56, 20, 56, 65, 95, 52, 100, 71, 76, 58, 63, 81, 41, 91, 84, 73, 60, 66, 78, 79, 42, 66, 93, 92, 85, 92, 64, 71, 57, 47, 90, 82, 70, 88, 101, 85, 88, 79, 75, 85, 77, 72, 93, 81, 76, 103, 55, 80, 92, 48, 76, 72, 83, 35, 62, 82, 85, 67, 47, 89, 95, 84, 61, 78, 59, 112, 69, 75, 81, 44, 71, 48, 70, 68, 117, 76, 57, 91, 78, 92, 75, 39, 75, 9, 72, 99, 86, 77, 83, 97, 70, 50, 115, 87, 61, 35, 62, 92, 40, 90, 89, 81, 64, 50, 70, 134, 75, 74, 55, 37, 102, 75, 64, 65, 94, 106, 68, 74, 74, 69, 76, 82, 81, 82, 77, 48, 91, 84, 83, 60, 94, 79, 56, 94, 69, 79, 47, 78, 80, 73, 70, 75, 91, 102, 73, 72, 25, 61, 62, 81, 73, 56, 128, 73, 69, 86, 223, 64, 70, 115, 55, 92, 76, 94, 38, 71, 71, 52, 83, 63, 73, 38, 85, 89, 121, 93, 76, 77, 61, 98, 80, 22, 75, 74, 88, 37, 72, 106, 76, 88, 59, 76, 77, 93, 52, 77, 72, 127, 48, 42, 97, 72, 86, 65, 95, 106, 122, 55, 87, 78, 51, 82, 59, 81, 70, 81, 84, 87, 72, 40, 71, 88, 88, 79, 73, 47, 67, 77, 86, 76, 90, 41, 48, 66, 63, 84, 120, 54, 93, 79, 85, 47, 66, 92, 84, 100, 84, 70, 85, 51, 95, 75, 80, 63, 77, 59, 72, 44, 74, 84, 78, 53, 62, 91, 52, 62, 97, 63, 55, 105, 72, 111, 54, 58, 85, 76, 58, 59, 35, 84, 59, 98, 94, 75, 81, 24, 86, 78, 82, 80, 89, 116, 67, 81, 73, 63, 74, 63, 82, 97, 86, 59, 99, 64, 79, 88, 82, 78, 85, 43, 101, 59, 115, 97, 47, 79, 70, 73, 79, 87, 95, 73, 87, 41, 67, 52, 87, 98, 59, 70, 113, 61, 89, 62, 64, 59, 68, 90, 115, 62, 95, 60, 92, 106, 80, 88, 65, 66, 74, 85, 66, 92, 23, 77, 43, 61, 98, 45, 58, 85, 65, 53, 74, 58, 88, 97, 63, 55, 35, 67, 80, 67, 40, 50, 42, 60, 84, 69, 20, 86, 47, 79, 99, 33, 108, 61, 88, 62, 128, 132, 75, 62, 89, 75, 55, 90, 67, 81, 75, 87, 130, 48, 57, 63, 75, 72, 80, 60, 70, 67, 78, 50, 63, 53, 91, 84, 63, 86, 98, 62, 53, 73, 47, 75, 60, 110, 60, 60, 75, 65, 59, 60, 125, 56, 75, 80, 43, 56, 112, 53, 42, 106, 63, 51, 84, 85, 80, 89, 103, 72, 64, 94, 36, 54, 55, 71, 90, 72, 68, 83, 46, 44, 49, 87, 41, 126, 70, 57, 38, 86, 107, 82, 66, 70, 48, 80, 83, 84, 111, 94, 86, 89, 97, 74, 91, 66, 54, 86, 89, 57, 67, 70, 76, 52, 102, 85, 84, 78, 83, 62, 52, 77, 69, 53, 70, 170, 72, 51, 65, 46, 86, 61, 92, 84, 45, 109, 98, 81, 45, 68, 81, 91, 52, 64, 101, 82, 103, 64, 85, 71, 55, 73, 65, 79, 81, 93, 113, 94, 80, 87, 56, 71, 117, 45, 71, 50, 79, 55, 69, 47, 72, 92, 86, 106, 96, 93, 96, 77, 37, 86, 93, 54, 97, 95, 74, 61, 51, 67, 158, 46, 90, 85, 115, 82, 48, 70, 91, 82, 109, 80, 56, 85, 75, 57, 86, 136, 54, 77, 70, 81, 91, 38, 53, 51, 19, 45, 60, 87, 79, 92, 97, 38, 85, 82, 83, 67, 121, 57, 100, 43, 99, 50, 81, 65, 72, 92, 63, 79, 125, 81, 75, 37, 52, 67, 101, 79, 98, 81, 63, 103, 109, 47, 65, 96, 49, 71, 45, 57, 93, 82, 57, 88, 54, 126, 115, 86, 104, 97, 85, 87, 84, 63, 59, 70, 123, 75, 63, 75, 88, 90, 70, 96, 75, 54, 89, 82, 90, 77, 65, 41, 97, 34, 97, 79, 62, 63, 128, 75, 63, 46, 79, 90, 73, 84, 80, 59, 93, 69, 105, 82, 91, 82, 80, 24, 50, 66, 91, 61, 79, 98, 84, 54, 99, 50, 52, 65, 77, 53, 80, 95, 90, 72, 74, 65, 102, 70, 78, 60, 57, 84, 61, 96, 105, 79, 71, 128, 93, 72, 113, 95, 74, 17, 70, 56, 84, 44, 85, 92, 50, 68, 88, 70, 68, 90, 74, 79, 80, 57, 65, 73, 132, 88, 97, 69, 81, 86, 73, 45, 77, 84, 77, 44, 20, 53, 126, 58, 74, 82, 84, 60, 46, 58, 36, 72, 83, 88, 89, 95, 53, 136, 82, 70, 54, 57, 77, 46, 41, 95, 102, 84, 71, 62, 115, 33, 78, 72, 61, 52, 32, 74, 129, 55, 39, 89, 83, 54, 61, 76, 97, 64, 65, 94, 76, 88, 85, 33, 73, 58, 94, 94, 78, 59, 93, 75, 52, 56, 79, 46, 71, 94, 81, 71, 78, 90, 95, 58, 86, 65, 96, 90, 18, 47, 72, 86, 60, 61, 99, 74, 58, 76, 68, 102, 78, 62, 85, 85, 48, 95, 113, 60, 61, 87, 79, 78, 46, 78, 48, 79, 44, 88, 79, 126, 108, 57, 75, 68, 81, 55, 95, 68, 83, 52, 44, 92, 57, 68, 100, 87, 52, 38, 84, 75, 95, 91, 78, 104, 98, 56, 92, 61, 69, 51, 17, 39, 102, 87, 87, 81, 46, 57, 62, 41, 81, 47, 98, 81, 107, 78, 102, 71, 82, 83, 86, 78, 74, 48, 105, 65, 91, 94, 92, 58, 72, 78, 30, 82, 85, 71, 81, 93, 73, 98, 82, 205, 83, 42, 77, 25, 82, 89, 59, 82, 75, 56, 80, 89, 93, 78, 98, 57, 128, 94, 86, 77, 120, 83, 79, 96, 87, 75, 81, 8, 118, 70, 52, 73, 88, 63, 85, 20, 98, 98, 47, 111, 68, 79, 93, 54, 81, 83, 76, 65, 100, 52, 80, 83, 74, 97, 80, 93, 54, 74, 48, 38, 185, 151, 63, 73, 89, 79, 90, 85, 80, 60, 77, 82, 93, 80, 58, 52, 74, 98, 77, 81, 90, 97, 56, 42, 90, 62, 91, 88, 83, 124, 42, 89, 75, 75, 88, 66, 57, 80, 80, 75, 85, 47, 59, 79, 72, 98, 24, 69, 77, 82, 53, 66, 33, 80, 52, 50, 108, 89, 85, 47, 80, 53, 39, 78, 97, 62, 86, 78, 81, 111, 40, 56, 78, 86, 56, 114, 52, 88, 51, 84, 100, 53, 56, 45, 49, 15, 58, 46, 56, 91, 51, 73, 27, 49, 59, 41, 76, 71, 93, 61, 76, 48, 74, 53, 80, 65, 89, 62, 128, 37, 94, 57, 49, 86, 92, 114, 117, 53, 45, 118, 38, 78, 30, 82, 84, 74, 61, 44, 84, 77, 51, 67, 83, 81, 72, 85, 62, 46, 74, 72, 65, 81, 87, 49, 91, 62, 79, 61, 85, 84, 89, 75, 69, 80, 91, 36, 42, 87, 56, 86, 36, 57, 52, 36, 75, 59, 67, 65, 39, 74, 91, 85, 79, 51, 70, 59, 85, 79, 74, 93, 77, 99, 78, 89, 87, 38, 86, 58, 91, 57, 71, 48, 56, 85, 39, 75, 66, 81, 60, 86, 77, 73, 87, 27, 72, 19, 138, 42, 91, 65, 90, 63, 63, 46, 77, 101, 56, 88, 46, 50, 96, 81, 49, 67, 96, 32, 88, 70, 93, 71, 62, 63, 95, 83, 52, 78, 52, 38, 108, 86, 95, 81, 66, 57, 63, 18, 86, 71, 102, 146, 82, 80, 100, 74, 92, 49, 84, 68, 96, 78, 67, 94, 82, 59, 76, 49, 87, 39, 91, 96, 93, 80, 87, 85, 64, 66, 90, 26, 47, 73, 85, 57, 65, 59, 35, 96, 56, 74, 81, 94, 75, 82, 96, 86, 86, 75, 44, 33, 69, 92, 77, 185, 106, 107, 77, 87, 92, 83, 29, 92, 54, 66, 39, 72, 99, 61, 82, 68, 80, 93, 88, 92, 82, 63, 68, 72, 49, 38, 56, 31, 82, 79, 52, 80, 76, 82, 79, 76, 84, 89, 62, 81, 85, 35, 97, 90, 127, 40, 92, 88, 64, 88, 59, 81, 78, 77, 51, 70, 64, 111, 71, 104, 28, 58, 71, 36, 78, 64, 92, 83, 51, 75, 112, 48, 97, 62, 84, 67, 77, 85, 81, 48, 86, 84, 64, 84, 65, 63, 84, 56, 77, 66, 100, 94, 78, 116, 77, 65, 58, 54, 75, 93, 114, 71, 82, 81, 72, 52, 73, 62, 117, 32, 108, 55, 91, 59, 78, 75, 62, 63, 58, 104, 72, 58, 70, 59, 87, 52, 125, 90, 100, 69, 48, 62, 22, 73, 68, 101, 94, 80, 90, 66, 68, 102, 65, 100, 108, 77, 80, 89, 83, 51, 73, 116, 60, 49, 70, 82, 65, 93, 77, 82, 84, 47, 98, 67, 96, 95, 43, 98, 80, 104, 68, 90, 127, 59, 60, 70, 51, 49, 76, 79, 89, 104, 59, 36, 43, 54, 92, 71, 70, 94, 56, 88, 82, 34, 88, 81, 70, 90, 36, 83, 40, 76, 108, 71, 77, 100, 79, 94, 60, 104, 120, 55, 65, 68, 71, 86, 60, 98, 84, 45, 91, 82, 36, 68, 20, 72, 84, 91, 91, 92, 89, 70, 48, 64, 79, 73, 83, 65, 54, 81, 93, 54, 64, 46, 79, 90, 73, 43, 81, 64, 99, 87, 59, 68, 12, 53, 90, 84, 116, 64, 87, 35, 80, 91, 89, 77, 70, 105, 88, 90, 74, 61, 92, 69, 71, 80, 89, 77, 81, 68, 99, 106, 44, 93, 50, 82, 65, 84, 99, 80, 59, 72, 77, 34, 73, 81, 90, 44, 71, 51, 83, 84, 42, 82, 95, 96, 63, 68, 93, 60, 59, 71, 87, 82, 78, 95, 102, 56, 86, 51, 104, 67, 69, 79, 70, 52, 77, 102, 90, 28, 83, 53, 58, 71, 78, 79, 81, 23, 79, 88, 89, 84, 107, 75, 36, 83, 36, 99, 70, 65, 86, 92, 31, 47, 87, 92, 42, 89, 74, 87, 88, 66, 83, 48, 66, 88, 87, 85, 73, 84, 62, 93, 84, 78, 59, 71, 61, 31, 95, 52, 73, 65, 32, 85, 59, 97, 70, 92, 63, 74, 30, 89, 97, 85, 83, 62, 93, 92, 96, 38, 115, 53, 94, 78, 57, 76, 92, 72, 64, 76, 95, 62, 74, 44, 102, 42, 53, 30, 81, 71, 44, 74, 80, 91, 77, 90, 91, 76, 82, 60, 70, 89, 95, 61, 72, 87, 84, 82, 71, 49, 101, 56, 33, 76, 49, 68, 94, 85, 83, 84, 51, 76, 80, 51, 84, 125, 86, 100, 51, 88, 99, 21, 37, 97, 57, 102, 75, 73, 70, 73, 82, 81, 81, 76, 47, 65, 54, 74, 61, 92, 75, 82, 54, 64, 59, 24, 79, 42, 68, 84, 107, 92, 60, 53, 98, 91, 98, 52, 65, 91, 87, 91, 104, 44, 97, 80, 62, 58, 71, 73, 70, 83, 77, 86, 82, 85, 108, 63, 24, 170, 62, 56, 104, 92, 74, 213, 74, 88, 101, 82, 69, 76, 81, 81, 60, 100, 75, 95, 74, 50, 81, 56, 66, 11, 88, 48, 71, 34, 141, 33, 76, 104, 71, 44, 76, 89, 95, 68, 36, 86, 39, 94, 65, 94, 70, 55, 59, 73, 90, 98, 72, 78, 60, 84, 112, 78, 85, 62, 187, 81, 68, 93, 72, 100, 74, 86, 89, 49, 41, 70, 51, 84, 76, 69, 74, 69, 65, 78, 56, 90, 59, 85, 75, 60, 75, 62, 62, 122, 56, 66, 107, 90, 40, 64, 108, 82, 92, 40, 55, 75, 56, 91, 112, 43, 80, 47, 72, 90, 61, 87, 78, 64, 47, 125, 88, 75, 79, 66, 66, 61, 77, 57, 41, 75, 45, 74, 57, 75, 75, 64, 112, 81, 37, 65, 42, 83, 59, 94, 99, 75, 94, 49, 82, 76, 93, 69, 88, 58, 68, 44, 61, 64, 92, 68, 53, 54, 57, 81, 40, 74, 86, 54, 89, 114, 49, 95, 79, 72, 91, 59, 75, 86, 86, 77, 74, 84, 97, 99, 82, 62, 91, 67, 77, 32, 65, 68, 69, 61, 80, 96, 60, 24, 61, 75, 65, 72, 85, 81, 86, 41, 56, 101, 81, 69, 81, 69, 77, 83, 81, 72, 37, 85, 97, 66, 63, 80, 63, 81, 87, 91, 63, 62, 81, 89, 75, 79, 75, 68, 39, 90, 90, 43, 64, 69, 101, 91, 96, 73, 94, 80, 93, 95, 50, 63, 68, 60, 82, 70, 94, 71, 94, 40, 70, 76, 83, 58, 136, 97, 97, 78, 53, 72, 81, 88, 86, 79, 91, 63, 96, 103, 92, 96, 65, 81, 51, 90, 69, 72, 72, 83, 72, 98, 61, 48, 89, 76, 95, 81, 107, 95, 67, 140, 81, 75, 62, 116, 38, 97, 52, 85, 94, 68, 47, 105, 153, 84, 76, 115, 92, 79, 55, 73, 80, 88, 62, 82, 62, 85, 70, 88, 103, 51, 80, 55, 97, 46, 102, 69, 188, 79, 83, 88, 51, 59, 44, 105, 68, 64, 63, 54, 64, 79, 76, 71, 62, 88, 79, 84, 55, 36, 37, 81, 64, 82, 76, 78, 43, 85, 89, 64, 17, 74, 78, 48, 68, 89, 103, 74, 15, 81, 56, 59, 65, 43, 90, 19, 17, 64, 99, 54, 60, 16, 112, 61, 58, 78, 71, 24, 89, 71, 37, 94, 80, 72, 74, 80, 101, 56, 62, 84, 59, 44, 94, 51, 84, 59, 101, 79, 72, 47, 50, 79, 120, 70, 59, 43, 97, 66, 38, 93, 58, 34, 82, 83, 98, 82, 95, 76, 71, 96, 82, 82, 69, 64, 81, 54, 35, 88, 81, 29, 99, 102, 90, 62, 67, 76, 70, 70, 58, 153, 27, 95, 52, 69, 110, 45, 76, 48, 74, 91, 61, 79, 66, 64, 68, 71, 86, 67, 77, 84, 35, 59, 96, 65, 74, 54, 56, 88, 92, 49, 83, 47, 84, 27, 65, 68, 66, 102, 75, 93, 105, 38, 73, 82, 60, 53, 52, 85, 79, 97, 108, 229, 101, 105, 72, 88, 107, 78, 61, 55, 64, 68, 80, 85, 74, 62, 74, 101, 47, 76, 87, 71, 88, 99, 71, 43, 79, 93, 86, 61, 30, 69, 46, 16, 57, 68, 81, 100, 70, 26, 82, 61, 67, 85, 83, 94, 67, 44, 96, 78, 51, 81, 77, 79, 62, 77, 78, 49, 71, 79, 75, 69, 91, 87, 80, 69, 20, 18, 59, 74, 79, 97, 97, 91, 82, 78, 72, 88, 79, 76, 57, 39, 89, 51, 64, 76, 53, 72, 76, 90, 62, 30, 93, 39, 69, 97, 122, 70, 73, 84, 30, 72, 64, 84, 87, 71, 71, 87, 92, 74, 80, 99, 132, 102, 86, 54, 80, 103, 79, 93, 35, 62, 149, 74, 92, 47, 78, 93, 96, 53, 74, 80, 93, 82, 96, 88, 78, 50, 68, 86, 85, 109, 46, 62, 66, 69, 68, 95, 54, 82, 70, 80, 65, 79, 64, 121, 34, 99, 80, 82, 60, 54, 81, 69, 82, 108, 172, 88, 83, 69, 101, 95, 96, 69, 86, 102, 72, 71, 27, 99, 68, 93, 96, 56, 92, 104, 81, 55, 68, 55, 64, 87, 76, 14, 89, 38, 37, 91, 97, 72, 101, 46, 57, 85, 73, 82, 71, 81, 86, 61, 78, 78, 61, 76, 101, 81, 66, 87, 96, 66, 69, 80, 75, 90, 99, 72, 97, 46, 106, 51, 26, 76, 89, 49, 71, 51, 32, 93, 79, 106, 89, 72, 38, 77, 79, 80, 65, 71, 93, 76, 57, 85, 96, 66, 57, 63, 66, 101, 92, 89, 91, 98, 81, 79, 86, 79, 82, 103, 77, 77, 80, 98, 80, 62, 100, 71, 63, 59, 81, 51, 69, 35, 59, 78, 58, 73, 47, 37, 64, 98, 101, 67, 63, 85, 62, 97, 85, 74, 47, 94, 67, 60, 65, 97, 82, 100, 95, 63, 45, 22, 94, 73, 80, 54, 49, 89, 70, 89, 90, 96, 64, 104, 83, 76, 72, 61, 67, 48, 67, 67, 76, 51, 85, 65, 95, 73, 59, 87, 36, 56, 57, 69, 78, 86, 89, 84, 75, 83, 83, 52, 87, 91, 86, 80, 66, 82, 95, 92, 51, 77, 94, 107, 67, 73, 57, 55, 86, 65, 87, 86, 105, 58, 75, 71, 93, 74, 122, 87, 57, 46, 82, 62, 81, 63, 81, 90, 56, 54, 61, 92, 42, 76, 82, 89, 55, 73, 116, 38, 44, 101, 72, 86, 62, 83, 88, 81, 72, 76, 73, 57, 78, 107, 85, 91, 48, 94, 100, 61, 63, 41, 82, 71, 83, 68, 59, 65, 89, 111, 86, 80, 82, 28, 59, 74, 61, 68, 50, 64, 69, 48, 99, 13, 60, 68, 108, 99, 76, 96, 71, 72, 53, 87, 52, 52, 41, 83, 95, 83, 33, 95, 55, 36, 76, 109, 105, 91, 59, 113, 83, 92, 34, 80, 71, 84, 66, 86, 20, 69, 100, 90, 64, 102, 88, 70, 39, 73, 89, 105, 65, 105, 57, 100, 70, 76, 59, 58, 104, 70, 85, 44, 126, 67, 85, 76, 79, 63, 46, 97, 73, 61, 24, 55, 92, 71, 86, 63, 64, 76, 69, 128, 61, 26, 50, 98, 19, 98, 91, 88, 127, 91, 73, 36, 76, 58, 28, 40, 50, 60, 35, 87, 63, 91, 131, 77, 10, 79, 77, 45, 65, 59, 66, 13, 56, 55, 100, 63, 73, 106, 87, 72, 55, 56, 67, 63, 97, 108, 76, 25, 90, 53, 84, 90, 87, 46, 94, 43, 80, 71, 76, 27, 92, 53, 56, 76, 85, 58, 90, 88, 55, 96, 83, 63, 65, 98, 106, 70, 61, 70, 98, 67, 99, 104, 91, 74, 105, 91, 85, 88, 84, 89, 90, 85, 84, 69, 122, 72, 134, 94, 83, 66, 84, 75, 80, 81, 72, 21, 77, 67, 91, 81, 69, 54, 53, 65, 69, 113, 97, 72, 74, 74, 86, 89, 95, 100, 105, 45, 68, 66, 86, 53, 72, 67, 58, 98, 77, 24, 89, 75, 69, 92, 74, 80, 89, 83, 41, 54, 90, 70, 83, 61, 118, 33, 75, 78, 89, 78, 62, 11, 49, 47, 36, 51, 74, 73, 34, 99, 20, 79, 100, 84, 87, 48, 96, 81, 104, 82, 111, 66, 89, 91, 41, 87, 88, 85, 70, 16, 76, 73, 68, 106, 83, 91, 95, 59, 100, 75, 119, 81, 66, 63, 96, 46, 86, 63, 73, 79, 88, 42, 92, 79, 64, 81, 45, 57, 82, 66, 92, 82, 70, 79, 36, 52, 73, 54, 65, 53, 99, 64, 91, 86, 67, 30, 70, 45, 96, 57, 98, 67, 81, 40, 83, 134, 69, 86, 97, 85, 97, 93, 86, 101, 55, 82, 91, 78, 48, 71, 73, 54, 84, 95, 118, 63, 68, 64, 61, 56, 74, 68, 86, 86, 78, 47, 25, 43, 41, 81, 48, 82, 70, 102, 30, 90, 73, 45, 77, 85, 72, 66, 79, 97, 77, 62, 68, 30, 50, 69, 103, 72, 95, 93, 54, 79, 83, 101, 121, 89, 90, 78, 64, 70, 74, 75, 64, 60, 88, 67, 31, 73, 69, 66, 93, 72, 71, 62, 58, 68, 45, 75, 83, 100, 82, 60, 68, 46, 83, 109, 80, 42, 54, 87, 60, 105, 60, 64, 45, 114, 80, 72, 39, 106, 79, 90, 108, 59, 46, 64, 77, 73, 88, 75, 69, 59, 57, 78, 86, 124, 66, 70, 86, 78, 72, 95, 59, 81, 38, 133, 39, 91, 74, 80, 70, 106, 25, 76, 60, 60, 86, 47, 60, 79, 60, 80, 81, 48, 97, 76, 73, 85, 67, 83, 84, 62, 104, 85, 70, 80, 117, 72, 70, 79, 98, 75, 83, 90, 90, 58, 86, 91, 41, 26, 78, 66, 38, 97, 63, 66, 51, 75, 53, 97, 44, 65, 88, 73, 90, 66, 57, 38, 73, 88, 88, 49, 77, 85, 87, 88, 79, 36, 62, 72, 91, 20, 116, 71, 71, 73, 96, 98, 71, 77, 30, 88, 87, 49, 73, 71, 89, 20, 93, 74, 51, 83, 70, 91, 13, 78, 81, 89, 111, 24, 86, 50, 58, 95, 112, 76, 135, 66, 102, 40, 81, 100, 65, 73, 86, 86, 106, 96, 87, 67, 93, 62, 77, 133, 64, 92, 78, 73, 85, 102, 82, 69, 87, 70, 59, 75, 81, 78, 63, 48, 131, 59, 100, 69, 53, 68, 79, 95, 60, 93, 131, 80, 58, 81, 69, 76, 69, 104, 47, 83, 82, 118, 88, 92, 91, 45, 85, 70, 78, 97, 60, 77, 57, 37, 103, 73, 82, 74, 111, 81, 58, 42, 43, 98, 61, 74, 91, 79, 88, 107, 90, 83, 85, 117, 74, 78, 95, 107, 91, 87, 105, 37, 74, 80, 76, 77, 60, 90, 115, 49, 89, 43, 63, 97, 72, 72, 52, 190, 92, 57, 45, 77, 31, 59, 61, 86, 66, 67, 68, 87, 70, 82, 71, 53, 66, 73, 79, 95, 85, 54, 90, 72, 94, 110, 78, 112, 50, 63, 20, 84, 54, 86, 87, 77, 80, 65, 52, 64, 85, 87, 94, 68, 105, 91, 112, 55, 86, 93, 38, 63, 57, 83, 110, 89, 33, 95, 52, 88, 61, 78, 84, 86, 95, 70, 39, 84, 75, 66, 89, 23, 73, 80, 71, 64, 75, 76, 78, 65, 60, 63, 121, 39, 76, 88, 91, 52, 52, 38, 88, 81, 95, 55, 84, 45, 57, 61, 70, 76, 82, 38, 81, 53, 103, 80, 87, 32, 35, 65, 95, 33, 77, 75, 53, 59, 107, 80, 78, 96, 32, 59, 73, 88, 27, 80, 41, 75, 56, 66, 59, 35, 71, 76, 88, 61, 89, 46, 22, 43, 90, 73, 84, 63, 55, 24, 90, 62, 71, 86, 126, 90, 68, 71, 94, 52, 87, 68, 52, 60, 118, 67, 102, 24, 81, 61, 68, 102, 85, 86, 78, 66, 108, 109, 65, 66, 46, 91, 87, 33, 88, 93, 114, 64, 119, 80, 102, 90, 97, 65, 73, 59, 89, 39, 71, 102, 72, 56, 41, 92, 85, 82, 65, 71, 92, 78, 50, 84, 72, 101, 82, 63, 83, 96, 85, 34, 78, 74, 78, 82, 35, 79, 46, 83, 58, 34, 69, 93, 71, 77, 110, 61, 54, 68, 114, 85, 71, 74, 42, 54, 99, 92, 3, 81, 63, 50, 71, 104, 41, 41, 92, 83, 33, 54, 60, 80, 69, 84, 88, 98, 66, 80, 65, 24, 85, 41, 51, 88, 91, 74, 97, 95, 80, 33, 48, 86, 57, 94, 93, 55, 64, 76, 47, 65, 46, 72, 85, 72, 88, 72, 86, 64, 81, 75, 80, 69, 77, 88, 63, 62, 79, 88, 68, 72, 94, 50, 70, 92, 56, 94, 64, 62, 80, 71, 95, 75, 71, 78, 100, 87, 120, 71, 91, 76, 97, 119, 112, 108, 73, 84, 39, 84, 81, 66, 83, 28, 84, 89, 42, 97, 52, 88, 73, 76, 82, 38, 14, 90, 66, 28, 62, 94, 94, 85, 113, 82, 48, 72, 97, 89, 73, 77, 83, 64, 85, 44, 66, 88, 45, 65, 88, 70, 63, 71, 79, 88, 36, 86, 81, 94, 72, 71, 80, 66, 65, 72, 72, 100, 77, 66, 58, 71, 76, 77, 51, 51, 67, 62, 55, 53, 66, 87, 84, 75, 63, 76, 90, 45, 80, 83, 32, 87, 68, 44, 58, 69, 49, 75, 55, 115, 64, 91, 114, 41, 97, 37, 32, 85, 88, 95, 55, 73, 52, 26, 52, 59, 69, 94, 110, 79, 83, 45, 65, 71, 59, 48, 115, 74, 95, 42, 69, 84, 83, 109, 46, 51, 51, 87, 57, 78, 93, 89, 112, 80, 78, 71, 94, 61, 53, 92, 92, 69, 80, 92, 53, 111, 43, 93, 68, 77, 33, 78, 72, 67, 78, 60, 54, 65, 85, 34, 54, 83, 95, 80, 81, 29, 27, 75, 56, 74, 71, 59, 95, 98, 73, 51, 77, 76, 93, 89, 68, 83, 87, 91, 95, 89, 78, 61, 91, 94, 49, 9, 84, 75, 54, 88, 68, 31, 103, 98, 68, 37, 60, 98, 69, 52, 57, 72, 103, 59, 45, 86, 58, 93, 96, 17, 112, 61, 71, 65, 106, 48, 60, 91, 72, 72, 74, 99, 73, 73, 34, 85, 41, 65, 63, 69, 55, 65, 76, 79, 86, 62, 62, 63, 66, 74, 76, 81, 44, 93, 99, 37, 104, 101, 92, 69, 94, 79, 62, 78, 82, 26, 82, 87, 84, 96, 54, 88, 90, 94, 68, 80, 74, 78, 91, 65, 127, 82, 69, 91, 46, 51, 93, 81, 98, 85, 34, 107, 72, 71, 72, 57, 75, 103, 65, 82, 86, 77, 88, 100, 69, 93, 52, 74, 128, 79, 69, 88, 64, 53, 61, 92, 78, 67, 46, 107, 82, 85, 94, 57, 109, 40, 85, 59, 104, 60, 76, 76, 71, 51, 98, 52, 93, 77, 79, 92, 81, 72, 82, 73, 11, 55, 91, 86, 74, 98, 76, 81, 396, 68, 43, 52, 81, 63, 19, 43, 75, 99, 65, 70, 56, 76, 87, 71, 82, 97, 78, 96, 68, 87, 65, 35, 81, 76, 89, 89, 94, 56, 77, 118, 95, 92, 79, 76, 85, 76, 69, 70, 92, 94, 94, 24, 72, 90, 57, 94, 54, 60, 67, 94, 94, 83, 56, 62, 86, 55, 26, 93, 62, 51, 79, 79, 64, 64, 71, 110, 76, 31, 72, 46, 100, 101, 82, 85, 74, 81, 68, 99, 87, 96, 72, 66, 90, 90, 74, 91, 67, 66, 89, 89, 92, 47, 72, 89, 83, 98, 83, 64, 52, 90, 52, 67, 91, 58, 69, 69, 24, 66, 39, 82, 64, 71, 28, 75, 70, 91, 85, 77, 76, 35, 69, 130, 96, 70, 102, 50, 66, 81, 66, 82, 68, 84, 85, 85, 93, 65, 83, 51, 130, 49, 74, 74, 102, 152, 97, 40, 86, 44, 87, 60, 70, 41, 83, 66, 75, 66, 61, 67, 75, 79, 73, 88, 53, 97, 51, 87, 68, 54, 44, 79, 95, 85, 110, 78, 73, 39, 67, 85, 107, 60, 91, 68, 63, 105, 56, 68, 88, 148, 78, 73, 74, 68, 51, 97, 57, 64, 75, 86, 67, 30, 79, 94, 74, 82, 90, 72, 85, 82, 70, 79, 84, 87, 63, 54, 49, 59, 110, 126, 87, 77, 16, 32, 51, 86, 90, 95, 98, 67, 61, 54, 93, 83, 85, 67, 60, 53, 85, 33, 70, 12, 73, 56, 75, 48, 102, 84, 61, 85, 27, 83, 72, 34, 86, 82, 68, 73, 89, 45, 87, 48, 85, 82, 61, 43, 83, 67, 64, 91, 84, 61, 84, 17, 59, 89, 44, 93, 74, 78, 87, 97, 68, 38, 82, 107, 126, 89, 36, 82, 96, 112, 55, 83, 78, 93, 56, 34, 67, 95, 94, 11, 55, 83, 104, 78, 68, 102, 83, 81, 55, 111, 42, 70, 81, 100, 52, 96, 47, 89, 79, 96, 86, 83, 58, 57, 51, 92, 81, 64, 81, 121, 65, 79, 62, 70, 86, 120, 67, 34, 85, 77, 77, 42, 72, 95, 79, 77, 45, 94, 53, 93, 21, 78, 89, 77, 61, 96, 99, 81, 55, 82, 96, 73, 79, 99, 89, 63, 94, 37, 80, 75, 64, 50, 69, 16, 70, 84, 13, 73, 93, 71, 82, 67, 67, 106, 77, 70, 74, 94, 124, 67, 104, 78, 73, 60, 96, 51, 105, 91, 62, 61, 61, 67, 70, 109, 94, 74, 71, 59, 86, 68, 82, 113, 54, 49, 70, 106, 76, 90, 71, 96, 59, 87, 64, 93, 135, 69, 86, 88, 42, 42, 47, 80, 71, 66, 87, 51, 34, 89, 80, 96, 133, 80, 92, 70, 67, 61, 64, 60, 104, 71, 55, 40, 62, 76, 76, 93, 79, 90, 80, 84, 89, 72, 53, 78, 100, 54, 88, 111, 88, 48, 96, 82, 94, 105, 82, 37, 82, 86, 98, 97, 81, 90, 79, 59, 72, 79, 71, 85, 93, 87, 157, 75, 82, 69, 44, 76, 76, 74, 82, 116, 57, 94, 75, 82, 89, 221, 97, 84, 84, 121, 48, 88, 45, 86, 72, 54, 71, 82, 71, 73, 48, 100, 66, 92, 54, 58, 77, 36, 100, 56, 63, 63, 34, 72, 55, 114, 73, 91, 94, 45, 99, 93, 73, 70, 80, 42, 72, 78, 77, 83, 73, 91, 65, 58, 85, 86, 32, 86, 90, 74, 99, 61, 87, 83, 81, 87, 78, 95, 86, 63, 43, 63, 99, 65, 70, 92, 88, 54, 49, 48, 138, 80, 80, 70, 81, 81, 56, 47, 84, 92, 175, 72, 91, 86, 75, 53, 113, 84, 38, 55, 86, 40, 87, 42, 61, 46, 83, 86, 83, 56, 72, 64, 76, 79, 65, 87, 110, 105, 90, 57, 61, 61, 69, 77, 54, 64, 78, 82, 112, 82, 120, 75, 58, 74, 42, 73, 78, 64, 81, 116, 63, 28, 58, 54, 92, 84, 130, 60, 125, 85, 45, 85, 88, 75, 118, 68, 61, 88, 78, 80, 70, 60, 82, 86, 89, 96, 94, 95, 147, 94, 90, 60, 80, 87, 73, 84, 86, 59, 31, 84, 100, 71, 65, 65, 83, 45, 61, 69, 54, 58, 102, 101, 53, 70, 102, 115, 78, 53, 64, 97, 65, 49, 85, 80, 80, 64, 58, 96, 98, 53, 64, 34, 83, 95, 108, 69, 88, 55, 82, 86, 32, 81, 98, 97, 80, 80, 90, 50, 78, 101, 65, 95, 100, 61, 36, 46, 43, 80, 51, 76, 36, 90, 79, 87, 94, 92, 76, 4, 114, 61, 101, 92, 84, 73, 39, 72, 41, 71, 82, 51, 80, 123, 84, 60, 56, 77, 64, 100, 55, 64, 61, 95, 61, 73, 59, 89, 84, 55, 91, 46, 14, 73, 72, 92, 91, 58, 63, 84, 66, 74, 80, 59, 83, 89, 62, 84, 76, 99, 110, 85, 62, 72, 99, 62, 89, 28, 47, 73, 66, 79, 51, 90, 59, 125, 74, 94, 68, 76, 66, 87, 34, 90, 89, 55, 79, 56, 81, 94, 116, 86, 57, 70, 70, 89, 62, 102, 58, 64, 57, 74, 42, 83, 92, 75, 42, 83, 107, 60, 77, 84, 45, 83, 76, 79, 95, 82, 90, 45, 88, 84, 81, 91, 95, 89, 73, 87, 61, 80, 31, 64, 73, 58, 110, 60, 54, 72, 30, 43, 60, 11, 115, 73, 103, 100, 93, 70, 93, 77, 66, 60, 64, 34, 149, 58, 88, 59, 82, 63, 49, 79, 91, 65, 56, 40, 42, 66, 78, 84, 102, 80, 100, 66, 80, 74, 46, 76, 81, 89, 89, 79, 78, 61, 81, 113, 66, 53, 95, 81, 83, 65, 88, 64, 92, 90, 82, 79, 83, 90, 61, 70, 100, 110, 42, 25, 72, 54, 80, 59, 76, 51, 82, 77, 45, 62, 99, 79, 28, 21, 71, 72, 53, 87, 61, 59, 14, 25, 79, 63, 82, 34, 110, 45, 33, 95, 71, 75, 85, 67, 85, 56, 93, 54, 84, 84, 89, 40, 95, 78, 106, 92, 81, 87, 67, 78, 56, 48, 84, 53, 40, 106, 50, 85, 55, 80, 79, 72, 99, 53, 72, 61, 101, 101, 61, 78, 110, 42, 28, 50, 81, 78, 69, 69, 80, 60, 81, 87, 87, 95, 72, 75, 85, 44, 101, 84, 51, 67, 64, 81, 92, 84, 58, 78, 81, 62, 66, 85, 74, 62, 79, 103, 59, 93, 65, 68, 109, 51, 75, 69, 90, 85, 85, 87, 92, 79, 25, 63, 75, 86, 53, 103, 75, 104, 52, 76, 79, 72, 77, 85, 93, 72, 57, 41, 110, 66, 80, 66, 48, 93, 98, 72, 96, 39, 23, 164, 103, 68, 24, 43, 86, 73, 84, 89, 83, 71, 86, 64, 67, 101, 67, 80, 61, 96, 74, 108, 81, 65, 23, 69, 76, 63, 167, 43, 53, 76, 55, 101, 85, 107, 102, 56, 90, 62, 84, 54, 72, 45, 91, 87, 82, 81, 97, 60, 44, 57, 89, 55, 82, 82, 83, 79, 77, 82, 24, 19, 109, 106, 87, 93, 64, 57, 88, 66, 138, 66, 68, 85, 75, 62, 69, 69, 78, 51, 44, 82, 40, 77, 46, 92, 69, 117, 89, 101, 87, 53, 49, 79, 80, 102, 71, 77, 48, 98, 57, 82, 80, 79, 97, 92, 62, 60, 87, 84, 69, 111, 78, 68, 40, 84, 69, 60, 78, 89, 79, 9, 72, 57, 94, 83, 105, 76, 103, 46, 73, 56, 24, 68, 25, 39, 72, 56, 66, 65, 59, 80, 71, 50, 54, 42, 97, 101, 77, 67, 62, 52, 49, 85, 121, 63, 79, 25, 83, 49, 114, 19, 75, 65, 69, 73, 65, 73, 75, 69, 58, 81, 70, 64, 48, 91, 82, 76, 68, 93, 91, 88, 111, 59, 89, 69, 147, 65, 80, 37, 74, 135, 66, 51, 109, 82, 74, 80, 93, 93, 17, 64, 90, 72, 63, 52, 55, 62, 83, 81, 88, 85, 94, 76, 42, 33, 76, 83, 31, 86, 78, 87, 87, 62, 52, 66, 75, 90, 87, 81, 75, 64, 84, 69, 83, 51, 69, 83, 60, 79, 103, 64, 75, 65, 92, 64, 115, 86, 75, 71, 83, 61, 72, 77, 66, 100, 83, 53, 78, 79, 104, 88, 66, 88, 46, 71, 35, 67, 84, 75, 71, 66, 83, 50, 74, 71, 54, 68, 42, 79, 87, 118, 60, 85, 96, 67, 74, 56, 91, 84, 96, 77, 73, 85, 93, 109, 88, 81, 95, 80, 94, 62, 58, 98, 74, 102, 74, 81, 83, 92, 67, 50, 77, 62, 84, 72, 59, 131, 59, 86, 90, 102, 30, 79, 33, 95, 96, 79, 63, 70, 78, 70, 41, 76, 65, 45, 85, 87, 87, 68, 68, 52, 93, 13, 61, 48, 115, 19, 56, 65, 84, 76, 84, 66, 74, 89, 56, 49, 97, 92, 57, 93, 119, 86, 39, 75, 89, 91, 84, 56, 60, 97, 88, 64, 41, 46, 72, 97, 91, 48, 72, 64, 67, 76, 86, 84, 65, 94, 90, 90, 80, 95, 98, 67, 85, 77, 80, 94, 86, 37, 76, 121, 64, 59, 56, 90, 91, 72, 73, 16, 9, 80, 89, 82, 63, 83, 74, 18, 83, 100, 66, 55, 99, 80, 27, 72, 67, 68, 55, 85, 85, 88, 53, 36, 79, 52, 25, 85, 70, 61, 87, 86, 56, 62, 58, 47, 54, 51, 53, 76, 74, 100, 79, 70, 92, 64, 30, 94, 90, 97, 41, 70, 10, 49, 90, 85, 91, 89, 83, 80, 85, 111, 65, 100, 21, 68, 69, 41, 55, 82, 81, 69, 78, 88, 80, 14, 68, 86, 93, 102, 74, 82, 77, 82, 95, 92, 61, 85, 67, 86, 53, 62, 123, 38, 255, 64, 84, 35, 95, 72, 64, 49, 52, 114, 59, 76, 96, 27, 46, 109, 111, 90, 90, 51, 72, 47, 70, 90, 77, 80, 94, 84, 96, 82, 96, 61, 83, 85, 69, 63, 28, 33, 79, 107, 87, 48, 32, 99, 59, 86, 96, 67, 72, 97, 106, 88, 65, 27, 76, 57, 92, 89, 74, 102, 69, 68, 98, 90, 53, 97, 63, 66, 87, 80, 55, 40, 65, 74, 48, 99, 84, 98, 115, 82, 72, 66, 72, 56, 81, 77, 33, 72, 93, 74, 84, 61, 58, 99, 78, 68, 72, 103, 57, 86, 49, 95, 70, 92, 80, 55, 77, 70, 49, 30, 60, 102, 54, 76, 34, 80, 56, 77, 78, 55, 76, 52, 65, 76, 90, 101, 45, 86, 84, 109, 91, 81, 54, 96, 52, 60, 57, 87, 61, 67, 23, 43, 65, 92, 52, 81, 84, 50, 80, 85, 71, 68, 104, 81, 96, 79, 52, 78, 127, 51, 97, 81, 82, 80, 82, 69, 55, 58, 60, 53, 57, 60, 78, 78, 79, 58, 90, 89, 124, 63, 71, 57, 73, 83, 71, 84, 58, 27, 65, 76, 71, 99, 59, 61, 68, 36, 109, 79, 42, 78, 81, 69, 124, 57, 57, 55, 82, 113, 80, 69, 91, 58, 229, 65, 37, 56, 63, 98, 80, 67, 104, 95, 77, 83, 92, 95, 38, 66, 60, 82, 16, 66, 67, 65, 86, 76, 120, 68, 79, 84, 44, 90, 55, 79, 27, 58, 69, 93, 92, 16, 75, 94, 56, 100, 51, 81, 77, 97, 25, 95, 102, 83, 38, 70, 91, 65, 67, 47, 62, 100, 58, 85, 80, 52, 63, 77, 73, 76, 66, 88, 54, 68, 31, 84, 88, 95, 106, 71, 52, 44, 73, 58, 70, 88, 64, 39, 69, 78, 68, 49, 87, 76, 56, 117, 45, 86, 79, 231, 71, 88, 94, 83, 56, 88, 83, 95, 94, 77, 61, 74, 30, 96, 50, 107, 81, 72, 55, 91, 35, 79, 119, 74, 87, 91, 89, 90, 76, 96, 64, 94, 60, 80, 66, 72, 86, 66, 109, 81, 72, 55, 49, 77, 80, 84, 82, 100, 82, 49, 91, 79, 153, 92, 80, 89, 20, 77, 74, 69, 74, 93, 40, 80, 113, 78, 72, 66, 147, 67, 75, 71, 121, 87, 79, 59, 83, 72, 76, 86, 33, 67, 107, 94, 78, 47, 76, 43, 241, 68, 125, 109, 63, 47, 74, 95, 83, 84, 70, 82, 47, 38, 106, 67, 89, 81, 70, 83, 77, 96, 84, 97, 43, 94, 70, 77, 69, 57, 66, 92, 95, 64, 74, 97, 87, 51, 80, 77, 70, 83, 73, 38, 68, 62, 70, 102, 92, 98, 41, 41, 37, 83, 84, 96, 76, 69, 63, 130, 75, 80, 66, 60, 82, 74, 79, 113, 79, 71, 65, 57, 88, 61, 102, 121, 121, 107, 85, 79, 81, 49, 67, 48, 25, 76, 27, 89, 69, 87, 69, 85, 84, 58, 85, 88, 82, 50, 78, 73, 82, 85, 108, 69, 120, 83, 60, 77, 85, 74, 119, 72, 62, 56, 39, 60, 116, 31, 89, 62, 56, 85, 54, 56, 104, 103, 103, 68, 78, 75, 51, 75, 60, 85, 82, 83, 49, 77, 91, 73, 91, 75, 107, 61, 17, 56, 91, 75, 90, 83, 79, 59, 81, 79, 57, 62, 58, 94, 72, 81, 132, 55, 47, 96, 82, 86, 72, 55, 96, 67, 73, 30, 23, 80, 85, 72, 80, 78, 206, 46, 86, 60, 51, 69, 105, 110, 48, 69, 84, 74, 84, 42, 87, 98, 82, 72, 75, 64, 65, 113, 97, 84, 88, 49, 27, 69, 93, 58, 59, 47, 73, 94, 56, 82, 62, 89, 70, 80, 44, 36, 67, 76, 104, 86, 93, 89, 75, 90, 45, 70, 71, 66, 74, 101, 76, 89, 61, 59, 70, 77, 89, 84, 81, 83, 67, 77, 51, 66, 85, 14, 73, 93, 53, 61, 93, 117, 84, 53, 96, 31, 71, 50, 62, 88, 88, 104, 83, 81, 70, 64, 99, 79, 71, 48, 65, 70, 34, 104, 85, 80, 52, 22, 89, 78, 92, 78, 95, 64, 86, 43, 61, 72, 51, 57, 97, 128, 74, 40, 83, 92, 35, 85, 80, 85, 93, 72, 74, 93, 57, 77, 74, 95, 63, 100, 133, 37, 33, 57, 29, 87, 90, 75, 79, 93, 83, 77, 65, 34, 101, 98, 81, 28, 58, 83, 39, 35, 89, 91, 47, 72, 77, 81, 43, 87, 74, 65, 76, 60, 69, 73, 39, 93, 65, 84, 44, 83, 46, 73, 69, 101, 117, 48, 61, 95, 75, 62, 89, 132, 74, 49, 80, 73, 35, 87, 14, 103, 74, 75, 35, 81, 78, 78, 93, 102, 69, 83, 59, 17, 63, 104, 68, 67, 49, 82, 54, 75, 99, 44, 70, 88, 85, 32, 114, 114, 82, 83, 35, 77, 90, 80, 74, 41, 86, 61, 141, 65, 83, 69, 29, 66, 53, 59, 67, 73, 55, 69, 84, 59, 57, 49, 119, 90, 68, 94, 65, 95, 52, 92, 101, 88, 80, 52, 107, 75, 55, 90, 83, 55, 75, 104, 47, 90, 89, 110, 77, 90, 94, 69, 82, 96, 99, 90, 75, 29, 59, 57, 84, 63, 73, 110, 105, 84, 86, 76, 102, 91, 67, 61, 71, 124, 38, 96, 75, 96, 73, 92, 71, 85, 65, 89, 103, 87, 106, 89, 78, 90, 25, 108, 60, 67, 87, 13, 37, 53, 81, 53, 85, 92, 70, 63, 72, 42, 101, 46, 75, 60, 56, 48, 80, 71, 65, 85, 86, 72, 82, 86, 78, 52, 139, 71, 105, 96, 88, 59, 71, 69, 68, 118, 90, 97, 76, 84, 49, 100, 69, 75, 77, 87, 77, 71, 84, 113, 65, 53, 73, 69, 94, 95, 94, 68, 89, 65, 68, 82, 68, 53, 83, 73, 70, 44, 96, 90, 99, 70, 90, 54, 98, 49, 69, 63, 68, 103, 65, 64, 69, 83, 69, 82, 100, 84, 77, 82, 60, 37, 82, 62, 85, 92, 45, 63, 75, 56, 64, 39, 51, 69, 86, 39, 70, 73, 51, 50, 59, 40, 78, 52, 43, 81, 102, 87, 95, 52, 32, 77, 44, 27, 55, 97, 96, 80, 47, 62, 58, 47, 89, 85, 82, 71, 73, 77, 97, 80, 100, 45, 93, 67, 79, 195, 81, 106, 75, 66, 82, 98, 30, 32, 55, 72, 27, 89, 66, 35, 61, 109, 52, 43, 61, 74, 78, 89, 67, 50, 44, 78, 53, 56, 71, 59, 70, 78, 64, 54, 71, 108, 75, 83, 80, 100, 100, 100, 57, 81, 63, 90, 69, 82, 63, 66, 32, 102, 68, 69, 74, 95, 63, 68, 80, 84, 86, 70, 65, 58, 84, 75, 107, 96, 82, 107, 77, 59, 45, 85, 79, 77, 97, 25, 85, 62, 90, 81, 82, 86, 63, 114, 57, 74, 72, 93, 31, 81, 58, 70, 91, 97, 40, 50, 34, 92, 85, 70, 61, 87, 14, 73, 45, 49, 86, 40, 88, 60, 100, 55, 85, 55, 89, 85, 50, 103, 85, 87, 87, 69, 67, 110, 87, 90, 62, 59, 84, 72, 105, 85, 67, 77, 97, 81, 74, 43, 75, 53, 44, 91, 106, 79, 54, 83, 68, 53, 83, 77, 46, 45, 64, 76, 96, 95, 92, 58, 98, 92, 83, 58, 87, 51, 70, 49, 71, 110, 60, 77, 100, 22, 88, 55, 106, 91, 85, 82, 110, 94, 103, 70, 75, 67, 88, 82, 86, 78, 101, 82, 98, 83, 119, 70, 72, 89, 77, 76, 56, 75, 90, 57, 70, 64, 51, 71, 83, 78, 51, 92, 81, 91, 43, 92, 78, 96, 66, 99, 88, 68, 56, 81, 71, 61, 83, 74, 67, 64, 96, 91, 87, 63, 83, 75, 67, 120, 64, 54, 83, 56, 98, 87, 91, 92, 66, 76, 52, 57, 79, 102, 42, 86, 37, 54, 98, 87, 94, 84, 57, 75, 91, 25, 118, 98, 94, 82, 80, 90, 92, 96, 58, 62, 72, 54, 57, 114, 70, 95, 93, 100, 82, 16, 98, 69, 119, 50, 90, 52, 73, 43, 63, 83, 58, 81, 96, 85, 84, 63, 93, 35, 74, 77, 93, 78, 82, 54, 86, 89, 67, 58, 89, 65, 90, 73, 79, 55, 108, 59, 89, 74, 90, 80, 89, 75, 46, 86, 43, 74, 45, 83, 31, 37, 23, 64, 61, 105, 82, 93, 65, 95, 62, 80, 90, 54, 52, 93, 47, 59, 49, 61, 74, 35, 79, 58, 106, 67, 89, 86, 84, 43, 71, 82, 62, 66, 97, 76, 88, 71, 47, 95, 58, 84, 52, 89, 95, 113, 99, 90, 84, 63, 77, 39, 61, 80, 111, 71, 133, 98, 70, 113, 95, 44, 79, 127, 84, 61, 59, 86, 75, 82, 95, 64, 79, 96, 71, 69, 81, 55, 68, 97, 81, 104, 55, 40, 93, 59, 51, 82, 85, 89, 67, 108, 52, 65, 94, 98, 66, 61, 85, 66, 31, 45, 63, 50, 132, 35, 25, 69, 51, 9, 76, 97, 88, 85, 70, 60, 99, 59, 80, 99, 83, 24, 90, 60, 68, 93, 68, 91, 73, 48, 89, 72, 57, 102, 81, 82, 84, 96, 42, 47, 54, 80, 82, 79, 76, 64, 37, 76, 96, 101, 70, 76, 95, 80, 56, 79, 86, 60, 50, 78, 60, 78, 43, 52, 47, 78, 112, 60, 61, 94, 86, 79, 84, 56, 101, 48, 71, 75, 90, 84, 42, 60, 75, 63, 79, 39, 83, 76, 80, 35, 102, 110, 76, 59, 96, 84, 59, 91, 67, 80, 81, 82, 65, 90, 91, 37, 76, 74, 87, 59, 49, 54, 78, 44, 27, 73, 86, 134, 60, 45, 80, 73, 70, 86, 102, 80, 80, 98, 85, 83, 55, 47, 93, 120, 43, 71, 91, 82, 67, 96, 29, 96, 46, 102, 72, 103, 81, 75, 92, 90, 50, 58, 89, 71, 89, 73, 69, 43, 51, 89, 28, 65, 91, 87, 100, 87, 77, 97, 56, 60, 92, 101, 88, 81, 119, 52, 62, 72, 88, 63, 65, 79, 56, 67, 87, 85, 222, 71, 90, 51, 23, 101, 13, 68, 34, 66, 88, 83, 55, 19, 77, 92, 82, 84, 85, 93, 80, 79, 98, 47, 127, 73, 59, 78, 79, 146, 53, 77, 70, 45, 97, 84, 81, 50, 68, 79, 33, 49, 84, 101, 58, 77, 116, 60, 37, 83, 81, 73, 104, 37, 55, 70, 83, 103, 65, 74, 55, 87, 85, 84, 76, 90, 84, 73, 58, 95, 85, 58, 43, 73, 78, 123, 60, 82, 65, 82, 69, 80, 71, 91, 74, 67, 59, 85, 51, 50, 59, 71, 48, 70, 60, 113, 67, 82, 79, 97, 95, 22, 77, 45, 52, 78, 41, 88, 87, 62, 116, 61, 97, 43, 69, 96, 93, 75, 41, 89, 76, 113, 79, 74, 90, 86, 88, 71, 98, 29, 70, 57, 86, 122, 65, 74, 99, 95, 80, 65, 61, 122, 82, 87, 58, 90, 67, 107, 85, 60, 81, 99, 14, 78, 92, 56, 77, 98, 66, 98, 71, 82, 76, 50, 87, 79, 93, 71, 102, 83, 51, 96, 63, 39, 78, 37, 91, 93, 81, 71, 88, 36, 93, 91, 63, 47, 112, 90, 86, 45, 99, 77, 77, 49, 80, 106, 80, 110, 53, 58, 47, 89, 51, 44, 72, 29, 54, 89, 35, 75, 49, 55, 86, 87, 76, 36, 103, 76, 86, 92, 95, 72, 62, 103, 42, 110, 47, 45, 73, 22, 90, 93, 98, 61, 68, 75, 50, 82, 96, 31, 59, 66, 78, 277, 45, 49, 69, 101, 68, 62, 82, 69, 86, 94, 77, 70, 73, 82, 94, 78, 63, 90, 100, 74, 52, 85, 82, 36, 78, 53, 70, 97, 88, 84, 34, 67, 85, 98, 64, 58, 73, 74, 101, 69, 88, 78, 61, 64, 55, 72, 87, 165, 45, 78, 70, 30, 55, 82, 95, 74, 89, 90, 81, 95, 119, 73, 93, 39, 84, 98, 42, 98, 89, 90, 75, 70, 38, 84, 50, 85, 93, 71, 95, 92, 96, 82, 87, 50, 89, 66, 96, 71, 65, 73, 81, 99, 88, 188, 46, 61, 54, 71, 68, 83, 16, 99, 71, 65, 93, 90, 58, 54, 68, 88, 62, 53, 63, 78, 89, 79, 78, 66, 59, 84, 102, 79, 95, 75, 70, 75, 86, 55, 64, 77, 68, 76, 71, 90, 82, 62, 81, 85, 69, 84, 84, 75, 112, 78, 77, 102, 91, 88, 68, 40, 79, 84, 66, 80, 103, 39, 68, 75, 63, 70, 90, 75, 48, 74, 56, 72, 85, 97, 77, 68, 67, 85, 77, 99, 91, 102, 82, 32, 51, 96, 59, 126, 85, 88, 52, 69, 47, 73, 69, 54, 74, 46, 11, 70, 92, 92, 64, 85, 66, 85, 91, 63, 83, 73, 78, 77, 69, 78, 71, 93, 93, 37, 88, 102, 73, 103, 76, 65, 51, 80, 86, 73, 77, 97, 98, 57, 50, 87, 99, 65, 90, 80, 85, 82, 41, 113, 77, 98, 81, 90, 23, 67, 105, 102, 26, 81, 78, 74, 87, 87, 73, 66, 74, 54, 69, 44, 83, 72, 46, 83, 55, 67, 84, 73, 77, 156, 89, 51, 90, 43, 98, 67, 98, 48, 5, 93, 80, 73, 58, 80, 114, 65, 79, 59, 94, 84, 71, 30, 72, 91, 63, 37, 84, 49, 43, 42, 90, 81, 112, 31, 58, 54, 25, 89, 64, 91, 79, 76, 45, 95, 36, 50, 78, 124, 75, 94, 82, 56, 105, 66, 58, 55, 82, 74, 102, 76, 100, 47, 99, 56, 83, 67, 81, 87, 72, 115, 75, 81, 51, 75, 93, 73, 73, 69, 97, 71, 77, 83, 88, 121, 64, 84, 53, 93, 73, 55, 97, 73, 73, 79, 72, 57, 92, 49, 56, 70, 10, 92, 97, 73, 77, 69, 50, 63, 71, 77, 94, 48, 73, 31, 56, 71, 17, 116, 56, 90, 40, 79, 106, 113, 72, 102, 205, 87, 65, 81, 74, 54, 25, 94, 21, 92, 68, 56, 90, 39, 92, 76, 63, 46, 78, 75, 66, 78, 76, 70, 71, 30, 92, 82, 71, 75, 34, 75, 95, 66, 74, 49, 70, 100, 62, 78, 91, 53, 76, 71, 86, 113, 77, 75, 60, 76, 61, 49, 47, 56, 47, 49, 71, 81, 81, 87, 80, 25, 81, 87, 58, 88, 82, 63, 83, 58, 37, 95, 66, 69, 60, 69, 47, 102, 76, 21, 87, 98, 29, 55, 37, 65, 83, 94, 30, 60, 52, 71, 74, 99, 76, 64, 78, 17, 60, 91, 100, 88, 44, 82, 97, 86, 79, 99, 81, 73, 55, 83, 61, 121, 79, 76, 75, 57, 94, 86, 93, 71, 68, 70, 75, 55, 65, 80, 50, 25]}],\n",
              "                        {\"template\": {\"data\": {\"bar\": [{\"error_x\": {\"color\": \"#2a3f5f\"}, \"error_y\": {\"color\": \"#2a3f5f\"}, \"marker\": {\"line\": {\"color\": \"#E5ECF6\", \"width\": 0.5}}, \"type\": \"bar\"}], \"barpolar\": [{\"marker\": {\"line\": {\"color\": \"#E5ECF6\", \"width\": 0.5}}, \"type\": \"barpolar\"}], \"carpet\": [{\"aaxis\": {\"endlinecolor\": \"#2a3f5f\", \"gridcolor\": \"white\", \"linecolor\": \"white\", \"minorgridcolor\": \"white\", \"startlinecolor\": \"#2a3f5f\"}, \"baxis\": {\"endlinecolor\": \"#2a3f5f\", \"gridcolor\": \"white\", \"linecolor\": \"white\", \"minorgridcolor\": \"white\", \"startlinecolor\": \"#2a3f5f\"}, \"type\": \"carpet\"}], \"choropleth\": [{\"colorbar\": {\"outlinewidth\": 0, \"ticks\": \"\"}, \"type\": \"choropleth\"}], \"contour\": [{\"colorbar\": {\"outlinewidth\": 0, \"ticks\": \"\"}, \"colorscale\": [[0.0, \"#0d0887\"], [0.1111111111111111, \"#46039f\"], [0.2222222222222222, \"#7201a8\"], [0.3333333333333333, \"#9c179e\"], [0.4444444444444444, \"#bd3786\"], [0.5555555555555556, \"#d8576b\"], [0.6666666666666666, \"#ed7953\"], [0.7777777777777778, \"#fb9f3a\"], [0.8888888888888888, \"#fdca26\"], [1.0, \"#f0f921\"]], \"type\": \"contour\"}], \"contourcarpet\": [{\"colorbar\": {\"outlinewidth\": 0, \"ticks\": \"\"}, \"type\": \"contourcarpet\"}], \"heatmap\": [{\"colorbar\": {\"outlinewidth\": 0, \"ticks\": \"\"}, \"colorscale\": [[0.0, \"#0d0887\"], [0.1111111111111111, \"#46039f\"], [0.2222222222222222, \"#7201a8\"], [0.3333333333333333, \"#9c179e\"], [0.4444444444444444, \"#bd3786\"], [0.5555555555555556, \"#d8576b\"], [0.6666666666666666, \"#ed7953\"], [0.7777777777777778, \"#fb9f3a\"], [0.8888888888888888, \"#fdca26\"], [1.0, \"#f0f921\"]], \"type\": \"heatmap\"}], \"heatmapgl\": [{\"colorbar\": {\"outlinewidth\": 0, \"ticks\": \"\"}, \"colorscale\": [[0.0, \"#0d0887\"], [0.1111111111111111, \"#46039f\"], [0.2222222222222222, \"#7201a8\"], [0.3333333333333333, \"#9c179e\"], [0.4444444444444444, \"#bd3786\"], [0.5555555555555556, \"#d8576b\"], [0.6666666666666666, \"#ed7953\"], [0.7777777777777778, \"#fb9f3a\"], [0.8888888888888888, \"#fdca26\"], [1.0, \"#f0f921\"]], \"type\": \"heatmapgl\"}], \"histogram\": [{\"marker\": {\"colorbar\": {\"outlinewidth\": 0, \"ticks\": \"\"}}, \"type\": \"histogram\"}], \"histogram2d\": [{\"colorbar\": {\"outlinewidth\": 0, \"ticks\": \"\"}, \"colorscale\": [[0.0, \"#0d0887\"], [0.1111111111111111, \"#46039f\"], [0.2222222222222222, \"#7201a8\"], [0.3333333333333333, \"#9c179e\"], [0.4444444444444444, \"#bd3786\"], [0.5555555555555556, \"#d8576b\"], [0.6666666666666666, \"#ed7953\"], [0.7777777777777778, \"#fb9f3a\"], [0.8888888888888888, \"#fdca26\"], [1.0, \"#f0f921\"]], \"type\": \"histogram2d\"}], \"histogram2dcontour\": [{\"colorbar\": {\"outlinewidth\": 0, \"ticks\": \"\"}, \"colorscale\": [[0.0, \"#0d0887\"], [0.1111111111111111, \"#46039f\"], [0.2222222222222222, \"#7201a8\"], [0.3333333333333333, \"#9c179e\"], [0.4444444444444444, \"#bd3786\"], [0.5555555555555556, \"#d8576b\"], [0.6666666666666666, \"#ed7953\"], [0.7777777777777778, \"#fb9f3a\"], [0.8888888888888888, \"#fdca26\"], [1.0, \"#f0f921\"]], \"type\": \"histogram2dcontour\"}], \"mesh3d\": [{\"colorbar\": {\"outlinewidth\": 0, \"ticks\": \"\"}, \"type\": \"mesh3d\"}], \"parcoords\": [{\"line\": {\"colorbar\": {\"outlinewidth\": 0, \"ticks\": \"\"}}, \"type\": \"parcoords\"}], \"pie\": [{\"automargin\": true, \"type\": \"pie\"}], \"scatter\": [{\"marker\": {\"colorbar\": {\"outlinewidth\": 0, \"ticks\": \"\"}}, \"type\": \"scatter\"}], \"scatter3d\": [{\"line\": {\"colorbar\": {\"outlinewidth\": 0, \"ticks\": \"\"}}, \"marker\": {\"colorbar\": {\"outlinewidth\": 0, \"ticks\": \"\"}}, \"type\": \"scatter3d\"}], \"scattercarpet\": [{\"marker\": {\"colorbar\": {\"outlinewidth\": 0, \"ticks\": \"\"}}, \"type\": \"scattercarpet\"}], \"scattergeo\": [{\"marker\": {\"colorbar\": {\"outlinewidth\": 0, \"ticks\": \"\"}}, \"type\": \"scattergeo\"}], \"scattergl\": [{\"marker\": {\"colorbar\": {\"outlinewidth\": 0, \"ticks\": \"\"}}, \"type\": \"scattergl\"}], \"scattermapbox\": [{\"marker\": {\"colorbar\": {\"outlinewidth\": 0, \"ticks\": \"\"}}, \"type\": \"scattermapbox\"}], \"scatterpolar\": [{\"marker\": {\"colorbar\": {\"outlinewidth\": 0, \"ticks\": \"\"}}, \"type\": \"scatterpolar\"}], \"scatterpolargl\": [{\"marker\": {\"colorbar\": {\"outlinewidth\": 0, \"ticks\": \"\"}}, \"type\": \"scatterpolargl\"}], \"scatterternary\": [{\"marker\": {\"colorbar\": {\"outlinewidth\": 0, \"ticks\": \"\"}}, \"type\": \"scatterternary\"}], \"surface\": [{\"colorbar\": {\"outlinewidth\": 0, \"ticks\": \"\"}, \"colorscale\": [[0.0, \"#0d0887\"], [0.1111111111111111, \"#46039f\"], [0.2222222222222222, \"#7201a8\"], [0.3333333333333333, \"#9c179e\"], [0.4444444444444444, \"#bd3786\"], [0.5555555555555556, \"#d8576b\"], [0.6666666666666666, \"#ed7953\"], [0.7777777777777778, \"#fb9f3a\"], [0.8888888888888888, \"#fdca26\"], [1.0, \"#f0f921\"]], \"type\": \"surface\"}], \"table\": [{\"cells\": {\"fill\": {\"color\": \"#EBF0F8\"}, \"line\": {\"color\": \"white\"}}, \"header\": {\"fill\": {\"color\": \"#C8D4E3\"}, \"line\": {\"color\": \"white\"}}, \"type\": \"table\"}]}, \"layout\": {\"annotationdefaults\": {\"arrowcolor\": \"#2a3f5f\", \"arrowhead\": 0, \"arrowwidth\": 1}, \"coloraxis\": {\"colorbar\": {\"outlinewidth\": 0, \"ticks\": \"\"}}, \"colorscale\": {\"diverging\": [[0, \"#8e0152\"], [0.1, \"#c51b7d\"], [0.2, \"#de77ae\"], [0.3, \"#f1b6da\"], [0.4, \"#fde0ef\"], [0.5, \"#f7f7f7\"], [0.6, \"#e6f5d0\"], [0.7, \"#b8e186\"], [0.8, \"#7fbc41\"], [0.9, \"#4d9221\"], [1, \"#276419\"]], \"sequential\": [[0.0, \"#0d0887\"], [0.1111111111111111, \"#46039f\"], [0.2222222222222222, \"#7201a8\"], [0.3333333333333333, \"#9c179e\"], [0.4444444444444444, \"#bd3786\"], [0.5555555555555556, \"#d8576b\"], [0.6666666666666666, \"#ed7953\"], [0.7777777777777778, \"#fb9f3a\"], [0.8888888888888888, \"#fdca26\"], [1.0, \"#f0f921\"]], \"sequentialminus\": [[0.0, \"#0d0887\"], [0.1111111111111111, \"#46039f\"], [0.2222222222222222, \"#7201a8\"], [0.3333333333333333, \"#9c179e\"], [0.4444444444444444, \"#bd3786\"], [0.5555555555555556, \"#d8576b\"], [0.6666666666666666, \"#ed7953\"], [0.7777777777777778, \"#fb9f3a\"], [0.8888888888888888, \"#fdca26\"], [1.0, \"#f0f921\"]]}, \"colorway\": [\"#636efa\", \"#EF553B\", \"#00cc96\", \"#ab63fa\", \"#FFA15A\", \"#19d3f3\", \"#FF6692\", \"#B6E880\", \"#FF97FF\", \"#FECB52\"], \"font\": {\"color\": \"#2a3f5f\"}, \"geo\": {\"bgcolor\": \"white\", \"lakecolor\": \"white\", \"landcolor\": \"#E5ECF6\", \"showlakes\": true, \"showland\": true, \"subunitcolor\": \"white\"}, \"hoverlabel\": {\"align\": \"left\"}, \"hovermode\": \"closest\", \"mapbox\": {\"style\": \"light\"}, \"paper_bgcolor\": \"white\", \"plot_bgcolor\": \"#E5ECF6\", \"polar\": {\"angularaxis\": {\"gridcolor\": \"white\", \"linecolor\": \"white\", \"ticks\": \"\"}, \"bgcolor\": \"#E5ECF6\", \"radialaxis\": {\"gridcolor\": \"white\", \"linecolor\": \"white\", \"ticks\": \"\"}}, \"scene\": {\"xaxis\": {\"backgroundcolor\": \"#E5ECF6\", \"gridcolor\": \"white\", \"gridwidth\": 2, \"linecolor\": \"white\", \"showbackground\": true, \"ticks\": \"\", \"zerolinecolor\": \"white\"}, \"yaxis\": {\"backgroundcolor\": \"#E5ECF6\", \"gridcolor\": \"white\", \"gridwidth\": 2, \"linecolor\": \"white\", \"showbackground\": true, \"ticks\": \"\", \"zerolinecolor\": \"white\"}, \"zaxis\": {\"backgroundcolor\": \"#E5ECF6\", \"gridcolor\": \"white\", \"gridwidth\": 2, \"linecolor\": \"white\", \"showbackground\": true, \"ticks\": \"\", \"zerolinecolor\": \"white\"}}, \"shapedefaults\": {\"line\": {\"color\": \"#2a3f5f\"}}, \"ternary\": {\"aaxis\": {\"gridcolor\": \"white\", \"linecolor\": \"white\", \"ticks\": \"\"}, \"baxis\": {\"gridcolor\": \"white\", \"linecolor\": \"white\", \"ticks\": \"\"}, \"bgcolor\": \"#E5ECF6\", \"caxis\": {\"gridcolor\": \"white\", \"linecolor\": \"white\", \"ticks\": \"\"}}, \"title\": {\"x\": 0.05}, \"xaxis\": {\"automargin\": true, \"gridcolor\": \"white\", \"linecolor\": \"white\", \"ticks\": \"\", \"title\": {\"standoff\": 15}, \"zerolinecolor\": \"white\", \"zerolinewidth\": 2}, \"yaxis\": {\"automargin\": true, \"gridcolor\": \"white\", \"linecolor\": \"white\", \"ticks\": \"\", \"title\": {\"standoff\": 15}, \"zerolinecolor\": \"white\", \"zerolinewidth\": 2}}}},\n",
              "                        {\"responsive\": true}\n",
              "                    ).then(function(){\n",
              "                            \n",
              "var gd = document.getElementById('b906c53b-732b-4a56-afde-90ae2834ca34');\n",
              "var x = new MutationObserver(function (mutations, observer) {{\n",
              "        var display = window.getComputedStyle(gd).display;\n",
              "        if (!display || display === 'none') {{\n",
              "            console.log([gd, 'removed!']);\n",
              "            Plotly.purge(gd);\n",
              "            observer.disconnect();\n",
              "        }}\n",
              "}});\n",
              "\n",
              "// Listen for the removal of the full notebook cells\n",
              "var notebookContainer = gd.closest('#notebook-container');\n",
              "if (notebookContainer) {{\n",
              "    x.observe(notebookContainer, {childList: true});\n",
              "}}\n",
              "\n",
              "// Listen for the clearing of the current output cell\n",
              "var outputEl = gd.closest('.output');\n",
              "if (outputEl) {{\n",
              "    x.observe(outputEl, {childList: true});\n",
              "}}\n",
              "\n",
              "                        })\n",
              "                };\n",
              "                \n",
              "            </script>\n",
              "        </div>\n",
              "</body>\n",
              "</html>"
            ]
          },
          "metadata": {
            "tags": []
          }
        }
      ]
    },
    {
      "cell_type": "code",
      "metadata": {
        "colab": {
          "base_uri": "https://localhost:8080/"
        },
        "id": "9XDzJ_uOUEYb",
        "outputId": "c2ea7bc1-6559-4374-e664-ebd5dabd5d49"
      },
      "source": [
        "Train.shape"
      ],
      "execution_count": 705,
      "outputs": [
        {
          "output_type": "execute_result",
          "data": {
            "text/plain": [
              "(18285, 7)"
            ]
          },
          "metadata": {
            "tags": []
          },
          "execution_count": 705
        }
      ]
    },
    {
      "cell_type": "code",
      "metadata": {
        "colab": {
          "base_uri": "https://localhost:8080/"
        },
        "id": "YLDMXttSTUn2",
        "outputId": "4d9f691a-528d-4835-b8ba-bdde2f129171"
      },
      "source": [
        "len(Train[Train['title-length'] < 20])\r\n"
      ],
      "execution_count": 706,
      "outputs": [
        {
          "output_type": "execute_result",
          "data": {
            "text/plain": [
              "158"
            ]
          },
          "metadata": {
            "tags": []
          },
          "execution_count": 706
        }
      ]
    },
    {
      "cell_type": "code",
      "metadata": {
        "colab": {
          "base_uri": "https://localhost:8080/"
        },
        "id": "zEJbe8fNTUqj",
        "outputId": "649a65f2-09fa-4a5e-ff27-c46697354152"
      },
      "source": [
        "len(Train[Train['title-length'] > 128])\r\n"
      ],
      "execution_count": 707,
      "outputs": [
        {
          "output_type": "execute_result",
          "data": {
            "text/plain": [
              "214"
            ]
          },
          "metadata": {
            "tags": []
          },
          "execution_count": 707
        }
      ]
    },
    {
      "cell_type": "markdown",
      "metadata": {
        "id": "IUb7ro6iqmXg"
      },
      "source": [
        "Same process with our text length"
      ]
    },
    {
      "cell_type": "code",
      "metadata": {
        "colab": {
          "base_uri": "https://localhost:8080/",
          "height": 640
        },
        "id": "S497NZtKqiRJ",
        "outputId": "a604979d-57fc-4dcd-ef93-a0411c6a298a"
      },
      "source": [
        "botrange, toprange, outliers = get_outliers(Train, Train['text-length'])\r\n",
        "print(toprange)\r\n",
        "print(botrange)\r\n",
        "outliers"
      ],
      "execution_count": 708,
      "outputs": [
        {
          "output_type": "stream",
          "text": [
            "13586.5\n",
            "-5217.5\n"
          ],
          "name": "stdout"
        },
        {
          "output_type": "execute_result",
          "data": {
            "text/html": [
              "<div>\n",
              "<style scoped>\n",
              "    .dataframe tbody tr th:only-of-type {\n",
              "        vertical-align: middle;\n",
              "    }\n",
              "\n",
              "    .dataframe tbody tr th {\n",
              "        vertical-align: top;\n",
              "    }\n",
              "\n",
              "    .dataframe thead th {\n",
              "        text-align: right;\n",
              "    }\n",
              "</style>\n",
              "<table border=\"1\" class=\"dataframe\">\n",
              "  <thead>\n",
              "    <tr style=\"text-align: right;\">\n",
              "      <th></th>\n",
              "      <th>id</th>\n",
              "      <th>title</th>\n",
              "      <th>author</th>\n",
              "      <th>text</th>\n",
              "      <th>label</th>\n",
              "      <th>title-length</th>\n",
              "      <th>text-length</th>\n",
              "    </tr>\n",
              "  </thead>\n",
              "  <tbody>\n",
              "    <tr>\n",
              "      <th>14</th>\n",
              "      <td>14</td>\n",
              "      <td>Re: Yes, There Are Paid Government Trolls On S...</td>\n",
              "      <td>AnotherAnnie</td>\n",
              "      <td>Yes, There Are Paid Government Trolls On Socia...</td>\n",
              "      <td>1</td>\n",
              "      <td>85</td>\n",
              "      <td>34204</td>\n",
              "    </tr>\n",
              "    <tr>\n",
              "      <th>29</th>\n",
              "      <td>29</td>\n",
              "      <td>How Hillary Clinton Became a Hawk - The New Yo...</td>\n",
              "      <td>Mark Landler</td>\n",
              "      <td>Hillary Clinton sat in the hideaway study off ...</td>\n",
              "      <td>0</td>\n",
              "      <td>54</td>\n",
              "      <td>38806</td>\n",
              "    </tr>\n",
              "    <tr>\n",
              "      <th>36</th>\n",
              "      <td>36</td>\n",
              "      <td>Re: Why We Are Still In ‘The Danger Zone’ Unti...</td>\n",
              "      <td>greanfinisher .</td>\n",
              "      <td>Why We Are Still In ‘The Danger Zone’ Until Ja...</td>\n",
              "      <td>1</td>\n",
              "      <td>66</td>\n",
              "      <td>20807</td>\n",
              "    </tr>\n",
              "    <tr>\n",
              "      <th>37</th>\n",
              "      <td>37</td>\n",
              "      <td>Open Thread (NOT U.S. Election) 2016-39</td>\n",
              "      <td>b</td>\n",
              "      <td>Open Thread (NOT U.S. Election) 2016-39 \\nNews...</td>\n",
              "      <td>1</td>\n",
              "      <td>39</td>\n",
              "      <td>18950</td>\n",
              "    </tr>\n",
              "    <tr>\n",
              "      <th>71</th>\n",
              "      <td>71</td>\n",
              "      <td>Treason! NYT vows 'rededication' to reporting!</td>\n",
              "      <td>Ivan the Stakhanovets</td>\n",
              "      <td>In Hillary's America, email server scrubs you ...</td>\n",
              "      <td>1</td>\n",
              "      <td>46</td>\n",
              "      <td>27696</td>\n",
              "    </tr>\n",
              "    <tr>\n",
              "      <th>...</th>\n",
              "      <td>...</td>\n",
              "      <td>...</td>\n",
              "      <td>...</td>\n",
              "      <td>...</td>\n",
              "      <td>...</td>\n",
              "      <td>...</td>\n",
              "      <td>...</td>\n",
              "    </tr>\n",
              "    <tr>\n",
              "      <th>20658</th>\n",
              "      <td>20658</td>\n",
              "      <td>Comment on 5 Corporations Own The U.S. Media –...</td>\n",
              "      <td>You’re Being Fooled: The Problem With ‘Alterna...</td>\n",
              "      <td>From the day we are born into this world, we...</td>\n",
              "      <td>1</td>\n",
              "      <td>205</td>\n",
              "      <td>24954</td>\n",
              "    </tr>\n",
              "    <tr>\n",
              "      <th>20662</th>\n",
              "      <td>20662</td>\n",
              "      <td>The Truth U.S. Government Does NOT Want You To...</td>\n",
              "      <td>Dikran Arakelian (noreply@blogger.com)</td>\n",
              "      <td>Share on Facebook The people of the world shou...</td>\n",
              "      <td>1</td>\n",
              "      <td>74</td>\n",
              "      <td>14247</td>\n",
              "    </tr>\n",
              "    <tr>\n",
              "      <th>20742</th>\n",
              "      <td>20742</td>\n",
              "      <td>It Begins! Ten Kushner Scandals: Media Ramp Up...</td>\n",
              "      <td>Tony Lee</td>\n",
              "      <td>If Jared Kushner did not realize that the esta...</td>\n",
              "      <td>0</td>\n",
              "      <td>102</td>\n",
              "      <td>18178</td>\n",
              "    </tr>\n",
              "    <tr>\n",
              "      <th>20744</th>\n",
              "      <td>20744</td>\n",
              "      <td>The Battleship Debate</td>\n",
              "      <td>Michael Shrimpton</td>\n",
              "      <td>By Michael Shrimpton on October 30, 2016 Some ...</td>\n",
              "      <td>1</td>\n",
              "      <td>21</td>\n",
              "      <td>18004</td>\n",
              "    </tr>\n",
              "    <tr>\n",
              "      <th>20754</th>\n",
              "      <td>20754</td>\n",
              "      <td>No More American Thanksgivings</td>\n",
              "      <td>Glen Ford</td>\n",
              "      <td>Thanksgiving by Glen Ford \\n“The core ideologi...</td>\n",
              "      <td>1</td>\n",
              "      <td>30</td>\n",
              "      <td>27298</td>\n",
              "    </tr>\n",
              "  </tbody>\n",
              "</table>\n",
              "<p>624 rows × 7 columns</p>\n",
              "</div>"
            ],
            "text/plain": [
              "          id  ... text-length\n",
              "14        14  ...       34204\n",
              "29        29  ...       38806\n",
              "36        36  ...       20807\n",
              "37        37  ...       18950\n",
              "71        71  ...       27696\n",
              "...      ...  ...         ...\n",
              "20658  20658  ...       24954\n",
              "20662  20662  ...       14247\n",
              "20742  20742  ...       18178\n",
              "20744  20744  ...       18004\n",
              "20754  20754  ...       27298\n",
              "\n",
              "[624 rows x 7 columns]"
            ]
          },
          "metadata": {
            "tags": []
          },
          "execution_count": 708
        }
      ]
    },
    {
      "cell_type": "code",
      "metadata": {
        "colab": {
          "base_uri": "https://localhost:8080/",
          "height": 542
        },
        "id": "LgMTch-zqikE",
        "outputId": "1843db17-2a82-4d1c-a3ab-a38ea44b6e80"
      },
      "source": [
        "fig = go.Figure()\r\n",
        "fig.add_trace(go.Box(name='Text length', y=Train['text-length'], boxmean='sd'))\r\n",
        "\r\n",
        "fig.update_traces(\r\n",
        "    marker=dict(\r\n",
        "        color='rgb(8,81,156)',\r\n",
        "        outliercolor='rgba(219, 64, 82, 0.6)',\r\n",
        "        line=dict(\r\n",
        "            outliercolor='rgba(219, 64, 82, 0.6)',\r\n",
        "            outlierwidth=2)),\r\n",
        "    line_color='rgb(8,81,156)'\r\n",
        ")\r\n",
        "fig.show()"
      ],
      "execution_count": 709,
      "outputs": [
        {
          "output_type": "display_data",
          "data": {
            "text/html": [
              "<html>\n",
              "<head><meta charset=\"utf-8\" /></head>\n",
              "<body>\n",
              "    <div>\n",
              "            <script src=\"https://cdnjs.cloudflare.com/ajax/libs/mathjax/2.7.5/MathJax.js?config=TeX-AMS-MML_SVG\"></script><script type=\"text/javascript\">if (window.MathJax) {MathJax.Hub.Config({SVG: {font: \"STIX-Web\"}});}</script>\n",
              "                <script type=\"text/javascript\">window.PlotlyConfig = {MathJaxConfig: 'local'};</script>\n",
              "        <script src=\"https://cdn.plot.ly/plotly-latest.min.js\"></script>    \n",
              "            <div id=\"ab46831b-94fa-4888-8079-bbd083e53c81\" class=\"plotly-graph-div\" style=\"height:525px; width:100%;\"></div>\n",
              "            <script type=\"text/javascript\">\n",
              "                \n",
              "                    window.PLOTLYENV=window.PLOTLYENV || {};\n",
              "                    \n",
              "                if (document.getElementById(\"ab46831b-94fa-4888-8079-bbd083e53c81\")) {\n",
              "                    Plotly.newPlot(\n",
              "                        'ab46831b-94fa-4888-8079-bbd083e53c81',\n",
              "                        [{\"boxmean\": \"sd\", \"line\": {\"color\": \"rgb(8,81,156)\"}, \"marker\": {\"color\": \"rgb(8,81,156)\", \"line\": {\"outliercolor\": \"rgba(219, 64, 82, 0.6)\", \"outlierwidth\": 2}, \"outliercolor\": \"rgba(219, 64, 82, 0.6)\"}, \"name\": \"Text length\", \"type\": \"box\", \"y\": [4930, 4160, 7692, 3237, 938, 1192, 4923, 10261, 9400, 3132, 2854, 1618, 34204, 6403, 7468, 2685, 7847, 1771, 1728, 1086, 4786, 4647, 2986, 2626, 4369, 38806, 3185, 7611, 9532, 6687, 10580, 20807, 18950, 2612, 5535, 3067, 4371, 3427, 2618, 5875, 3347, 2365, 2222, 5882, 2017, 5214, 1445, 8849, 9202, 10647, 7203, 367, 7482, 2193, 4052, 3576, 9590, 1997, 1771, 1160, 7696, 27696, 2048, 8792, 7923, 4912, 1580, 7242, 1319, 4945, 208, 1, 1673, 12224, 1331, 202, 7212, 1749, 4642, 5919, 3293, 7715, 5566, 1089, 5108, 1740, 8461, 8086, 167, 5797, 5009, 3288, 2278, 2801, 3561, 2368, 3937, 8746, 1532, 1064, 6507, 8676, 2512, 4775, 5737, 5811, 8774, 4858, 4966, 7170, 462, 18329, 8753, 4321, 3226, 704, 839, 10200, 6638, 1770, 5715, 2785, 2285, 3892, 2626, 2031, 6624, 2162, 519, 4190, 599, 2026, 2936, 6909, 7465, 6472, 7772, 8296, 1967, 26381, 7815, 4707, 194, 248, 1413, 4351, 6323, 5533, 1093, 1, 1167, 1548, 17, 3709, 6440, 7155, 12481, 4933, 8734, 5395, 7677, 4615, 5259, 5185, 1978, 6305, 636, 40708, 2143, 3503, 11849, 28066, 11603, 7156, 2706, 7406, 2011, 4977, 2105, 6204, 6367, 2508, 9724, 3141, 693, 731, 231, 7445, 3873, 6388, 8326, 2307, 5658, 10346, 4194, 768, 7893, 6718, 3171, 7671, 1236, 7209, 5120, 1511, 7448, 2090, 4760, 1000, 1926, 1901, 6580, 582, 4421, 4391, 5111, 7233, 1932, 2786, 435, 3818, 772, 5778, 7461, 8905, 1753, 5741, 9693, 5079, 7506, 2644, 642, 7840, 2342, 9552, 2613, 6524, 1005, 9330, 476, 7490, 1398, 3531, 4445, 2103, 418, 1419, 4967, 8540, 5981, 330, 5122, 196, 4905, 871, 4997, 1, 5064, 4707, 13258, 3712, 6639, 2002, 4204, 5510, 10807, 2149, 21232, 8862, 9001, 2790, 3900, 3943, 8215, 2069, 827, 2258, 7481, 14035, 8949, 3261, 11222, 5463, 678, 9554, 8884, 8862, 7200, 6418, 5869, 4076, 3669, 8672, 5514, 7171, 5377, 3473, 1279, 2040, 3563, 1229, 10331, 116, 3562, 8573, 5323, 3706, 3082, 1606, 1358, 3924, 4486, 169, 5992, 2592, 9852, 3860, 3592, 1937, 6856, 19894, 6204, 6048, 2310, 7301, 216, 3404, 1270, 5492, 4877, 1441, 2763, 9670, 7646, 745, 957, 4711, 1755, 1256, 3605, 3927, 7439, 341, 1125, 7390, 1987, 1258, 4552, 12316, 4015, 1837, 6742, 5314, 7092, 1210, 6332, 5898, 3694, 4041, 2915, 2533, 4051, 2354, 1200, 3838, 2839, 969, 1553, 4560, 1247, 6962, 1970, 2829, 1117, 2028, 3127, 18067, 6923, 199, 158, 1581, 4867, 3441, 5164, 2098, 10044, 6976, 14002, 2712, 4588, 845, 9741, 34313, 2558, 1884, 6033, 4062, 1230, 4869, 1767, 3751, 1349, 1250, 7701, 3267, 92561, 5406, 8084, 10734, 4040, 9729, 1, 2109, 8850, 3017, 4077, 2226, 11628, 216, 1655, 3324, 154, 1220, 42, 2734, 3987, 5093, 27714, 4120, 2031, 4204, 4420, 2975, 7633, 5889, 68208, 8172, 1427, 6289, 4834, 4899, 3443, 7298, 1441, 3270, 6062, 3564, 5482, 54, 2342, 7538, 7137, 3832, 2227, 6357, 7238, 6173, 5017, 27073, 1947, 50308, 842, 2756, 9061, 5189, 198, 1135, 4727, 5271, 522, 1271, 4801, 2267, 2185, 1789, 3105, 4273, 8821, 2896, 6014, 5320, 1254, 21605, 1634, 6298, 5615, 11039, 3018, 1941, 929, 2618, 3893, 16534, 829, 1195, 4541, 1757, 1805, 307, 6662, 9885, 12564, 7379, 5245, 2481, 197, 7487, 2092, 7450, 2395, 1, 8917, 6002, 3097, 1009, 5446, 7939, 1836, 3068, 3935, 7003, 1670, 5934, 705, 20316, 2728, 2802, 6120, 5500, 4083, 2637, 279, 1246, 759, 6039, 1282, 10314, 3516, 45245, 2036, 1161, 5785, 7339, 1732, 6736, 4518, 4828, 5765, 2964, 1601, 5088, 1840, 4449, 6988, 920, 5871, 8761, 6401, 7426, 11843, 3431, 2635, 5237, 686, 1144, 944, 5979, 2358, 4865, 6472, 4791, 7281, 1101, 4707, 6862, 11490, 4729, 1716, 1984, 3258, 6112, 1161, 2440, 1947, 6906, 1239, 2776, 9281, 6469, 781, 3585, 28266, 14595, 8956, 15369, 2641, 200, 6638, 3915, 6396, 5529, 9011, 5116, 5987, 1006, 6705, 2798, 2593, 222, 856, 8846, 3343, 2123, 935, 5118, 3348, 1185, 8515, 720, 1678, 9065, 2907, 11639, 1458, 2906, 4341, 6755, 2084, 2440, 2618, 11720, 5846, 899, 6069, 2416, 1001, 8456, 1445, 5158, 9713, 3527, 13934, 5254, 1620, 6416, 1887, 5352, 3817, 1286, 9144, 673, 6878, 2871, 7833, 3462, 806, 14754, 337, 1859, 6864, 764, 8025, 6683, 8180, 2358, 986, 7371, 6278, 19706, 860, 8172, 8947, 12102, 1920, 990, 9309, 5467, 4196, 2982, 4881, 1548, 5409, 1590, 8735, 6413, 2538, 1235, 3754, 693, 2948, 2447, 8886, 6933, 2760, 5298, 453, 575, 9484, 9216, 3023, 4027, 3903, 2348, 4014, 3235, 6958, 197, 5648, 1923, 4284, 2796, 6553, 191, 5116, 4262, 5894, 2143, 2563, 2435, 1973, 1694, 6621, 17249, 8444, 3204, 961, 7801, 2972, 5850, 5012, 1338, 4529, 4823, 1567, 9618, 3918, 1683, 6699, 3314, 7987, 6119, 3117, 643, 5380, 2525, 8386, 2605, 2250, 1138, 2251, 6447, 5836, 7111, 8450, 5584, 3506, 2967, 261, 7985, 1, 15595, 4907, 2196, 1815, 1284, 2413, 3977, 11755, 918, 11745, 2930, 13256, 4842, 1600, 2649, 1156, 5357, 2856, 9068, 998, 3621, 2350, 315, 2, 6756, 2450, 3092, 4521, 7293, 5162, 1624, 7656, 6697, 4293, 2850, 4133, 2200, 2341, 8727, 3418, 332, 1571, 3957, 195, 6895, 1597, 1960, 3751, 3050, 4561, 5746, 442, 4410, 1309, 4446, 1, 4909, 2032, 8475, 8201, 1108, 302, 1308, 6524, 9304, 5443, 4371, 2158, 1, 422, 5480, 11739, 4835, 23737, 9919, 4220, 2759, 1446, 997, 2862, 2341, 1650, 2940, 9999, 2712, 3660, 6277, 3709, 2008, 3148, 4989, 3362, 535, 15412, 1075, 2085, 1900, 2018, 2434, 5149, 1503, 5393, 3572, 1720, 3440, 927, 4979, 2306, 5536, 4396, 7442, 1211, 1965, 48, 5132, 2722, 2266, 11225, 1433, 1574, 3097, 2575, 7360, 9432, 8900, 8089, 7069, 6010, 3988, 3896, 7794, 4729, 9429, 1740, 26238, 3160, 2980, 1578, 2253, 7072, 3318, 3403, 6758, 8641, 8199, 2426, 5489, 2147, 5910, 3730, 2520, 5093, 2217, 4723, 5051, 1197, 288, 6060, 1622, 2629, 6178, 2691, 1868, 1734, 3218, 3531, 7928, 85, 908, 3462, 7343, 7343, 1920, 5586, 2129, 1502, 5278, 10974, 718, 5894, 1341, 937, 2197, 5651, 14074, 1603, 7376, 4721, 5416, 689, 6490, 338, 4347, 1417, 3983, 3043, 2325, 4767, 1169, 11546, 3762, 2225, 3358, 1141, 3018, 8320, 2657, 3414, 2115, 7357, 2131, 4327, 662, 2606, 12356, 3526, 12789, 3630, 4159, 4697, 3178, 1077, 2463, 6778, 5005, 6140, 2122, 1496, 4424, 6252, 2923, 19367, 4235, 3077, 7506, 9695, 2784, 818, 11864, 3784, 8483, 4140, 7898, 6745, 3630, 6711, 9455, 1727, 4897, 507, 311, 2441, 2761, 6988, 26449, 950, 6113, 11280, 11752, 5100, 12160, 113, 2642, 6612, 3180, 2015, 1726, 1080, 2321, 2354, 1942, 2508, 6856, 19090, 1109, 1246, 7941, 9120, 3846, 4922, 4442, 1293, 1863, 28445, 4468, 5206, 4113, 3448, 2161, 6420, 2246, 7533, 8104, 11189, 4146, 4087, 7275, 8438, 10850, 5987, 24040, 4589, 8918, 372, 10233, 6448, 1492, 5929, 6630, 2163, 6374, 2714, 3608, 2599, 9435, 1080, 2110, 1390, 756, 7214, 6042, 14684, 11711, 4571, 6578, 3260, 7041, 278, 11175, 3153, 4925, 3108, 5707, 4941, 997, 7383, 4646, 921, 4017, 13694, 7884, 5951, 4278, 11974, 965, 2317, 8646, 9049, 1902, 7900, 615, 1481, 4033, 19385, 3448, 1443, 2729, 2101, 7494, 3432, 10706, 6743, 6601, 5997, 8664, 27247, 2390, 3623, 6030, 8308, 1580, 1859, 2520, 2798, 3762, 7733, 921, 2932, 6207, 6066, 5296, 1850, 201, 5084, 2090, 4679, 7894, 3705, 988, 5220, 198, 2426, 2678, 7624, 1631, 5325, 295, 212, 1471, 797, 621, 404, 811, 4781, 2335, 1940, 560, 1348, 2475, 3683, 1570, 5064, 7345, 7085, 3178, 5436, 2540, 4600, 14511, 8579, 5552, 1086, 2634, 4650, 7114, 2786, 13645, 3837, 476, 705, 553, 9904, 8018, 904, 8290, 2009, 1032, 4964, 6109, 9084, 46610, 1654, 1449, 1388, 7084, 5682, 2276, 840, 5816, 13785, 2414, 203, 6676, 5151, 8393, 1312, 4166, 1154, 2704, 1974, 532, 1336, 6950, 4596, 1509, 2255, 5323, 6629, 2481, 3696, 62, 3209, 3170, 2629, 2588, 3187, 2317, 4589, 10653, 2572, 394, 2258, 8533, 2058, 7046, 172, 957, 5736, 1775, 8015, 3802, 1855, 6332, 6828, 8677, 4395, 4284, 4749, 6184, 1611, 3694, 1872, 1995, 1848, 2106, 2017, 2778, 7846, 5029, 2776, 870, 4249, 2276, 2323, 1345, 11987, 1621, 3501, 5870, 6069, 2029, 2365, 5286, 9050, 10694, 517, 5168, 2678, 1570, 7237, 442, 2143, 2083, 5541, 3991, 2977, 1040, 4236, 13873, 3755, 1627, 2672, 7874, 5291, 434, 13077, 6311, 6130, 6697, 2291, 8647, 4362, 1253, 3816, 2309, 3237, 871, 4036, 3220, 3249, 5461, 7134, 1087, 1276, 2785, 1206, 1480, 2533, 1138, 650, 1182, 959, 2877, 5016, 2976, 9653, 1629, 6045, 6494, 2612, 296, 14986, 2200, 9707, 1256, 3813, 5284, 1790, 2746, 7061, 3012, 2763, 1851, 707, 6309, 41994, 8341, 4595, 1181, 1907, 2743, 527, 5444, 3229, 616, 2344, 1486, 7516, 5025, 3466, 1656, 2281, 11618, 2862, 8691, 17098, 5931, 15849, 139, 1615, 8321, 12937, 1, 2103, 8892, 428, 4133, 1857, 1031, 9300, 6673, 10166, 1789, 3354, 1708, 4701, 10116, 5804, 1453, 2821, 199, 1662, 6786, 2261, 5979, 1445, 25726, 10693, 1973, 123, 2168, 1839, 993, 1091, 15312, 3509, 1985, 1735, 1347, 1153, 2118, 8665, 3121, 2422, 1493, 2422, 3538, 2666, 3116, 3487, 178, 6596, 3740, 1642, 3646, 7737, 7391, 2421, 3035, 3823, 4637, 4789, 747, 4697, 6895, 4241, 8126, 5480, 7217, 3259, 6375, 577, 1218, 4320, 1196, 5180, 6363, 2787, 2999, 2961, 1556, 52289, 27697, 3855, 5179, 4494, 2199, 3791, 6759, 3558, 18336, 5044, 1979, 2340, 1948, 737, 2053, 567, 3982, 4647, 3071, 2794, 6698, 19615, 5260, 1012, 1037, 1097, 1695, 3607, 661, 6117, 6816, 846, 260, 2993, 4201, 2113, 9758, 4802, 2815, 1588, 1914, 1990, 5396, 10027, 1743, 4129, 4158, 5561, 1461, 2637, 1780, 2323, 6356, 3871, 2482, 6697, 5299, 949, 3020, 8034, 4285, 6122, 4494, 3724, 6500, 1638, 798, 1214, 7919, 4642, 437, 8036, 471, 7299, 8692, 1507, 4842, 1484, 5450, 2148, 2558, 513, 6086, 4124, 14254, 4477, 5908, 1576, 3967, 4860, 5582, 3129, 1002, 3657, 24070, 6609, 717, 2480, 2486, 450, 1812, 6598, 2055, 3810, 443, 797, 162, 201, 8920, 11052, 2838, 8790, 1712, 2351, 5269, 2045, 4456, 5888, 3407, 6313, 7723, 9106, 2132, 11218, 1408, 2087, 897, 7206, 2031, 989, 2464, 2677, 3649, 4916, 1824, 1143, 3891, 12604, 4786, 4494, 6537, 2937, 8030, 7912, 188, 4536, 4973, 9179, 243, 3468, 2837, 1685, 3711, 213, 2744, 8402, 2754, 4011, 1665, 81, 2388, 8980, 3966, 7390, 6911, 3192, 7322, 3925, 1390, 948, 479, 7560, 3713, 1682, 6498, 3110, 6779, 3961, 2211, 6322, 4226, 887, 2110, 4070, 3848, 7000, 6968, 5564, 6246, 7076, 695, 12319, 1270, 11582, 7894, 352, 2615, 2406, 1431, 969, 2115, 934, 1046, 1484, 4797, 2605, 4154, 5011, 4021, 199, 916, 2576, 6465, 3443, 469, 4718, 2696, 9743, 1043, 1969, 1105, 869, 6351, 88, 5838, 2933, 2406, 8008, 1543, 5339, 1873, 438, 4942, 2372, 9611, 1044, 5825, 6434, 328, 6410, 7369, 854, 7653, 4369, 2737, 1090, 8378, 5645, 3683, 7341, 8105, 6761, 2392, 210, 4726, 5061, 27540, 1036, 8009, 7293, 5898, 1549, 1329, 12464, 3983, 2313, 9179, 6384, 6852, 5695, 4083, 3322, 5430, 7418, 1515, 7216, 2949, 7860, 4716, 6226, 1340, 1010, 4393, 2775, 1094, 1373, 3464, 5380, 2120, 1004, 1558, 2727, 2830, 2057, 10685, 3511, 6020, 10432, 9065, 4009, 4684, 5239, 12705, 51382, 2166, 8574, 1124, 199, 2127, 5598, 4425, 6207, 3183, 1120, 189, 9484, 2475, 1107, 1241, 1097, 788, 4655, 988, 6061, 8090, 1451, 1121, 253, 9036, 2544, 4004, 8673, 167, 4353, 3915, 2925, 3204, 20136, 9456, 4044, 4208, 8601, 1930, 2378, 5206, 3521, 6178, 3589, 4809, 2108, 3427, 8321, 3652, 1091, 5795, 3355, 7453, 2933, 54, 3584, 8383, 17151, 1387, 3273, 6618, 3001, 533, 1278, 4144, 6078, 3882, 3913, 9525, 3310, 6008, 4483, 51587, 1931, 2894, 561, 14742, 4147, 10745, 147, 6558, 3179, 144, 4106, 5461, 1577, 7518, 6171, 2151, 7817, 2091, 5889, 4302, 180, 3041, 2182, 6604, 3313, 12884, 6129, 8941, 8451, 2909, 7388, 2487, 2161, 808, 2354, 4120, 22608, 1758, 6653, 2871, 4301, 6400, 1, 3988, 7642, 3142, 4230, 688, 232, 6569, 7436, 3558, 6610, 5564, 4139, 7478, 1470, 9672, 4131, 4408, 2048, 3163, 18696, 1708, 3497, 2694, 398, 3074, 93, 7089, 3669, 5845, 8999, 6863, 8777, 4955, 5271, 1116, 992, 2281, 2815, 2362, 6644, 2081, 5805, 2746, 1168, 4163, 3001, 6419, 948, 3717, 1608, 2977, 6124, 10515, 200, 4529, 1550, 5380, 1, 2662, 31293, 2306, 15033, 1943, 4837, 13094, 6117, 5284, 5059, 1523, 6530, 1946, 8779, 8264, 797, 4680, 7262, 5921, 3667, 4906, 6018, 2843, 830, 9923, 6437, 6856, 4589, 3665, 7988, 1133, 1864, 4136, 17190, 1438, 10848, 6455, 3114, 5259, 5974, 5068, 764, 1007, 203, 4063, 2076, 7082, 8788, 4293, 8531, 7918, 179, 5643, 3939, 2211, 8766, 9312, 9373, 6167, 768, 1769, 48, 1106, 1971, 2180, 1065, 2289, 474, 7380, 5220, 5694, 9133, 6538, 2151, 6238, 2908, 7079, 1064, 6511, 2174, 5218, 4811, 2160, 5008, 4113, 1020, 2705, 4013, 9267, 2333, 47171, 1566, 1363, 4322, 7240, 282, 11305, 7595, 2458, 6328, 2570, 5007, 3184, 4011, 4175, 212, 5412, 10488, 4073, 1438, 7252, 5613, 1109, 3749, 1236, 10828, 3294, 854, 2589, 3463, 3540, 2091, 158, 4065, 9382, 26922, 2025, 4435, 2857, 6396, 3605, 176, 2461, 7185, 2321, 1, 1541, 7080, 5366, 2137, 3051, 21250, 2317, 7625, 3019, 5692, 2251, 5465, 11213, 1808, 3038, 199, 9843, 149, 5260, 133, 3656, 4290, 9151, 3848, 9425, 1687, 3099, 6552, 2523, 1726, 5367, 4123, 3867, 150, 2727, 13607, 1570, 3755, 165, 6779, 132, 3182, 6667, 1434, 176, 7465, 10206, 954, 724, 2381, 959, 5729, 5017, 7785, 604, 5646, 4561, 2716, 3364, 8069, 2322, 1120, 3446, 5735, 3391, 3839, 7611, 3570, 7829, 8588, 2692, 1224, 1035, 8738, 927, 4767, 6011, 3391, 862, 1757, 6493, 1443, 8830, 12631, 749, 3510, 7915, 2527, 1278, 166, 9697, 779, 114, 3195, 3458, 1708, 1921, 9080, 2397, 5692, 1267, 5077, 6049, 6531, 2335, 5609, 4872, 55, 1876, 3060, 2913, 2417, 370, 4046, 5147, 1852, 10855, 10974, 5843, 833, 2245, 8388, 1803, 4338, 1313, 7339, 2178, 4977, 4325, 137, 11848, 19361, 2407, 5951, 5803, 1197, 507, 3337, 10631, 5527, 5733, 2778, 1278, 2044, 11566, 5224, 4503, 3319, 5612, 17015, 1726, 7500, 738, 7043, 1497, 2018, 4647, 9476, 1904, 1214, 2765, 1329, 2930, 5959, 199, 2267, 11317, 4398, 1353, 5638, 12414, 1686, 8442, 6550, 4680, 2563, 27873, 2913, 9802, 4434, 331, 2220, 2210, 2260, 1220, 442, 3051, 8074, 864, 1926, 2999, 4734, 14871, 7886, 674, 6415, 7219, 64, 10758, 786, 2518, 5791, 6832, 3810, 484, 4190, 4050, 27712, 2207, 5607, 1930, 1973, 4357, 1872, 16628, 3657, 1512, 4604, 1461, 813, 6657, 2969, 4348, 4993, 6586, 3519, 797, 4499, 774, 2079, 3759, 2261, 6457, 3860, 6469, 2369, 2423, 1421, 2845, 13, 633, 8587, 9222, 1000, 1959, 3178, 2105, 6212, 3310, 6226, 8923, 3783, 4706, 12329, 727, 4991, 5181, 19038, 1180, 2092, 9047, 6439, 4436, 5437, 7427, 1943, 11447, 2760, 9814, 1, 373, 3440, 1979, 854, 5649, 1717, 3306, 2712, 528, 6184, 5691, 6605, 10509, 2473, 11444, 981, 73, 7524, 6003, 6262, 5157, 9193, 1753, 124, 4488, 1764, 1820, 2411, 3482, 12716, 1191, 7923, 473, 18652, 722, 7598, 4000, 1053, 8737, 1681, 6397, 3499, 3566, 2128, 3389, 96869, 2619, 55746, 2170, 6126, 7697, 76, 6540, 2267, 2325, 15438, 1309, 1685, 6327, 3044, 7060, 1224, 1245, 2560, 6988, 1740, 2136, 5650, 2065, 628, 6483, 7395, 5811, 435, 2052, 8068, 495, 5325, 11849, 11258, 3717, 1387, 4911, 1691, 7890, 4073, 3607, 3925, 1825, 4364, 5726, 4541, 3683, 1214, 6707, 1849, 6875, 3273, 8771, 2724, 6765, 4563, 2810, 8296, 7783, 3480, 939, 1631, 5536, 2444, 3729, 3329, 4803, 5227, 2292, 5759, 633, 6328, 946, 5916, 1988, 2038, 5401, 2986, 3512, 5302, 7189, 1294, 11562, 8291, 3776, 3870, 1479, 1912, 4675, 3157, 9215, 4026, 9052, 920, 5936, 1451, 794, 4321, 2619, 5577, 3341, 8102, 6473, 2645, 1566, 2654, 4304, 3164, 1484, 5232, 6210, 2542, 7516, 7289, 1963, 3206, 4069, 1597, 2372, 348, 3807, 2227, 2270, 3898, 871, 3333, 9258, 5125, 1698, 1686, 12092, 6756, 7436, 2884, 5743, 2383, 4660, 1143, 1631, 1656, 1278, 6151, 2070, 10738, 1717, 333, 4691, 1637, 5030, 6407, 3073, 2952, 11340, 5784, 232, 8115, 14738, 8875, 3078, 627, 4019, 11501, 2295, 2185, 3012, 4599, 10675, 4608, 6608, 9801, 13248, 2073, 1294, 1090, 565, 2224, 1100, 4911, 11945, 3888, 295, 2046, 2025, 6493, 7308, 6250, 7214, 10390, 3179, 2648, 2239, 9721, 4089, 1543, 3995, 1485, 4085, 2774, 5783, 10398, 892, 2267, 1287, 5370, 2172, 444, 5778, 513, 1469, 2136, 10671, 2247, 3052, 7702, 5770, 1749, 4798, 1120, 9034, 2901, 2734, 5655, 17803, 2878, 904, 1496, 1156, 3793, 2069, 1250, 6179, 4350, 918, 10957, 6098, 1487, 3848, 1471, 1928, 1533, 4725, 4767, 3967, 3039, 1180, 6081, 1480, 2912, 2952, 900, 2347, 1603, 4307, 1579, 1875, 750, 238, 5179, 2985, 1219, 6764, 6056, 5931, 4546, 22585, 76, 2753, 2544, 3042, 1119, 873, 7574, 13969, 3760, 2085, 2137, 1031, 10175, 6699, 3976, 7444, 3662, 715, 4476, 6599, 6225, 3004, 1560, 2091, 6826, 1760, 5929, 8462, 5387, 7487, 2328, 5575, 222, 2125, 519, 3313, 386, 8030, 6404, 3546, 3727, 8745, 3092, 4913, 3056, 2031, 6073, 1997, 1634, 9157, 523, 5032, 7588, 4144, 5192, 568, 7362, 6777, 9707, 2352, 3339, 7568, 6456, 3637, 6434, 1867, 2126, 2898, 1551, 6471, 1704, 4661, 10860, 569, 8601, 5284, 2261, 710, 405, 12367, 804, 5456, 4417, 4098, 6024, 3024, 1437, 8024, 8001, 6812, 2492, 3966, 2886, 2382, 3781, 1481, 1426, 3781, 2338, 774, 1567, 5825, 510, 6783, 2539, 2112, 9090, 30723, 1607, 1253, 7327, 2621, 8574, 5637, 1863, 6953, 10990, 1808, 5931, 9147, 202, 120, 811, 940, 6901, 5965, 2114, 2163, 130, 9037, 8920, 7487, 2767, 1396, 2201, 7827, 1048, 3487, 2530, 1607, 18320, 54, 7312, 3821, 4761, 3980, 4975, 2017, 5442, 6616, 5250, 1088, 5176, 1803, 2623, 2290, 7718, 15048, 9245, 197, 3196, 854, 2697, 2627, 6090, 1312, 5565, 8063, 3142, 799, 6363, 3220, 6018, 150, 870, 6413, 5532, 1960, 5688, 1943, 9565, 4165, 4374, 2006, 1924, 728, 2171, 906, 11193, 1780, 7791, 66, 2330, 1197, 5914, 2674, 1039, 6561, 190, 9548, 3694, 4910, 4253, 1753, 6490, 1980, 4030, 2107, 1481, 9076, 409, 2987, 6200, 390, 1240, 2206, 3145, 62, 2352, 3427, 1720, 4103, 4560, 6014, 6789, 3803, 3921, 1007, 2698, 6703, 1653, 3004, 6725, 734, 8079, 1901, 6303, 1, 536, 1, 7717, 5074, 3783, 10298, 2424, 11694, 2102, 251, 7642, 6574, 1302, 1740, 1126, 3850, 910, 7835, 3723, 2337, 3586, 3980, 5978, 2011, 4306, 2028, 601, 9009, 5460, 6474, 150, 3999, 7969, 3803, 10270, 5155, 2178, 8860, 1630, 6648, 1718, 3735, 9802, 1357, 10125, 5293, 4293, 2143, 6495, 2764, 4065, 3730, 788, 2610, 8185, 6810, 1302, 5813, 7369, 1445, 4405, 3170, 6754, 4117, 1619, 2026, 4129, 4134, 15023, 1416, 7967, 6224, 1208, 15970, 8183, 9849, 4120, 3690, 4791, 1213, 4923, 1813, 1733, 1475, 4340, 5481, 2603, 3855, 8498, 10322, 4773, 688, 1814, 266, 947, 4329, 9349, 3069, 4056, 953, 2979, 1849, 4804, 773, 5129, 319, 1606, 13497, 7512, 4610, 5243, 931, 3782, 4915, 2260, 8817, 1164, 4738, 5123, 1668, 4510, 1265, 8018, 1176, 2639, 11467, 6738, 1853, 2668, 2723, 3831, 5303, 9206, 3644, 398, 7341, 4964, 4274, 5761, 4995, 7931, 6514, 5125, 1914, 4503, 4571, 8995, 4828, 1813, 1518, 5215, 62, 5824, 7770, 1969, 5600, 35566, 1681, 2376, 1031, 980, 8518, 8515, 4387, 2180, 7913, 2265, 2380, 6528, 3548, 2996, 2075, 823, 7888, 10170, 7892, 2698, 3132, 2270, 1993, 6948, 5067, 1952, 2549, 6693, 8119, 8609, 191, 5587, 4343, 1294, 1914, 2812, 1265, 48274, 2073, 6030, 5750, 8732, 6763, 1876, 4098, 4409, 10122, 4968, 8432, 1919, 6315, 1700, 727, 7412, 4146, 7933, 6183, 5401, 915, 7966, 1103, 2504, 1496, 1821, 3034, 1902, 1451, 2218, 829, 537, 1854, 6834, 4470, 6816, 7398, 3316, 2798, 1323, 755, 1801, 6249, 2081, 6640, 1315, 27873, 985, 2238, 2596, 4491, 3302, 4394, 1222, 5371, 2972, 5064, 5496, 1067, 8371, 5549, 4813, 3407, 8397, 463, 1021, 10650, 1259, 2791, 1828, 3253, 501, 806, 1481, 5778, 7266, 2976, 1163, 10023, 3168, 7707, 1048, 3660, 731, 3274, 6396, 220, 2344, 5364, 3902, 417, 7631, 3038, 2366, 9443, 1412, 371, 3652, 1630, 2736, 7568, 1275, 6177, 2482, 5380, 3816, 7419, 15968, 2064, 1074, 104, 12245, 10183, 6584, 1143, 1427, 1151, 5498, 7641, 633, 15979, 6469, 4362, 2410, 3993, 2537, 815, 279, 3521, 6861, 2203, 3744, 6305, 93, 1227, 1402, 1675, 2412, 7158, 1035, 4636, 5287, 3671, 460, 7322, 3707, 4591, 7469, 729, 7862, 6892, 1271, 9651, 7561, 6418, 6949, 4764, 4792, 522, 12546, 5133, 4046, 1725, 3494, 4768, 8542, 8327, 6987, 811, 81, 971, 5579, 5812, 10823, 4776, 4376, 1700, 1842, 6355, 5113, 9233, 2033, 708, 1879, 3240, 2430, 5740, 2582, 4502, 5235, 7279, 4262, 704, 2379, 2079, 3183, 992, 8982, 7044, 5227, 16311, 985, 2213, 1528, 1447, 8692, 9226, 745, 8263, 1750, 3921, 879, 2041, 4121, 2664, 953, 5667, 3556, 4095, 4535, 4172, 1737, 7645, 2515, 7064, 1849, 2262, 4197, 3533, 7126, 7508, 7410, 1182, 5214, 1565, 2224, 6214, 2462, 964, 1471, 2546, 3249, 3629, 6104, 5750, 3498, 5744, 1018, 6885, 4794, 1209, 6436, 45, 9145, 985, 3178, 7290, 4363, 4283, 2493, 635, 7299, 4858, 7362, 12286, 5378, 42, 3592, 3495, 9936, 5710, 2235, 5392, 8734, 6460, 4687, 3059, 3244, 1445, 11106, 5188, 4327, 1882, 5239, 3287, 4362, 8377, 19373, 1243, 5188, 6349, 11998, 5180, 2595, 5329, 6860, 9340, 2963, 6945, 194, 7217, 6879, 2658, 4323, 1692, 9115, 8224, 2625, 6039, 25299, 3306, 5307, 1894, 5908, 1828, 993, 8503, 8470, 5410, 976, 2685, 2105, 6900, 2108, 5246, 2473, 1927, 6464, 8907, 3655, 4493, 3777, 1504, 4345, 3015, 358, 944, 2316, 9675, 4655, 1561, 33018, 3571, 4187, 1462, 5361, 8067, 5546, 6169, 7233, 917, 5111, 2399, 4643, 2462, 18913, 509, 13497, 10739, 3477, 2622, 1879, 3190, 4369, 5379, 1, 7627, 2349, 7844, 908, 802, 3204, 4718, 629, 3961, 1877, 3741, 9062, 3144, 6381, 1427, 3475, 5372, 2202, 4483, 4790, 6052, 769, 4991, 7691, 13496, 3211, 697, 15595, 1929, 7236, 7722, 1649, 3131, 3853, 7914, 1358, 6225, 1738, 1318, 7518, 2886, 3821, 2331, 8303, 13425, 7627, 2976, 3180, 1188, 3811, 1147, 3738, 7111, 16487, 9405, 3412, 7631, 6263, 7049, 2164, 625, 841, 7085, 4092, 5161, 3320, 2723, 1672, 5033, 6594, 2320, 3222, 2650, 14424, 4321, 10698, 7185, 4670, 12964, 1207, 1033, 6867, 12528, 5316, 197, 806, 3349, 20374, 3715, 7120, 1129, 1979, 1930, 2748, 2511, 8173, 1744, 6411, 91, 391, 7038, 18943, 2410, 2675, 6595, 13457, 8550, 8292, 3337, 11828, 6054, 1779, 8401, 3759, 7110, 18182, 5790, 1111, 6622, 7717, 6522, 7096, 651, 7154, 5112, 3276, 2325, 2528, 1725, 7559, 7210, 6569, 1222, 4669, 3470, 6938, 1735, 425, 3703, 1185, 1213, 3510, 2874, 1913, 5653, 1181, 1511, 1371, 12865, 978, 399, 2174, 2680, 3752, 2366, 1893, 4286, 9753, 1629, 6533, 4879, 11200, 11179, 4138, 5473, 2540, 3959, 4083, 3237, 2633, 8580, 6186, 189, 781, 2545, 424, 3001, 6003, 6673, 7092, 4026, 259, 3004, 6171, 2095, 4644, 35878, 6173, 8415, 461, 3363, 2345, 5056, 1323, 442, 3109, 6743, 2393, 1466, 4098, 3503, 2080, 4124, 2374, 1107, 25253, 9053, 2201, 5041, 3534, 26193, 5502, 7949, 8333, 2180, 2611, 2655, 3992, 1747, 6386, 3925, 6162, 5973, 8092, 837, 8301, 6975, 12964, 4994, 8038, 6014, 6841, 2156, 38411, 9278, 11133, 1518, 8870, 7772, 2935, 536, 3651, 2322, 4015, 3502, 5956, 203, 2883, 96, 1973, 1703, 13573, 1906, 4330, 4662, 573, 2469, 2687, 1587, 4267, 420, 3615, 6913, 7779, 957, 2089, 1988, 3636, 1344, 5412, 1437, 5724, 3534, 2391, 9070, 1327, 7088, 1569, 593, 2188, 6545, 3073, 6474, 2596, 2595, 1, 2161, 2751, 437, 2122, 25370, 3180, 8455, 3612, 2887, 9937, 4975, 6767, 5369, 1298, 11135, 1108, 8906, 7380, 8091, 3096, 1798, 5658, 5559, 5799, 2030, 1341, 1112, 10269, 7107, 7887, 2812, 399, 5161, 5339, 1582, 2611, 3061, 1365, 1483, 4042, 2868, 7724, 1074, 917, 2206, 8004, 2814, 3927, 3673, 9104, 9797, 1877, 2659, 5292, 6511, 3151, 7809, 3980, 8573, 4918, 2758, 3663, 3028, 5452, 1837, 2696, 758, 5667, 2330, 1328, 9259, 6118, 1582, 331, 2562, 3419, 2163, 2369, 6764, 1489, 7537, 2286, 3988, 4270, 5470, 6773, 5119, 28227, 3634, 7753, 8465, 8682, 2693, 2797, 3332, 2080, 4323, 3134, 3212, 1443, 5914, 3230, 587, 9726, 821, 10964, 9164, 906, 1504, 4889, 869, 2053, 5503, 203, 6106, 7535, 1521, 1206, 4423, 7787, 3733, 9818, 2009, 3621, 2707, 1944, 32078, 5247, 3725, 4948, 8449, 6028, 2026, 1681, 1481, 432, 8397, 2019, 6346, 7334, 9119, 2521, 5637, 8654, 6553, 2663, 1380, 3518, 6371, 2183, 3123, 2859, 21956, 2569, 9695, 5585, 7422, 8264, 1409, 11509, 811, 5369, 4827, 1852, 8629, 201, 3735, 2747, 4939, 7167, 7002, 2429, 7140, 7341, 2516, 1445, 457, 7892, 6843, 5619, 8148, 1562, 5679, 7129, 5866, 25960, 2041, 3106, 1191, 5214, 852, 1861, 3696, 2759, 7211, 507, 6623, 6374, 4306, 27935, 6415, 4215, 1167, 1447, 7021, 1198, 7868, 4371, 1832, 3405, 7741, 4268, 1563, 3331, 9027, 2264, 8261, 1654, 3412, 3779, 27972, 1503, 383, 3247, 1750, 7192, 2704, 9054, 1621, 9530, 9404, 2649, 5173, 4904, 819, 682, 2622, 5402, 3032, 660, 6875, 4942, 1752, 8670, 7208, 2984, 1730, 634, 6235, 94, 9035, 1566, 5518, 3212, 2301, 7649, 2253, 4834, 3189, 8330, 4394, 1491, 3665, 7312, 6341, 5711, 1188, 1973, 9093, 4109, 3462, 9096, 2868, 1147, 12001, 2629, 1062, 3514, 5672, 12289, 6561, 6289, 5606, 17575, 1566, 8231, 6046, 4368, 7410, 3071, 1914, 7154, 73, 4886, 2808, 3745, 1496, 2259, 2427, 886, 3226, 2513, 7937, 5122, 3471, 1358, 1975, 1099, 5498, 3870, 3933, 3919, 5833, 4593, 3280, 4008, 6982, 4983, 2588, 8434, 249, 1911, 7308, 1691, 5358, 2186, 1068, 11888, 5547, 2186, 3741, 3143, 6910, 975, 2262, 6280, 12501, 4237, 2209, 10446, 5708, 1716, 1047, 5185, 57, 6846, 17789, 1067, 4947, 2355, 2767, 5824, 1584, 1597, 9375, 8649, 4183, 3128, 4155, 1915, 5856, 4966, 2867, 8077, 1093, 6633, 1530, 1423, 1604, 5751, 7019, 2618, 4593, 1237, 300, 6297, 1639, 947, 5526, 2775, 7347, 6376, 1033, 709, 1641, 3712, 8988, 4027, 959, 3018, 1, 4019, 7635, 3661, 410, 2629, 5718, 54, 5128, 2480, 790, 8987, 2472, 5334, 4442, 1431, 1877, 1898, 2933, 1066, 4142, 3355, 7372, 3771, 2363, 8003, 197, 2400, 1362, 864, 3151, 515, 1886, 4683, 389, 1833, 3510, 13930, 1427, 3213, 279, 4831, 346, 9485, 2278, 3096, 6343, 3645, 1640, 3068, 6893, 8118, 4034, 7158, 6593, 1929, 17389, 54, 1692, 3910, 1381, 8546, 10899, 4335, 7046, 20776, 4313, 7131, 1794, 1965, 7730, 5103, 5210, 3408, 2262, 2015, 11840, 5898, 7144, 1939, 2722, 2291, 6921, 2768, 3883, 4402, 6491, 1211, 7986, 4601, 13040, 1614, 4747, 1739, 6209, 1631, 6352, 5768, 5330, 9612, 4398, 6298, 4091, 4495, 8593, 1073, 2915, 18859, 3697, 724, 3965, 1999, 14903, 6987, 7621, 6428, 3384, 3892, 8996, 7654, 7945, 6974, 5311, 2037, 3685, 2065, 7635, 5951, 3842, 2509, 10752, 8136, 5745, 952, 1406, 5738, 6298, 4500, 2622, 2432, 3932, 4813, 15880, 12955, 4551, 7539, 1737, 15569, 1453, 1360, 994, 300, 3185, 4148, 8046, 3090, 2290, 1086, 5349, 2264, 1312, 1483, 8698, 3680, 1, 2684, 10768, 2033, 1330, 1147, 681, 8722, 3095, 7955, 10404, 2021, 1164, 2074, 3934, 916, 3205, 3036, 588, 4559, 1251, 3183, 5891, 2592, 897, 3656, 849, 4140, 4080, 1915, 3672, 2773, 196, 922, 6284, 3044, 2340, 7995, 2475, 9805, 3155, 2327, 1712, 2609, 6353, 3198, 846, 304, 18193, 1691, 2679, 2779, 2234, 2934, 9079, 7892, 4406, 2330, 199, 555, 201, 1567, 8448, 3138, 1276, 3294, 3652, 1102, 8268, 10944, 8249, 8688, 1368, 1339, 6426, 4206, 12157, 7868, 5867, 3787, 4516, 956, 8030, 22211, 4604, 15183, 2363, 1847, 2473, 5189, 5302, 17911, 4806, 7051, 269, 6728, 1, 2674, 1213, 3821, 2927, 4742, 6857, 6972, 14765, 4497, 6825, 727, 8508, 4965, 3736, 2160, 2134, 8466, 2928, 10128, 3161, 2913, 3767, 4787, 3924, 1970, 6797, 799, 3624, 3128, 4591, 1042, 977, 54, 6775, 12944, 659, 2588, 2521, 5018, 532, 2275, 4064, 4680, 2149, 6663, 7615, 2720, 2104, 3648, 943, 4158, 1316, 3860, 23009, 3084, 15040, 1525, 1197, 5515, 8665, 2639, 6724, 7020, 7639, 2460, 10433, 401, 98698, 2407, 2460, 3012, 7650, 4777, 3026, 2861, 1, 3843, 1781, 7429, 2031, 7439, 1685, 6262, 5844, 7419, 4960, 1910, 2628, 2269, 7971, 2406, 2547, 7053, 7747, 4976, 777, 4346, 3463, 2515, 266, 2031, 1946, 1421, 2265, 2481, 4159, 1973, 6280, 2935, 1789, 3056, 5250, 2463, 6940, 2424, 6531, 7389, 2900, 3489, 8679, 7656, 5466, 7271, 7169, 5902, 1936, 5687, 7194, 2186, 8733, 6055, 5402, 882, 1597, 4073, 5830, 2803, 513, 7339, 7833, 7015, 2295, 6769, 941, 1378, 2121, 2321, 8840, 3388, 1496, 5070, 891, 3887, 7973, 1722, 2602, 903, 1831, 4946, 2454, 3377, 6044, 830, 7419, 5886, 1119, 898, 8374, 6070, 7415, 4911, 707, 1691, 6988, 2319, 12987, 11533, 1209, 7700, 6247, 742, 4344, 5700, 2017, 6568, 7269, 9858, 2077, 4757, 2446, 10519, 543, 9348, 1481, 4795, 4310, 807, 9034, 435, 8682, 9298, 1901, 4800, 1866, 5748, 3553, 15353, 5516, 9068, 8304, 1196, 6102, 1112, 7261, 199, 5750, 1635, 1909, 1998, 6627, 9554, 2735, 7001, 650, 8634, 9138, 627, 7319, 5539, 2284, 3644, 1180, 3623, 5413, 9293, 2790, 4761, 1676, 15528, 779, 1086, 5501, 6536, 1904, 652, 3094, 5321, 7162, 3321, 7760, 3755, 1755, 1636, 1878, 4642, 8114, 1110, 6469, 2291, 1971, 6364, 9895, 9742, 7179, 7332, 3497, 1459, 5806, 4803, 6572, 1647, 1539, 1399, 7436, 1357, 898, 4222, 1612, 9334, 3808, 1142, 13550, 2505, 3062, 4373, 6628, 662, 3715, 2503, 1621, 2108, 6758, 13411, 2889, 1783, 3327, 7069, 5730, 10906, 1748, 115, 9295, 7482, 3793, 1515, 2850, 4366, 6736, 727, 4545, 1433, 7810, 2858, 22140, 7312, 1478, 4808, 3332, 706, 5274, 2044, 4481, 782, 3615, 5123, 4238, 3347, 8342, 7570, 5771, 7728, 1435, 3980, 5459, 4409, 9049, 2021, 921, 2843, 7638, 1698, 8443, 5589, 9434, 1104, 4897, 3361, 6744, 3810, 6245, 2270, 16990, 4782, 7218, 442, 2675, 3690, 1799, 5079, 4864, 6658, 7345, 3022, 4563, 5196, 1650, 3215, 2161, 7010, 2069, 1464, 4399, 3147, 2268, 1176, 8635, 2742, 3310, 315, 3843, 5173, 1753, 50229, 3584, 24600, 1798, 5682, 6516, 2907, 1497, 2359, 7230, 8421, 1427, 4916, 7421, 5270, 9598, 5836, 5360, 1034, 1321, 6796, 7977, 1609, 2172, 2815, 1875, 5374, 5250, 3529, 9554, 1875, 2014, 3990, 1435, 2599, 5679, 7397, 5937, 1550, 4858, 8852, 2944, 1998, 593, 5069, 1808, 2940, 10845, 527, 2368, 23183, 2586, 2202, 3868, 13945, 7688, 5178, 280, 17057, 2589, 148, 2416, 7434, 1947, 14306, 832, 2569, 4989, 3168, 3814, 201, 2810, 54, 1942, 1701, 6392, 6886, 7462, 5935, 784, 1949, 1424, 6663, 5024, 4903, 472, 3884, 23844, 157, 3006, 8258, 8650, 3640, 1749, 1092, 1, 871, 3969, 7800, 93, 1565, 1469, 7982, 1635, 7345, 6318, 2182, 4097, 6746, 5890, 90, 7664, 4728, 5012, 946, 2768, 5228, 1853, 2260, 1592, 7324, 9990, 614, 20074, 6640, 778, 2452, 9001, 18626, 3085, 7822, 3667, 1948, 194, 3652, 5059, 5843, 938, 1028, 203, 9669, 2346, 2900, 1707, 872, 2265, 1035, 6025, 4829, 5071, 1578, 9741, 8311, 9657, 489, 6720, 279, 1584, 1368, 4727, 5011, 1813, 1784, 4195, 5554, 197, 7600, 5118, 5914, 1033, 1886, 9088, 2137, 8575, 3208, 2737, 1200, 5687, 1524, 4038, 4861, 9404, 1485, 2223, 5731, 2538, 1039, 5805, 7400, 576, 7527, 5608, 1829, 7309, 6142, 881, 8247, 8583, 144, 4198, 3207, 1782, 1152, 657, 2553, 6920, 4101, 5739, 3166, 6328, 109, 3009, 4196, 6949, 24646, 9086, 3220, 5039, 4048, 2520, 370, 1, 1747, 1923, 5317, 2285, 2205, 9791, 7007, 7469, 5027, 7272, 3627, 5050, 1016, 7388, 12053, 4341, 3920, 1736, 3838, 2083, 9027, 5746, 2360, 6221, 17046, 2602, 2576, 8412, 6590, 10685, 3164, 7671, 4477, 862, 2743, 1729, 413, 7553, 719, 6344, 1185, 1067, 1028, 7803, 4685, 6226, 5832, 4499, 6234, 4639, 2204, 5719, 1499, 8669, 3343, 5101, 1301, 4363, 7607, 14967, 758, 2580, 4246, 641, 1574, 1365, 5616, 7129, 2513, 2386, 2855, 7023, 8654, 5403, 1519, 8503, 312, 1070, 14952, 2440, 12343, 1575, 10221, 3217, 1186, 6585, 2251, 1266, 1118, 2770, 4241, 5391, 4714, 3879, 1587, 6708, 3109, 1353, 1402, 6314, 335, 6608, 5917, 1343, 1174, 1805, 3145, 10866, 6063, 8860, 1712, 7227, 2441, 1414, 7181, 347, 1392, 4548, 8290, 8679, 3886, 2488, 2627, 158, 2060, 22452, 1263, 7751, 18630, 1134, 1227, 11950, 7409, 963, 8735, 6097, 555, 7223, 3867, 1005, 2892, 1001, 4476, 300, 5390, 8030, 2633, 2329, 308, 5612, 1486, 10021, 2952, 2843, 9777, 1828, 3958, 5334, 7660, 7329, 25194, 7522, 5774, 577, 1918, 2209, 3987, 4040, 7310, 2775, 779, 21931, 2408, 384, 2215, 15979, 2684, 7306, 5466, 5829, 11112, 4917, 5378, 8648, 5610, 6918, 354, 15721, 4168, 594, 5057, 785, 6652, 670, 15689, 6847, 5428, 4504, 2297, 1067, 7811, 9462, 2435, 1056, 6957, 4801, 3615, 5570, 3579, 3005, 1392, 2267, 4200, 7256, 1157, 4236, 6500, 1532, 11470, 7269, 1792, 8165, 8083, 3502, 4417, 202, 1805, 7411, 2460, 1228, 6268, 1824, 1291, 1931, 1110, 9440, 563, 7845, 7390, 961, 2298, 4283, 2296, 307, 1405, 5534, 9767, 1069, 6331, 6319, 4567, 4395, 7574, 4617, 1879, 6133, 1228, 2673, 4977, 2930, 1813, 6508, 7747, 3454, 2048, 3320, 2039, 6570, 3128, 4114, 1722, 6342, 8309, 4256, 1051, 6894, 2057, 7335, 1650, 8357, 9289, 723, 553, 745, 4031, 3065, 10569, 722, 2595, 4068, 4650, 10461, 1260, 778, 7347, 1634, 3820, 1606, 1931, 7382, 5626, 5345, 7175, 7038, 1102, 2330, 4345, 547, 1101, 10700, 509, 7296, 5625, 5851, 4977, 6956, 4654, 6300, 3173, 5454, 2339, 662, 2716, 3844, 4330, 3142, 2520, 1026, 6558, 2006, 662, 2476, 6955, 4832, 4202, 183, 363, 1778, 1023, 6385, 3447, 9553, 1361, 11446, 3486, 27834, 5402, 2466, 5562, 6681, 2974, 15954, 3258, 6841, 17525, 5752, 17060, 461, 5764, 5729, 954, 3025, 6458, 3715, 3362, 1786, 1, 6232, 15512, 5422, 3114, 5913, 1926, 2490, 1818, 6886, 165, 1865, 199, 1633, 3150, 6979, 5032, 1657, 5112, 1057, 6884, 93, 4571, 3999, 4145, 2786, 6282, 5621, 2969, 3835, 3797, 5561, 2848, 2403, 5775, 7193, 2822, 4667, 3490, 197, 79, 1308, 4132, 2188, 6735, 4458, 732, 5792, 4129, 4516, 967, 10376, 5007, 4175, 885, 6212, 2332, 5300, 5409, 5317, 4091, 3987, 2631, 2972, 7087, 3783, 5065, 7778, 2052, 6792, 3399, 4548, 1892, 4515, 6604, 4606, 2190, 599, 505, 8083, 2087, 1084, 2593, 7560, 1, 4855, 23443, 5118, 1409, 2040, 1623, 2833, 2564, 352, 4413, 11246, 3770, 6823, 6690, 6580, 14741, 2930, 8862, 9987, 3179, 1830, 2888, 5660, 1203, 150, 6205, 5299, 2928, 5193, 1458, 693, 3893, 1781, 11907, 520, 5884, 6830, 5745, 780, 5166, 491, 3469, 1351, 7285, 1916, 1219, 6433, 456, 3993, 2145, 5773, 9366, 11158, 2505, 3350, 6678, 2812, 7904, 8509, 4873, 6142, 8596, 49988, 8094, 7219, 1178, 2274, 5796, 4958, 9475, 2502, 1231, 3018, 13, 6597, 664, 1882, 6736, 201, 435, 5170, 808, 6966, 3926, 3300, 6254, 3490, 1633, 1402, 741, 2708, 552, 1877, 8591, 1539, 4157, 2122, 2758, 1560, 1434, 25789, 1294, 12726, 2035, 417, 1570, 3180, 4237, 4127, 2206, 1731, 12113, 7087, 810, 24109, 5473, 4068, 634, 4625, 2162, 3335, 1257, 6208, 5361, 1249, 7066, 7041, 3138, 15072, 7593, 2729, 4462, 4911, 11341, 7405, 1445, 19010, 201, 7229, 8823, 3262, 1256, 7265, 6927, 4214, 2967, 7379, 1613, 2293, 2908, 806, 6048, 3214, 7835, 748, 6477, 6979, 1202, 7592, 11670, 8906, 2999, 7912, 4991, 2458, 2016, 10090, 658, 2939, 9847, 1716, 7998, 1121, 6619, 4460, 1101, 5448, 1210, 8265, 1714, 5129, 1228, 3445, 2608, 910, 1974, 7275, 5396, 7420, 973, 6588, 3059, 3304, 3076, 1655, 1296, 1924, 1, 4419, 1934, 3808, 647, 17336, 1418, 7716, 1978, 1772, 6002, 4535, 2425, 5812, 907, 3631, 5489, 2210, 853, 1773, 1412, 11529, 8582, 1928, 1751, 6519, 836, 9192, 6628, 3206, 3549, 1712, 7543, 1918, 5123, 4085, 1407, 2756, 3489, 2833, 4582, 2187, 7558, 3967, 6464, 7933, 7153, 2944, 7966, 6382, 3240, 8685, 727, 2901, 1698, 6876, 1075, 171, 260, 97, 20345, 4369, 1054, 1399, 7313, 616, 4121, 2342, 27700, 1549, 5703, 22121, 4403, 5315, 7082, 9955, 706, 2016, 31944, 699, 2098, 5996, 11662, 8140, 3574, 1106, 2637, 3299, 6031, 15120, 488, 10080, 484, 4791, 4410, 5091, 1091, 3872, 7111, 1706, 433, 3410, 5350, 63, 5694, 11252, 6649, 1271, 1823, 386, 3455, 2182, 93, 610, 7606, 7249, 1336, 1803, 18235, 1943, 202, 605, 2951, 6624, 10853, 16320, 5707, 7238, 6530, 1012, 6349, 4321, 27823, 1043, 1194, 6446, 1319, 2302, 2863, 2289, 2594, 2081, 1973, 1801, 8177, 5077, 7456, 1882, 5386, 4780, 3513, 4306, 2031, 3672, 10409, 4115, 1156, 5474, 6941, 5157, 151, 778, 11141, 4867, 1097, 2105, 1595, 1777, 5957, 3943, 9769, 6330, 2272, 10776, 6209, 1232, 5883, 7638, 17669, 10763, 1, 1860, 7452, 8836, 170, 2137, 6437, 1853, 3987, 4048, 2145, 7012, 2502, 9435, 4551, 1763, 9619, 5333, 790, 1251, 1994, 9887, 529, 1996, 1413, 2964, 9498, 60, 3058, 3235, 4645, 3059, 5208, 36075, 1959, 1159, 1952, 2948, 2735, 2807, 149, 7040, 2219, 1264, 4203, 6840, 10630, 3961, 5321, 4832, 4307, 784, 4661, 2162, 1347, 2742, 2082, 203, 1394, 398, 3867, 1800, 7223, 1386, 3983, 581, 2545, 2703, 3686, 7309, 10421, 2032, 11248, 7755, 1656, 8539, 7540, 1463, 4892, 5412, 2033, 7424, 3474, 6951, 2014, 2583, 8161, 4293, 1827, 4014, 10380, 3519, 1438, 4913, 9292, 12670, 2199, 5434, 2514, 7473, 4784, 975, 4590, 4699, 7079, 9437, 2467, 2268, 4137, 8348, 613, 850, 1692, 72, 6338, 4552, 1617, 7902, 7335, 12062, 3618, 4013, 7236, 6224, 376, 26056, 3763, 9439, 26773, 3399, 4337, 3393, 277, 1228, 555, 3200, 6733, 6782, 14803, 1803, 6238, 1003, 1395, 4454, 1861, 2566, 7271, 8262, 1395, 9248, 5555, 1097, 2021, 2125, 7164, 17057, 6869, 813, 1440, 1014, 8656, 2650, 157, 743, 7389, 2072, 6247, 8454, 1090, 10223, 10455, 2426, 7893, 4714, 16700, 2710, 7999, 5039, 3536, 4082, 6464, 2096, 1038, 5379, 9023, 3131, 4097, 2642, 4124, 1821, 3533, 11695, 6516, 11770, 8996, 3289, 2411, 5666, 4436, 3224, 16825, 2735, 3619, 1113, 2640, 3478, 1003, 3046, 10800, 8686, 3030, 2311, 15914, 6581, 2176, 54, 1576, 2113, 5826, 3164, 1625, 824, 4370, 1109, 2981, 1518, 25580, 3158, 6030, 2233, 14145, 3056, 2110, 3026, 12881, 1513, 9019, 7047, 5566, 5494, 1191, 1139, 5009, 7467, 3290, 1756, 1445, 4580, 199, 7287, 1920, 15680, 3428, 1513, 4476, 5517, 2152, 2527, 1392, 4954, 8315, 4709, 5697, 9849, 1479, 1992, 6104, 2682, 1348, 2838, 2181, 10149, 18454, 5948, 2330, 3642, 12807, 2129, 1587, 476, 14111, 5526, 7409, 4783, 5347, 2550, 8148, 6687, 8479, 2565, 1, 8070, 3174, 4600, 8300, 1126, 1136, 897, 1800, 2503, 724, 1988, 6736, 999, 16084, 618, 5616, 2403, 607, 3653, 10591, 8109, 4518, 2186, 7052, 4198, 15451, 277, 9495, 860, 1584, 5779, 436, 4162, 6333, 1760, 15786, 4195, 1427, 4013, 3608, 3407, 2534, 9885, 3186, 1157, 10914, 3296, 18935, 2073, 1504, 1657, 2052, 3797, 8818, 1559, 1486, 4581, 4109, 1765, 12284, 1942, 8387, 1577, 5613, 9285, 140, 5608, 2051, 2275, 6570, 1369, 2450, 54, 7779, 4188, 3917, 4323, 2321, 325, 6551, 974, 2984, 2307, 548, 981, 7175, 1569, 2789, 5159, 4333, 1683, 8087, 5014, 648, 10774, 9191, 5600, 5949, 2736, 5737, 906, 2489, 1974, 11949, 370, 4412, 1152, 4677, 3551, 6414, 2032, 1388, 178, 8288, 6173, 499, 6225, 3805, 6343, 2865, 3327, 4157, 3972, 6654, 838, 4764, 821, 1154, 5905, 50755, 1083, 6538, 2813, 504, 6504, 7611, 6853, 1501, 516, 3041, 1717, 1147, 3211, 5600, 1634, 1995, 7934, 7122, 6124, 3, 3629, 564, 580, 5296, 729, 1700, 1426, 3748, 1302, 3470, 7311, 1092, 3921, 3089, 463, 6527, 2240, 1635, 9423, 545, 1492, 7501, 4733, 8153, 2905, 5227, 5511, 644, 5836, 657, 935, 975, 294, 5183, 5977, 7411, 2655, 6456, 1513, 5570, 5223, 8471, 4775, 320, 152, 3051, 7398, 2089, 3087, 201, 5287, 5775, 7826, 3253, 7600, 15605, 2604, 10416, 997, 5498, 5519, 476, 823, 3105, 953, 1046, 7896, 1255, 593, 1716, 188, 10477, 7568, 9061, 8638, 595, 2613, 1555, 2755, 7295, 2064, 2231, 2556, 8764, 1642, 1077, 1617, 10592, 3588, 1571, 6841, 5759, 2687, 1922, 677, 1968, 2144, 13882, 2220, 1648, 2296, 8766, 7193, 5527, 87, 7435, 13705, 7176, 963, 595, 3353, 1793, 6340, 6572, 686, 2946, 6417, 1997, 2850, 216, 998, 4068, 4610, 7721, 2383, 652, 2885, 6070, 1104, 2861, 1320, 8176, 5764, 8529, 8646, 5174, 2344, 8060, 733, 8076, 1973, 4032, 6685, 922, 7434, 5755, 3788, 5126, 9219, 3590, 6397, 5467, 1402, 9033, 398, 2921, 3372, 611, 7648, 302, 8052, 3016, 5924, 1155, 2659, 5156, 2875, 2069, 3264, 7014, 4462, 4042, 3741, 1128, 3385, 4297, 2617, 6816, 2134, 3622, 735, 5387, 2033, 287, 8098, 7218, 3652, 175, 8106, 7174, 6658, 8886, 10395, 1228, 664, 1166, 8383, 2840, 3394, 5757, 6851, 5837, 3318, 6583, 16055, 9187, 3809, 2168, 19312, 10897, 6755, 1916, 4269, 629, 1679, 1396, 9564, 621, 1865, 6696, 6697, 8289, 3498, 9084, 5018, 2766, 2804, 1791, 5100, 2280, 6436, 6581, 4854, 1771, 5324, 2892, 11400, 202, 1876, 4668, 13235, 1664, 7335, 5293, 6201, 6537, 2310, 688, 17, 1982, 3256, 3990, 5757, 2143, 4447, 7652, 4001, 4851, 6450, 6814, 447, 2532, 4131, 425, 1911, 2539, 4217, 1662, 5951, 6873, 4285, 2694, 8593, 23025, 2226, 4541, 3757, 3384, 2453, 6522, 1420, 2558, 2201, 7789, 4705, 6025, 73181, 2212, 2715, 5939, 5285, 775, 7844, 3073, 65874, 3572, 4957, 2879, 8799, 4590, 1943, 5530, 6408, 3326, 6413, 65, 46386, 4694, 1828, 5193, 12790, 3711, 2652, 3431, 4740, 1497, 5996, 1663, 1280, 1611, 14380, 2624, 14992, 9034, 8363, 3280, 6430, 3208, 4158, 255, 9275, 3539, 9204, 6802, 1093, 5215, 224, 2304, 885, 5840, 7127, 2795, 4405, 4252, 115372, 3732, 6113, 198, 2823, 1976, 10059, 3763, 4287, 3302, 12097, 5862, 692, 1116, 1837, 11286, 1023, 7265, 1791, 5643, 6604, 2857, 1627, 7100, 1457, 2049, 1057, 9537, 1586, 10867, 2288, 1370, 3182, 2202, 1989, 2389, 354, 9324, 1873, 2273, 971, 91, 434, 2760, 2065, 3352, 3334, 9420, 7988, 1147, 596, 1895, 4276, 189, 5362, 6089, 3427, 2279, 2549, 3390, 9164, 3690, 3025, 5042, 16190, 3293, 93, 4974, 8954, 1737, 911, 4678, 8702, 3389, 1807, 2020, 977, 5937, 170, 2262, 2175, 469, 1308, 2633, 5064, 3377, 1455, 54, 7582, 785, 5248, 1964, 1720, 5300, 7598, 6166, 3898, 2621, 1071, 4451, 12768, 5742, 605, 661, 5941, 1290, 6854, 260, 2558, 6054, 6941, 3416, 940, 2349, 5904, 609, 1694, 6068, 3061, 1255, 1033, 7214, 8618, 1337, 701, 8038, 203, 1992, 1705, 1205, 1785, 1130, 7348, 1445, 4289, 4826, 4740, 660, 500, 1991, 295, 17148, 5943, 4595, 5699, 3783, 2219, 4306, 7217, 1977, 4663, 2713, 3536, 2584, 6397, 1501, 5770, 3626, 1330, 6738, 2325, 21693, 5835, 4849, 6195, 1079, 7248, 7753, 2503, 1562, 3385, 3632, 473, 5657, 3723, 4587, 2797, 2146, 3012, 447, 20978, 10730, 151, 2602, 1879, 5581, 247, 10853, 579, 7078, 187, 1706, 3188, 1892, 8450, 7927, 1345, 13710, 8110, 7031, 2060, 1921, 1918, 995, 2299, 4467, 1463, 2267, 2718, 7829, 2261, 1775, 732, 23224, 2104, 3487, 1082, 16044, 4093, 1780, 1762, 575, 39887, 1393, 5384, 6732, 8389, 4019, 2094, 1744, 808, 2680, 5163, 3889, 1603, 2070, 2041, 1168, 4700, 5898, 917, 10965, 7581, 3996, 8133, 9903, 15057, 321, 4882, 3592, 27712, 2751, 9601, 7003, 1873, 1493, 1434, 2204, 5073, 7744, 3994, 20064, 17387, 1577, 1518, 177, 147, 1666, 879, 2419, 2579, 845, 4554, 5583, 4170, 3288, 1975, 16210, 5677, 10434, 8451, 3930, 7950, 3675, 1107, 3633, 999, 10532, 2520, 3438, 6069, 8109, 4990, 705, 5066, 1090, 4706, 5671, 4246, 11091, 3171, 2545, 15234, 42935, 1399, 2167, 3331, 6806, 8798, 3206, 7351, 2531, 3730, 6499, 1302, 1803, 6607, 6275, 2255, 5446, 27871, 2389, 35236, 6276, 8559, 1209, 1979, 6986, 9173, 4685, 2172, 4222, 3343, 7036, 3820, 408, 7055, 1265, 12445, 1991, 1940, 7896, 1293, 4873, 1320, 940, 5764, 5849, 7029, 3948, 1690, 4960, 1765, 1542, 1556, 6924, 2319, 8900, 1836, 1257, 4538, 7848, 5336, 4294, 16169, 2984, 6578, 1003, 17915, 54, 8980, 3963, 4355, 1993, 3457, 4748, 2145, 801, 7614, 2341, 2133, 1808, 3820, 2971, 1560, 12910, 4050, 1071, 137, 8417, 3688, 793, 584, 6998, 8732, 2390, 2072, 1800, 2497, 5553, 1, 6592, 8158, 540, 3461, 1701, 7428, 2843, 572, 1886, 5367, 5222, 3234, 7007, 4075, 3970, 2260, 3325, 4822, 8262, 7545, 6474, 4047, 159, 6834, 6117, 996, 1006, 1607, 1744, 3960, 8908, 5082, 3163, 2490, 2708, 8389, 7334, 2152, 2343, 8342, 451, 8370, 3618, 3607, 5272, 387, 1532, 3292, 1445, 8465, 917, 606, 7024, 4527, 9866, 1295, 16917, 3663, 1934, 824, 4159, 1668, 2133, 5250, 2448, 135, 2549, 8701, 7036, 7836, 2800, 10091, 7092, 7426, 8357, 392, 4838, 3018, 194, 12779, 824, 1526, 26773, 6740, 5076, 2701, 7840, 10197, 2503, 1903, 765, 6305, 6961, 5724, 485, 7626, 9391, 4698, 1474, 3010, 5120, 1892, 43892, 3732, 1914, 5889, 4187, 663, 3452, 1795, 1847, 4969, 6951, 7740, 6103, 6114, 29868, 1980, 5957, 610, 710, 10756, 3396, 18025, 6839, 8820, 2197, 5025, 8729, 4022, 2400, 7017, 656, 6704, 8447, 6972, 3784, 17618, 1442, 2487, 2134, 8155, 11398, 3356, 9230, 8591, 2101, 5147, 1102, 6974, 9001, 11222, 2900, 3195, 6720, 1989, 2707, 3019, 473, 3513, 4567, 7404, 4296, 420, 16355, 3286, 7240, 3739, 654, 4702, 1900, 2853, 1267, 3761, 6409, 4753, 6835, 11426, 1202, 565, 984, 180, 9145, 6033, 3889, 8934, 4578, 7847, 3553, 4231, 3730, 2108, 4286, 6593, 1896, 3087, 3551, 645, 2823, 1766, 1105, 6028, 886, 1558, 6619, 9863, 15595, 6895, 8471, 4758, 4389, 5433, 1973, 8282, 3022, 43882, 8445, 2209, 13908, 7934, 1136, 7050, 655, 8316, 8776, 8966, 4898, 5224, 6822, 9433, 9605, 8246, 3262, 7720, 3791, 1602, 3053, 2526, 1476, 9194, 3509, 198, 4343, 7354, 6845, 7257, 7840, 6646, 3431, 1191, 793, 6388, 3295, 2008, 1793, 624, 7332, 5145, 5189, 2924, 882, 12936, 8438, 1674, 21933, 6089, 4630, 5556, 1692, 3077, 7081, 10085, 5032, 5641, 6237, 6389, 3250, 6091, 6591, 2146, 8076, 7602, 181, 209, 3601, 6114, 2209, 6108, 1307, 4019, 6075, 949, 4326, 1238, 4710, 9883, 2096, 6919, 2022, 7805, 1384, 26772, 2054, 10085, 7336, 4824, 2746, 3200, 193, 7939, 1567, 1, 3785, 2617, 24451, 1020, 2516, 4230, 155, 3794, 607, 2892, 2585, 10695, 6490, 7184, 3635, 829, 1061, 4622, 6171, 2265, 135, 4736, 1936, 98, 2181, 7066, 2300, 7654, 4000, 1004, 7780, 1607, 2009, 1636, 6623, 5860, 3929, 2195, 1772, 1559, 4600, 54, 18911, 1285, 7405, 6584, 2656, 25021, 143, 2142, 3970, 3309, 6190, 14475, 8410, 1618, 3847, 4911, 2843, 481, 3598, 5042, 760, 8083, 1194, 4308, 5197, 9297, 11906, 2669, 8558, 4706, 3516, 5835, 3582, 1340, 19853, 1146, 7131, 5578, 1637, 2744, 2611, 5366, 4291, 1755, 5094, 373, 1583, 1343, 2493, 3360, 2521, 7007, 5180, 51, 2793, 339, 5452, 3685, 2872, 6874, 5389, 5607, 2074, 181, 5216, 10334, 6903, 5416, 6657, 2188, 2012, 5537, 1945, 2500, 3824, 3103, 7125, 2057, 6415, 7567, 2385, 1639, 6460, 2074, 5430, 9468, 1587, 7266, 5519, 1224, 6487, 25841, 738, 6018, 4348, 704, 11444, 9374, 4880, 189, 2947, 1226, 3346, 10581, 156, 6987, 2774, 4993, 6884, 4219, 10743, 8695, 3448, 3124, 1819, 7252, 5709, 6942, 5305, 6685, 10550, 2118, 10770, 2932, 3525, 2788, 15510, 1490, 3894, 2497, 7378, 1639, 3501, 9401, 1114, 1781, 1443, 2691, 278, 3896, 768, 3868, 5293, 268, 3525, 5442, 1318, 1869, 3262, 2923, 4126, 3488, 616, 3914, 6324, 13054, 6611, 7527, 3923, 4560, 1934, 1445, 4967, 1223, 2798, 755, 2049, 568, 3749, 3452, 3804, 1544, 4549, 2001, 7405, 4207, 11871, 5490, 789, 6338, 2499, 54, 4477, 202, 5298, 7793, 6239, 8180, 6837, 4123, 3680, 13588, 4248, 4883, 985, 3294, 5478, 10013, 7994, 2239, 9644, 4042, 6588, 4234, 2923, 1, 13946, 3292, 2122, 2772, 7419, 4094, 1116, 2046, 1443, 2089, 3976, 8679, 1154, 7422, 7495, 7024, 554, 6252, 2394, 2692, 903, 11017, 7420, 5731, 6627, 1933, 9233, 1174, 4298, 589, 3128, 1208, 7127, 3548, 180, 6634, 6789, 864, 3145, 3164, 6453, 3358, 6181, 7487, 4218, 5621, 2358, 10812, 926, 4658, 4604, 4434, 7530, 203, 7186, 1726, 7631, 6656, 1488, 5269, 6618, 1703, 7060, 739, 2730, 3051, 1615, 9092, 1899, 521, 1749, 8493, 202, 198, 4373, 34590, 3132, 115010, 3749, 788, 9174, 4097, 8419, 8324, 7255, 3985, 8274, 1068, 822, 3009, 6574, 7973, 544, 8588, 7259, 665, 1888, 79, 3193, 5816, 2391, 3576, 6489, 2761, 1252, 4069, 1198, 188, 4594, 6689, 11177, 1563, 8086, 876, 1331, 6590, 198, 217, 11986, 3946, 7781, 7570, 4591, 12913, 5120, 2039, 6748, 507, 9313, 9851, 1232, 1641, 3269, 602, 845, 3515, 6063, 2010, 994, 3247, 11541, 10444, 1990, 4803, 8646, 4912, 2683, 2919, 1358, 2362, 2935, 4226, 1, 3086, 13109, 7113, 19681, 223, 1813, 7960, 45, 7992, 809, 799, 5794, 1680, 7342, 3233, 7227, 2220, 4740, 5761, 1661, 12209, 4625, 190, 9051, 130, 3902, 4349, 484, 1661, 4322, 7174, 5708, 834, 5028, 7250, 3134, 1679, 2192, 1614, 8673, 28855, 172, 1959, 4722, 6373, 10312, 5007, 7939, 1016, 5617, 2518, 4073, 248, 194, 3765, 1034, 294, 4116, 2022, 17438, 1225, 9258, 1839, 5542, 1936, 1628, 7423, 405, 1703, 1046, 2576, 5819, 4715, 5309, 1487, 6248, 27503, 5373, 3568, 320, 1533, 3866, 17367, 2257, 2438, 6144, 7307, 6125, 8390, 2629, 2367, 6249, 4244, 9024, 3013, 7723, 748, 1852, 1010, 2861, 473, 1206, 297, 11486, 8411, 18056, 2118, 1609, 1140, 4050, 1779, 6204, 7718, 767, 23717, 540, 1730, 3744, 3267, 2429, 13598, 200, 2486, 9096, 1793, 1635, 1097, 2479, 2535, 1535, 3110, 1449, 3536, 6402, 706, 5933, 2782, 6011, 1430, 6540, 21975, 4242, 1765, 4097, 7940, 2345, 12363, 5217, 6596, 2105, 992, 2657, 2003, 1553, 3931, 2271, 2691, 32122, 3220, 10063, 1502, 1368, 20337, 1325, 6463, 1552, 5548, 5247, 5943, 2462, 12861, 198, 3461, 623, 2136, 6546, 7995, 1413, 448, 2292, 5304, 9828, 3792, 6666, 7144, 1613, 3008, 887, 4934, 7545, 1987, 855, 466, 3607, 4848, 14822, 3443, 2057, 1, 6542, 1519, 10647, 6241, 2565, 19, 2348, 6594, 8360, 149, 1568, 4746, 1855, 7780, 1035, 4335, 217, 7182, 911, 8329, 1988, 2220, 11294, 6999, 3480, 6340, 52800, 16866, 7102, 2712, 3196, 1712, 15031, 9192, 1561, 3990, 9321, 1728, 8823, 3479, 1981, 6461, 1718, 2275, 1613, 6800, 6744, 2768, 3807, 984, 3449, 2153, 4588, 5225, 4478, 16525, 959, 26450, 3949, 2460, 2442, 2097, 2323, 2492, 1246, 2607, 6099, 1514, 1519, 1862, 42551, 3409, 2084, 2389, 65, 7678, 5934, 7476, 3575, 2616, 8018, 8554, 143, 2392, 1615, 7299, 2450, 1900, 8613, 2654, 1941, 2866, 7079, 8319, 1385, 1447, 1529, 843, 1835, 5024, 15098, 5147, 7722, 3409, 2091, 10119, 4474, 2806, 5539, 2464, 33427, 1460, 4921, 3231, 9219, 2830, 8327, 9021, 5502, 2805, 2189, 5781, 1684, 315, 10179, 7630, 889, 4218, 6138, 8287, 4610, 8068, 26232, 4842, 8457, 7294, 1546, 4727, 7106, 2164, 3078, 1428, 766, 7935, 1873, 2654, 533, 3618, 14467, 5521, 1480, 1042, 1026, 8226, 2577, 2186, 735, 3632, 1288, 2304, 184, 3744, 3773, 1483, 3453, 303, 5298, 3216, 3984, 4202, 5793, 8186, 6274, 8211, 3687, 2195, 4844, 5346, 8228, 7663, 4455, 7532, 1106, 6722, 2808, 2411, 394, 5445, 5560, 4081, 1795, 3675, 9766, 7796, 8171, 7388, 1082, 962, 6024, 4714, 6114, 5400, 6200, 5505, 2397, 8336, 1033, 4089, 4722, 3177, 7241, 5682, 2099, 1714, 2740, 2995, 1776, 4881, 1236, 1562, 6874, 5479, 5805, 3399, 4180, 2461, 9000, 5767, 836, 5025, 8214, 4566, 3860, 2884, 1026, 3700, 4253, 2838, 1772, 2232, 11137, 1524, 1968, 728, 1037, 437, 3327, 1856, 3084, 1921, 2355, 7679, 15914, 2709, 2756, 5342, 1950, 1602, 155, 5122, 2419, 7478, 3692, 4077, 2081, 3823, 6564, 1129, 2477, 2365, 1523, 4523, 7808, 9469, 8415, 1636, 12181, 4977, 1443, 5874, 2841, 6154, 2410, 6794, 1667, 2221, 1086, 6359, 1662, 4314, 6904, 7306, 6528, 742, 734, 3907, 76, 6457, 6231, 1637, 1510, 3418, 6154, 1810, 5353, 13611, 1362, 10488, 6276, 3089, 1389, 5707, 7003, 1873, 1018, 6234, 1912, 1265, 500, 12783, 5609, 1153, 1980, 999, 3576, 1700, 688, 1812, 7446, 7002, 2082, 7229, 4134, 1963, 778, 3827, 1152, 2779, 828, 2697, 6904, 9114, 4714, 3730, 1726, 3217, 5992, 152, 1665, 3383, 9139, 2645, 8582, 7866, 2693, 2210, 6245, 1360, 2467, 5386, 3215, 14861, 6050, 188, 7042, 1143, 2495, 3825, 511, 6990, 2489, 1202, 716, 6965, 1206, 3722, 4458, 166, 2132, 2703, 2055, 5233, 678, 3550, 2934, 1700, 3332, 2573, 4415, 1007, 5827, 1276, 26125, 221, 1741, 16934, 5771, 9334, 10402, 1537, 1129, 3052, 7963, 4735, 7039, 6953, 26163, 3476, 5755, 681, 1135, 9066, 2175, 14685, 10729, 9715, 5463, 2406, 9839, 2495, 2659, 905, 779, 970, 202, 8284, 6295, 11027, 10216, 2530, 4431, 1178, 164, 5683, 278, 199, 1333, 2072, 2006, 1367, 2300, 6510, 5671, 15648, 11464, 901, 5282, 1717, 2967, 5577, 5812, 5917, 4333, 5384, 888, 3986, 2137, 5454, 12383, 4537, 3111, 2282, 4002, 25847, 3025, 952, 4894, 3969, 831, 891, 565, 2685, 4403, 4121, 1, 4658, 3208, 6761, 965, 4907, 7025, 9892, 9929, 7481, 2809, 1287, 1040, 666, 2129, 3179, 7568, 14543, 6794, 1991, 2186, 5912, 6216, 5417, 3546, 44540, 5823, 5515, 4464, 2130, 1654, 7511, 20771, 8857, 1411, 4231, 102, 150, 1700, 3537, 8262, 569, 7424, 1417, 603, 27823, 2606, 8339, 2723, 654, 5740, 15035, 1837, 4001, 1485, 12035, 6063, 5057, 3335, 1445, 7937, 9179, 6509, 4068, 1330, 5187, 1012, 7212, 6910, 2524, 4844, 12601, 7936, 2605, 1178, 2552, 642, 779, 1512, 4934, 3465, 6179, 1, 5001, 597, 8732, 14408, 4832, 9627, 20602, 4438, 4637, 6046, 5522, 3205, 5530, 10641, 1672, 3926, 4647, 6674, 9450, 8912, 826, 6889, 366, 7171, 547, 941, 7401, 1314, 4009, 1480, 2085, 3912, 4255, 2070, 8014, 1973, 2007, 2720, 2248, 2026, 826, 6686, 5641, 4638, 5209, 2288, 8003, 8156, 5390, 5358, 6372, 2473, 7997, 7898, 4501, 4345, 2117, 7930, 408, 2712, 1655, 1585, 283, 563, 1244, 199, 12325, 117, 10809, 1472, 852, 3438, 2757, 2487, 1739, 8141, 2628, 2676, 3611, 1366, 2598, 6126, 5014, 594, 2332, 3544, 5655, 48638, 2048, 1285, 3335, 9727, 15277, 1618, 7583, 166, 3722, 4499, 7131, 3455, 1575, 115, 6104, 3793, 2095, 4231, 8770, 3808, 1801, 5688, 1393, 34, 5279, 854, 1903, 7556, 8484, 6771, 2839, 15332, 1718, 2229, 1565, 3761, 7042, 1120, 4592, 1254, 2129, 328, 1761, 771, 1373, 10082, 595, 1880, 7337, 1337, 5996, 3790, 3197, 6278, 1468, 1599, 1395, 6125, 6654, 5964, 4775, 3703, 8128, 40807, 7582, 8206, 949, 12278, 1561, 2735, 19035, 24604, 201, 1594, 3849, 1353, 2874, 2106, 2848, 7577, 9273, 5455, 9908, 44680, 1602, 1, 13553, 1004, 5645, 935, 8485, 5138, 3084, 258, 7447, 967, 6829, 2949, 4887, 6669, 5032, 4679, 3532, 8465, 3378, 7462, 4545, 2654, 2461, 145, 4985, 7414, 2015, 26948, 3491, 287, 1238, 2667, 7260, 1643, 6774, 7831, 3923, 4247, 382, 5714, 4752, 1378, 603, 14462, 4651, 7091, 843, 5944, 1449, 2759, 8916, 2669, 6972, 6242, 762, 2181, 3279, 4980, 5850, 25990, 10105, 5584, 21938, 187, 5804, 5618, 8767, 14068, 1013, 5321, 9664, 11765, 1939, 5255, 8127, 2034, 2013, 5613, 1636, 56795, 8158, 2448, 2060, 7625, 4109, 3457, 11556, 7320, 4043, 7184, 8044, 9430, 3057, 201, 9257, 635, 14926, 2775, 5137, 9829, 5801, 5842, 171, 6600, 1109, 47, 7755, 2095, 2889, 8249, 2257, 3875, 2428, 2665, 2314, 1991, 973, 6661, 7394, 12950, 7979, 5518, 1461, 7160, 1954, 13225, 3951, 4606, 8591, 6226, 11946, 3997, 11069, 1533, 1301, 14704, 2097, 6182, 1445, 7951, 6371, 7001, 2331, 7101, 1125, 1440, 8310, 423, 2270, 8470, 5268, 9049, 1493, 4037, 2883, 8135, 6112, 2382, 328, 7374, 11124, 5060, 5465, 5794, 700, 7023, 442, 1038, 7476, 2195, 5626, 2991, 2671, 2464, 3204, 5738, 5829, 4712, 1773, 2984, 444, 1, 3172, 8802, 2658, 7842, 8398, 2522, 1630, 1930, 2271, 6657, 4863, 3555, 418, 2760, 2374, 5620, 1941, 167, 54, 2886, 4653, 6897, 5568, 1876, 15679, 8604, 5268, 7895, 7727, 3060, 3097, 5317, 2867, 2412, 9910, 6921, 7961, 1116, 7798, 5482, 17, 37, 917, 5408, 11739, 6390, 3102, 9322, 120, 887, 28576, 2370, 14676, 2353, 1254, 11717, 6878, 1144, 8362, 5581, 12185, 3389, 310, 5932, 8960, 3932, 4506, 5402, 250, 2383, 1812, 1, 1599, 1269, 2436, 6913, 2886, 1902, 9502, 2360, 1314, 2291, 2466, 1205, 6680, 5791, 3771, 1498, 650, 6165, 2193, 8625, 8460, 5629, 12641, 3043, 191, 757, 2980, 2532, 5352, 2363, 8314, 4470, 5021, 398, 13651, 1420, 7225, 2099, 6022, 8995, 5241, 9233, 2731, 7955, 8290, 2458, 2500, 21929, 6131, 117, 5713, 3292, 7081, 5071, 8234, 5226, 2527, 7287, 2420, 1155, 2409, 8009, 195, 21251, 1554, 4235, 2159, 1334, 8447, 6462, 1707, 146, 27064, 4837, 9391, 3420, 2432, 981, 2409, 6562, 6237, 1509, 1495, 2696, 620, 1662, 481, 1445, 629, 6276, 3604, 4013, 2561, 9343, 935, 4473, 1784, 9251, 9875, 2208, 2251, 7219, 6953, 27503, 8983, 3912, 2475, 3846, 6360, 814, 2566, 7906, 7481, 5470, 2752, 4578, 1714, 2368, 8769, 4244, 2918, 1744, 432, 24154, 369, 1523, 11234, 3309, 1358, 1273, 16908, 2176, 1762, 6762, 3487, 1644, 2585, 3168, 1114, 1302, 3343, 11053, 5029, 2529, 2982, 6650, 3793, 16278, 4587, 4138, 5889, 716, 1283, 370, 3595, 202, 17, 2821, 4268, 683, 3004, 2251, 3457, 3219, 3655, 816, 6332, 54, 4735, 2479, 3513, 5297, 4753, 2428, 6802, 2385, 2718, 757, 1007, 6245, 6186, 773, 2742, 354, 26919, 4186, 8796, 5227, 2356, 4526, 6739, 6614, 6554, 4525, 4524, 6853, 845, 3245, 223, 8744, 2586, 2286, 4119, 15115, 6011, 6094, 3908, 7806, 6922, 1363, 1250, 4331, 4234, 7106, 6525, 49, 4202, 6255, 20697, 5670, 8498, 13333, 1813, 763, 3313, 3506, 7163, 8133, 7420, 3691, 196, 1241, 2722, 6020, 698, 2306, 9649, 7381, 8493, 2693, 7971, 7521, 31007, 19861, 3085, 1390, 728, 4682, 1601, 24289, 1988, 2279, 5931, 3139, 890, 1050, 7009, 8299, 11166, 4935, 9060, 5952, 11856, 18011, 2326, 2010, 1408, 5683, 4272, 1738, 9077, 57846, 4322, 2851, 993, 6312, 1, 2739, 5098, 1012, 4509, 4093, 320, 4390, 2119, 2701, 7592, 6705, 4003, 1392, 175, 7874, 7907, 1802, 704, 7171, 6039, 7512, 1773, 919, 6060, 4972, 524, 2037, 4892, 7912, 6679, 1426, 6176, 10362, 1036, 6450, 3007, 1730, 21428, 1937, 716, 1099, 7652, 3482, 2136, 3127, 4219, 4016, 10434, 2812, 5555, 7896, 8230, 4485, 7380, 3518, 6084, 14535, 3917, 1220, 9038, 29932, 2089, 3608, 430, 5321, 6521, 1338, 2046, 374, 2028, 450, 2773, 1265, 2230, 200, 8300, 5072, 1945, 7146, 3793, 888, 9377, 1884, 6498, 3444, 14788, 3255, 5461, 4337, 5478, 5356, 398, 247, 2071, 5907, 970, 562, 7482, 11089, 13637, 2834, 5123, 4608, 4029, 4432, 5393, 3377, 244, 253, 11676, 8740, 10469, 938, 3959, 529, 1824, 4539, 5701, 2139, 8175, 1744, 94, 2971, 7040, 4685, 2709, 1974, 1860, 6314, 2234, 718, 1115, 8075, 2720, 3635, 14863, 1394, 3007, 4665, 7501, 7679, 1222, 4119, 10213, 1, 4535, 5973, 177, 8004, 10367, 8928, 4733, 745, 3294, 17222, 5489, 560, 6387, 1358, 3689, 1809, 4215, 7849, 4721, 2189, 202, 7111, 7819, 3524, 6912, 5876, 2376, 4149, 8135, 8508, 9086, 3828, 7597, 3016, 2905, 5367, 9841, 840, 7697, 778, 11640, 4692, 4095, 1292, 2767, 1847, 1307, 2590, 6257, 1498, 5960, 4788, 3268, 2327, 1307, 7252, 2789, 1400, 2170, 1337, 6734, 1530, 4050, 733, 4057, 3076, 4768, 9786, 2672, 4765, 3332, 5632, 4277, 398, 8812, 7822, 3985, 666, 8190, 7876, 2599, 2072, 1949, 3698, 1883, 4248, 947, 186, 1621, 2678, 1656, 6225, 819, 8910, 7326, 530, 6662, 2334, 6430, 4424, 2041, 1716, 7961, 3901, 288, 2766, 2008, 6988, 11514, 5358, 7918, 2737, 6175, 1377, 6950, 15301, 5913, 1148, 8932, 3049, 5931, 12634, 3843, 7435, 6470, 9768, 7604, 732, 6052, 2007, 2587, 6949, 7525, 1451, 3636, 4513, 5106, 7110, 211, 9507, 7185, 9445, 3426, 1581, 19779, 1632, 1045, 604, 12326, 8099, 1395, 3602, 2943, 15949, 5616, 3462, 6295, 7608, 1207, 1978, 2840, 2043, 2902, 1994, 5675, 10923, 5462, 2212, 812, 3342, 2969, 3104, 4870, 3979, 1097, 7336, 4814, 3641, 198, 10836, 1434, 7696, 2076, 198, 6773, 3222, 2130, 150, 4980, 4969, 9287, 7154, 5047, 5816, 9056, 3034, 787, 4475, 1876, 3206, 2141, 2923, 7917, 3419, 5614, 203, 7572, 4188, 2310, 6594, 1482, 5688, 5872, 8642, 4261, 905, 1476, 203, 2686, 7096, 7691, 4727, 6793, 26773, 6497, 170, 1410, 3567, 1103, 1606, 1339, 6094, 1362, 2983, 4351, 5643, 8052, 2374, 1311, 1054, 11457, 5575, 536, 1390, 3865, 7190, 481, 3329, 6385, 1184, 1194, 6962, 510, 1546, 13176, 3864, 6598, 7855, 2952, 8038, 2590, 5005, 11810, 8335, 4091, 2247, 6232, 6481, 2468, 1862, 2267, 2989, 2144, 198, 1227, 3035, 6149, 2139, 760, 10438, 7277, 6896, 2842, 2527, 1798, 4241, 1520, 4769, 2560, 5604, 271, 2667, 1468, 1536, 9983, 5982, 4283, 11556, 9160, 1523, 6207, 7876, 5876, 1190, 7290, 3267, 3462, 2231, 1048, 2676, 2651, 2496, 1183, 6454, 3270, 1253, 144, 6665, 4063, 363, 4233, 647, 2637, 19569, 8507, 7468, 7578, 2798, 2102, 2616, 3627, 7090, 6563, 5467, 2095, 1137, 44705, 5306, 29790, 7748, 14208, 4802, 552, 7213, 2913, 8372, 10778, 524, 5027, 790, 1574, 7466, 7908, 3487, 3093, 1045, 3828, 3498, 2093, 24647, 2000, 4045, 2123, 4677, 1684, 1804, 4383, 202, 3296, 1688, 6305, 9780, 7692, 1471, 6223, 1360, 4374, 1061, 3694, 7273, 5267, 13433, 2794, 1616, 4205, 1480, 2510, 1777, 412, 1445, 6633, 8319, 3104, 2600, 2375, 3948, 3043, 4413, 861, 6728, 3538, 2202, 4843, 3473, 4682, 3676, 2517, 453, 12887, 2095, 5036, 3680, 1655, 13494, 5963, 751, 1933, 1497, 3499, 196, 2515, 1267, 4155, 1439, 1236, 4814, 453, 3949, 228, 1135, 2117, 4730, 8863, 733, 160, 4152, 20039, 13088, 717, 2004, 2238, 2521, 9597, 527, 1401, 2029, 1066, 185, 2667, 1708, 2008, 6867, 1066, 3218, 6048, 2642, 3314, 1067, 1664, 3401, 5147, 1550, 9435, 17587, 2165, 3976, 2470, 534, 5535, 5421, 8731, 5870, 3460, 3718, 2463, 2535, 160, 3368, 12864, 5767, 4672, 451, 7979, 7225, 6299, 3590, 809, 945, 782, 630, 6918, 4231, 2308, 2856, 8121, 9178, 7273, 3221, 2959, 3680, 772, 11280, 5514, 2267, 315, 523, 5355, 11134, 1094, 6815, 5104, 2377, 4551, 8857, 3862, 7212, 3551, 3607, 1525, 2257, 10630, 1599, 6964, 519, 1883, 4948, 7358, 6747, 2348, 3657, 914, 7084, 5136, 3614, 3621, 5853, 5827, 4859, 1766, 11625, 7263, 1219, 7541, 820, 1592, 1631, 5225, 476, 7876, 5575, 11217, 1707, 145, 4088, 9627, 7272, 7258, 656, 5314, 10249, 728, 19122, 1600, 5164, 5839, 1938, 1629, 2370, 3371, 805, 4678, 3247, 9377, 1445, 191, 5921, 1618, 5177, 6209, 1707, 3624, 118, 787, 8223, 120, 5886, 10527, 996, 7883, 313, 4913, 959, 8717, 2934, 9093, 2240, 172, 2413, 1614, 5903, 6914, 2324, 3052, 1205, 1450, 17677, 40, 2092, 5524, 557, 1452, 1665, 1014, 4660, 6112, 6210, 3208, 7513, 1924, 5518, 3154, 7967, 4885, 755, 2672, 2395, 2032, 6639, 5161, 2164, 12613, 10170, 3602, 1191, 2357, 4255, 5744, 187, 2419, 10114, 7117, 9040, 5679, 8986, 2524, 13363, 4529, 1315, 4589, 3175, 1921, 1, 5641, 6416, 6955, 3573, 3469, 5149, 5919, 5345, 2154, 18397, 7515, 9962, 3131, 15507, 2194, 1602, 2506, 11327, 1000, 4066, 9660, 1, 4209, 1908, 6301, 6783, 13485, 714, 1483, 5224, 8959, 1691, 6307, 2640, 2440, 18058, 9089, 5312, 1227, 2285, 5516, 4706, 32717, 688, 2572, 3735, 1408, 2937, 10312, 2628, 3905, 13728, 12346, 1062, 4720, 2233, 1042, 8844, 4336, 3140, 6060, 1391, 2391, 2167, 3799, 896, 3648, 1323, 3181, 11057, 3414, 10427, 137, 4270, 199, 3485, 246, 1440, 5999, 2761, 1111, 5871, 1167, 7807, 411, 2664, 8324, 2529, 184, 10119, 1862, 2411, 1194, 1614, 1118, 842, 1681, 200, 1693, 2890, 2494, 17542, 1471, 2285, 3022, 10380, 1271, 2878, 5715, 9493, 3502, 3804, 2721, 1937, 2522, 5289, 3137, 4256, 1087, 6713, 1328, 2759, 1148, 6653, 2015, 12240, 1977, 7154, 4190, 9129, 1636, 7262, 5157, 2235, 2144, 3805, 8683, 3071, 4083, 4755, 2455, 1163, 563, 3016, 2940, 278, 1501, 4487, 21746, 3715, 6897, 2108, 14323, 1696, 3257, 3137, 10795, 10142, 982, 1218, 6729, 8395, 7406, 5509, 3384, 4064, 2245, 6699, 3577, 2245, 2124, 1961, 1923, 7679, 4510, 7643, 435, 2755, 2848, 7418, 4963, 5080, 4503, 4147, 38898, 799, 1633, 5206, 2322, 6547, 1148, 3725, 1895, 2909, 2301, 6303, 8470, 7984, 3342, 9553, 2486, 8014, 860, 923, 8431, 6710, 3880, 267, 4796, 3477, 1162, 144, 3106, 6603, 3881, 969, 5953, 6227, 9445, 4341, 873, 1531, 568, 2631, 9838, 9492, 1344, 3749, 7180, 1411, 1214, 9394, 985, 8322, 7508, 8148, 8283, 25790, 688, 6071, 6013, 5287, 8324, 63384, 7503, 8256, 1167, 7109, 2735, 4757, 2156, 26328, 2230, 2483, 3143, 28990, 6658, 5708, 582, 3624, 5244, 3003, 1442, 3526, 5643, 20190, 2655, 2557, 4221, 1324, 2561, 2748, 1605, 426, 2382, 7553, 1417, 7913, 7592, 5663, 3618, 2434, 1977, 1266, 6684, 3987, 9063, 6349, 2699, 3933, 3926, 7771, 58, 6273, 1990, 3789, 1939, 3526, 5523, 218, 444, 2097, 549, 2334, 4422, 1722, 1973, 1259, 13016, 4893, 7923, 7597, 1071, 243, 971, 829, 2641, 9402, 1083, 9303, 16114, 1374, 3613, 1, 7498, 4662, 1429, 1524, 5871, 4235, 11253, 4986, 7859, 12690, 156, 5416, 1425, 13199, 4026, 5458, 5846, 26861, 790, 3402, 1930, 6030, 334, 1843, 3050, 1902, 5960, 1428, 7157, 5497, 1715, 6820, 5843, 951, 1650, 6089, 2282, 6749, 3777, 13026, 2173, 221, 8900, 2735, 15885, 8891, 8488, 2682, 2753, 8574, 6111, 4296, 4501, 6283, 4556, 28620, 6310, 7208, 7525, 6268, 7943, 8190, 12739, 7021, 2201, 4764, 619, 8993, 1157, 2445, 8562, 9975, 2993, 5626, 14382, 12122, 4772, 4337, 2373, 2928, 8596, 3955, 973, 1759, 2002, 1822, 2027, 1001, 6927, 3877, 1057, 5633, 474, 402, 3564, 4758, 7509, 27811, 1186, 1470, 3469, 834, 3978, 1013, 4109, 2710, 2815, 7030, 2715, 4729, 13844, 6924, 2507, 10207, 306, 10064, 7576, 1166, 8706, 7630, 8911, 2654, 9422, 2082, 1284, 9877, 1312, 1352, 9502, 1195, 5145, 4709, 4697, 5188, 2959, 1801, 3336, 2235, 4110, 9120, 6961, 11572, 1336, 3379, 5938, 4534, 1406, 7874, 3615, 7141, 7274, 1316, 1378, 848, 6306, 510, 6538, 1228, 6035, 1402, 5723, 4206, 3115, 1178, 7284, 6491, 1124, 8284, 3970, 5779, 13477, 3617, 2274, 3403, 3582, 6372, 6707, 1643, 7318, 2964, 3332, 7233, 4057, 7746, 5378, 10281, 3388, 3187, 17323, 7504, 398, 4123, 3342, 2938, 4964, 1238, 7828, 10445, 2258, 2518, 1894, 3271, 2683, 6389, 519, 9552, 6056, 1372, 3029, 2322, 5426, 5704, 4006, 7299, 808, 852, 534, 1808, 8300, 1621, 6461, 4820, 852, 12628, 7744, 2405, 634, 2422, 5845, 2377, 1683, 3669, 3202, 54, 3208, 3770, 1149, 2325, 6234, 1434, 1997, 636, 1896, 3820, 2141, 8874, 1309, 5999, 4853, 4067, 6986, 4045, 2109, 201, 5372, 6453, 1037, 19381, 996, 11332, 5934, 3745, 4188, 6939, 8353, 1942, 4187, 399, 5434, 3605, 1671, 354, 17834, 3271, 1352, 4886, 4482, 6166, 5542, 4527, 1292, 7367, 4408, 8494, 643, 4167, 1856, 5424, 2016, 2302, 6532, 7282, 2431, 1594, 5701, 4475, 2904, 2559, 7193, 1019, 8336, 6156, 3539, 946, 3474, 3141, 4830, 1699, 5345, 3981, 3953, 7195, 7564, 6231, 1461, 7366, 916, 2121, 3014, 24504, 7736, 7511, 1057, 8353, 6632, 10816, 4768, 2646, 943, 8861, 5535, 1599, 104, 10661, 6501, 15436, 5720, 4566, 2014, 9055, 7296, 113, 7406, 1862, 2501, 8039, 3895, 2675, 3450, 1830, 4206, 2339, 5849, 1632, 2392, 5188, 6153, 1950, 1792, 1537, 7507, 23262, 294, 5067, 8838, 8550, 6512, 7004, 4389, 1, 3728, 1568, 10997, 2107, 2130, 319, 8738, 2190, 9430, 2334, 8839, 4271, 7265, 850, 1, 1624, 1325, 2947, 8318, 1851, 1043, 7082, 2143, 1378, 2927, 1107, 1457, 2255, 805, 5380, 4315, 809, 6764, 21863, 4465, 3548, 3071, 1837, 2905, 6019, 1473, 3377, 5161, 2122, 6384, 1496, 5622, 730, 8890, 5042, 11602, 1305, 3139, 370, 330, 975, 760, 51696, 1201, 8611, 4341, 8212, 1853, 709, 4035, 5219, 4273, 1984, 4109, 2959, 785, 1822, 9690, 1445, 8108, 8319, 54, 7332, 6163, 5343, 981, 2243, 6573, 1880, 3822, 283, 6691, 819, 1308, 5059, 4655, 9240, 1471, 4403, 120, 7195, 2717, 196, 1897, 2134, 1637, 4562, 201, 1572, 7501, 7285, 3907, 11229, 7594, 1400, 6743, 7139, 2444, 4753, 1983, 3732, 450, 8261, 7651, 4056, 6598, 4179, 27119, 6989, 4802, 2641, 5314, 1324, 2682, 1869, 4258, 1973, 6771, 1489, 1482, 5760, 2210, 1809, 1915, 4302, 2388, 795, 6970, 2688, 6519, 5969, 7490, 1628, 5339, 4293, 7826, 6288, 6582, 7955, 3206, 2404, 3952, 1966, 4238, 8394, 3174, 486, 5096, 6081, 9113, 9034, 8919, 4271, 5726, 6657, 1961, 6709, 2123, 4869, 907, 3292, 3724, 734, 10975, 4920, 1365, 3616, 1403, 5185, 596, 5329, 2939, 791, 10228, 9291, 3694, 1973, 4476, 1379, 2351, 1339, 7263, 167, 7064, 4915, 5656, 2240, 2978, 6127, 8801, 1966, 3735, 5254, 1416, 3640, 14337, 10643, 1152, 10015, 5048, 3927, 2124, 3339, 1, 12632, 7763, 1710, 8294, 2599, 12581, 3933, 2558, 3138, 1476, 9245, 4440, 5118, 2565, 6925, 3050, 1932, 5806, 2307, 6663, 8381, 3515, 1352, 3234, 3198, 1705, 5953, 12943, 2830, 24022, 2097, 6346, 9613, 6515, 3282, 909, 12401, 1, 2694, 2584, 1861, 583, 1205, 1276, 202, 1482, 8574, 4844, 1255, 4141, 5703, 2306, 3644, 2126, 4008, 7771, 1991, 4701, 2468, 1823, 8469, 5958, 11085, 1772, 1125, 7029, 5218, 1086, 1415, 4623, 3190, 1419, 3783, 4180, 8013, 7060, 3887, 3770, 1253, 1710, 2378, 7514, 5465, 5736, 11949, 4068, 4838, 2763, 2493, 4059, 9283, 644, 5173, 5274, 7636, 2163, 1003, 863, 4406, 2089, 6678, 4651, 7153, 1087, 1445, 6481, 2553, 1845, 4189, 6595, 7711, 2106, 13944, 4011, 1037, 5995, 4675, 152, 3751, 1203, 2618, 3715, 1725, 9476, 4982, 1973, 2381, 199, 11633, 2157, 5191, 5533, 7519, 1555, 2265, 6141, 1938, 12358, 2178, 7249, 2451, 2164, 4073, 6150, 9195, 9436, 12795, 8283, 6007, 8742, 7519, 11240, 4540, 3512, 4317, 4298, 8975, 8703, 4938, 33417, 7468, 4319, 965, 3120, 6587, 1744, 3350, 7217, 4313, 1323, 13642, 9329, 4916, 4997, 1511, 1544, 2519, 6187, 4680, 3247, 5152, 3990, 4121, 12587, 7837, 6774, 15659, 4251, 2191, 3957, 576, 1095, 6649, 3355, 6924, 3452, 12043, 2541, 5456, 7431, 1486, 11256, 2568, 1335, 6422, 3981, 8273, 3681, 2785, 1435, 5343, 174, 54, 633, 173, 6885, 5811, 3807, 1587, 937, 5568, 6563, 2263, 4923, 7121, 49, 1545, 12535, 2558, 2467, 2015, 193, 7476, 3678, 6605, 5211, 3500, 3511, 20178, 6483, 19494, 2568, 2008, 1509, 8450, 14060, 4174, 6763, 4094, 4302, 5089, 7050, 6799, 6711, 3955, 7888, 3561, 2935, 6160, 8634, 7706, 2536, 4335, 10387, 16381, 2361, 3554, 1685, 1655, 2569, 3075, 5478, 8580, 6079, 404, 3514, 2791, 3205, 9504, 3345, 4822, 1629, 8304, 873, 2849, 6520, 3122, 5548, 9607, 3236, 6248, 2886, 8570, 5628, 5700, 1558, 1251, 5776, 2067, 1467, 1520, 26306, 6253, 1205, 5346, 3524, 22177, 6584, 709, 4784, 5306, 2079, 5547, 2427, 5231, 3522, 5785, 1522, 5712, 15210, 487, 772, 3424, 1508, 6992, 5880, 6672, 5144, 4219, 190, 441, 5616, 4704, 8858, 2489, 1206, 11669, 296, 5091, 24059, 972, 1060, 1775, 2016, 4758, 9126, 4376, 12016, 469, 4614, 847, 3027, 2027, 6547, 3168, 827, 5006, 3872, 45, 950, 5905, 7688, 7203, 859, 1036, 9789, 4596, 12153, 9886, 6547, 17916, 2587, 1871, 1030, 12066, 6886, 2670, 300, 1608, 2731, 611, 4460, 1557, 309, 339, 5980, 2520, 9698, 2006, 3507, 3951, 5777, 3446, 9247, 4441, 5509, 3624, 10964, 4960, 5902, 7973, 4738, 9806, 25844, 6094, 7497, 4397, 1896, 4199, 5098, 3849, 8823, 3735, 6831, 6922, 610, 8294, 7522, 203, 609, 6667, 6627, 1095, 6935, 1867, 5804, 1958, 2940, 4445, 596, 1077, 7659, 4546, 3381, 2626, 2725, 1099, 1756, 5191, 4975, 2138, 3270, 2078, 806, 4848, 2690, 1449, 3945, 12741, 3835, 5194, 8597, 1337, 16213, 1603, 6336, 2131, 12317, 1640, 13121, 637, 2099, 3624, 1484, 26106, 849, 1927, 3721, 8125, 916, 6260, 928, 292, 5619, 5912, 2221, 197, 6622, 240, 2916, 7045, 111, 1803, 1142, 4347, 8659, 3296, 2337, 1124, 2219, 5493, 1390, 507, 2226, 1585, 1023, 3627, 5184, 963, 818, 5611, 5156, 2161, 5524, 7107, 9812, 5192, 271, 2524, 23424, 616, 998, 791, 370, 2018, 4519, 1692, 7862, 8321, 1877, 5378, 1986, 1719, 5338, 14693, 7604, 7641, 1171, 94, 6188, 1973, 10591, 4812, 6395, 3486, 1350, 15941, 8382, 1371, 7495, 7780, 1808, 698, 7689, 12, 2801, 9233, 4236, 6557, 1896, 1987, 9028, 11998, 2843, 7613, 7064, 7223, 5078, 6339, 1, 2348, 1470, 3463, 2130, 1190, 4312, 5041, 1432, 3196, 2181, 7490, 2690, 3987, 6121, 1173, 321, 9585, 5304, 9013, 6015, 7411, 5230, 5685, 7571, 2228, 7124, 27958, 31451, 1925, 1923, 117, 2991, 7972, 1001, 10074, 2750, 5996, 1213, 4294, 1261, 1811, 4936, 3986, 519, 1523, 4455, 7766, 3090, 9610, 13765, 6818, 113, 4507, 6641, 4140, 4524, 7695, 3878, 6077, 2795, 6542, 7906, 1119, 1350, 105, 6330, 3025, 2324, 19258, 4087, 225, 1342, 3686, 1617, 997, 7400, 1617, 4900, 4397, 4592, 2830, 6504, 3104, 6955, 6655, 5168, 499, 5422, 417, 8695, 1203, 6783, 9440, 4153, 3414, 2533, 5571, 6718, 139, 4784, 12209, 192, 25209, 4425, 2920, 2758, 1753, 289, 764, 1294, 2412, 1695, 6670, 2691, 2322, 799, 6864, 4896, 1469, 1529, 1694, 13249, 1693, 3964, 1084, 5430, 6609, 1584, 2236, 9505, 5390, 10541, 3647, 464, 1338, 4017, 11061, 3374, 2390, 1949, 1317, 21081, 257, 2393, 5363, 2139, 4132, 2198, 8244, 4372, 727, 6833, 9390, 2308, 4388, 3676, 1792, 6506, 3080, 1672, 5366, 5834, 3655, 1915, 7071, 4070, 521, 1046, 4732, 4554, 2530, 1738, 2608, 7122, 8132, 8436, 7487, 5947, 733, 7025, 830, 4870, 11021, 3736, 2658, 1290, 6037, 791, 2592, 1028, 238, 7467, 1708, 2562, 10031, 6128, 3259, 3619, 6333, 7542, 1181, 4149, 35385, 2838, 6360, 3673, 4948, 14018, 1325, 5410, 5796, 322, 889, 5526, 4485, 2056, 5478, 2033, 3784, 4950, 8211, 3932, 2799, 7784, 4687, 7968, 2921, 286, 6275, 5202, 3891, 2992, 879, 4844, 3714, 7971, 10581, 198, 2395, 1267, 7596, 5616, 1617, 8168, 2293, 5299, 3049, 3521, 197, 8061, 888, 5846, 5842, 2798, 3725, 6835, 4835, 1082, 8245, 7612, 41063, 6075, 8290, 8376, 2662, 1777, 4268, 3018, 7570, 1464, 11514, 590, 4454, 1790, 10903, 7033, 5596, 9036, 7617, 1335, 7555, 3128, 968, 3130, 8283, 7833, 3458, 4998, 6527, 2406, 7315, 19203, 1332, 8957, 7619, 2953, 5660, 7679, 3504, 2606, 9313, 10050, 2146, 318, 7020, 1535, 1632, 11979, 694, 2426, 903, 7236, 2363, 1299, 21969, 3626, 684, 2062, 10816, 7235, 2657, 1533, 447, 8646, 2133, 6609, 4363, 7955, 3102, 1284, 1490, 6755, 1272, 125, 4020, 1155, 1948, 2216, 2497, 6538, 9042, 7709, 2963, 6509, 1712, 5552, 2067, 9789, 1450, 9611, 3088, 485, 12520, 6909, 1383, 2542, 6334, 200, 4414, 14954, 6618, 11962, 2991, 2754, 4014, 6370, 7393, 615, 3505, 6937, 5339, 2078, 8261, 8353, 1213, 2908, 9495, 2670, 5271, 26381, 6329, 6328, 7984, 3521, 1, 3164, 4043, 1874, 1552, 5850, 396, 3952, 4229, 1475, 1395, 3652, 1509, 2873, 8414, 5258, 3464, 8138, 8933, 2713, 6976, 5058, 2927, 8060, 370, 5636, 8533, 7223, 1703, 2338, 2854, 4632, 8079, 6653, 2643, 6700, 6421, 4207, 2036, 6560, 12652, 9126, 15504, 6553, 1440, 4148, 674, 15286, 2564, 2058, 197, 285, 971, 3310, 6426, 4019, 2200, 9034, 1968, 5136, 7164, 9044, 4154, 1585, 5312, 4346, 1469, 5619, 1823, 134206, 2866, 7471, 1071, 10860, 9198, 2563, 6067, 5946, 1542, 3889, 4423, 3612, 4937, 1898, 8891, 6008, 3185, 2845, 1856, 265, 3406, 203, 925, 9434, 3805, 3374, 134, 458, 10125, 1266, 5846, 5788, 3638, 1393, 5635, 2671, 2036, 7584, 5994, 8360, 7995, 2199, 580, 3759, 4883, 3137, 8116, 1653, 9793, 10024, 3966, 1565, 3295, 5920, 652, 18952, 1837, 5695, 5112, 6104, 4019, 3295, 3049, 2568, 6058, 5345, 3606, 3687, 513, 1685, 7233, 2869, 9042, 3118, 1171, 11091, 1747, 3213, 2139, 93, 1550, 5234, 872, 3952, 3063, 2545, 1595, 2924, 183, 5104, 8508, 4757, 1798, 4215, 8038, 7637, 3076, 5630, 6977, 2180, 8518, 3489, 5088, 4827, 13692, 6862, 5288, 1424, 4053, 6185, 9366, 5010, 64, 5639, 2350, 3388, 5277, 10908, 5117, 8306, 1, 3933, 12246, 3348, 3221, 2732, 2526, 7619, 4675, 1344, 1248, 1229, 1200, 742, 37967, 904, 3069, 7739, 4327, 8355, 9630, 7091, 3666, 4307, 6466, 5078, 1115, 3724, 3941, 3388, 4575, 979, 298, 2083, 5732, 4952, 2541, 1334, 2294, 196, 1911, 2225, 279, 765, 2846, 7204, 599, 8104, 929, 26860, 6204, 2449, 4301, 2613, 2360, 6086, 798, 25458, 3402, 85948, 4376, 6305, 6513, 3077, 3546, 779, 2359, 8667, 3685, 27697, 3760, 883, 3400, 15015, 1518, 6152, 3249, 2555, 1202, 4792, 3818, 3230, 4828, 7470, 20388, 8926, 717, 2928, 2020, 6511, 2302, 2089, 8395, 2749, 4734, 2468, 9941, 7141, 892, 13590, 12491, 1596, 4862, 11873, 2330, 1411, 7303, 2102, 4828, 7562, 8069, 8399, 1895, 12065, 1839, 8063, 147, 2047, 8462, 2007, 4779, 5092, 5659, 1578, 188, 1848, 13454, 1706, 3044, 76, 1914, 7318, 7215, 5727, 3379, 3441, 27251, 5811, 1182, 8937, 840, 3124, 3644, 4677, 1050, 5273, 1489, 2719, 7661, 6827, 427, 917, 3441, 5998, 4656, 7904, 8170, 17021, 5253, 3219, 2016, 1106, 2263, 1, 10509, 6781, 3809, 8104, 7681, 7776, 3475, 2159, 7316, 1444, 1903, 2328, 6523, 2471, 3965, 14130, 6474, 5548, 3861, 1775, 3818, 6513, 8909, 11265, 8562, 2021, 3251, 1027, 3759, 6558, 780, 9382, 925, 7028, 3138, 969, 3039, 4085, 4335, 1734, 22488, 3750, 4031, 2002, 6144, 3831, 1083, 2743, 11646, 7232, 822, 7832, 6300, 5898, 8937, 2556, 6209, 7819, 5375, 12344, 1916, 4516, 2615, 1502, 1549, 4076, 4370, 2619, 7976, 4893, 9075, 4283, 2690, 183, 7522, 18752, 6800, 1482, 695, 1304, 4437, 11964, 5714, 10498, 4152, 781, 2780, 16520, 2788, 2249, 11021, 1985, 6969, 1234, 13102, 5739, 1431, 18049, 6299, 4750, 772, 4635, 10873, 788, 2430, 4893, 957, 6531, 1909, 3165, 1465, 6994, 4469, 3579, 991, 4733, 10072, 3449, 4671, 1055, 3832, 3053, 12787, 779, 6668, 3812, 6535, 2799, 3257, 1733, 4163, 4619, 1550, 3309, 2309, 179, 5401, 2930, 1304, 308, 2522, 1103, 166, 1040, 2536, 159, 1214, 3436, 487, 4621, 3984, 2037, 4162, 1212, 2529, 1911, 1273, 5893, 7314, 6594, 1271, 12890, 6332, 2188, 6523, 5133, 6934, 273, 4307, 54, 6504, 2548, 4724, 6994, 6179, 7225, 8841, 2579, 9467, 3810, 1238, 3751, 52821, 2109, 1797, 9558, 4630, 657, 1361, 1517, 2616, 2677, 48558, 6751, 1679, 5850, 4012, 9741, 2532, 7417, 4764, 4126, 349, 6258, 2314, 1846, 384, 2099, 3433, 2017, 2569, 1958, 2751, 4398, 1894, 7525, 6357, 5606, 6711, 2929, 2291, 2803, 7170, 7343, 2149, 1021, 2142, 1892, 15372, 3987, 4514, 3932, 3851, 10080, 3692, 7357, 6252, 4453, 1448, 7857, 446, 5172, 2604, 3301, 4303, 4420, 8260, 982, 4423, 2579, 10889, 5103, 1182, 6431, 1973, 1037, 3238, 54, 203, 1381, 6387, 2796, 6225, 1134, 6734, 1948, 2487, 2013, 8590, 147, 4088, 308, 14965, 145, 4282, 1065, 4186, 2227, 3318, 754, 2259, 2787, 904, 1338, 6378, 5130, 1561, 6547, 4188, 6589, 1830, 7939, 14201, 7844, 2561, 3587, 1251, 5143, 6859, 7554, 857, 6838, 203, 6386, 1256, 5110, 6318, 1742, 3328, 5068, 69, 1589, 1814, 7066, 8398, 7873, 7567, 3497, 3485, 711, 2125, 1706, 2741, 9191, 1608, 2328, 2269, 2507, 1199, 6467, 13290, 18049, 2195, 5925, 7483, 6262, 5144, 5348, 2474, 2422, 8581, 15812, 1352, 376, 5575, 4092, 4959, 2016, 199, 4476, 4611, 8407, 896, 4490, 387, 4576, 3540, 720, 3823, 4513, 3087, 808, 19, 9411, 4515, 4459, 5566, 1050, 3045, 99355, 6750, 312, 4803, 5853, 5168, 5030, 7537, 2041, 961, 2942, 3019, 5397, 5711, 2857, 4458, 1272, 1895, 5670, 8991, 3584, 7458, 2912, 837, 8073, 4636, 7446, 1627, 6295, 2864, 1976, 5275, 14815, 7050, 2230, 7158, 993, 3057, 1919, 4096, 5751, 3824, 1254, 5346, 1354, 3253, 1898, 1129, 1586, 5585, 5094, 2742, 9865, 5710, 2159, 7479, 2610, 2367, 10034, 4863, 1377, 1562, 2177, 700, 1310, 10487, 9738, 7593, 1956, 8196, 717, 1739, 1734, 8174, 810, 1364, 3044, 4177, 6993, 1906, 3886, 4950, 1375, 2359, 2669, 1621, 7580, 1466, 7257, 857, 1847, 1356, 3821, 7100, 7720, 7028, 6097, 5722, 27697, 19810, 7722, 2058, 2070, 2335, 9491, 5040, 3808, 3274, 3372, 1529, 2243, 3545, 8849, 4704, 1595, 2822, 4262, 6417, 487, 1039, 4802, 7779, 859, 3296, 2727, 8280, 2095, 1871, 4051, 4047, 1457, 1247, 8204, 19207, 13492, 3980, 652, 4063, 10506, 4351, 7937, 203, 43, 6528, 4709, 2615, 3446, 4301, 6269, 7372, 7041, 15849, 2868, 7776, 2882, 213, 4819, 2903, 2600, 3010, 8284, 2330, 444, 2107, 5704, 6484, 4872, 8191, 9644, 2447, 7088, 1298, 6409, 1699, 3490, 2219, 781, 3639, 3766, 3879, 11387, 1727, 2829, 1601, 25670, 7866, 3107, 4104, 1266, 26861, 1436, 5264, 1994, 10632, 1548, 2396, 320, 4267, 10895, 2466, 3863, 3515, 2761, 17195, 33088, 2283, 1521, 6166, 3463, 2353, 6179, 660, 1204, 6766, 5317, 1498, 6646, 3828, 4324, 8020, 7526, 4360, 5553, 2236, 8099, 888, 6002, 3860, 12037, 4403, 4521, 2019, 1956, 478, 7146, 2163, 8320, 9581, 1007, 2569, 11111, 2071, 1872, 5948, 8682, 835, 10394, 9668, 29263, 2675, 1689, 3724, 3947, 916, 7118, 4910, 4708, 9458, 1396, 3373, 149, 4396, 1540, 923, 3492, 8229, 3812, 1658, 4700, 1824, 3354, 4399, 2585, 12370, 3481, 3148, 8226, 8559, 7527, 5170, 4325, 5230, 3587, 2237, 15326, 1428, 928, 5477, 1397, 1553, 1574, 7745, 1219, 3981, 2638, 2008, 698, 10880, 1901, 8047, 3899, 2585, 3125, 2887, 1319, 6831, 5870, 5387, 4848, 5317, 4631, 1571, 7217, 1557, 3598, 5325, 3797, 5788, 633, 164, 2588, 113, 4526, 5663, 4335, 486, 1174, 8329, 100, 15777, 3141, 996, 4386, 278, 3590, 8831, 5682, 1499, 3060, 1581, 2126, 1407, 12839, 586, 2747, 3927, 10951, 3269, 5867, 1935, 5188, 2856, 782, 3731, 5368, 3821, 4095, 7703, 1528, 2297, 23430, 5407, 1137, 7975, 11366, 6766, 2939, 5297, 3178, 666, 2711, 3663, 4197, 4743, 7626, 7218, 7030, 4108, 140, 2332, 7256, 8408, 4669, 1547, 8252, 4243, 5321, 8474, 1809, 5165, 2685, 3503, 8179, 4427, 6857, 991, 12104, 35183, 8638, 550, 4400, 1628, 2333, 1987, 2280, 3559, 15279, 5729, 687, 5970, 4894, 6758, 1472, 2293, 3112, 542, 6108, 2886, 6448, 2098, 427, 6237, 8598, 8098, 3372, 7462, 4967, 5371, 8281, 3985, 2505, 5123, 4117, 11229, 6260, 4215, 549, 8481, 4594, 1546, 6479, 3899, 12936, 7379, 13800, 1439, 4973, 3301, 5212, 2245, 2127, 5943, 13476, 738, 1652, 5955, 2271, 2829, 9309, 8896, 8849, 4575, 12841, 238, 5138, 1806, 10820, 7966, 4521, 4672, 3176, 4129, 610, 5458, 2632, 4427, 1222, 6621, 7302, 5374, 7389, 966, 905, 218, 233, 6492, 2458, 2449, 852, 1674, 54, 5395, 5445, 1317, 2996, 7619, 6343, 315, 4316, 2462, 1257, 2073, 1537, 8039, 7478, 6851, 3181, 7052, 2110, 809, 7428, 5657, 1973, 3610, 5983, 2220, 1343, 7322, 22698, 2717, 7037, 7468, 4068, 2069, 3689, 7015, 7909, 4810, 5168, 6330, 8116, 1181, 5919, 4981, 3547, 1000, 6093, 1584, 5948, 7343, 3048, 3491, 5126, 4538, 1370, 5094, 8508, 372, 7201, 202, 1682, 1410, 10045, 428, 7292, 1825, 3799, 1749, 2510, 5150, 9287, 6919, 4854, 5252, 1046, 1336, 10228, 1313, 4057, 2783, 2856, 1730, 13991, 345, 9078, 5223, 7065, 12, 2635, 277, 20944, 1454, 14922, 2330, 3501, 5271, 1677, 925, 12160, 1619, 5591, 6405, 2233, 259, 2521, 1070, 1827, 6185, 1670, 4662, 6064, 4488, 959, 8332, 10456, 410, 217, 616, 5195, 6555, 930, 3615, 4330, 3998, 2900, 1858, 5476, 3659, 1394, 1553, 9614, 2548, 7551, 3143, 5709, 343, 1386, 6039, 6412, 3905, 8340, 3900, 7144, 1910, 3243, 1386, 3000, 2658, 8190, 6537, 5972, 2262, 1998, 6739, 1690, 2091, 846, 815, 10049, 2618, 1343, 2878, 1677, 27298, 4116, 1610, 6489, 774, 6842, 1496, 2040, 276, 1748, 2451, 1601, 9366, 2625, 6302, 5169, 6335, 10264, 792, 3185, 882, 7679, 1952, 201, 5139, 3690, 984, 997, 2874, 2876, 4721, 92, 3263, 11586, 7744, 3279, 1019, 11975, 9055, 2954, 203, 4243, 6919, 216, 3307, 3557, 1440, 2822, 6047, 4565, 4226, 4614, 3477, 9099, 8010, 5339, 1178, 7331, 14082, 9012, 1, 1185, 350, 4239, 658, 1445, 417, 5666, 4689, 1160, 4263, 1138, 6442, 12946, 5929, 3385, 7231, 7321, 3183, 3220, 2427, 2478, 1060, 7158, 1874, 2074, 1993, 5015, 904, 1205, 5908, 11557, 3389, 4115, 7850, 787, 565, 1451, 5192, 6621, 1894, 3785, 4584, 4257, 1974, 8847, 5254, 1851, 5241, 3970, 1176, 6320, 1630, 2509, 1818, 201, 3537, 390, 2656, 4987, 1419, 4601, 5846, 861, 11033, 4435, 6823, 6360, 3476, 3246, 1544, 3011, 8143, 815, 126, 197, 4120, 5073, 2523, 2296, 2042, 666, 3717, 373, 6962, 7989, 54, 6443, 2574, 138, 1840, 901, 4673, 200, 4512, 2338, 984, 1280, 2101, 5122, 2324, 6655, 1735, 4222, 1797, 3865, 7961, 2632, 1691, 10257, 1218, 27233, 6415, 2565, 6565, 1364, 4783, 2094, 1824, 6932, 11303, 6872, 1977, 7913, 6147, 777, 7187, 594, 4767, 3862, 7381, 8100, 5495, 680, 6203, 1624, 1724, 4420, 14838, 1, 2449, 3831, 730, 500, 2944, 1899, 8799, 2124, 27196, 2193, 13708, 2760, 9470, 7210, 1987, 3536, 5607, 1720, 6304, 879, 3762, 1271, 1639, 4701, 2807, 1619, 3931, 1223, 959, 1081, 5193, 4042, 4987, 11764, 13579, 7510, 10621, 6539, 2338, 1, 7878, 6768, 8291, 2740, 1899, 8561, 6792, 1313, 615, 1345, 14271, 3053, 2340, 7239, 2467, 5657, 486, 6903, 9259, 2716, 2489, 2735, 2216, 7683, 1058, 2374, 769, 7279, 3059, 1311, 875, 9111, 1847, 1761, 6725, 1784, 1055, 5308, 12011, 2895, 4103, 2092, 1310, 2386, 22406, 9076, 9000, 1349, 1386, 2478, 11827, 1664, 3439, 3194, 7536, 4946, 5362, 839, 831, 7357, 5676, 5653, 4842, 1224, 6953, 7327, 1104, 5002, 2881, 5385, 9862, 8060, 2753, 4691, 2409, 6244, 8405, 2464, 154, 4807, 4689, 846, 3067, 5639, 3325, 5881, 3647, 8901, 4344, 9961, 6334, 3049, 11462, 1834, 3271, 848, 7650, 2656, 1999, 7708, 7506, 10236, 4742, 4762, 2703, 7521, 1745, 1596, 6335, 4559, 792, 3358, 4783, 9274, 4286, 1200, 4087, 1432, 3357, 5612, 888, 756, 9613, 7163, 2183, 6739, 10361, 5003, 4151, 2519, 6449, 92, 2191, 3206, 2866, 1320, 4625, 3654, 3750, 1363, 6089, 5113, 5194, 3646, 490, 4865, 6662, 1967, 5304, 1928, 9132, 11234, 3544, 3238, 4821, 6723, 153, 227, 3765, 2147, 486, 3852, 3695, 7964, 801, 5502, 1592, 565, 7137, 2119, 4150, 3113, 4055, 2965, 6525, 6126, 7644, 8339, 4685, 9379, 6900, 11437, 4155, 6120, 7805, 1922, 1900, 72, 4600, 10501, 2723, 4848, 3274, 1262, 7393, 8362, 1089, 5297, 4342, 7622, 933, 5956, 3121, 1173, 3164, 1675, 4502, 448, 5369, 4502, 5470, 8411, 3294, 5964, 529, 1694, 5633, 2202, 7109, 2437, 3091, 1594, 2209, 3107, 2837, 7290, 3691, 7632, 1675, 7314, 8213, 2959, 4178, 2060, 8950, 2649, 4354, 5449, 1413, 5648, 6553, 10999, 362, 2770, 6738, 2919, 8134, 12964, 2723, 2884, 3507, 5417, 2416, 2675, 6695, 4910, 3702, 154, 6652, 1811, 5532, 3495, 4270, 15002, 2227, 12539, 127, 4699, 539, 2064, 3045, 6846, 5209, 8021, 3161, 1562, 854, 4430, 4234, 1496, 201, 2665, 2013, 14353, 13929, 5112, 2543, 7032, 23874, 1578, 802, 7143, 690, 1771, 3907, 8478, 4611, 7093, 6548, 2321, 2215, 6079, 9481, 2583, 11249, 3176, 7374, 5134, 1932, 563, 1916, 3058, 6787, 1968, 1517, 5525, 3117, 3125, 3741, 8460, 743, 8510, 1445, 8364, 14281, 527, 2941, 6547, 2656, 1308, 4169, 14475, 7595, 10417, 1925, 6853, 1436, 1612, 1652, 4737, 977, 6751, 1383, 11238, 3618, 6776, 4203, 9848, 1155, 3009, 1247, 682, 15749, 3080, 1854, 3849, 8589, 227, 1374, 9629, 4924, 3753, 2138, 627, 7335, 203, 5123, 6437, 3882, 422, 5594, 4925, 6906, 3497, 6258, 6598, 5919, 3762, 3515, 1566, 3231, 808, 6670, 435, 343, 1871, 2153, 2952, 3503, 2968, 4237, 201, 1666, 755, 547, 2003, 1506, 2349, 4643, 4879, 4289, 8768, 1141, 7386, 2489, 1457, 2195, 2465, 1947, 6055, 1891, 3539, 4157, 9121, 2045, 5257, 1098, 3235, 1298, 7849, 1112, 3270, 1041, 30805, 3177, 1471, 1609, 1973, 4035, 3440, 3355, 6307, 7886, 3949, 1821, 25735, 1551, 2784, 1606, 5141, 1832, 4343, 5038, 2459, 1929, 1753, 2446, 13903, 7300, 6766, 5333, 2396, 6269, 7625, 8204, 3957, 4333, 5824, 3154, 4305, 312, 8805, 5913, 5377, 3354, 2573, 3903, 5237, 6892, 611, 1113, 4636, 2510, 10370, 2221, 920, 928, 4195, 6042, 10972, 5616, 1521, 7883, 13407, 1937, 10591, 4413, 9381, 6411, 804, 699, 1274, 6776, 292, 2696, 5818, 1871, 5575, 9593, 3304, 3832, 3175, 5018, 3395, 2066, 32168, 5398, 1982, 2103, 2479, 2673, 3650, 5867, 5700, 5919, 6639, 2550, 2184, 13150, 3309, 421, 1984, 7693, 3613, 2459, 1001, 846, 2106, 4962, 5425, 9181, 2695, 9912, 5987, 331, 3116, 4336, 652, 4382, 1952, 6904, 721, 1545, 2054, 3603, 17495, 2297, 1106, 2721, 2357, 17351, 7138, 2342, 1035, 9135, 2305, 6267, 2053, 4238, 2735, 1973, 2199, 2960, 1234, 2369, 1, 7251, 6444, 1667, 2694, 889, 3769, 7121, 6291, 11218, 3961, 20414, 2359, 3181, 4440, 2175, 1558, 1579, 2152, 3558, 1501, 1342, 7281, 2554, 9330, 7567, 1042, 7320, 20780, 2446, 5095, 1851, 5314, 1941, 3626, 5481, 205, 1563, 3868, 6960, 6926, 3862, 4751, 6998, 8215, 222, 6569, 2313, 202, 4750, 957, 461, 3096, 4859, 2322, 4400, 4590, 459, 4802, 3224, 2847, 2696, 2980, 25828, 7154, 5055, 9102, 11827, 3930, 3263, 3009, 7996, 995, 8365, 7366, 6674, 1860, 2898, 8594, 3044, 2780, 11658, 2457, 4709, 6850, 9042, 54, 2736, 3941, 7269, 1754, 507, 4455, 8544, 277, 6695, 4222, 2718, 1425, 25783, 966, 1338, 1569, 7792, 3510, 677, 9193, 7416, 12178, 5030, 4758, 1279, 8713, 2800, 3434, 14418, 1326, 6837, 643, 4491, 5586, 4315, 1445, 7133, 17284, 686, 1339, 3419, 2617, 272, 2500, 7577, 7341, 8035, 3491, 1815, 5938, 8978, 841, 1795, 762, 7711, 8517, 1177, 2579, 2581, 1988, 2779, 3763, 2136, 73, 3850, 6640, 4147, 5081, 2849, 7983, 5996, 2927, 1176, 2333, 2195, 6398, 5554, 8684, 3572, 1626, 774, 2334, 2212, 4770, 2583, 7661, 7951, 1065, 7035, 5564, 7960, 8157, 7406, 1588, 2763, 11342, 1990, 194, 46240, 2078, 6852, 2939, 4606, 7810, 4468, 5407, 5443, 6476, 4323, 2169, 7215, 2367, 2963, 5757, 1404, 406, 5056, 2619, 8130, 11245, 1041, 5198, 5442, 8543, 203, 1813, 1959, 4986, 1394, 3533, 6707, 4106, 1865, 634, 7706, 2226, 588, 2589, 4180, 5624, 1092, 2208, 4477, 9007, 3146, 935, 1177, 5869, 5499, 4465, 4044, 3702, 6985, 1652, 2409, 670, 1407, 1888, 2436, 9915, 1973, 5004, 7446, 12665, 2020, 2831, 4674, 4553, 201, 320, 3076, 24181, 1737, 1969, 4358, 7646, 164, 7434, 7653, 6600, 3408, 6511, 1911, 10462, 26890, 9472, 1973, 6992, 2039, 4154, 3077, 7196, 6992, 2307, 2240, 7176, 1372, 2238, 7465, 5842, 1455, 3700, 7776, 1210, 5946, 1964, 2325, 2837, 7217, 4367, 7914, 5951, 2131, 1780, 966, 2164, 195, 2631, 1708, 1872, 753, 296, 2982, 911, 2734, 2027, 2685, 6915, 6560, 2817, 5839, 279, 7103, 2627, 6190, 4096, 6859, 3025, 4172, 1646, 3274, 6331, 8803, 2219, 7631, 2973, 1525, 982, 6323, 7214, 2878, 7924, 4478, 1818, 7159, 5275, 1372, 4268, 943, 153, 1153, 1, 873, 391, 8766, 558, 1754, 397, 4747, 198, 5141, 522, 5626, 18661, 3282, 1041, 3945, 8701, 7046, 3303, 15010, 1159, 4844, 3537, 820, 4207, 3747, 2313, 507, 6166, 4823, 5102, 10840, 13805, 1228, 5631, 6485, 3030, 1559, 14861, 4289, 8541, 212, 2852, 15037, 1646, 10185, 3229, 4754, 8184, 886, 3134, 2614, 3219, 1887, 1277, 921, 1696, 5813, 10773, 3567, 6533, 1714, 1973, 4857, 3216, 1843, 7792, 4835, 2129, 9188, 1393, 11865, 4942, 7720, 9643, 5944, 9097, 1377, 3202, 2568, 2697, 13556, 1062, 2493, 708, 2625, 6644, 2239, 2069, 2530, 3672, 7445, 5148, 16861, 2674, 4189, 9230, 6896, 517, 1282, 6163, 1628, 1188, 5658, 5496, 6646, 543, 11351, 1246, 3513, 1034, 1377, 1792, 8189, 715, 7875, 9280, 6712, 6134, 754, 1404, 5226, 2617, 1899, 6262, 6177, 4765, 7265, 2128, 3478, 4390, 178, 8002, 173, 8361, 1909, 4046, 2735, 8069, 2989, 1942, 1591, 930, 4300, 4231, 3314, 4254, 6466, 151, 5319, 2794, 2069, 11811, 18001, 685, 15104, 1663, 4226, 4642, 1795, 4666, 7257, 1195, 1422, 4876, 4877, 2833, 6280, 4333, 6720, 4998, 6538, 5943, 5097, 1711, 4195, 7912, 565, 4413, 4757, 6246, 11086, 10444, 1, 3266, 4878, 5297, 3765, 2421, 4537, 1790, 4329, 7800, 1973, 4739, 3461, 9907, 6964, 21006, 1387, 1092, 2480, 992, 2143, 9023, 2727, 6254, 2397, 6118, 1301, 3697, 786, 12119, 7692, 5570, 3872, 2419, 1492, 9095, 7622, 2020, 9765, 13958, 1596, 2584, 2345, 2521, 4697, 1699, 5146, 1183, 5798, 8502, 1136, 3437, 1111, 718, 2267, 1685, 1368, 1423, 5452, 8290, 7959, 2574, 7401, 2507, 5962, 1792, 1482, 3242, 6908, 66, 7313, 7514, 231, 1305, 4704, 2132, 1054, 2639, 3446, 1775, 2364, 2774, 796, 2828, 4410, 623, 20693, 9833, 2335, 8437, 5032, 3793, 3186, 3594, 2043, 3507, 2273, 3141, 11701, 1116, 11267, 2087, 6795, 3467, 7464, 2970, 11978, 3330, 3988, 3505, 1023, 4643, 7773, 8267, 5674, 9208, 2154, 7152, 6002, 5389, 1068, 714, 621, 359, 13387, 1374, 1011, 4583, 7873, 1084, 5358, 3284, 1641, 5098, 2296, 3272, 1, 2634, 2664, 756, 2067, 6234, 1917, 2741, 15482, 6720, 2465, 240, 1114, 396, 4172, 899, 195, 12552, 3544, 1847, 7552, 2553, 1246, 260, 4533, 3590, 5208, 5186, 4490, 5842, 4962, 8648, 7064, 4852, 5305, 4486, 1441, 6527, 5653, 6400, 9432, 7911, 2435, 825, 857, 8025, 3811, 8945, 1190, 4771, 3604, 2556, 3107, 5506, 8180, 6521, 2105, 301, 2087, 308, 3494, 6598, 1719, 12659, 4199, 8442, 2337, 1813, 6661, 6526, 1743, 3251, 3201, 7586, 3380, 26772, 8993, 2609, 10287, 5977, 5711, 2147, 198, 9933, 16063, 4679, 7828, 3274, 7265, 8599, 3484, 2377, 1029, 5091, 7083, 15960, 4784, 8419, 3714, 195, 3961, 533, 3633, 1802, 9383, 855, 2480, 336, 2324, 3931, 4801, 197, 7715, 2597, 4754, 5851, 4396, 2805, 7611, 3320, 11648, 1312, 4419, 6241, 2272, 2341, 5259, 7497, 1158, 6994, 2903, 8900, 2337, 1208, 186, 534, 3311, 7525, 1832, 6875, 8778, 1800, 2522, 6132, 4900, 1676, 1412, 1103, 3073, 14309, 1823, 5871, 1544, 2162, 123, 691, 1973, 5450, 2437, 7304, 6064, 4263, 1826, 2250, 5157, 5313, 7922, 6472, 22132, 8819, 3326, 1778, 3441, 4918, 6763, 4573, 3929, 2493, 547, 2273, 2481, 8051, 4158, 5305, 461, 1299, 150, 2866, 5113, 1007, 5350, 1398, 3086, 6710, 4159, 1835, 5457, 43374, 4929, 3942, 4649, 4675, 2285, 11732, 2105, 9846, 1168, 2657, 4794, 129, 5494, 1658, 10019, 276, 33463, 1528, 220, 527, 2080, 792, 3524, 3746, 1160, 2891, 1768, 1249, 4064, 4857, 6463, 1572, 2480, 10594, 11065, 8315, 7104, 1131, 918, 7552, 2500, 3129, 6255, 1329, 6667, 1625, 5402, 2099, 3423, 1660, 10249, 1284, 7048, 5840, 153, 11542, 1053, 10389, 1628, 6263, 7571, 5604, 10464, 1935, 1275, 6386, 4024, 3350, 1509, 221, 2782, 2315, 2277, 6120, 149, 1250, 691, 4162, 439, 6917, 3584, 3459, 5417, 10862, 1904, 387, 4663, 4171, 2744, 2739, 5068, 386, 4837, 1266, 5651, 5838, 9748, 9409, 7062, 7248, 6316, 6646, 9364, 8798, 10292, 7563, 5431, 4732, 3071, 6873, 368, 4860, 7474, 4210, 4331, 336, 2981, 8092, 5214, 8919, 5659, 7275, 4721, 2579, 2120, 2082, 2896, 1778, 7624, 8065, 1364, 2947, 4710, 827, 2344, 5264, 2191, 943, 1463, 1973, 897, 6473, 8713, 7838, 2240, 762, 10281, 1834, 3228, 1035, 6380, 32090, 7258, 7343, 1309, 9879, 5495, 1033, 6323, 6278, 5998, 3374, 192, 6296, 7110, 1474, 860, 939, 6985, 2609, 10931, 2705, 3462, 1870, 1361, 1187, 5424, 2828, 3093, 1884, 4694, 7745, 406, 1012, 1486, 634, 108, 2579, 4742, 2280, 271, 184, 8778, 3060, 2642, 631, 2853, 117, 4762, 8921, 398, 5235, 450, 4157, 6954, 117, 4041, 26773, 540, 305, 7375, 3450, 1530, 5420, 15737, 4303, 4538, 1350, 771, 5879, 6002, 4146, 8400, 10607, 1368, 7483, 6025, 2023, 4845, 150, 7224, 6718, 7018, 4462, 734, 7229, 2936, 3155, 5716, 3712, 2540, 6903, 3007, 1140, 2842, 4913, 4064, 334, 8735, 4275, 1739, 7070, 4613, 11054, 2233, 1799, 456, 815, 3768, 1237, 6410, 1151, 5795, 6926, 149, 3912, 5095, 2572, 3819, 506, 434, 15609, 2288, 564, 2927, 2349, 6772, 7816, 5215, 13912, 12556, 53, 3657, 7129, 6662, 5205, 435, 2809, 4518, 2088, 8459, 2310, 2211, 6690, 1800, 11229, 8605, 7527, 8744, 4077, 1048, 818, 1998, 7195, 5168, 10385, 1544, 5312, 3151, 3729, 7348, 2447, 3163, 2511, 11634, 13746, 11159, 2401, 539, 6170, 83, 2700, 1670, 6151, 2567, 6453, 2680, 7084, 1204, 1030, 3935, 2912, 4513, 386, 6013, 3169, 139, 2007, 4601, 4052, 1075, 1525, 19310, 7655, 1661, 813, 1973, 1707, 7242, 2305, 4631, 7024, 8680, 9543, 159, 1815, 1623, 9954, 1729, 4076, 7111, 7039, 6789, 7510, 4132, 5347, 249, 54, 198, 8022, 1847, 1440, 11455, 26823, 358, 46162, 841, 603, 8784, 5822, 5847, 25618, 4977, 12208, 1152, 912, 203, 2265, 6982, 763, 6464, 695, 4549, 22065, 6181, 8309, 4684, 1276, 10069, 7665, 2950, 8402, 430, 7770, 5244, 7124, 5259, 1807, 1569, 4667, 2333, 2705, 1778, 2112, 2099, 7093, 2716, 2691, 5438, 1395, 3659, 1593, 10002, 2955, 11276, 2125, 1, 2478, 406, 7461, 4417, 1363, 12586, 6281, 3317, 2610, 1391, 5610, 10484, 2064, 7088, 7258, 4090, 4045, 5377, 2480, 1555, 705, 2280, 336, 6080, 9803, 2262, 6659, 8724, 1740, 1099, 277, 3519, 4905, 4943, 4320, 1328, 6183, 3860, 5878, 1890, 2960, 4032, 4689, 1514, 4782, 1922, 14959, 9269, 3685, 198, 4540, 7185, 4363, 1671, 8938, 2938, 1982, 3645, 4933, 2589, 4388, 7296, 4605, 1211, 1973, 3759, 207, 616, 7573, 2817, 3849, 3562, 8613, 1304, 2519, 3228, 1665, 2239, 6213, 9082, 3851, 2085, 1748, 4672, 1535, 7639, 2095, 7015, 6256, 7933, 1583, 5951, 641, 2041, 1541, 2398, 3077, 1, 612, 6301, 8321, 5974, 14957, 561, 955, 16253, 4299, 2889, 1148, 8095, 7411, 2283, 413, 1876, 4454, 8810, 1832, 269, 545, 927, 7232, 3952, 9774, 1016, 5698, 196, 1015, 10105, 1645, 2927, 6194, 3027, 7761, 3062, 1152, 1223, 7512, 4737, 202, 6014, 17959, 8210, 2614, 7805, 3022, 1339, 2111, 3234, 1744, 7717, 7627, 7775, 2275, 3546, 3474, 152, 2814, 3721, 2451, 6876, 4301, 3718, 5153, 839, 7271, 1707, 2907, 2277, 2645, 131, 3374, 2481, 6488, 3121, 347, 2176, 1810, 1345, 5078, 5899, 456, 3164, 3970, 6973, 1090, 11277, 5146, 1706, 247, 4624, 2801, 3343, 12538, 2016, 14788, 6592, 2624, 4548, 5213, 8343, 4379, 1930, 12516, 4347, 2023, 1390, 1565, 1191, 1302, 3576, 7601, 1037, 1244, 10638, 2601, 2339, 3644, 5695, 9852, 7394, 2675, 1112, 4205, 6763, 435, 568, 5305, 1537, 3174, 5111, 9353, 2994, 3121, 3534, 5472, 21038, 13183, 7618, 5848, 6580, 5453, 3060, 2652, 654, 4683, 14731, 6831, 1863, 5214, 1419, 2208, 10662, 2848, 1988, 5845, 6839, 11904, 2584, 1467, 2758, 2806, 3937, 5624, 3316, 5993, 2723, 1344, 6089, 5888, 1688, 3611, 13912, 5284, 9598, 7951, 1189, 5446, 5474, 2188, 7223, 11299, 5872, 4895, 5554, 9777, 2457, 7724, 8349, 1038, 4519, 7710, 5837, 4645, 5172, 1075, 6131, 6745, 7433, 1734, 6865, 5874, 3773, 585, 8866, 2436, 5220, 12420, 4079, 1202, 1137, 7702, 3015, 5452, 1788, 4375, 1179, 3896, 1362, 404, 79, 10022, 6284, 7683, 1822, 4054, 7288, 5090, 7375, 3726, 2983, 1, 3352, 4383, 8348, 2243, 491, 1328, 1663, 7906, 1579, 6035, 294, 2618, 3052, 16615, 2941, 1973, 4464, 1, 1695, 2689, 1084, 18941, 1, 1993, 2371, 5483, 8158, 2999, 2617, 1193, 7780, 2691, 1782, 7985, 6128, 63, 2171, 6644, 2031, 1843, 5476, 5626, 4339, 1438, 5594, 816, 1123, 4975, 7372, 8416, 823, 2532, 2138, 2441, 586, 3487, 1179, 20458, 7988, 2750, 6977, 7786, 6258, 7608, 1056, 3375, 3790, 1612, 562, 8759, 8824, 10129, 6236, 1264, 4010, 2474, 2362, 8704, 5166, 5809, 2593, 1391, 5390, 6911, 2792, 1445, 2016, 3191, 4735, 5768, 4424, 2631, 522, 5694, 6470, 10186, 5619, 5856, 2453, 3424, 2348, 3859, 3788, 6930, 1212, 1885, 2143, 1333, 6535, 2055, 11608, 5789, 6733, 3251, 10866, 7097, 996, 754, 6057, 5333, 571, 1046, 6610, 6030, 7352, 3902, 2872, 1103, 2673, 11181, 5404, 7910, 4616, 11167, 911, 4604, 2555, 1271, 3875, 6439, 2996, 7837, 7156, 2676, 168, 1071, 11621, 6427, 1, 201, 1429, 8339, 1076, 1959, 951, 4112, 2326, 740, 221, 1078, 5472, 484, 6189, 3243, 2663, 12939, 2092, 149, 8059, 7939, 316, 52, 5236, 5008, 5815, 2524, 8128, 5611, 9168, 5710, 4884, 5995, 1904, 3576, 4547, 1657, 728, 4432, 543, 3516, 2926, 9376, 2980, 3843, 7684, 6892, 4880, 1209, 3004, 2151, 3761, 3311, 3930, 8136, 7752, 1310, 11465, 5797, 7653, 8867, 6030, 10900, 1439, 5020, 188, 39735, 1799, 795, 3123, 2686, 7700, 2075, 2327, 841, 1016, 2559, 8424, 7926, 604, 17385, 4612, 7595, 387, 8932, 2483, 7592, 746, 680, 3253, 2130, 5226, 6108, 7157, 4834, 4668, 7720, 4117, 3362, 2006, 15740, 35384, 3065, 153, 950, 1027, 8454, 3198, 32496, 3157, 1923, 7603, 4742, 4075, 7286, 4240, 1793, 7463, 2138, 6629, 9392, 1118, 4165, 2393, 1233, 5631, 3544, 3613, 4391, 6684, 3469, 9936, 5686, 2498, 11494, 1233, 2750, 1848, 2169, 6311, 3787, 389, 7382, 1916, 3356, 4937, 172, 6765, 4754, 2777, 5930, 6528, 16852, 7252, 5545, 5749, 3433, 1193, 777, 882, 797, 6344, 2062, 2928, 2136, 2560, 689, 1474, 2102, 8354, 936, 114, 2096, 2355, 880, 5685, 10325, 4573, 11331, 3024, 4545, 7028, 20611, 737, 7416, 2903, 895, 1710, 4459, 6264, 5646, 2145, 3051, 7492, 907, 5717, 5062, 1075, 2953, 3909, 5957, 6957, 2437, 3216, 7492, 8396, 6744, 1215, 7791, 7969, 4207, 10372, 3704, 61, 7561, 4042, 1741, 7102, 1702, 197, 9438, 9533, 5434, 10710, 6659, 4804, 123, 1575, 8984, 3561, 4165, 179, 3071, 1927, 4942, 2800, 1465, 4864, 7467, 2158, 4495, 1973, 7295, 6056, 1593, 1997, 5488, 1513, 8087, 5346, 1937, 3144, 1675, 6442, 1768, 2087, 2074, 5576, 2304, 2804, 6047, 8852, 7080, 8050, 273, 398, 1289, 900, 8685, 10879, 451, 7192, 6332, 1035, 6327, 1388, 3529, 7147, 8707, 4499, 35190, 427, 2463, 809, 1768, 1905, 5750, 8932, 5193, 561, 2652, 1922, 12831, 4109, 2694, 6711, 728, 4500, 2281, 2746, 226, 3685, 2066, 6207, 5127, 8161, 2158, 6374, 1629, 6393, 88, 3048, 1255, 1830, 307, 641, 492, 4064, 6738, 7390, 3165, 5474, 7322, 2149, 1868, 9663, 1742, 6222, 919, 202, 1003, 315, 16522, 1588, 5729, 2802, 16643, 4893, 6912, 216, 3588, 4113, 3104, 1517, 440, 8784, 7998, 860, 3468, 4708, 7006, 6059, 1161, 3157, 3430, 519, 4622, 1948, 2173, 3033, 1159, 14732, 7783, 6206, 1785, 5558, 2997, 4253, 372, 570, 3868, 1758, 5670, 3755, 1490, 5059, 7383, 794, 5056, 4384, 3413, 1168, 4276, 1986, 1601, 4138, 1399, 7891, 3873, 1683, 9824, 8390, 10928, 6350, 711, 6215, 778, 3561, 4993, 8207, 3968, 2229, 342, 661, 54, 7270, 808, 4174, 4856, 5778, 5883, 2312, 879, 5510, 2262, 3073, 4650, 369, 7125, 8354, 16506, 41270, 4818, 2045, 7696, 2178, 7047, 7667, 9897, 5733, 868, 4472, 2239, 283, 5690, 1185, 4694, 2523, 5629, 3042, 2082, 6139, 1945, 2143, 1970, 197, 455, 1123, 1741, 455, 1179, 3268, 21010, 8250, 11210, 371, 1568, 1396, 1785, 13046, 92, 145, 12150, 2435, 4636, 3080, 2864, 4575, 10917, 7292, 1148, 1217, 6428, 7960, 434, 201, 6623, 510, 6572, 2291, 5769, 5921, 5205, 1538, 2709, 3809, 786, 2844, 6139, 2026, 2771, 9450, 8224, 8120, 5094, 5272, 1853, 3476, 6160, 260, 2407, 8348, 7794, 2660, 6875, 7538, 7391, 3069, 3003, 8682, 1530, 5173, 9847, 3314, 198, 4167, 5436, 4524, 4728, 5386, 2663, 9846, 7559, 632, 642, 20499, 4277, 1759, 2519, 9251, 13, 1141, 3780, 4635, 2099, 3305, 2579, 894, 4090, 1484, 3373, 4161, 6397, 2742, 2304, 12779, 5007, 4445, 8292, 5626, 45, 6795, 3507, 7095, 13531, 1185, 7417, 5551, 2734, 1562, 1784, 7665, 4897, 6104, 7530, 5199, 451, 1217, 6987, 9075, 5935, 4076, 5383, 1252, 733, 3707, 4515, 3208, 5691, 1468, 862, 299, 8845, 4177, 2473, 2697, 10233, 5544, 2802, 1990, 20393, 2553, 15266, 3454, 777, 3969, 4126, 8605, 283, 6296, 3779, 7038, 3289, 5153, 7144, 24147, 2189, 3440, 6072, 7674, 5952, 1385, 5288, 3644, 2948, 3375, 9906, 2569, 8799, 3520, 5669, 1507, 8807, 429, 2578, 7221, 10195, 1266, 5561, 1, 5254, 489, 6705, 515, 11928, 4377, 7005, 5138, 7286, 7909, 848, 23162, 7058, 6641, 2733, 1397, 690, 2776, 2628, 3268, 6730, 9056, 4730, 6501, 2694, 6093, 314, 4188, 3153, 3015, 8344, 699, 3015, 5582, 1382, 1394, 4754, 6394, 2773, 3752, 1653, 5137, 448, 3425, 5267, 1942, 11896, 522, 9611, 1893, 4450, 4074, 2484, 3654, 1808, 9018, 4924, 1621, 6212, 5902, 302, 9140, 4441, 2884, 110, 1517, 1236, 4967, 6054, 1614, 7646, 1679, 1542, 3059, 7053, 3022, 1054, 2366, 3845, 3927, 2633, 5639, 4676, 3293, 616, 1445, 10627, 585, 7629, 6301, 453, 2091, 3930, 8899, 6490, 4711, 3466, 1074, 5022, 4980, 8690, 2710, 3226, 7203, 11958, 2373, 2529, 1841, 678, 8845, 9158, 3334, 3738, 3157, 7921, 7086, 8496, 2172, 4730, 653, 6792, 7060, 7952, 5743, 1194, 3176, 25405, 5407, 7589, 498, 4835, 2480, 887, 6353, 7049, 1675, 2400, 18516, 1031, 13981, 755, 2159, 937, 5010, 2629, 6337, 2722, 5421, 9848, 1689, 9378, 7209, 2251, 4184, 1747, 2985, 4399, 14761, 4088, 5172, 1482, 6136, 2541, 13841, 5626, 5567, 3680, 11698, 7431, 528, 14030, 9417, 5303, 6394, 1455, 3352, 1819, 6677, 3086, 16896, 1374, 6560, 3216, 1973, 2830, 6941, 2875, 4635, 3861, 612, 3818, 8678, 4505, 2084, 4795, 1423, 5214, 3179, 3233, 7815, 6997, 442, 5395, 6880, 1189, 26104, 622, 1590, 8773, 8194, 1364, 6277, 1146, 8295, 7405, 2401, 187, 1545, 3644, 111, 2281, 7576, 5614, 16361, 3669, 3153, 1836, 5359, 6934, 6610, 798, 5682, 190, 8009, 850, 8249, 1342, 8058, 842, 6797, 885, 2785, 6808, 1864, 6703, 3691, 14516, 67, 3551, 7420, 2590, 2969, 4505, 912, 687, 8126, 1445, 731, 2590, 1439, 3134, 2766, 1054, 5062, 2753, 4499, 5134, 5831, 8312, 2207, 6321, 2737, 5607, 2024, 1318, 2772, 1, 6920, 7533, 10263, 8568, 7263, 2410, 23976, 6624, 4832, 2204, 5727, 1172, 2135, 9447, 1431, 7761, 2059, 6364, 8420, 197, 3031, 7644, 2705, 6664, 73679, 1616, 3547, 4125, 4625, 12515, 200, 1288, 1463, 3102, 704, 162, 15464, 2516, 6214, 15377, 6024, 1666, 2223, 5045, 690, 4764, 7252, 1973, 1702, 8734, 6895, 138, 7723, 294, 5092, 2227, 1590, 1525, 2488, 3210, 7814, 7592, 6579, 4366, 2459, 2342, 2007, 4545, 2539, 1019, 1659, 2687, 2193, 2790, 1390, 1681, 5843, 6853, 1339, 9042, 3235, 17632, 3003, 2102, 3608, 6483, 2673, 5671, 294, 1064, 934, 4737, 952, 1457, 2163, 820, 5828, 2125, 425, 2405, 2565, 9003, 3379, 3196, 9308, 6287, 18008, 4358, 251, 5921, 6255, 1169, 1471, 7202, 5037, 1473, 435, 2912, 6580, 5709, 2847, 5295, 4370, 4677, 1973, 5178, 1989, 1160, 5746, 1012, 15359, 2953, 6491, 3902, 1098, 1719, 3141, 3104, 28237, 5839, 3149, 2703, 12745, 3060, 1593, 5959, 6672, 201, 5178, 2724, 4124, 26556, 8972, 12642, 635, 9680, 514, 4188, 2089, 36481, 10786, 1790, 5123, 6082, 10596, 967, 3332, 819, 3250, 1468, 1858, 1067, 6389, 2225, 2734, 9132, 3406, 142, 2457, 2113, 9039, 4013, 3455, 1080, 861, 6865, 11902, 3625, 201, 1851, 4078, 7948, 2457, 8227, 1869, 6626, 4161, 8435, 18620, 5136, 5660, 2335, 3091, 7933, 473, 2185, 2709, 8968, 2338, 10902, 5142, 3261, 537, 374, 3225, 1137, 15954, 7696, 12345, 965, 6513, 4581, 10959, 1117, 1113, 640, 798, 3463, 3803, 447, 4806, 2204, 6209, 13834, 976, 820, 5640, 2056, 3833, 1456, 10149, 4344, 1268, 636, 1001, 4053, 2581, 2032, 4920, 5340, 6732, 6218, 809, 4577, 5896, 1210, 5094, 1879, 7431, 3926, 2152, 4635, 9660, 9406, 1578, 1681, 2178, 2059, 2421, 3504, 1831, 8590, 2751, 2988, 2926, 10221, 5718, 1445, 2504, 9284, 4679, 2681, 2769, 8020, 5461, 2220, 148, 5094, 906, 8776, 5566, 7178, 3010, 2837, 6978, 1168, 2312, 4222, 996, 2656, 35824, 4820, 17175, 5696, 2116, 12138, 7997, 668, 2362, 238, 4758, 7537, 5280, 7697, 2195, 6122, 5254, 2615, 3286, 2521, 5171, 1142, 3349, 4937, 5286, 437, 1597, 5641, 3241, 3789, 4515, 2529, 2002, 5942, 2514, 1164, 4900, 1976, 6043, 3714, 3353, 2503, 15028, 2814, 5332, 4148, 2364, 7053, 2819, 2740, 725, 8838, 5404, 10683, 7180, 16554, 171, 4281, 202, 7123, 1502, 8705, 3413, 1688, 2206, 7713, 4494, 6122, 10184, 2889, 2847, 4737, 1983, 10598, 1863, 4032, 4040, 8413, 833, 13708, 8519, 6534, 3220, 3797, 1264, 5226, 3219, 5656, 1637, 4000, 6194, 1107, 89, 8467, 7296, 2864, 1514, 2635, 8023, 3402, 2316, 2192, 6775, 2210, 5256, 6850, 3057, 7695, 1572, 2294, 201, 1199, 5709, 3558, 2229, 5123, 8531, 1300, 33131, 1467, 6841, 1438, 1074, 1401, 9094, 3655, 1474, 8194, 2690, 1571, 1089, 8011, 845, 2997, 11848, 2733, 2738, 2025, 3053, 2991, 5593, 2165, 1484, 3197, 10518, 4215, 2538, 29, 3985, 4790, 2085, 223, 4820, 1777, 1280, 20179, 7173, 1001, 722, 3303, 8885, 2911, 8143, 686, 4033, 4539, 328, 6051, 6551, 3175, 2571, 3681, 1427, 2679, 4185, 5420, 2521, 1393, 950, 3466, 3279, 898, 11556, 179, 4989, 3475, 7250, 7262, 3261, 781, 1368, 5419, 1889, 3054, 3562, 5139, 9228, 2088, 3257, 9286, 10041, 6446, 7052, 5592, 1424, 155, 3124, 5294, 12705, 1232, 9947, 4392, 5897, 3933, 1534, 4902, 1937, 740, 919, 3781, 1387, 3390, 5425, 8948, 2468, 6694, 9628, 3642, 10923, 2126, 6481, 1565, 15964, 1544, 3391, 1809, 938, 5938, 2550, 15068, 8542, 3175, 5090, 4396, 10448, 2340, 6139, 7964, 13696, 2935, 5842, 2137, 4591, 2275, 634, 4019, 1933, 334, 424, 20064, 396, 1334, 202, 4049, 3531, 9269, 54, 527, 8572, 5284, 2958, 6207, 20169, 6667, 8438, 969, 1632, 4790, 8102, 6695, 999, 580, 4611, 8266, 1698, 5849, 6909, 2500, 10035, 4675, 1, 3941, 2783, 7808, 1294, 1349, 2935, 8389, 950, 5947, 7567, 2635, 10441, 3187, 2313, 1285, 2009, 1195, 2954, 1300, 3325, 5222, 6918, 3894, 7029, 2224, 9068, 2819, 3686, 3656, 3658, 6090, 11096, 6804, 9606, 8931, 4887, 922, 1123, 5162, 2457, 1377, 6882, 6299, 723, 5590, 2710, 2239, 9626, 4734, 573, 7447, 5557, 4330, 9, 3928, 4796, 4961, 8982, 4059, 2593, 5095, 913, 4250, 10796, 7339, 2528, 7787, 13349, 4804, 4844, 4290, 8510, 142961, 1536, 371, 4435, 1072, 2924, 2358, 9099, 9334, 5375, 3777, 1189, 2814, 4280, 9792, 2040, 1454, 10117, 8305, 5562, 7640, 8616, 7428, 1925, 1210, 2461, 2076, 7103, 1235, 2043, 1445, 7157, 4645, 2669, 3868, 2507, 1399, 3003, 1379, 2329, 1578, 7397, 2078, 13656, 3310, 485, 9911, 15432, 1884, 3550, 870, 4825, 312, 1198, 12499, 370, 4369, 1135, 6003, 6186, 7091, 14688, 1991, 1464, 6589, 4712, 1519, 2578, 8551, 2644, 1, 4357, 2877, 2137, 5200, 6447, 2114, 1, 568, 5958, 6179, 4486, 2313, 872, 5695, 734, 8710, 2145, 4760, 2321, 1833, 3094, 4780, 79, 1832, 6251, 4740, 188, 8187, 1271, 9579, 5689, 2899, 4211, 3989, 727, 2649, 1197, 6654, 3126, 4639, 6903, 2351, 3247, 2624, 1804, 4499, 505, 7090, 5136, 4380, 7372, 6123, 1702, 11897, 8655, 4201, 4373, 3598, 965, 3651, 5659, 31, 3196, 2485, 4726, 1, 9488, 4143, 6151, 7698, 17494, 1342, 3467, 7133, 2652, 7142, 1964, 2627, 7555, 1283, 2426, 1253, 9224, 849, 1997, 6005, 4922, 6384, 1187, 5312, 9137, 1360, 1210, 1046, 22535, 219, 1200, 3708, 4293, 1599, 488, 1700, 1545, 2804, 5893, 4831, 31757, 5122, 6580, 5038, 380, 15054, 1371, 1489, 9404, 3458, 695, 4022, 1955, 9690, 19815, 2280, 1236, 1191, 2082, 17095, 4165, 7787, 3095, 4209, 2442, 1109, 4111, 2438, 1420, 1745, 3996, 4946, 4598, 2733, 4483, 735, 8331, 2658, 5479, 18987, 3328, 3027, 7045, 8130, 1653, 1644, 632, 3329, 7020, 2372, 1359, 2243, 1574, 3455, 1068, 2573, 963, 7056, 3293, 4255, 1027, 10083, 7438, 1179, 419, 4277, 2216, 2447, 6339, 75, 8395, 5008, 437, 7675, 1657, 3832, 3526, 2343, 5233, 5573, 3755, 6450, 393, 3243, 214, 5942, 3773, 14584, 1850, 2719, 1365, 1298, 160, 12682, 25854, 4825, 6215, 3148, 3445, 14935, 196, 7581, 10899, 5785, 997, 8461, 1535, 5371, 640, 2002, 1537, 2204, 3805, 7172, 3696, 1102, 4965, 4743, 7859, 3103, 1992, 704, 4054, 5440, 1682, 4912, 199, 5666, 3463, 4098, 413, 7203, 6364, 9513, 7702, 5917, 5220, 3715, 1696, 1385, 8140, 4998, 3590, 7827, 350, 2853, 1072, 16369, 2278, 7619, 3222, 1049, 8987, 8422, 17336, 4701, 2430, 2457, 7717, 911, 446, 3043, 111, 6675, 1157, 1712, 496, 4922, 255, 3268, 3606, 1675, 9554, 1272, 5026, 5276, 1658, 6234, 1341, 4333, 9352, 2608, 216, 9968, 4878, 2915, 25177, 2113, 7039, 7596, 7335, 9483, 3876, 7771, 7047, 2154, 1652, 3689, 8231, 4758, 2162, 5117, 3366, 3020, 3610, 644, 10475, 532, 10089, 788, 25213, 6031, 7113, 5309, 1942, 758, 6628, 8075, 3118, 2797, 3426, 7887, 1107, 8203, 3675, 2057, 202, 4261, 2052, 4911, 6153, 4477, 1783, 9232, 1507, 8472, 4356, 316, 4742, 1367, 1, 3292, 6452, 2324, 1860, 4722, 8170, 2160, 14257, 1142, 4709, 6380, 2255, 2395, 440, 9057, 2260, 2937, 10052, 2674, 2826, 1, 9552, 5569, 6470, 750, 5053, 3879, 2504, 653, 723, 5122, 830, 7465, 1593, 1989, 22628, 7893, 9439, 9415, 1529, 6640, 3775, 5734, 2062, 3653, 2645, 3599, 995, 10415, 2780, 1019, 3307, 3944, 4860, 5472, 5318, 632, 4599, 5941, 6942, 2954, 4280, 2487, 4071, 4600, 1643, 5327, 9948, 3971, 3411, 7331, 2871, 173, 2243, 6878, 5330, 5849, 10103, 5286, 2795, 3522, 7879, 7632, 3544, 2492, 874, 601, 1431, 10210, 2817, 2274, 2927, 7521, 10653, 7642, 5216, 1445, 5611, 8753, 1147, 8487, 48, 1137, 5428, 3721, 8382, 3940, 3546, 8129, 2878, 523, 7272, 2896, 6718, 199, 413, 3717, 3148, 2300, 7958, 3069, 5054, 4546, 844, 8363, 2907, 286, 10155, 2316, 2994, 5095, 1947, 1091, 27084, 1771, 2942, 1039, 3514, 1756, 4879, 431, 6166, 7699, 12249, 4847, 6066, 3881, 6172, 2344, 326, 539, 11630, 969, 2992, 32210, 4213, 3449, 8013, 3838, 8134, 600, 4796, 3038, 8070, 17, 11796, 3610, 5151, 3822, 1653, 1544, 4708, 10558, 2441, 9368, 830, 43, 3134, 2383, 1796, 3154, 3379, 1867, 4762, 5390, 1572, 5796, 9840, 5129, 1282, 4883, 7298, 1834, 1232, 4141, 189, 5466, 11033, 8736, 1064, 7218, 8007, 13066, 5790, 4525, 203, 7892, 7092, 2769, 1102, 46972, 5393, 3919, 2423, 2701, 3082, 4911, 2843, 7339, 1684, 2139, 2136, 6555, 2926, 3656, 7316, 6095, 2061, 6885, 1634, 6512, 3150, 6513, 6137, 1051, 6995, 8892, 483, 2719, 25956, 3959, 7243, 249, 3490, 1002, 3820, 4606, 3567, 7155, 1, 4669, 15518, 7591, 17439, 201, 625, 2064, 2727, 1475, 3064, 8529, 2046, 5450, 1888, 3881, 1840, 2672, 1078, 3591, 12188, 1032, 4108, 9146, 2047, 7735, 11529, 7986, 4583, 13953, 7583, 1969, 248, 5577, 1837, 4484, 800, 2730, 4987, 178, 14527, 2925, 4501, 6934, 3869, 8937, 4629, 915, 5985, 13127, 9412, 1609, 2982, 6779, 6777, 270, 4887, 3639, 8606, 2105, 125, 829, 149, 3894, 4842, 8102, 2665, 6017, 5338, 8531, 6374, 8899, 1283, 2082, 2925, 5079, 4877, 1306, 947, 13828, 4154, 6864, 3483, 2141, 2997, 2939, 2366, 3045, 4510, 15454, 11029, 1966, 5268, 9469, 4411, 3966, 494, 1032, 764, 4726, 871, 6326, 3318, 12682, 1269, 6409, 4098, 5959, 2672, 3917, 5469, 9210, 35419, 2172, 7394, 899, 6043, 10508, 2664, 1592, 9112, 7447, 3837, 1546, 1920, 2069, 6977, 24954, 9760, 1706, 4631, 14247, 1440, 11243, 7460, 4585, 3295, 161, 5177, 7528, 715, 7273, 9402, 1490, 3599, 1670, 1796, 2529, 2288, 10247, 276, 10046, 10595, 7858, 6758, 4582, 916, 853, 4505, 903, 2749, 10552, 2871, 2427, 1792, 8392, 2035, 1883, 2736, 5886, 6093, 4779, 1729, 1071, 3146, 4395, 2127, 2975, 3277, 1750, 1863, 1221, 1814, 2193, 8254, 1766, 3774, 7860, 1304, 3979, 3709, 1923, 7200, 1423, 9476, 1552, 574, 10904, 2881, 3743, 1468, 1824, 1325, 6503, 18178, 8751, 18004, 9106, 1068, 281, 4877, 434, 2475, 4747, 5065, 27298, 2823, 193, 803, 5341, 2157, 3223, 197, 2837, 4818, 62, 6132, 2008, 175, 54, 2361, 4288, 4123, 1522, 2567, 825, 4122, 3348, 4388, 196, 2304, 7027, 8996, 5681, 1795, 4860, 2307, 3503, 2643, 3634, 3224, 2664, 1814, 6059, 4799, 1773, 7043]}],\n",
              "                        {\"template\": {\"data\": {\"bar\": [{\"error_x\": {\"color\": \"#2a3f5f\"}, \"error_y\": {\"color\": \"#2a3f5f\"}, \"marker\": {\"line\": {\"color\": \"#E5ECF6\", \"width\": 0.5}}, \"type\": \"bar\"}], \"barpolar\": [{\"marker\": {\"line\": {\"color\": \"#E5ECF6\", \"width\": 0.5}}, \"type\": \"barpolar\"}], \"carpet\": [{\"aaxis\": {\"endlinecolor\": \"#2a3f5f\", \"gridcolor\": \"white\", \"linecolor\": \"white\", \"minorgridcolor\": \"white\", \"startlinecolor\": \"#2a3f5f\"}, \"baxis\": {\"endlinecolor\": \"#2a3f5f\", \"gridcolor\": \"white\", \"linecolor\": \"white\", \"minorgridcolor\": \"white\", \"startlinecolor\": \"#2a3f5f\"}, \"type\": \"carpet\"}], \"choropleth\": [{\"colorbar\": {\"outlinewidth\": 0, \"ticks\": \"\"}, \"type\": \"choropleth\"}], \"contour\": [{\"colorbar\": {\"outlinewidth\": 0, \"ticks\": \"\"}, \"colorscale\": [[0.0, \"#0d0887\"], [0.1111111111111111, \"#46039f\"], [0.2222222222222222, \"#7201a8\"], [0.3333333333333333, \"#9c179e\"], [0.4444444444444444, \"#bd3786\"], [0.5555555555555556, \"#d8576b\"], [0.6666666666666666, \"#ed7953\"], [0.7777777777777778, \"#fb9f3a\"], [0.8888888888888888, \"#fdca26\"], [1.0, \"#f0f921\"]], \"type\": \"contour\"}], \"contourcarpet\": [{\"colorbar\": {\"outlinewidth\": 0, \"ticks\": \"\"}, \"type\": \"contourcarpet\"}], \"heatmap\": [{\"colorbar\": {\"outlinewidth\": 0, \"ticks\": \"\"}, \"colorscale\": [[0.0, \"#0d0887\"], [0.1111111111111111, \"#46039f\"], [0.2222222222222222, \"#7201a8\"], [0.3333333333333333, \"#9c179e\"], [0.4444444444444444, \"#bd3786\"], [0.5555555555555556, \"#d8576b\"], [0.6666666666666666, \"#ed7953\"], [0.7777777777777778, \"#fb9f3a\"], [0.8888888888888888, \"#fdca26\"], [1.0, \"#f0f921\"]], \"type\": \"heatmap\"}], \"heatmapgl\": [{\"colorbar\": {\"outlinewidth\": 0, \"ticks\": \"\"}, \"colorscale\": [[0.0, \"#0d0887\"], [0.1111111111111111, \"#46039f\"], [0.2222222222222222, \"#7201a8\"], [0.3333333333333333, \"#9c179e\"], [0.4444444444444444, \"#bd3786\"], [0.5555555555555556, \"#d8576b\"], [0.6666666666666666, \"#ed7953\"], [0.7777777777777778, \"#fb9f3a\"], [0.8888888888888888, \"#fdca26\"], [1.0, \"#f0f921\"]], \"type\": \"heatmapgl\"}], \"histogram\": [{\"marker\": {\"colorbar\": {\"outlinewidth\": 0, \"ticks\": \"\"}}, \"type\": \"histogram\"}], \"histogram2d\": [{\"colorbar\": {\"outlinewidth\": 0, \"ticks\": \"\"}, \"colorscale\": [[0.0, \"#0d0887\"], [0.1111111111111111, \"#46039f\"], [0.2222222222222222, \"#7201a8\"], [0.3333333333333333, \"#9c179e\"], [0.4444444444444444, \"#bd3786\"], [0.5555555555555556, \"#d8576b\"], [0.6666666666666666, \"#ed7953\"], [0.7777777777777778, \"#fb9f3a\"], [0.8888888888888888, \"#fdca26\"], [1.0, \"#f0f921\"]], \"type\": \"histogram2d\"}], \"histogram2dcontour\": [{\"colorbar\": {\"outlinewidth\": 0, \"ticks\": \"\"}, \"colorscale\": [[0.0, \"#0d0887\"], [0.1111111111111111, \"#46039f\"], [0.2222222222222222, \"#7201a8\"], [0.3333333333333333, \"#9c179e\"], [0.4444444444444444, \"#bd3786\"], [0.5555555555555556, \"#d8576b\"], [0.6666666666666666, \"#ed7953\"], [0.7777777777777778, \"#fb9f3a\"], [0.8888888888888888, \"#fdca26\"], [1.0, \"#f0f921\"]], \"type\": \"histogram2dcontour\"}], \"mesh3d\": [{\"colorbar\": {\"outlinewidth\": 0, \"ticks\": \"\"}, \"type\": \"mesh3d\"}], \"parcoords\": [{\"line\": {\"colorbar\": {\"outlinewidth\": 0, \"ticks\": \"\"}}, \"type\": \"parcoords\"}], \"pie\": [{\"automargin\": true, \"type\": \"pie\"}], \"scatter\": [{\"marker\": {\"colorbar\": {\"outlinewidth\": 0, \"ticks\": \"\"}}, \"type\": \"scatter\"}], \"scatter3d\": [{\"line\": {\"colorbar\": {\"outlinewidth\": 0, \"ticks\": \"\"}}, \"marker\": {\"colorbar\": {\"outlinewidth\": 0, \"ticks\": \"\"}}, \"type\": \"scatter3d\"}], \"scattercarpet\": [{\"marker\": {\"colorbar\": {\"outlinewidth\": 0, \"ticks\": \"\"}}, \"type\": \"scattercarpet\"}], \"scattergeo\": [{\"marker\": {\"colorbar\": {\"outlinewidth\": 0, \"ticks\": \"\"}}, \"type\": \"scattergeo\"}], \"scattergl\": [{\"marker\": {\"colorbar\": {\"outlinewidth\": 0, \"ticks\": \"\"}}, \"type\": \"scattergl\"}], \"scattermapbox\": [{\"marker\": {\"colorbar\": {\"outlinewidth\": 0, \"ticks\": \"\"}}, \"type\": \"scattermapbox\"}], \"scatterpolar\": [{\"marker\": {\"colorbar\": {\"outlinewidth\": 0, \"ticks\": \"\"}}, \"type\": \"scatterpolar\"}], \"scatterpolargl\": [{\"marker\": {\"colorbar\": {\"outlinewidth\": 0, \"ticks\": \"\"}}, \"type\": \"scatterpolargl\"}], \"scatterternary\": [{\"marker\": {\"colorbar\": {\"outlinewidth\": 0, \"ticks\": \"\"}}, \"type\": \"scatterternary\"}], \"surface\": [{\"colorbar\": {\"outlinewidth\": 0, \"ticks\": \"\"}, \"colorscale\": [[0.0, \"#0d0887\"], [0.1111111111111111, \"#46039f\"], [0.2222222222222222, \"#7201a8\"], [0.3333333333333333, \"#9c179e\"], [0.4444444444444444, \"#bd3786\"], [0.5555555555555556, \"#d8576b\"], [0.6666666666666666, \"#ed7953\"], [0.7777777777777778, \"#fb9f3a\"], [0.8888888888888888, \"#fdca26\"], [1.0, \"#f0f921\"]], \"type\": \"surface\"}], \"table\": [{\"cells\": {\"fill\": {\"color\": \"#EBF0F8\"}, \"line\": {\"color\": \"white\"}}, \"header\": {\"fill\": {\"color\": \"#C8D4E3\"}, \"line\": {\"color\": \"white\"}}, \"type\": \"table\"}]}, \"layout\": {\"annotationdefaults\": {\"arrowcolor\": \"#2a3f5f\", \"arrowhead\": 0, \"arrowwidth\": 1}, \"coloraxis\": {\"colorbar\": {\"outlinewidth\": 0, \"ticks\": \"\"}}, \"colorscale\": {\"diverging\": [[0, \"#8e0152\"], [0.1, \"#c51b7d\"], [0.2, \"#de77ae\"], [0.3, \"#f1b6da\"], [0.4, \"#fde0ef\"], [0.5, \"#f7f7f7\"], [0.6, \"#e6f5d0\"], [0.7, \"#b8e186\"], [0.8, \"#7fbc41\"], [0.9, \"#4d9221\"], [1, \"#276419\"]], \"sequential\": [[0.0, \"#0d0887\"], [0.1111111111111111, \"#46039f\"], [0.2222222222222222, \"#7201a8\"], [0.3333333333333333, \"#9c179e\"], [0.4444444444444444, \"#bd3786\"], [0.5555555555555556, \"#d8576b\"], [0.6666666666666666, \"#ed7953\"], [0.7777777777777778, \"#fb9f3a\"], [0.8888888888888888, \"#fdca26\"], [1.0, \"#f0f921\"]], \"sequentialminus\": [[0.0, \"#0d0887\"], [0.1111111111111111, \"#46039f\"], [0.2222222222222222, \"#7201a8\"], [0.3333333333333333, \"#9c179e\"], [0.4444444444444444, \"#bd3786\"], [0.5555555555555556, \"#d8576b\"], [0.6666666666666666, \"#ed7953\"], [0.7777777777777778, \"#fb9f3a\"], [0.8888888888888888, \"#fdca26\"], [1.0, \"#f0f921\"]]}, \"colorway\": [\"#636efa\", \"#EF553B\", \"#00cc96\", \"#ab63fa\", \"#FFA15A\", \"#19d3f3\", \"#FF6692\", \"#B6E880\", \"#FF97FF\", \"#FECB52\"], \"font\": {\"color\": \"#2a3f5f\"}, \"geo\": {\"bgcolor\": \"white\", \"lakecolor\": \"white\", \"landcolor\": \"#E5ECF6\", \"showlakes\": true, \"showland\": true, \"subunitcolor\": \"white\"}, \"hoverlabel\": {\"align\": \"left\"}, \"hovermode\": \"closest\", \"mapbox\": {\"style\": \"light\"}, \"paper_bgcolor\": \"white\", \"plot_bgcolor\": \"#E5ECF6\", \"polar\": {\"angularaxis\": {\"gridcolor\": \"white\", \"linecolor\": \"white\", \"ticks\": \"\"}, \"bgcolor\": \"#E5ECF6\", \"radialaxis\": {\"gridcolor\": \"white\", \"linecolor\": \"white\", \"ticks\": \"\"}}, \"scene\": {\"xaxis\": {\"backgroundcolor\": \"#E5ECF6\", \"gridcolor\": \"white\", \"gridwidth\": 2, \"linecolor\": \"white\", \"showbackground\": true, \"ticks\": \"\", \"zerolinecolor\": \"white\"}, \"yaxis\": {\"backgroundcolor\": \"#E5ECF6\", \"gridcolor\": \"white\", \"gridwidth\": 2, \"linecolor\": \"white\", \"showbackground\": true, \"ticks\": \"\", \"zerolinecolor\": \"white\"}, \"zaxis\": {\"backgroundcolor\": \"#E5ECF6\", \"gridcolor\": \"white\", \"gridwidth\": 2, \"linecolor\": \"white\", \"showbackground\": true, \"ticks\": \"\", \"zerolinecolor\": \"white\"}}, \"shapedefaults\": {\"line\": {\"color\": \"#2a3f5f\"}}, \"ternary\": {\"aaxis\": {\"gridcolor\": \"white\", \"linecolor\": \"white\", \"ticks\": \"\"}, \"baxis\": {\"gridcolor\": \"white\", \"linecolor\": \"white\", \"ticks\": \"\"}, \"bgcolor\": \"#E5ECF6\", \"caxis\": {\"gridcolor\": \"white\", \"linecolor\": \"white\", \"ticks\": \"\"}}, \"title\": {\"x\": 0.05}, \"xaxis\": {\"automargin\": true, \"gridcolor\": \"white\", \"linecolor\": \"white\", \"ticks\": \"\", \"title\": {\"standoff\": 15}, \"zerolinecolor\": \"white\", \"zerolinewidth\": 2}, \"yaxis\": {\"automargin\": true, \"gridcolor\": \"white\", \"linecolor\": \"white\", \"ticks\": \"\", \"title\": {\"standoff\": 15}, \"zerolinecolor\": \"white\", \"zerolinewidth\": 2}}}},\n",
              "                        {\"responsive\": true}\n",
              "                    ).then(function(){\n",
              "                            \n",
              "var gd = document.getElementById('ab46831b-94fa-4888-8079-bbd083e53c81');\n",
              "var x = new MutationObserver(function (mutations, observer) {{\n",
              "        var display = window.getComputedStyle(gd).display;\n",
              "        if (!display || display === 'none') {{\n",
              "            console.log([gd, 'removed!']);\n",
              "            Plotly.purge(gd);\n",
              "            observer.disconnect();\n",
              "        }}\n",
              "}});\n",
              "\n",
              "// Listen for the removal of the full notebook cells\n",
              "var notebookContainer = gd.closest('#notebook-container');\n",
              "if (notebookContainer) {{\n",
              "    x.observe(notebookContainer, {childList: true});\n",
              "}}\n",
              "\n",
              "// Listen for the clearing of the current output cell\n",
              "var outputEl = gd.closest('.output');\n",
              "if (outputEl) {{\n",
              "    x.observe(outputEl, {childList: true});\n",
              "}}\n",
              "\n",
              "                        })\n",
              "                };\n",
              "                \n",
              "            </script>\n",
              "        </div>\n",
              "</body>\n",
              "</html>"
            ]
          },
          "metadata": {
            "tags": []
          }
        }
      ]
    },
    {
      "cell_type": "code",
      "metadata": {
        "colab": {
          "base_uri": "https://localhost:8080/"
        },
        "id": "MIPbv8vo1RCc",
        "outputId": "77947464-6dcd-41c5-c0fc-b34c9ed69af1"
      },
      "source": [
        "len(Train[Train['text-length'] < 128])\r\n"
      ],
      "execution_count": 710,
      "outputs": [
        {
          "output_type": "execute_result",
          "data": {
            "text/plain": [
              "235"
            ]
          },
          "metadata": {
            "tags": []
          },
          "execution_count": 710
        }
      ]
    },
    {
      "cell_type": "markdown",
      "metadata": {
        "id": "ph_Y9CbHUglA"
      },
      "source": [
        "We would want to more accurate data, therefore, wi will drop data with too long/short titles, and short(less then 128 chars) texts"
      ]
    },
    {
      "cell_type": "code",
      "metadata": {
        "colab": {
          "base_uri": "https://localhost:8080/"
        },
        "id": "u9Hs2NgLWfIA",
        "outputId": "ece7da91-5bea-45d4-d9f4-963976ca9ee8"
      },
      "source": [
        "Train.shape"
      ],
      "execution_count": 711,
      "outputs": [
        {
          "output_type": "execute_result",
          "data": {
            "text/plain": [
              "(18285, 7)"
            ]
          },
          "metadata": {
            "tags": []
          },
          "execution_count": 711
        }
      ]
    },
    {
      "cell_type": "code",
      "metadata": {
        "id": "_qtwvU0Fau3o"
      },
      "source": [
        "Train.drop(Train[Train['title-length'] > 128].index, inplace = True)\r\n",
        "Train.drop(Train[Train['title-length'] < 20].index, inplace = True)\r\n",
        "Train.drop(Train[Train['text-length'] < 128].index, inplace = True)\r\n",
        "Train.drop(Train[Train['text-length'] > 10000].index, inplace = True)\r\n"
      ],
      "execution_count": 712,
      "outputs": []
    },
    {
      "cell_type": "code",
      "metadata": {
        "colab": {
          "base_uri": "https://localhost:8080/"
        },
        "id": "OXIxhEhQZ3Rl",
        "outputId": "2010a0f3-f7d1-413d-ce41-b42cad53f23c"
      },
      "source": [
        "Train.shape"
      ],
      "execution_count": 713,
      "outputs": [
        {
          "output_type": "execute_result",
          "data": {
            "text/plain": [
              "(16453, 7)"
            ]
          },
          "metadata": {
            "tags": []
          },
          "execution_count": 713
        }
      ]
    },
    {
      "cell_type": "markdown",
      "metadata": {
        "id": "aXNMQZiu8C_F"
      },
      "source": [
        "Let's check that all of our relevent data is written in English, we will check the ascii value of each char, if the value is grather or equal to 128 we will the value as non English"
      ]
    },
    {
      "cell_type": "code",
      "metadata": {
        "colab": {
          "base_uri": "https://localhost:8080/"
        },
        "id": "qTDpxRt08CTs",
        "outputId": "f711acc0-d091-4827-bb47-daf839905e58"
      },
      "source": [
        "def isEnglish(s):\r\n",
        "  return all(ord(c) < 128 for c in s)\r\n",
        "print(isEnglish(\"is English?\"))\r\n"
      ],
      "execution_count": 714,
      "outputs": [
        {
          "output_type": "stream",
          "text": [
            "True\n"
          ],
          "name": "stdout"
        }
      ]
    },
    {
      "cell_type": "code",
      "metadata": {
        "colab": {
          "base_uri": "https://localhost:8080/"
        },
        "id": "AFzKR-rh8NBX",
        "outputId": "d6852b11-e997-4716-9083-b4009ac91e7a"
      },
      "source": [
        "isEnglishttl = []\r\n",
        "#Mark all non English titles\r\n",
        "[isEnglishttl.append(isEnglish(str(title))) for title in Train['title']]\r\n",
        "Train['title-English'] = isEnglishttl\r\n",
        "#Count non English titles\r\n",
        "len(Train[Train['title-English'] == False])\r\n"
      ],
      "execution_count": 715,
      "outputs": [
        {
          "output_type": "execute_result",
          "data": {
            "text/plain": [
              "6645"
            ]
          },
          "metadata": {
            "tags": []
          },
          "execution_count": 715
        }
      ]
    },
    {
      "cell_type": "code",
      "metadata": {
        "colab": {
          "base_uri": "https://localhost:8080/",
          "height": 786
        },
        "id": "xvKlrOw3BDBL",
        "outputId": "34cb464b-8f92-43fb-ed7e-8a1320551fa0"
      },
      "source": [
        "Train[:15]"
      ],
      "execution_count": 716,
      "outputs": [
        {
          "output_type": "execute_result",
          "data": {
            "text/html": [
              "<div>\n",
              "<style scoped>\n",
              "    .dataframe tbody tr th:only-of-type {\n",
              "        vertical-align: middle;\n",
              "    }\n",
              "\n",
              "    .dataframe tbody tr th {\n",
              "        vertical-align: top;\n",
              "    }\n",
              "\n",
              "    .dataframe thead th {\n",
              "        text-align: right;\n",
              "    }\n",
              "</style>\n",
              "<table border=\"1\" class=\"dataframe\">\n",
              "  <thead>\n",
              "    <tr style=\"text-align: right;\">\n",
              "      <th></th>\n",
              "      <th>id</th>\n",
              "      <th>title</th>\n",
              "      <th>author</th>\n",
              "      <th>text</th>\n",
              "      <th>label</th>\n",
              "      <th>title-length</th>\n",
              "      <th>text-length</th>\n",
              "      <th>title-English</th>\n",
              "    </tr>\n",
              "  </thead>\n",
              "  <tbody>\n",
              "    <tr>\n",
              "      <th>0</th>\n",
              "      <td>0</td>\n",
              "      <td>House Dem Aide: We Didn’t Even See Comey’s Let...</td>\n",
              "      <td>Darrell Lucus</td>\n",
              "      <td>House Dem Aide: We Didn’t Even See Comey’s Let...</td>\n",
              "      <td>1</td>\n",
              "      <td>81</td>\n",
              "      <td>4930</td>\n",
              "      <td>False</td>\n",
              "    </tr>\n",
              "    <tr>\n",
              "      <th>1</th>\n",
              "      <td>1</td>\n",
              "      <td>FLYNN: Hillary Clinton, Big Woman on Campus - ...</td>\n",
              "      <td>Daniel J. Flynn</td>\n",
              "      <td>Ever get the feeling your life circles the rou...</td>\n",
              "      <td>0</td>\n",
              "      <td>55</td>\n",
              "      <td>4160</td>\n",
              "      <td>True</td>\n",
              "    </tr>\n",
              "    <tr>\n",
              "      <th>2</th>\n",
              "      <td>2</td>\n",
              "      <td>Why the Truth Might Get You Fired</td>\n",
              "      <td>Consortiumnews.com</td>\n",
              "      <td>Why the Truth Might Get You Fired October 29, ...</td>\n",
              "      <td>1</td>\n",
              "      <td>33</td>\n",
              "      <td>7692</td>\n",
              "      <td>True</td>\n",
              "    </tr>\n",
              "    <tr>\n",
              "      <th>3</th>\n",
              "      <td>3</td>\n",
              "      <td>15 Civilians Killed In Single US Airstrike Hav...</td>\n",
              "      <td>Jessica Purkiss</td>\n",
              "      <td>Videos 15 Civilians Killed In Single US Airstr...</td>\n",
              "      <td>1</td>\n",
              "      <td>63</td>\n",
              "      <td>3237</td>\n",
              "      <td>True</td>\n",
              "    </tr>\n",
              "    <tr>\n",
              "      <th>4</th>\n",
              "      <td>4</td>\n",
              "      <td>Iranian woman jailed for fictional unpublished...</td>\n",
              "      <td>Howard Portnoy</td>\n",
              "      <td>Print \\nAn Iranian woman has been sentenced to...</td>\n",
              "      <td>1</td>\n",
              "      <td>93</td>\n",
              "      <td>938</td>\n",
              "      <td>True</td>\n",
              "    </tr>\n",
              "    <tr>\n",
              "      <th>5</th>\n",
              "      <td>5</td>\n",
              "      <td>Jackie Mason: Hollywood Would Love Trump if He...</td>\n",
              "      <td>Daniel Nussbaum</td>\n",
              "      <td>In these trying times, Jackie Mason is the Voi...</td>\n",
              "      <td>0</td>\n",
              "      <td>124</td>\n",
              "      <td>1192</td>\n",
              "      <td>True</td>\n",
              "    </tr>\n",
              "    <tr>\n",
              "      <th>7</th>\n",
              "      <td>7</td>\n",
              "      <td>Benoît Hamon Wins French Socialist Party’s Pre...</td>\n",
              "      <td>Alissa J. Rubin</td>\n",
              "      <td>PARIS  —   France chose an idealistic, traditi...</td>\n",
              "      <td>0</td>\n",
              "      <td>87</td>\n",
              "      <td>4923</td>\n",
              "      <td>False</td>\n",
              "    </tr>\n",
              "    <tr>\n",
              "      <th>10</th>\n",
              "      <td>10</td>\n",
              "      <td>Obama’s Organizing for Action Partners with So...</td>\n",
              "      <td>Aaron Klein</td>\n",
              "      <td>Organizing for Action, the activist group that...</td>\n",
              "      <td>0</td>\n",
              "      <td>96</td>\n",
              "      <td>9400</td>\n",
              "      <td>False</td>\n",
              "    </tr>\n",
              "    <tr>\n",
              "      <th>11</th>\n",
              "      <td>11</td>\n",
              "      <td>BBC Comedy Sketch \"Real Housewives of ISIS\" Ca...</td>\n",
              "      <td>Chris Tomlinson</td>\n",
              "      <td>The BBC produced spoof on the “Real Housewives...</td>\n",
              "      <td>0</td>\n",
              "      <td>58</td>\n",
              "      <td>3132</td>\n",
              "      <td>True</td>\n",
              "    </tr>\n",
              "    <tr>\n",
              "      <th>12</th>\n",
              "      <td>12</td>\n",
              "      <td>Russian Researchers Discover Secret Nazi Milit...</td>\n",
              "      <td>Amando Flavio</td>\n",
              "      <td>The mystery surrounding The Third Reich and Na...</td>\n",
              "      <td>1</td>\n",
              "      <td>95</td>\n",
              "      <td>2854</td>\n",
              "      <td>False</td>\n",
              "    </tr>\n",
              "    <tr>\n",
              "      <th>13</th>\n",
              "      <td>13</td>\n",
              "      <td>US Officials See No Link Between Trump and Russia</td>\n",
              "      <td>Jason Ditz</td>\n",
              "      <td>Clinton Campaign Demands FBI Affirm Trump's Ru...</td>\n",
              "      <td>1</td>\n",
              "      <td>49</td>\n",
              "      <td>1618</td>\n",
              "      <td>True</td>\n",
              "    </tr>\n",
              "    <tr>\n",
              "      <th>15</th>\n",
              "      <td>15</td>\n",
              "      <td>In Major League Soccer, Argentines Find a Home...</td>\n",
              "      <td>Jack Williams</td>\n",
              "      <td>Guillermo Barros Schelotto was not the first A...</td>\n",
              "      <td>0</td>\n",
              "      <td>79</td>\n",
              "      <td>6403</td>\n",
              "      <td>True</td>\n",
              "    </tr>\n",
              "    <tr>\n",
              "      <th>16</th>\n",
              "      <td>16</td>\n",
              "      <td>Wells Fargo Chief Abruptly Steps Down - The Ne...</td>\n",
              "      <td>Michael Corkery and Stacy Cowley</td>\n",
              "      <td>The scandal engulfing Wells Fargo toppled its ...</td>\n",
              "      <td>0</td>\n",
              "      <td>58</td>\n",
              "      <td>7468</td>\n",
              "      <td>True</td>\n",
              "    </tr>\n",
              "    <tr>\n",
              "      <th>17</th>\n",
              "      <td>17</td>\n",
              "      <td>Anonymous Donor Pays $2.5 Million To Release E...</td>\n",
              "      <td>Starkman</td>\n",
              "      <td>A Caddo Nation tribal leader has just been fre...</td>\n",
              "      <td>1</td>\n",
              "      <td>92</td>\n",
              "      <td>2685</td>\n",
              "      <td>True</td>\n",
              "    </tr>\n",
              "    <tr>\n",
              "      <th>18</th>\n",
              "      <td>18</td>\n",
              "      <td>FBI Closes In On Hillary!</td>\n",
              "      <td>The Doc</td>\n",
              "      <td>FBI Closes In On Hillary! Posted on Home » Hea...</td>\n",
              "      <td>1</td>\n",
              "      <td>25</td>\n",
              "      <td>7847</td>\n",
              "      <td>True</td>\n",
              "    </tr>\n",
              "  </tbody>\n",
              "</table>\n",
              "</div>"
            ],
            "text/plain": [
              "    id  ... title-English\n",
              "0    0  ...         False\n",
              "1    1  ...          True\n",
              "2    2  ...          True\n",
              "3    3  ...          True\n",
              "4    4  ...          True\n",
              "5    5  ...          True\n",
              "7    7  ...         False\n",
              "10  10  ...         False\n",
              "11  11  ...          True\n",
              "12  12  ...         False\n",
              "13  13  ...          True\n",
              "15  15  ...          True\n",
              "16  16  ...          True\n",
              "17  17  ...          True\n",
              "18  18  ...          True\n",
              "\n",
              "[15 rows x 8 columns]"
            ]
          },
          "metadata": {
            "tags": []
          },
          "execution_count": 716
        }
      ]
    },
    {
      "cell_type": "code",
      "metadata": {
        "colab": {
          "base_uri": "https://localhost:8080/"
        },
        "id": "98wdvUb7G8s7",
        "outputId": "3b981370-86f5-470e-d22f-4f2d08edff41"
      },
      "source": [
        "Train.drop(Train[Train['title-English'] == False].index, inplace = True)\r\n",
        "Train.shape\r\n"
      ],
      "execution_count": 717,
      "outputs": [
        {
          "output_type": "execute_result",
          "data": {
            "text/plain": [
              "(9808, 8)"
            ]
          },
          "metadata": {
            "tags": []
          },
          "execution_count": 717
        }
      ]
    },
    {
      "cell_type": "code",
      "metadata": {
        "id": "5H3VQjZ4KaO2"
      },
      "source": [
        "max_features = 10000"
      ],
      "execution_count": 718,
      "outputs": []
    },
    {
      "cell_type": "markdown",
      "metadata": {
        "id": "J8nadweVeLQy"
      },
      "source": [
        "## Tokenizing the text - converting the words, letters into counts or numbers. \r\n"
      ]
    },
    {
      "cell_type": "code",
      "metadata": {
        "id": "EqgkaX-7JknV"
      },
      "source": [
        "# We dont need to explicitly remove the punctuations. we have an inbuilt option in Tokenizer for this purpose\r\n",
        "# importing neural network libraries\r\n",
        "import tensorflow as tf\r\n",
        "from tensorflow.keras.preprocessing.text import Tokenizer\r\n",
        "from tensorflow.keras.preprocessing.sequence import pad_sequences\r\n",
        "from sklearn.model_selection import train_test_split\r\n",
        "\r\n",
        "\r\n",
        "tokenizer = Tokenizer(num_words = max_features, filters='!\"#$%&()*+,-./:;<=>?@[\\\\]^_`{|}~\\t\\n', lower = True, split = ' ')\r\n",
        "tokenizer.fit_on_texts(texts  = Train['title'])\r\n",
        "X = tokenizer.texts_to_sequences(texts  = Train['title'])"
      ],
      "execution_count": 719,
      "outputs": []
    },
    {
      "cell_type": "code",
      "metadata": {
        "id": "Ccwaj4fGLcd_"
      },
      "source": [
        "# now applying padding to make them even shaped.\r\n",
        "X = pad_sequences(sequences = X, maxlen = max_features, padding = 'pre')"
      ],
      "execution_count": 720,
      "outputs": []
    },
    {
      "cell_type": "code",
      "metadata": {
        "colab": {
          "base_uri": "https://localhost:8080/"
        },
        "id": "jnWEEQ1XLtbE",
        "outputId": "2358a14c-d202-4017-c674-eb476c188ada"
      },
      "source": [
        "print(X.shape)\r\n",
        "y = Train['label'].values\r\n",
        "print(y.shape)"
      ],
      "execution_count": 721,
      "outputs": [
        {
          "output_type": "stream",
          "text": [
            "(9808, 10000)\n",
            "(9808,)\n"
          ],
          "name": "stdout"
        }
      ]
    },
    {
      "cell_type": "code",
      "metadata": {
        "id": "7Z2lv0hyTbPI"
      },
      "source": [
        "# splitting the data training data for training and validation.\r\n",
        "X_train, X_test, Y_train, Y_test = train_test_split(X, y, test_size = 0.2, random_state = 101)"
      ],
      "execution_count": 722,
      "outputs": []
    },
    {
      "cell_type": "code",
      "metadata": {
        "id": "4E2dMu7qIOap"
      },
      "source": [
        "import numpy as np\r\n",
        "\r\n",
        "def vectorize_sequences(sequences, dimension=10000):\r\n",
        "    # Create an all-zero matrix of shape (len(sequences), dimension)\r\n",
        "    results = np.zeros((len(sequences), dimension))\r\n",
        "    for i, sequence in enumerate(sequences):\r\n",
        "        results[i, sequence] = 1.  # set specific indices of results[i] to 1s\r\n",
        "    return results\r\n",
        "\r\n",
        "# Our vectorized training data\r\n",
        "x_train = vectorize_sequences(X_train)\r\n",
        "# Our vectorized test data\r\n",
        "x_test = vectorize_sequences(X_test)"
      ],
      "execution_count": 723,
      "outputs": []
    },
    {
      "cell_type": "code",
      "metadata": {
        "colab": {
          "base_uri": "https://localhost:8080/"
        },
        "id": "au8YNa9DUDNH",
        "outputId": "72e1c9f4-bd07-48a4-b55f-50da54380fe7"
      },
      "source": [
        "x_train[0]\r\n"
      ],
      "execution_count": 724,
      "outputs": [
        {
          "output_type": "execute_result",
          "data": {
            "text/plain": [
              "array([1., 1., 1., ..., 0., 0., 0.])"
            ]
          },
          "metadata": {
            "tags": []
          },
          "execution_count": 724
        }
      ]
    },
    {
      "cell_type": "code",
      "metadata": {
        "id": "Rj8N0l6sUIcU"
      },
      "source": [
        "# Our vectorized labels\r\n",
        "y_train = np.asarray(Y_train).astype('float32')\r\n",
        "y_test = np.asarray(Y_test).astype('float32')"
      ],
      "execution_count": 725,
      "outputs": []
    },
    {
      "cell_type": "markdown",
      "metadata": {
        "id": "Dmr27bQsUbjC"
      },
      "source": [
        "Keras implementation"
      ]
    },
    {
      "cell_type": "code",
      "metadata": {
        "id": "0DF7L7ZBUX3F"
      },
      "source": [
        "\r\n",
        "from keras import models\r\n",
        "from keras import layers\r\n",
        "\r\n",
        "model = models.Sequential()\r\n",
        "model.add(layers.Dense(16, activation='relu', input_shape=(10000,)))\r\n",
        "model.add(layers.Dense(16, activation='relu'))\r\n",
        "model.add(layers.Dense(1, activation='sigmoid'))"
      ],
      "execution_count": 726,
      "outputs": []
    },
    {
      "cell_type": "markdown",
      "metadata": {
        "id": "JFEEeKLNUhps"
      },
      "source": [
        "Configure our model with the rmsprop optimizer and the binary_crossentropy loss function"
      ]
    },
    {
      "cell_type": "code",
      "metadata": {
        "id": "KcdqjnpyUi7g"
      },
      "source": [
        "model.compile(optimizer='rmsprop',\r\n",
        "              loss='binary_crossentropy',\r\n",
        "              metrics=['accuracy'])"
      ],
      "execution_count": 727,
      "outputs": []
    },
    {
      "cell_type": "markdown",
      "metadata": {
        "id": "KcqUnzMbUk3a"
      },
      "source": [
        "\r\n",
        "We are passing our optimizer, loss function and metrics as strings"
      ]
    },
    {
      "cell_type": "code",
      "metadata": {
        "id": "NMdEtuWIUsxT"
      },
      "source": [
        "from keras import optimizers\r\n",
        "\r\n",
        "model.compile(optimizer=optimizers.RMSprop(lr=0.001),\r\n",
        "              loss='binary_crossentropy',\r\n",
        "              metrics=['accuracy'])"
      ],
      "execution_count": 728,
      "outputs": []
    },
    {
      "cell_type": "code",
      "metadata": {
        "id": "zFqtqYJIUy2r"
      },
      "source": [
        "from keras import losses\r\n",
        "from keras import metrics\r\n",
        "\r\n",
        "model.compile(optimizer=optimizers.RMSprop(lr=0.001),\r\n",
        "              loss=losses.binary_crossentropy,\r\n",
        "              metrics=[metrics.binary_accuracy])"
      ],
      "execution_count": 729,
      "outputs": []
    },
    {
      "cell_type": "markdown",
      "metadata": {
        "id": "VeEB-6wGU3w-"
      },
      "source": [
        "### Validating our approach\r\n",
        "we will create a \"validation set\" by setting apart 3,000 samples from the original training data"
      ]
    },
    {
      "cell_type": "code",
      "metadata": {
        "id": "Kp3uXcL2U3MX"
      },
      "source": [
        "x_val = x_train[:3000]\r\n",
        "partial_x_train = x_train[3000:]\r\n",
        "\r\n",
        "y_val = y_train[:3000]\r\n",
        "partial_y_train = y_train[3000:]"
      ],
      "execution_count": 730,
      "outputs": []
    },
    {
      "cell_type": "markdown",
      "metadata": {
        "id": "ERmWnwOKVa0Q"
      },
      "source": [
        "We will now train our model for 20 epochs"
      ]
    },
    {
      "cell_type": "code",
      "metadata": {
        "colab": {
          "base_uri": "https://localhost:8080/"
        },
        "id": "uQ88YuazVaZU",
        "outputId": "58782d82-d7e9-470b-a09a-00c6a85e5956"
      },
      "source": [
        "history = model.fit(partial_x_train,\r\n",
        "                    partial_y_train,\r\n",
        "                    epochs=20,\r\n",
        "                    batch_size=512,\r\n",
        "                    validation_data=(x_val, y_val))"
      ],
      "execution_count": 731,
      "outputs": [
        {
          "output_type": "stream",
          "text": [
            "Epoch 1/20\n",
            "10/10 [==============================] - 0s 48ms/step - loss: 0.6725 - binary_accuracy: 0.7716 - val_loss: 0.6415 - val_binary_accuracy: 0.8853\n",
            "Epoch 2/20\n",
            "10/10 [==============================] - 0s 29ms/step - loss: 0.6065 - binary_accuracy: 0.9329 - val_loss: 0.5857 - val_binary_accuracy: 0.8970\n",
            "Epoch 3/20\n",
            "10/10 [==============================] - 0s 29ms/step - loss: 0.5370 - binary_accuracy: 0.9449 - val_loss: 0.5304 - val_binary_accuracy: 0.9033\n",
            "Epoch 4/20\n",
            "10/10 [==============================] - 0s 31ms/step - loss: 0.4691 - binary_accuracy: 0.9515 - val_loss: 0.4779 - val_binary_accuracy: 0.9090\n",
            "Epoch 5/20\n",
            "10/10 [==============================] - 0s 30ms/step - loss: 0.4050 - binary_accuracy: 0.9602 - val_loss: 0.4287 - val_binary_accuracy: 0.9147\n",
            "Epoch 6/20\n",
            "10/10 [==============================] - 0s 29ms/step - loss: 0.3445 - binary_accuracy: 0.9680 - val_loss: 0.3830 - val_binary_accuracy: 0.9183\n",
            "Epoch 7/20\n",
            "10/10 [==============================] - 0s 32ms/step - loss: 0.2888 - binary_accuracy: 0.9719 - val_loss: 0.3430 - val_binary_accuracy: 0.9207\n",
            "Epoch 8/20\n",
            "10/10 [==============================] - 0s 29ms/step - loss: 0.2400 - binary_accuracy: 0.9771 - val_loss: 0.3072 - val_binary_accuracy: 0.9197\n",
            "Epoch 9/20\n",
            "10/10 [==============================] - 0s 29ms/step - loss: 0.1977 - binary_accuracy: 0.9814 - val_loss: 0.2789 - val_binary_accuracy: 0.9217\n",
            "Epoch 10/20\n",
            "10/10 [==============================] - 0s 31ms/step - loss: 0.1617 - binary_accuracy: 0.9841 - val_loss: 0.2553 - val_binary_accuracy: 0.9210\n",
            "Epoch 11/20\n",
            "10/10 [==============================] - 0s 30ms/step - loss: 0.1317 - binary_accuracy: 0.9864 - val_loss: 0.2354 - val_binary_accuracy: 0.9217\n",
            "Epoch 12/20\n",
            "10/10 [==============================] - 0s 29ms/step - loss: 0.1070 - binary_accuracy: 0.9895 - val_loss: 0.2216 - val_binary_accuracy: 0.9237\n",
            "Epoch 13/20\n",
            "10/10 [==============================] - 0s 31ms/step - loss: 0.0867 - binary_accuracy: 0.9909 - val_loss: 0.2092 - val_binary_accuracy: 0.9233\n",
            "Epoch 14/20\n",
            "10/10 [==============================] - 0s 30ms/step - loss: 0.0702 - binary_accuracy: 0.9924 - val_loss: 0.2027 - val_binary_accuracy: 0.9247\n",
            "Epoch 15/20\n",
            "10/10 [==============================] - 0s 30ms/step - loss: 0.0569 - binary_accuracy: 0.9936 - val_loss: 0.1972 - val_binary_accuracy: 0.9267\n",
            "Epoch 16/20\n",
            "10/10 [==============================] - 0s 31ms/step - loss: 0.0460 - binary_accuracy: 0.9944 - val_loss: 0.1959 - val_binary_accuracy: 0.9260\n",
            "Epoch 17/20\n",
            "10/10 [==============================] - 0s 29ms/step - loss: 0.0373 - binary_accuracy: 0.9953 - val_loss: 0.1927 - val_binary_accuracy: 0.9277\n",
            "Epoch 18/20\n",
            "10/10 [==============================] - 0s 29ms/step - loss: 0.0302 - binary_accuracy: 0.9957 - val_loss: 0.1940 - val_binary_accuracy: 0.9270\n",
            "Epoch 19/20\n",
            "10/10 [==============================] - 0s 30ms/step - loss: 0.0243 - binary_accuracy: 0.9965 - val_loss: 0.1918 - val_binary_accuracy: 0.9267\n",
            "Epoch 20/20\n",
            "10/10 [==============================] - 0s 28ms/step - loss: 0.0196 - binary_accuracy: 0.9973 - val_loss: 0.1963 - val_binary_accuracy: 0.9267\n"
          ],
          "name": "stdout"
        }
      ]
    },
    {
      "cell_type": "code",
      "metadata": {
        "colab": {
          "base_uri": "https://localhost:8080/"
        },
        "id": "u3yq1jqlX7Gw",
        "outputId": "46176ca2-cfd1-4dfd-8426-288947ee8444"
      },
      "source": [
        "history_dict = history.history\r\n",
        "history_dict.keys()"
      ],
      "execution_count": 732,
      "outputs": [
        {
          "output_type": "execute_result",
          "data": {
            "text/plain": [
              "dict_keys(['loss', 'binary_accuracy', 'val_loss', 'val_binary_accuracy'])"
            ]
          },
          "metadata": {
            "tags": []
          },
          "execution_count": 732
        }
      ]
    },
    {
      "cell_type": "code",
      "metadata": {
        "colab": {
          "base_uri": "https://localhost:8080/",
          "height": 295
        },
        "id": "pxEUJF7gX_Pw",
        "outputId": "8e038c8c-0941-44ad-a258-5095171b7ed2"
      },
      "source": [
        "import matplotlib.pyplot as plt\r\n",
        "\r\n",
        "acc = history.history['binary_accuracy']\r\n",
        "val_acc = history.history['val_binary_accuracy']\r\n",
        "loss = history.history['loss']\r\n",
        "val_loss = history.history['val_loss']\r\n",
        "\r\n",
        "epochs = range(1, len(acc) + 1)\r\n",
        "\r\n",
        "# \"bo\" is for \"blue dot\"\r\n",
        "plt.plot(epochs, loss, 'bo', label='Training loss')\r\n",
        "# b is for \"solid blue line\"\r\n",
        "plt.plot(epochs, val_loss, 'b', label='Validation loss')\r\n",
        "plt.title('Training and validation loss')\r\n",
        "plt.xlabel('Epochs')\r\n",
        "plt.ylabel('Loss')\r\n",
        "plt.legend()\r\n",
        "\r\n",
        "plt.show()"
      ],
      "execution_count": 733,
      "outputs": [
        {
          "output_type": "display_data",
          "data": {
            "image/png": "[encoded data removed]",
            "text/plain": [
              "<Figure size 432x288 with 1 Axes>"
            ]
          },
          "metadata": {
            "tags": [],
            "needs_background": "light"
          }
        }
      ]
    },
    {
      "cell_type": "code",
      "metadata": {
        "colab": {
          "base_uri": "https://localhost:8080/",
          "height": 295
        },
        "id": "n1h3KQweYyZQ",
        "outputId": "46da182f-3d33-484c-ca54-9527d3a0f0bc"
      },
      "source": [
        "plt.clf()   # clear figure\r\n",
        "acc_values = history_dict['binary_accuracy']\r\n",
        "val_acc_values = history_dict['val_binary_accuracy']\r\n",
        "\r\n",
        "plt.plot(epochs, acc, 'bo', label='Training acc')\r\n",
        "plt.plot(epochs, val_acc, 'b', label='Validation acc')\r\n",
        "plt.title('Training and validation accuracy')\r\n",
        "plt.xlabel('Epochs')\r\n",
        "plt.ylabel('Accuracy')\r\n",
        "plt.legend()\r\n",
        "\r\n",
        "plt.show()"
      ],
      "execution_count": 734,
      "outputs": [
        {
          "output_type": "display_data",
          "data": {
            "image/png": "[encoded data removed]",
            "text/plain": [
              "<Figure size 432x288 with 1 Axes>"
            ]
          },
          "metadata": {
            "tags": [],
            "needs_background": "light"
          }
        }
      ]
    },
    {
      "cell_type": "markdown",
      "metadata": {
        "id": "qVBAa60tY-44"
      },
      "source": [
        "Let's train a new network from scratch for four epochs, then evaluate it on our test data:\r\n",
        "\r\n"
      ]
    },
    {
      "cell_type": "code",
      "metadata": {
        "colab": {
          "base_uri": "https://localhost:8080/"
        },
        "id": "ybhlYTHPY-Ke",
        "outputId": "4cd94ac1-9b55-4088-dfee-0c79aec586f4"
      },
      "source": [
        "model = models.Sequential()\r\n",
        "model.add(layers.Dense(16, activation='relu', input_shape=(10000,)))\r\n",
        "model.add(layers.Dense(16, activation='relu'))\r\n",
        "model.add(layers.Dense(1, activation='sigmoid'))\r\n",
        "\r\n",
        "model.compile(optimizer='rmsprop',\r\n",
        "              loss='binary_crossentropy',\r\n",
        "              metrics=['accuracy'])\r\n",
        "\r\n",
        "model.fit(x_train, y_train, epochs=4, batch_size=512)\r\n",
        "results = model.evaluate(x_test, y_test)"
      ],
      "execution_count": 735,
      "outputs": [
        {
          "output_type": "stream",
          "text": [
            "Epoch 1/4\n",
            "16/16 [==============================] - 0s 26ms/step - loss: 0.6318 - accuracy: 0.7377\n",
            "Epoch 2/4\n",
            "16/16 [==============================] - 0s 24ms/step - loss: 0.4795 - accuracy: 0.9194\n",
            "Epoch 3/4\n",
            "16/16 [==============================] - 0s 24ms/step - loss: 0.3620 - accuracy: 0.9509\n",
            "Epoch 4/4\n",
            "16/16 [==============================] - 0s 22ms/step - loss: 0.2727 - accuracy: 0.9627\n",
            "62/62 [==============================] - 0s 1ms/step - loss: 0.2810 - accuracy: 0.9241\n"
          ],
          "name": "stdout"
        }
      ]
    },
    {
      "cell_type": "code",
      "metadata": {
        "colab": {
          "base_uri": "https://localhost:8080/"
        },
        "id": "vP9B0MSAZEA1",
        "outputId": "1f143509-2be1-4bf0-a187-b2ecec4cf5c4"
      },
      "source": [
        "results\r\n"
      ],
      "execution_count": 736,
      "outputs": [
        {
          "output_type": "execute_result",
          "data": {
            "text/plain": [
              "[0.28095632791519165, 0.9240570664405823]"
            ]
          },
          "metadata": {
            "tags": []
          },
          "execution_count": 736
        }
      ]
    },
    {
      "cell_type": "code",
      "metadata": {
        "colab": {
          "base_uri": "https://localhost:8080/"
        },
        "id": "fm7XFVjJZPKm",
        "outputId": "8610e309-d22d-4619-8ce1-87a74c04b229"
      },
      "source": [
        "model.predict(x_test)\r\n"
      ],
      "execution_count": 737,
      "outputs": [
        {
          "output_type": "execute_result",
          "data": {
            "text/plain": [
              "array([[0.06238341],\n",
              "       [0.10851178],\n",
              "       [0.82760763],\n",
              "       ...,\n",
              "       [0.8679755 ],\n",
              "       [0.6152399 ],\n",
              "       [0.08238831]], dtype=float32)"
            ]
          },
          "metadata": {
            "tags": []
          },
          "execution_count": 737
        }
      ]
    },
    {
      "cell_type": "code",
      "metadata": {
        "colab": {
          "base_uri": "https://localhost:8080/"
        },
        "id": "OCntryUbaoOd",
        "outputId": "b697e5cf-9677-4218-c3a9-b790ccccc28f"
      },
      "source": [
        "len(x_train)"
      ],
      "execution_count": 738,
      "outputs": [
        {
          "output_type": "execute_result",
          "data": {
            "text/plain": [
              "7846"
            ]
          },
          "metadata": {
            "tags": []
          },
          "execution_count": 738
        }
      ]
    }
  ]
}